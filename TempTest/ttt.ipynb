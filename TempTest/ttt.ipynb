{
 "cells": [
  {
   "cell_type": "code",
   "execution_count": 1,
   "metadata": {},
   "outputs": [
    {
     "data": {
      "text/plain": [
       "[11, 22, 123]"
      ]
     },
     "execution_count": 1,
     "metadata": {},
     "output_type": "execute_result"
    }
   ],
   "source": [
    "list = [11,22,123]\n",
    "list"
   ]
  },
  {
   "cell_type": "code",
   "execution_count": 3,
   "metadata": {},
   "outputs": [
    {
     "ename": "TypeError",
     "evalue": "'int' object is not iterable",
     "output_type": "error",
     "traceback": [
      "\u001b[1;31m---------------------------------------------------------------------------\u001b[0m",
      "\u001b[1;31mTypeError\u001b[0m                                 Traceback (most recent call last)",
      "Cell \u001b[1;32mIn [3], line 1\u001b[0m\n\u001b[1;32m----> 1\u001b[0m \u001b[39mlist\u001b[39m \u001b[39m+\u001b[39m\u001b[39m=\u001b[39m \u001b[39m1\u001b[39m\n\u001b[0;32m      2\u001b[0m \u001b[39mlist\u001b[39m\n",
      "\u001b[1;31mTypeError\u001b[0m: 'int' object is not iterable"
     ]
    }
   ],
   "source": [
    "list += 1\n",
    "list"
   ]
  },
  {
   "cell_type": "code",
   "execution_count": 1,
   "metadata": {},
   "outputs": [
    {
     "ename": "IndexError",
     "evalue": "list assignment index out of range",
     "output_type": "error",
     "traceback": [
      "\u001b[1;31m---------------------------------------------------------------------------\u001b[0m",
      "\u001b[1;31mIndexError\u001b[0m                                Traceback (most recent call last)",
      "Cell \u001b[1;32mIn [1], line 21\u001b[0m\n\u001b[0;32m     18\u001b[0m     \u001b[39mreturn\u001b[39;00m a\n\u001b[0;32m     20\u001b[0m \u001b[39m# test\u001b[39;00m\n\u001b[1;32m---> 21\u001b[0m \u001b[39mprint\u001b[39m(solution([\u001b[39m93\u001b[39;49m, \u001b[39m30\u001b[39;49m, \u001b[39m55\u001b[39;49m], [\u001b[39m1\u001b[39;49m, \u001b[39m30\u001b[39;49m, \u001b[39m5\u001b[39;49m]))\n",
      "Cell \u001b[1;32mIn [1], line 9\u001b[0m, in \u001b[0;36msolution\u001b[1;34m(p, s)\u001b[0m\n\u001b[0;32m      6\u001b[0m \u001b[39mwhile\u001b[39;00m p[\u001b[39m0\u001b[39m] \u001b[39m!=\u001b[39m \u001b[39m100\u001b[39m:\n\u001b[0;32m      8\u001b[0m     \u001b[39mfor\u001b[39;00m f \u001b[39min\u001b[39;00m s:\n\u001b[1;32m----> 9\u001b[0m         p[i] \u001b[39m=\u001b[39m f\n\u001b[0;32m     11\u001b[0m     i \u001b[39m+\u001b[39m\u001b[39m=\u001b[39m \u001b[39m1\u001b[39m\n\u001b[0;32m     13\u001b[0m \u001b[39mwhile\u001b[39;00m p[\u001b[39m0\u001b[39m] \u001b[39m==\u001b[39m \u001b[39m100\u001b[39m:\n",
      "\u001b[1;31mIndexError\u001b[0m: list assignment index out of range"
     ]
    }
   ],
   "source": [
    "def solution(p, s):\n",
    "    a = []\n",
    "    \n",
    "    c = 0\n",
    "    i = 0\n",
    "    while p[0] != 100:\n",
    "        \n",
    "        for f in s:\n",
    "            p[i] = f\n",
    "            \n",
    "        i += 1\n",
    "    \n",
    "    while p[0] == 100:\n",
    "        c += 1\n",
    "        p.remove(p[0])\n",
    "    a.append(c)\n",
    "    \n",
    "    return a\n",
    "\n",
    "# test\n",
    "print(solution([93, 30, 55], [1, 30, 5]))"
   ]
  },
  {
   "cell_type": "code",
   "execution_count": 1,
   "metadata": {},
   "outputs": [
    {
     "ename": "TypeError",
     "evalue": "'list' object cannot be interpreted as an integer",
     "output_type": "error",
     "traceback": [
      "\u001b[1;31m---------------------------------------------------------------------------\u001b[0m",
      "\u001b[1;31mTypeError\u001b[0m                                 Traceback (most recent call last)",
      "Cell \u001b[1;32mIn [1], line 3\u001b[0m\n\u001b[0;32m      1\u001b[0m a \u001b[39m=\u001b[39m [\u001b[39m1\u001b[39m,\u001b[39m2\u001b[39m,\u001b[39m3\u001b[39m]\n\u001b[1;32m----> 3\u001b[0m \u001b[39mfor\u001b[39;00m i \u001b[39min\u001b[39;00m \u001b[39mrange\u001b[39;49m(a):\n\u001b[0;32m      4\u001b[0m     \u001b[39mprint\u001b[39m()\n",
      "\u001b[1;31mTypeError\u001b[0m: 'list' object cannot be interpreted as an integer"
     ]
    }
   ],
   "source": [
    "a = [1,2,3]\n",
    "\n",
    "for i in range(a):\n",
    "    print()"
   ]
  },
  {
   "cell_type": "code",
   "execution_count": 3,
   "metadata": {},
   "outputs": [
    {
     "ename": "IndexError",
     "evalue": "list index out of range",
     "output_type": "error",
     "traceback": [
      "\u001b[1;31m---------------------------------------------------------------------------\u001b[0m",
      "\u001b[1;31mIndexError\u001b[0m                                Traceback (most recent call last)",
      "Cell \u001b[1;32mIn [3], line 21\u001b[0m\n\u001b[0;32m     18\u001b[0m     \u001b[39mreturn\u001b[39;00m a\n\u001b[0;32m     20\u001b[0m \u001b[39m# test\u001b[39;00m\n\u001b[1;32m---> 21\u001b[0m \u001b[39mprint\u001b[39m(solution([\u001b[39m93\u001b[39;49m, \u001b[39m30\u001b[39;49m, \u001b[39m55\u001b[39;49m], [\u001b[39m1\u001b[39;49m, \u001b[39m30\u001b[39;49m, \u001b[39m5\u001b[39;49m]))\n",
      "Cell \u001b[1;32mIn [3], line 10\u001b[0m, in \u001b[0;36msolution\u001b[1;34m(p, s)\u001b[0m\n\u001b[0;32m      7\u001b[0m \u001b[39mwhile\u001b[39;00m p[\u001b[39m0\u001b[39m] \u001b[39m!=\u001b[39m \u001b[39m100\u001b[39m:\n\u001b[0;32m      9\u001b[0m     \u001b[39mfor\u001b[39;00m i \u001b[39min\u001b[39;00m \u001b[39mrange\u001b[39m(\u001b[39mlen\u001b[39m(s)):\n\u001b[1;32m---> 10\u001b[0m         p[i] \u001b[39m+\u001b[39m\u001b[39m=\u001b[39m s[i]\n\u001b[0;32m     13\u001b[0m \u001b[39mwhile\u001b[39;00m p[\u001b[39m0\u001b[39m]\u001b[39m==\u001b[39m\u001b[39m100\u001b[39m:\n\u001b[0;32m     14\u001b[0m     c \u001b[39m+\u001b[39m\u001b[39m=\u001b[39m \u001b[39m1\u001b[39m\n",
      "\u001b[1;31mIndexError\u001b[0m: list index out of range"
     ]
    }
   ],
   "source": []
  },
  {
   "cell_type": "code",
   "execution_count": null,
   "metadata": {},
   "outputs": [],
   "source": []
  },
  {
   "cell_type": "code",
   "execution_count": 3,
   "metadata": {},
   "outputs": [
    {
     "ename": "IndexError",
     "evalue": "list index out of range",
     "output_type": "error",
     "traceback": [
      "\u001b[1;31m---------------------------------------------------------------------------\u001b[0m",
      "\u001b[1;31mIndexError\u001b[0m                                Traceback (most recent call last)",
      "Cell \u001b[1;32mIn [3], line 21\u001b[0m\n\u001b[0;32m     18\u001b[0m     \u001b[39mreturn\u001b[39;00m a\n\u001b[0;32m     20\u001b[0m \u001b[39m# test\u001b[39;00m\n\u001b[1;32m---> 21\u001b[0m \u001b[39mprint\u001b[39m(solution([\u001b[39m93\u001b[39;49m, \u001b[39m30\u001b[39;49m, \u001b[39m55\u001b[39;49m], [\u001b[39m1\u001b[39;49m, \u001b[39m30\u001b[39;49m, \u001b[39m5\u001b[39;49m]))\n",
      "Cell \u001b[1;32mIn [3], line 13\u001b[0m, in \u001b[0;36msolution\u001b[1;34m(p, s)\u001b[0m\n\u001b[0;32m      9\u001b[0m     \u001b[39mfor\u001b[39;00m i \u001b[39min\u001b[39;00m \u001b[39mrange\u001b[39m(\u001b[39mlen\u001b[39m(s)):\n\u001b[0;32m     10\u001b[0m         p[i] \u001b[39m=\u001b[39m \u001b[39m100\u001b[39m\n\u001b[1;32m---> 13\u001b[0m \u001b[39mwhile\u001b[39;00m p[\u001b[39m0\u001b[39;49m] \u001b[39m>\u001b[39m\u001b[39m=\u001b[39m \u001b[39m100\u001b[39m:\n\u001b[0;32m     14\u001b[0m     c \u001b[39m+\u001b[39m\u001b[39m=\u001b[39m \u001b[39m1\u001b[39m\n\u001b[0;32m     15\u001b[0m     \u001b[39mdel\u001b[39;00m p[\u001b[39m0\u001b[39m]\n",
      "\u001b[1;31mIndexError\u001b[0m: list index out of range"
     ]
    }
   ],
   "source": [
    "def solution(p, s):\n",
    "    \n",
    "    a = []\n",
    "    \n",
    "    while len(p) != 1:\n",
    "        c = 0\n",
    "        while p[0] != 100:\n",
    "            \n",
    "            for i in range(len(s)):\n",
    "                p[i] += s[i]\n",
    "        \n",
    "        \n",
    "        while p[0] >= 100:\n",
    "            c += 1\n",
    "            del p[0]\n",
    "        a.append(c)\n",
    "        \n",
    "    return a\n",
    "\n",
    "# test\n",
    "print(solution([93, 30, 55], [1, 30, 5]))"
   ]
  }
 ],
 "metadata": {
  "kernelspec": {
   "display_name": "asd1",
   "language": "python",
   "name": "python3"
  },
  "language_info": {
   "codemirror_mode": {
    "name": "ipython",
    "version": 3
   },
   "file_extension": ".py",
   "mimetype": "text/x-python",
   "name": "python",
   "nbconvert_exporter": "python",
   "pygments_lexer": "ipython3",
   "version": "3.10.8 | packaged by conda-forge | (main, Nov 22 2022, 08:16:53) [MSC v.1929 64 bit (AMD64)]"
  },
  "orig_nbformat": 4,
  "vscode": {
   "interpreter": {
    "hash": "07badbe185019afce09527cdf66b20ec507f3045aabcc27b0da70607b5630dc4"
   }
  }
 },
 "nbformat": 4,
 "nbformat_minor": 2
}
