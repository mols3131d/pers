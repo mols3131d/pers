{
 "cells": [
  {
   "cell_type": "code",
   "execution_count": 1,
   "metadata": {
    "dotnet_interactive": {
     "language": "csharp"
    },
    "polyglot_notebook": {
     "kernelName": "csharp"
    }
   },
   "outputs": [
    {
     "ename": "SyntaxError",
     "evalue": "invalid syntax (2241321700.py, line 7)",
     "output_type": "error",
     "traceback": [
      "\u001b[1;36m  Cell \u001b[1;32mIn[1], line 7\u001b[1;36m\u001b[0m\n\u001b[1;33m    y <- X %*% c(1, 2, 3, 4, 5) + rnorm(100) * 0.1\u001b[0m\n\u001b[1;37m            ^\u001b[0m\n\u001b[1;31mSyntaxError\u001b[0m\u001b[1;31m:\u001b[0m invalid syntax\n"
     ]
    }
   ],
   "source": [
    "library(glmnet)\n",
    "library(Matrix)\n",
    "\n",
    "# 데이터 생성\n",
    "set.seed(123)\n",
    "X <- matrix(rnorm(100*5), 100, 5)\n",
    "y <- X %*% c(1, 2, 3, 4, 5) + rnorm(100) * 0.1\n",
    "\n",
    "# 릿지 회귀 (Ridge Regression)\n",
    "ridge_model <- glmnet(X, y, family = \"gaussian\", alpha = 0)\n",
    "ridge_predictions <- predict(ridge_model, newx = X)\n",
    "ridge_mse <- mean((y - ridge_predictions)^2)\n",
    "\n",
    "# 라쏘 회귀 (Lasso Regression)\n",
    "lasso_model <- glmnet(X, y, family = \"gaussian\", alpha = 1)\n",
    "lasso_predictions <- predict(lasso_model, newx = X)\n",
    "lasso_mse <- mean((y - lasso_predictions)^2)\n"
   ]
  }
 ],
 "metadata": {
  "kernelspec": {
   "display_name": "da",
   "language": "python",
   "name": "python3"
  },
  "language_info": {
   "codemirror_mode": {
    "name": "ipython",
    "version": 3
   },
   "file_extension": ".py",
   "mimetype": "text/x-python",
   "name": "python",
   "nbconvert_exporter": "python",
   "pygments_lexer": "ipython3",
   "version": "3.11.3"
  },
  "orig_nbformat": 4,
  "polyglot_notebook": {
   "kernelInfo": {
    "defaultKernelName": "csharp",
    "items": [
     {
      "aliases": [],
      "name": "csharp"
     }
    ]
   }
  }
 },
 "nbformat": 4,
 "nbformat_minor": 2
}
