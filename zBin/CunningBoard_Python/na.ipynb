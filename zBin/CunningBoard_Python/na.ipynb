{
 "cells": [
  {
   "cell_type": "code",
   "execution_count": 1,
   "metadata": {},
   "outputs": [],
   "source": [
    "colNameAtt = {'종목코드': 'stock_code',\n",
    "              'DART_고유번호': 'corp_code',\n",
    "              '종목명': 'corp_name',\n",
    "              'DART_고유번호_최근변경일자': 'modify_date',\n",
    "              '법인등록번호': 'crno',\n",
    "              '기준일자': 'basDt',\n",
    "              '사업연도': 'bizYear',\n",
    "              '재무제표구분코드': 'fnclDcd',\n",
    "              '재무제표구분코드명': 'fnclDcdNm',\n",
    "              '기업매출금액': 'enpSaleAmt',\n",
    "              '기업영업이익': 'enpBzopPft',\n",
    "              '포괄손익계산금액': 'iclsPalClcAmt',\n",
    "              '기업당기순이익': 'enpCrtmNpf',\n",
    "              '기업총자산금액': 'enpTastAmt',\n",
    "              '기업총부채금액': 'enpTdbtAmt',\n",
    "              '기업총자본금액': 'enpTcptAmt',\n",
    "              '기업자본금액': 'enpCptlAmt',\n",
    "              '재무제표부채비율': 'fnclDebtRto'}\n",
    "\n",
    "\n",
    "colName_dict = {\n",
    "                # corpCode\n",
    "                  'stock_code': '종목코드'\n",
    "                , 'corp_code': 'DART_고유번호'\n",
    "                , 'corp_name': '종목명'\n",
    "                , 'modify_date': 'DART_고유번호_최근변경일자'\n",
    "                # \n",
    "                , 'jurir_no': '법인등록번호'\n",
    "                # finaInfo0][]\n",
    "                , 'basDt': '기준일자'\n",
    "                , 'crno': '법인등록번호'\n",
    "                , 'bizYear': '사업연도'\n",
    "                , 'fnclDcd': '재무제표구분코드'\n",
    "                , 'fnclDcdNm': '재무제표구분코드명'\n",
    "                , 'enpSaleAmt': '기업매출금액'\n",
    "                , 'enpBzopPft': '기업영업이익'\n",
    "                , 'iclsPalClcAmt': '포괄손익계산금액'\n",
    "                , 'enpCrtmNpf': '기업당기순이익'\n",
    "                , 'enpTastAmt': '기업총자산금액'\n",
    "                , 'enpTdbtAmt': '기업총부채금액'\n",
    "                , 'enpTcptAmt': '기업총자본금액'\n",
    "                , 'enpCptlAmt': '기업자본금액'\n",
    "                , 'fnclDebtRto': '재무제표부채비율'\n",
    "                }\n",
    "\n",
    "colName_order_list = [\n",
    "                  # important\n",
    "                  ## index_date\n",
    "                  ## index_corp\n",
    "                    colName_dict[\"stock_code\"]\n",
    "                  , colName_dict[\"corp_name\"]\n",
    "                  \n",
    "                  \n",
    "                  # not important\n",
    "                  ## index_corp\n",
    "                  , colName_dict[\"jurir_no\"]\n",
    "                  , colName_dict[\"corp_code\"]\n",
    "                  , colName_dict[\"modify_date\"]\n",
    "                  ## finaStatInfo\n",
    "                  , '사업연도'\n",
    "                  , '재무제표구분코드'\n",
    "                  , '재무제표구분코드명'\n",
    "                  , '기업매출금액'\n",
    "                  , '기업영업이익'\n",
    "                  , '포괄손익계산금액'\n",
    "                  , '기업당기순이익'\n",
    "                  , '기업총자산금액'\n",
    "                  , '기업총부채금액'\n",
    "                  , '기업총자본금액'\n",
    "                  , '기업자본금액'\n",
    "                  , '재무제표부채비율'\n",
    "                  ]\n",
    "\n",
    "col_zfill_dict = { '종목코드': 6\n",
    "                 , 'DART_고유번호': 8\n",
    "                 , '법인등록번호': 13\n",
    "                 }\n",
    "\n",
    "auth_key_dict = { # dartCorpCode, dartCompany\n",
    "             'dart': \"76dd702fe016b819f3e728f9a63b3b13eadaaeb4\"\n",
    "           , 'finaStatInfo': 'b8m/px7AI1NzkWN/lcRj9uXgO56otbz7ZIBfXcplZtC7kmPv1qdNbWD9koAjSQp6t+eo2JJPcn+FiGNuklo98A=='\n",
    "           }"
   ]
  },
  {
   "cell_type": "code",
   "execution_count": 14,
   "metadata": {},
   "outputs": [],
   "source": [
    "tdict = {}\n",
    "for k, v in colName_dict.items():\n",
    "    DP_Column()"
   ]
  },
  {
   "cell_type": "code",
   "execution_count": 15,
   "metadata": {},
   "outputs": [
    {
     "data": {
      "text/plain": [
       "{'종목코드': 'stock_code',\n",
       " 'DART_고유번호': 'corp_code',\n",
       " '종목명': 'corp_name',\n",
       " 'DART_고유번호_최근변경일자': 'modify_date',\n",
       " '법인등록번호': 'crno',\n",
       " '기준일자': 'basDt',\n",
       " '사업연도': 'bizYear',\n",
       " '재무제표구분코드': 'fnclDcd',\n",
       " '재무제표구분코드명': 'fnclDcdNm',\n",
       " '기업매출금액': 'enpSaleAmt',\n",
       " '기업영업이익': 'enpBzopPft',\n",
       " '포괄손익계산금액': 'iclsPalClcAmt',\n",
       " '기업당기순이익': 'enpCrtmNpf',\n",
       " '기업총자산금액': 'enpTastAmt',\n",
       " '기업총부채금액': 'enpTdbtAmt',\n",
       " '기업총자본금액': 'enpTcptAmt',\n",
       " '기업자본금액': 'enpCptlAmt',\n",
       " '재무제표부채비율': 'fnclDebtRto'}"
      ]
     },
     "execution_count": 15,
     "metadata": {},
     "output_type": "execute_result"
    }
   ],
   "source": [
    "tdict"
   ]
  },
  {
   "cell_type": "code",
   "execution_count": null,
   "metadata": {},
   "outputs": [],
   "source": [
    "dic = {'colName': '종목코드', 'colName_code': 'stockCode', 'zfill': 6,'source': None, 'colName_raw': 'stock_code'}"
   ]
  },
  {
   "cell_type": "code",
   "execution_count": 47,
   "metadata": {},
   "outputs": [],
   "source": [
    "class DP_Column():\n",
    "    def __init__(self,\n",
    "                 name: str = \"\",\n",
    "                 name_code: str = \"\",\n",
    "\n",
    "                 type = \"str\",\n",
    "                 zfill: int = None,\n",
    "                 miss = None,\n",
    "                 \n",
    "                 source: str = None,\n",
    "                 name_raw: str = None,\n",
    "                 ):\n",
    "        \n",
    "        self.name = name\n",
    "        self.name_code = name_code\n",
    "        self.type = type\n",
    "        self.zfill = zfill\n",
    "        self.miss = miss\n",
    "        self.source = source\n",
    "        self.name_raw = name_raw\n",
    "    \n",
    "    def __str__(self):\n",
    "        return str(self.__dict__)"
   ]
  },
  {
   "cell_type": "code",
   "execution_count": 45,
   "metadata": {},
   "outputs": [
    {
     "name": "stdout",
     "output_type": "stream",
     "text": [
      "{'name': '종목코드', 'name_code': 'stockCode', 'type': <class 'str'>, 'zfill': None, 'miss': None, 'source': None, 'name_raw': None}\n"
     ]
    }
   ],
   "source": [
    "column_dict = {'종목코드': \n",
    "                        {'name_code': 'stockCode', \n",
    "                         'type': 'str', 'zfill': None, 'miss': None, \n",
    "                         'source': None, 'name_raw': None}\n",
    "               '' \n",
    "               }\n",
    "\n",
    "\n",
    "b = DP_Column(\"종목코드\", \"stockCode\", str).__dict__\n",
    "c = {**column_dict, **b}\n",
    "print(c)"
   ]
  },
  {
   "cell_type": "code",
   "execution_count": 46,
   "metadata": {},
   "outputs": [
    {
     "name": "stdout",
     "output_type": "stream",
     "text": [
      "{'name': '종목코드', 'name_code': 'stockCode', 'type': <class 'str'>, 'zfill': None, 'miss': None, 'source': None, 'name_raw': None}\n"
     ]
    }
   ],
   "source": [
    "print(c)"
   ]
  }
 ],
 "metadata": {
  "kernelspec": {
   "display_name": "asd1",
   "language": "python",
   "name": "python3"
  },
  "language_info": {
   "codemirror_mode": {
    "name": "ipython",
    "version": 3
   },
   "file_extension": ".py",
   "mimetype": "text/x-python",
   "name": "python",
   "nbconvert_exporter": "python",
   "pygments_lexer": "ipython3",
   "version": "3.10.8 | packaged by conda-forge | (main, Nov 22 2022, 08:16:53) [MSC v.1929 64 bit (AMD64)]"
  },
  "orig_nbformat": 4,
  "vscode": {
   "interpreter": {
    "hash": "07badbe185019afce09527cdf66b20ec507f3045aabcc27b0da70607b5630dc4"
   }
  }
 },
 "nbformat": 4,
 "nbformat_minor": 2
}
