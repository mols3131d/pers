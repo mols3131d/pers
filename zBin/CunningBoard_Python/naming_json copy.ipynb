{
 "cells": [
  {
   "cell_type": "code",
   "execution_count": 2,
   "metadata": {},
   "outputs": [
    {
     "data": {
      "text/plain": [
       "'\\\\'"
      ]
     },
     "execution_count": 2,
     "metadata": {},
     "output_type": "execute_result"
    }
   ],
   "source": []
  },
  {
   "cell_type": "code",
   "execution_count": 159,
   "metadata": {},
   "outputs": [],
   "source": [
    "import json\n",
    "import os\n",
    "import sys\n",
    "from glob import glob\n",
    "\n",
    "# file_path = r\"\"\"./naming/\"\"\"\n",
    "# file_name = r\"\"\"naming\"\"\"\n",
    "# file_format = r\"\"\".json\"\"\"\n",
    "# file = file_path + file_name + file_format\n",
    "# print(file)\n",
    "# file = glob(file)[0]\n",
    "\n",
    "class File:\n",
    "    def __init__( self\n",
    "                , path: str = None\n",
    "                \n",
    "                , dir: str | list[str] = \"./\"\n",
    "                , name: str = None\n",
    "                , format: str = None\n",
    "                ):\n",
    "        \n",
    "        sep = os.path.sep\n",
    "        \n",
    "        \n",
    "        if ((name or format) == None) and (path == None):\n",
    "            raise ValueError\n",
    "        elif ((name or format) != None) and (path != None):\n",
    "            raise ValueError\n",
    "        \n",
    "        \n",
    "        elif ((name and format) != None) and (path == None):\n",
    "            if dir == list:\n",
    "                dir_list = dir\n",
    "                dir = \"\"\n",
    "                for i in dir_list:  # type: ignore\n",
    "                    dir += fr\"{i}{sep}\"\n",
    "            else:\n",
    "                dir = dir + sep  # type: ignore\n",
    "            \n",
    "            name_format = f\"{name}.{format}\"\n",
    "            path = f\"{dir}{name}.{format}\"  # type: ignore\n",
    "            path = os.path.abspath(path)\n",
    "            path_rel = os.path.relpath(path)\n",
    "            dir = os.path.dirname(path)\n",
    "            dir_rel = path_rel.replace(sep+name_format, sep)\n",
    "            \n",
    "            \n",
    "        elif ((name and format) == None) and (path != None):\n",
    "            name = os.path.basename(path).split(\".\")[0]\n",
    "            format = os.path.basename(path).split(\".\")[1]\n",
    "            name_format = f\"{name}.{format}\"\n",
    "            path = path\n",
    "            path = os.path.abspath(path)\n",
    "            path_rel = os.path.relpath(path)\n",
    "            dir = os.path.dirname(path)\n",
    "            dir_rel = path_rel.replace(sep+name_format, sep)\n",
    "\n",
    "        else:\n",
    "            raise ValueError\n",
    "        \n",
    "        self.path = path\n",
    "        self.path_rel = path_rel\n",
    "        self.dir = dir\n",
    "        self.dir_rel = dir_rel\n",
    "        self.name = name\n",
    "        self.format = format\n",
    "        self.name_format = f\"{name}.{format}\"\n",
    "\n",
    "        \n",
    "    def __str__(self):\n",
    "        return self"
   ]
  }
 ],
 "metadata": {
  "kernelspec": {
   "display_name": "asd1",
   "language": "python",
   "name": "python3"
  },
  "language_info": {
   "codemirror_mode": {
    "name": "ipython",
    "version": 3
   },
   "file_extension": ".py",
   "mimetype": "text/x-python",
   "name": "python",
   "nbconvert_exporter": "python",
   "pygments_lexer": "ipython3",
   "version": "3.10.8 | packaged by conda-forge | (main, Nov 22 2022, 08:16:53) [MSC v.1929 64 bit (AMD64)]"
  },
  "orig_nbformat": 4,
  "vscode": {
   "interpreter": {
    "hash": "07badbe185019afce09527cdf66b20ec507f3045aabcc27b0da70607b5630dc4"
   }
  }
 },
 "nbformat": 4,
 "nbformat_minor": 2
}
