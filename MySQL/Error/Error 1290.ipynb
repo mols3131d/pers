{
 "cells": [
  {
   "attachments": {},
   "cell_type": "markdown",
   "metadata": {},
   "source": [
    "# `Error Code: 1290.`\n",
    "\n",
    "`Error Code: 1290. The MySQL server is running with the --secure-file-priv option so it cannot execute this statement`\n",
    "\n",
    "- `MySQL` server에 `--secure-file-priv`라는 option이 실행되고 있어, 구문을 실행할 수 없는 에러.\n",
    "\n",
    "https://bae9086.tistory.com/192\n",
    "\n",
    "---\n",
    "\n",
    "- `secure-file-priv` option\n",
    "  - 보안을 위해, 설정된 directory 안에 있는 파일만 import 가능하도록 제한하는 option.\n",
    "\n",
    "<br>\n",
    "\n",
    "- 해결 방법\n",
    "  \n",
    "  1. 파일의 이동\n",
    "    <br>import 하려는 파일을 `secure-file-priv` option에 설정된 directory에 이동 후, import\n",
    "    \n",
    "  2. secure-file-priv NULL"
   ]
  },
  {
   "attachments": {},
   "cell_type": "markdown",
   "metadata": {},
   "source": [
    "# `SHOW VARIABLES LIKE 'secure_file%'`"
   ]
  }
 ],
 "metadata": {
  "language_info": {
   "name": "python"
  },
  "orig_nbformat": 4
 },
 "nbformat": 4,
 "nbformat_minor": 2
}
