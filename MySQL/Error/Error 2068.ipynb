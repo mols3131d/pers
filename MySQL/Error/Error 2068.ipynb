{
 "cells": [
  {
   "attachments": {},
   "cell_type": "markdown",
   "metadata": {},
   "source": [
    "# `Error Code: 2068`\n",
    "\n",
    "`Error Code: 2068. LOAD DATA LOCAL INFILE file request rejected due to restrictions on access.`"
   ]
  }
 ],
 "metadata": {
  "language_info": {
   "name": "python"
  },
  "orig_nbformat": 4
 },
 "nbformat": 4,
 "nbformat_minor": 2
}
