{
 "cells": [
  {
   "attachments": {},
   "cell_type": "markdown",
   "metadata": {},
   "source": [
    "# [Data Type](https://dev.mysql.com/doc/refman/8.0/en/data-types.html)\n",
    "\n",
    "A\n",
    "\n",
    "---\n",
    "\n",
    "<details>\n",
    "<summary>Reference</summary>\n",
    "\n",
    "https://dev.mysql.com/doc/refman/8.0/en/data-types.html\n",
    "\n",
    "</details>"
   ]
  }
 ],
 "metadata": {
  "language_info": {
   "name": "python"
  },
  "orig_nbformat": 4
 },
 "nbformat": 4,
 "nbformat_minor": 2
}
