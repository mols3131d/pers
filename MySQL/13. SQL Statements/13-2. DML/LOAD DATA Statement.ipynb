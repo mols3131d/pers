{
 "cells": [
  {
   "attachments": {},
   "cell_type": "markdown",
   "metadata": {},
   "source": [
    "# [`LOAD DATA` Statement](https://dev.mysql.com/doc/refman/8.0/en/load-data.html)"
   ]
  },
  {
   "cell_type": "code",
   "execution_count": null,
   "metadata": {
    "vscode": {
     "languageId": "sql"
    }
   },
   "outputs": [],
   "source": [
    "LOAD DATA\n",
    "    [LOW_PRIORITY | CONCURRENT] [LOCAL]\n",
    "    INFILE 'file_name'\n",
    "    [REPLACE | IGNORE]\n",
    "    INTO TABLE tbl_name\n",
    "    [PARTITION (partition_name [, partition_name] ...)]\n",
    "    [CHARACTER SET charset_name]\n",
    "    [{FIELDS | COLUMNS}\n",
    "        [TERMINATED BY 'string']\n",
    "        [[OPTIONALLY] ENCLOSED BY 'char']\n",
    "        [ESCAPED BY 'char']\n",
    "    ]\n",
    "    [LINES\n",
    "        [STARTING BY 'string']\n",
    "        [TERMINATED BY 'string']\n",
    "    ]\n",
    "    [IGNORE number {LINES | ROWS}]\n",
    "    [(col_name_or_user_var\n",
    "        [, col_name_or_user_var] ...)]\n",
    "    [SET col_name={expr | DEFAULT}\n",
    "        [, col_name={expr | DEFAULT}] ...]"
   ]
  },
  {
   "cell_type": "code",
   "execution_count": null,
   "metadata": {
    "vscode": {
     "languageId": "sql"
    }
   },
   "outputs": [],
   "source": [
    "LOAD DATA LOCAL INFILE '/Brazilian E-Commerce Public Dataset by Olist/olist_customers_dataset.csv' \n",
    "INTO TABLE olist_customers_dataset\n",
    "\n",
    "FIELDS \n",
    "\tTERMINATED BY ',' \n",
    "\tENCLOSED BY '\"'\n",
    "\n",
    "LINES \n",
    "\tTERMINATED BY '\\n'\n",
    "\n",
    "IGNORE 1 ROWS;"
   ]
  },
  {
   "attachments": {},
   "cell_type": "markdown",
   "metadata": {},
   "source": [
    "## csv import\n",
    "\n",
    "https://cirius.tistory.com/1475"
   ]
  }
 ],
 "metadata": {
  "language_info": {
   "name": "python"
  },
  "orig_nbformat": 4
 },
 "nbformat": 4,
 "nbformat_minor": 2
}
