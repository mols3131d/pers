{
 "cells": [
  {
   "attachments": {},
   "cell_type": "markdown",
   "metadata": {},
   "source": [
    "# DML\n",
    "\n",
    "Data Manipulation Language, 데이터 조작어\n",
    "\n",
    "[Data Manipulation Statements](https://dev.mysql.com/doc/refman/8.0/en/sql-data-manipulation-statements.html)\n",
    "\n",
    "---\n",
    "\n",
    "데이터 베이스에 저장된 데이터를 처리하는 언어"
   ]
  },
  {
   "attachments": {},
   "cell_type": "markdown",
   "metadata": {},
   "source": [
    "# `INSERT`\n",
    "\n",
    "입력\n",
    "\n",
    "---"
   ]
  },
  {
   "attachments": {},
   "cell_type": "markdown",
   "metadata": {},
   "source": [
    "# `UPDATE`\n",
    "\n",
    "변경\n",
    "\n",
    "---"
   ]
  },
  {
   "attachments": {},
   "cell_type": "markdown",
   "metadata": {},
   "source": [
    "# `DELETE`\n",
    "\n",
    "삭제\n",
    "\n",
    "---"
   ]
  },
  {
   "attachments": {},
   "cell_type": "markdown",
   "metadata": {},
   "source": [
    "# `MERGE`\n",
    "\n",
    "합병\n",
    "\n",
    "---"
   ]
  },
  {
   "attachments": {},
   "cell_type": "markdown",
   "metadata": {},
   "source": [
    "# Appendix\n",
    "---\n",
    "\n",
    "## Reference\n",
    "---\n",
    "https://rshday.tistory.com/13\n",
    "\n",
    "https://jungyijun.tistory.com/85"
   ]
  }
 ],
 "metadata": {
  "language_info": {
   "name": "python"
  },
  "orig_nbformat": 4
 },
 "nbformat": 4,
 "nbformat_minor": 2
}
