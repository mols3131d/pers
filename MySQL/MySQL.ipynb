{
 "cells": [
  {
   "attachments": {},
   "cell_type": "markdown",
   "metadata": {},
   "source": [
    "# [MySQL](https://www.mysql.com/)"
   ]
  },
  {
   "attachments": {},
   "cell_type": "markdown",
   "metadata": {},
   "source": [
    "# MySQL NULL 처리\n",
    "[[DB] MySQL NULL 처리(IFNULL, CASE, COALESCE)](https://velog.io/@gillog/DB-MySQL-NULL-처리IFNULL-CASE-COALESCE)"
   ]
  },
  {
   "attachments": {},
   "cell_type": "markdown",
   "metadata": {},
   "source": [
    "## `IFNULL()`"
   ]
  },
  {
   "cell_type": "code",
   "execution_count": null,
   "metadata": {
    "vscode": {
     "languageId": "sql"
    }
   },
   "outputs": [],
   "source": [
    "SELECT IFNULL(<Column>, '<대체값>')\n",
    "FROM 테이블명"
   ]
  },
  {
   "attachments": {},
   "cell_type": "markdown",
   "metadata": {},
   "source": [
    "## `COALESCE(NULL, 'A', 'B')`"
   ]
  },
  {
   "cell_type": "code",
   "execution_count": null,
   "metadata": {
    "vscode": {
     "languageId": "sql"
    }
   },
   "outputs": [],
   "source": [
    "SELECT COALESCE(<Column>, '<대체값>')\n",
    "FROM 테이블명"
   ]
  },
  {
   "attachments": {},
   "cell_type": "markdown",
   "metadata": {},
   "source": [
    "## `DATE_FORMAT(<Column>, '<Format>')`"
   ]
  },
  {
   "attachments": {},
   "cell_type": "markdown",
   "metadata": {},
   "source": [
    "# `DISTINCT`\n",
    "- DISTINCT : 별개의, \n",
    "\n",
    "<details>\n",
    "<summary>Reference</summary>\n",
    "\n",
    "[https://dev.mysql.com/doc/refman/8.0/en/distinct-optimization.html](https://dev.mysql.com/doc/refman/8.0/en/distinct-optimization.html)\n",
    "\n",
    "</details>"
   ]
  },
  {
   "cell_type": "code",
   "execution_count": null,
   "metadata": {
    "vscode": {
     "languageId": "sql"
    }
   },
   "outputs": [],
   "source": [
    "SELECT DISTINCT <Column> FROM <Table>"
   ]
  },
  {
   "attachments": {},
   "cell_type": "markdown",
   "metadata": {},
   "source": [
    "# `GROUP BY`\n",
    "\n",
    "<details>\n",
    "<summary>Reference</summary>\n",
    "\n",
    "[https://en.wikipedia.org/wiki/Group_by_(SQL)](https://en.wikipedia.org/wiki/Group_by_(SQL))\n",
    "\n",
    "</details>\n"
   ]
  },
  {
   "cell_type": "code",
   "execution_count": null,
   "metadata": {
    "vscode": {
     "languageId": "sql"
    }
   },
   "outputs": [],
   "source": []
  },
  {
   "attachments": {},
   "cell_type": "markdown",
   "metadata": {},
   "source": [
    "# `HAVING` Clause\n",
    "\n",
    "The HAVING clause was added to SQL because the WHERE keyword cannot be used with aggregate functions.\n",
    "\n",
    "<details>\n",
    "<summary>Reference</summary>\n",
    "\n",
    "[https://www.w3schools.com/sql/sql_having.asp](https://www.w3schools.com/sql/sql_having.asp)\n",
    "\n",
    "</details>"
   ]
  },
  {
   "cell_type": "code",
   "execution_count": null,
   "metadata": {
    "vscode": {
     "languageId": "sql"
    }
   },
   "outputs": [],
   "source": []
  },
  {
   "attachments": {},
   "cell_type": "markdown",
   "metadata": {},
   "source": [
    "# MySQL 접속 명령어\n",
    "\n",
    "https://code-factory.tistory.com/44\n",
    "\n",
    "\n",
    "● 로콜 서버에 접속\n",
    "\n",
    "명령어 : mysql -u 계정명 -p\n",
    "\n",
    "예) mysql -u root -p\n",
    "\n",
    "\n",
    "\n",
    "● 원격지에 접속\n",
    "\n",
    "명령어 : mysql -h 호스트주소(ip) -P 포트번호 -u 계정명 -p\n",
    "\n",
    "이때 대소문자를 구분해서 기입해 줘야 합니다.\n",
    "\n",
    "예) mysql -h 192.168.0.33 -P 13306 -u root -p\n",
    "\n",
    "\n",
    "\n",
    "● 원격지의 특정 database에 접속\n",
    "\n",
    "명령어 : mysql -h 호스트주소(ip) -P 포트번호 -u 계정명 -p 디비 이름\n",
    "\n",
    "예) mysql -h 192.168.0.33 -P 13306 -u root -p userDB"
   ]
  },
  {
   "attachments": {},
   "cell_type": "markdown",
   "metadata": {},
   "source": [
    "# mysql user확인 및 추가\n",
    "\n",
    "https://velog.io/@taelee/mysql-user%ED%99%95%EC%9D%B8-%EB%B0%8F-%EC%B6%94%EA%B0%80"
   ]
  },
  {
   "cell_type": "code",
   "execution_count": null,
   "metadata": {
    "vscode": {
     "languageId": "sql"
    }
   },
   "outputs": [],
   "source": [
    "create database Olist;\n",
    "use Olist;\n",
    "\n",
    "select database();\n",
    "\n",
    "select default_character_set_name FROM information_schema.SCHEMATA WHERE schema_name = \"Olist\";\n",
    "ALTER DATABASE Olist DEFAULT CHARACTER SET utf8;"
   ]
  },
  {
   "cell_type": "code",
   "execution_count": null,
   "metadata": {
    "vscode": {
     "languageId": "sql"
    }
   },
   "outputs": [],
   "source": [
    "CREATE TABLE olist_customers_dataset (\n",
    "    customer_id VARCHAR(255),\n",
    "    customer_unique_id VARCHAR(255),\n",
    "    customer_zip_code_prefix VARCHAR(10),\n",
    "    customer_city VARCHAR(10),\n",
    "    customer_state VARCHAR(5)\n",
    ");"
   ]
  },
  {
   "cell_type": "code",
   "execution_count": null,
   "metadata": {
    "vscode": {
     "languageId": "sql"
    }
   },
   "outputs": [],
   "source": [
    "select default_character_set_name FROM information_schema.SCHEMATA WHERE schema_name = \"Olist\";"
   ]
  },
  {
   "cell_type": "code",
   "execution_count": null,
   "metadata": {
    "vscode": {
     "languageId": "sql"
    }
   },
   "outputs": [],
   "source": [
    "LOAD DATA LOCAL INFILE '/Brazilian E-Commerce Public Dataset by Olist/olist_customers_dataset.csv' \n",
    "INTO TABLE olist_customers_dataset\n",
    "\n",
    "FIELDS \n",
    "\tTERMINATED BY ',' \n",
    "\tENCLOSED BY '\"'\n",
    "\n",
    "LINES \n",
    "\tTERMINATED BY '\\n'\n",
    "\n",
    "IGNORE 1 ROWS;"
   ]
  }
 ],
 "metadata": {
  "kernelspec": {
   "display_name": "asd",
   "language": "python",
   "name": "python3"
  },
  "language_info": {
   "codemirror_mode": {
    "name": "ipython",
    "version": 3
   },
   "file_extension": ".py",
   "mimetype": "text/x-python",
   "name": "python",
   "nbconvert_exporter": "python",
   "pygments_lexer": "ipython3",
   "version": "3.9.15"
  },
  "orig_nbformat": 4
 },
 "nbformat": 4,
 "nbformat_minor": 2
}
