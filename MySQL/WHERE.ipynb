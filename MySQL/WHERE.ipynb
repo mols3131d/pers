{
 "cells": [
  {
   "attachments": {},
   "cell_type": "markdown",
   "metadata": {},
   "source": [
    "# `WHERE`\n",
    "\n",
    "`WHERE` Clause\n",
    "\n",
    "\n",
    "\n",
    "---\n",
    "\n",
    "<details>\n",
    "<summary>Reference</summary>\n",
    "\n",
    "\n",
    "\n",
    "</details>"
   ]
  },
  {
   "attachments": {},
   "cell_type": "markdown",
   "metadata": {},
   "source": [
    "# `IN`\n",
    "\n",
    "`IN` Operator\n",
    "\n",
    "---\n",
    "\n",
    "`IN` 연산자를 사용하면 `WHERE` 절에 여러 값을 지정할 수 있습니다.\n",
    "\n",
    "`IN` 연산자는 여러 `OR` 조건\n",
    "\n",
    "\n",
    "<details>\n",
    "<summary>Reference</summary>\n",
    "\n",
    "https://www.w3schools.com/sql/sql_in.asp\n",
    "\n",
    "</details>"
   ]
  }
 ],
 "metadata": {
  "language_info": {
   "name": "python"
  },
  "orig_nbformat": 4
 },
 "nbformat": 4,
 "nbformat_minor": 2
}
