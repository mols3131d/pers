{
 "cells": [
  {
   "attachments": {},
   "cell_type": "markdown",
   "metadata": {},
   "source": [
    "# `CASE`\n",
    "\n",
    "CASE\n",
    "\n",
    "\n",
    "<details>\n",
    "\n",
    "<summary>Reference</summary>\n",
    "\n",
    "[URL]()\n",
    "\n",
    "</details>\n",
    "\n",
    "---\n",
    "\n"
   ]
  },
  {
   "cell_type": "code",
   "execution_count": null,
   "metadata": {
    "vscode": {
     "languageId": "sql"
    }
   },
   "outputs": [],
   "source": [
    "SELECT <Column>,\n",
    "\tCASE\n",
    "\t\tWHEN <Condition1> THEN <Value1>\n",
    "\t\tWHEN <Condition2> THEN <Value2>\n",
    "\t\tWHEN <ConditionN> THEN <ValueN>\n",
    "\tEND AS <NewColumnName>\n",
    "FROM <Table>"
   ]
  },
  {
   "cell_type": "code",
   "execution_count": null,
   "metadata": {
    "vscode": {
     "languageId": "sql"
    }
   },
   "outputs": [],
   "source": [
    "SELECT <Column>,\n",
    "\tCASE\n",
    "\t\tWHEN <Condition1> THEN <Value1>\n",
    "\t\tWHEN <Condition2> THEN <Value2>\n",
    "\t\tWHEN <ConditionN> THEN <ValueN>\n",
    "\t\tELSE <ValueN+1>\n",
    "\tEND AS <NewColumnName>\n",
    "FROM <Table>"
   ]
  }
 ],
 "metadata": {
  "kernelspec": {
   "display_name": "asd",
   "language": "python",
   "name": "python3"
  },
  "language_info": {
   "codemirror_mode": {
    "name": "ipython",
    "version": 3
   },
   "file_extension": ".py",
   "mimetype": "text/x-python",
   "name": "python",
   "nbconvert_exporter": "python",
   "pygments_lexer": "ipython3",
   "version": "3.9.15"
  },
  "orig_nbformat": 4
 },
 "nbformat": 4,
 "nbformat_minor": 2
}
