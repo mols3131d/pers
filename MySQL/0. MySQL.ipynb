{
 "cells": [
  {
   "attachments": {},
   "cell_type": "markdown",
   "metadata": {},
   "source": [
    "# MySQL NULL 처리\n",
    "[[DB] MySQL NULL 처리(IFNULL, CASE, COALESCE)](https://velog.io/@gillog/DB-MySQL-NULL-처리IFNULL-CASE-COALESCE)"
   ]
  },
  {
   "attachments": {},
   "cell_type": "markdown",
   "metadata": {},
   "source": [
    "## `IFNULL()`"
   ]
  },
  {
   "cell_type": "code",
   "execution_count": null,
   "metadata": {
    "vscode": {
     "languageId": "sql"
    }
   },
   "outputs": [],
   "source": [
    "SELECT IFNULL(<Column>, '<대체값>')\n",
    "FROM 테이블명"
   ]
  },
  {
   "attachments": {},
   "cell_type": "markdown",
   "metadata": {},
   "source": [
    "## `COALESCE(NULL, 'A', 'B')`"
   ]
  },
  {
   "cell_type": "code",
   "execution_count": null,
   "metadata": {
    "vscode": {
     "languageId": "sql"
    }
   },
   "outputs": [],
   "source": [
    "SELECT COALESCE(<Column>, '<대체값>')\n",
    "FROM 테이블명"
   ]
  },
  {
   "attachments": {},
   "cell_type": "markdown",
   "metadata": {},
   "source": [
    "## `DATE_FORMAT(<Column>, '<Format>')`"
   ]
  },
  {
   "attachments": {},
   "cell_type": "markdown",
   "metadata": {},
   "source": [
    "# `DISTINCT`\n",
    "- DISTINCT : 별개의, \n",
    "\n",
    "<details>\n",
    "<summary>Reference</summary>\n",
    "\n",
    "[https://dev.mysql.com/doc/refman/8.0/en/distinct-optimization.html](https://dev.mysql.com/doc/refman/8.0/en/distinct-optimization.html)\n",
    "\n",
    "</details>"
   ]
  },
  {
   "cell_type": "code",
   "execution_count": null,
   "metadata": {
    "vscode": {
     "languageId": "sql"
    }
   },
   "outputs": [],
   "source": [
    "SELECT DISTINCT <Column> FROM <Table>"
   ]
  },
  {
   "attachments": {},
   "cell_type": "markdown",
   "metadata": {},
   "source": [
    "# `GROUP BY`\n",
    "\n",
    "<details>\n",
    "<summary>Reference</summary>\n",
    "\n",
    "[https://en.wikipedia.org/wiki/Group_by_(SQL)](https://en.wikipedia.org/wiki/Group_by_(SQL))\n",
    "\n",
    "</details>\n"
   ]
  },
  {
   "cell_type": "code",
   "execution_count": null,
   "metadata": {
    "vscode": {
     "languageId": "sql"
    }
   },
   "outputs": [],
   "source": []
  },
  {
   "attachments": {},
   "cell_type": "markdown",
   "metadata": {},
   "source": [
    "# `HAVING` Clause\n",
    "\n",
    "The HAVING clause was added to SQL because the WHERE keyword cannot be used with aggregate functions.\n",
    "\n",
    "<details>\n",
    "<summary>Reference</summary>\n",
    "\n",
    "[https://www.w3schools.com/sql/sql_having.asp](https://www.w3schools.com/sql/sql_having.asp)\n",
    "\n",
    "</details>"
   ]
  },
  {
   "cell_type": "code",
   "execution_count": null,
   "metadata": {
    "vscode": {
     "languageId": "sql"
    }
   },
   "outputs": [],
   "source": []
  }
 ],
 "metadata": {
  "language_info": {
   "name": "python"
  },
  "orig_nbformat": 4
 },
 "nbformat": 4,
 "nbformat_minor": 2
}
