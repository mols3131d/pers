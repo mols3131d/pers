{
 "cells": [
  {
   "attachments": {},
   "cell_type": "markdown",
   "metadata": {},
   "source": [
    "# MySQL 환경 구축 - Ubuntu (goormIDE)\n",
    "\n",
    "\n",
    "\n",
    "\n",
    "<details>\n",
    "\n",
    "<summary>Reference</summary>\n",
    "\n",
    "[https://itadventure.tistory.com/598](https://itadventure.tistory.com/598)\n",
    "\n",
    "</details>\n",
    "\n",
    "---\n",
    "\n"
   ]
  },
  {
   "attachments": {},
   "cell_type": "markdown",
   "metadata": {},
   "source": [
    "```sh\n",
    "sudo su\n",
    "\n",
    "apt-get update\n",
    "\n",
    "# MySQL Server install\n",
    "apt-get install mysql-server \n",
    "\n",
    "# start service MySQL\n",
    "service mysql start\n",
    "\n",
    "mysql\n",
    "```\n",
    "\n",
    "---\n",
    "\n",
    "```MySQL\n",
    "ALTER USER 'root'@'localhost' IDENTIFIED WITH mysql_native_password BY '패스워드';\n",
    "flush privileges;\n",
    "```\n",
    "\n",
    "\n",
    "\n",
    "ALTER USER 'root'@'localhost' IDENTIFIED WITH mysql_native_password BY '0000'"
   ]
  }
 ],
 "metadata": {
  "kernelspec": {
   "display_name": "asd",
   "language": "python",
   "name": "python3"
  },
  "language_info": {
   "codemirror_mode": {
    "name": "ipython",
    "version": 3
   },
   "file_extension": ".py",
   "mimetype": "text/x-python",
   "name": "python",
   "nbconvert_exporter": "python",
   "pygments_lexer": "ipython3",
   "version": "3.9.15"
  },
  "orig_nbformat": 4
 },
 "nbformat": 4,
 "nbformat_minor": 2
}
