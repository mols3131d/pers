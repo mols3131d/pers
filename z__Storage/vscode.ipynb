{
 "cells": [
  {
   "cell_type": "code",
   "execution_count": 3,
   "metadata": {},
   "outputs": [
    {
     "name": "stdout",
     "output_type": "stream",
     "text": [
      "C:/Users/<userName>/AppData/Roaming\n"
     ]
    }
   ],
   "source": [
    "os = \"windows\"\n",
    "os_user_name = \"<userName>\"\n",
    "\n",
    "if os == \"windows\":\n",
    "    vscode_path = fr\"\"\"C:/Users/{os_user_name}/AppData/Roaming\"\"\"\n",
    "    print(vscode_path)"
   ]
  },
  {
   "cell_type": "markdown",
   "metadata": {},
   "source": [
    "# Vscode Extension Export to Bat"
   ]
  },
  {
   "cell_type": "code",
   "execution_count": 1,
   "metadata": {},
   "outputs": [],
   "source": [
    "import os\n",
    "\n",
    "# extract Vscode extensions list\n",
    "!code --list-extensions > list.bat\n",
    "\n",
    "with open(\"./list.bat\", \"r\") as f:\n",
    "    list = f.readlines()\n",
    "\n",
    "# creat bat file to install extensions\n",
    "## set vscodeCommand\n",
    "vscodeCommand = ['code', 'code-insiders', \"codium\"][2]\n",
    "\n",
    "## create bat file\n",
    "with open(\"./list.bat\", \"w\") as f:\n",
    "    for i in list:\n",
    "        f.write(f\"{vscodeCommand} --install-extension \"+i)\n",
    "\n",
    "\n",
    "# os.remove(\"./list.bat\")"
   ]
  }
 ],
 "metadata": {
  "kernelspec": {
   "display_name": "asd",
   "language": "python",
   "name": "python3"
  },
  "language_info": {
   "codemirror_mode": {
    "name": "ipython",
    "version": 3
   },
   "file_extension": ".py",
   "mimetype": "text/x-python",
   "name": "python",
   "nbconvert_exporter": "python",
   "pygments_lexer": "ipython3",
   "version": "3.9.15"
  },
  "orig_nbformat": 4,
  "vscode": {
   "interpreter": {
    "hash": "1484e195d7bc9430bc3da72ea3c1b8c4a4682e4fe56bdbad8b3e1217f2a75f76"
   }
  }
 },
 "nbformat": 4,
 "nbformat_minor": 2
}
