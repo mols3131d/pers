{
 "cells": [
  {
   "attachments": {},
   "cell_type": "markdown",
   "metadata": {},
   "source": [
    "# conda"
   ]
  },
  {
   "attachments": {},
   "cell_type": "markdown",
   "metadata": {},
   "source": [
    "## version"
   ]
  },
  {
   "cell_type": "markdown",
   "metadata": {},
   "source": [
    "### conda"
   ]
  },
  {
   "cell_type": "code",
   "execution_count": 6,
   "metadata": {
    "vscode": {
     "languageId": "powershell"
    }
   },
   "outputs": [
    {
     "name": "stdout",
     "output_type": "stream",
     "text": [
      "\n",
      "Note: you may need to restart the kernel to use updated packages.\n"
     ]
    },
    {
     "name": "stdout",
     "output_type": "stream",
     "text": [
      "Loading channels: ...working... done\n",
      "# Name                       Version           Build  Channel             \n",
      "conda                         4.1.11          py27_1  conda-forge         \n",
      "conda                         4.1.11          py34_1  conda-forge         \n",
      "conda                         4.1.11          py35_1  conda-forge         \n",
      "conda                         4.1.12          py27_0  conda-forge         \n",
      "conda                         4.1.12          py34_0  conda-forge         \n",
      "conda                         4.1.12          py35_0  conda-forge         \n",
      "conda                         4.2.13          py27_0  conda-forge         \n",
      "conda                         4.2.13          py34_0  conda-forge         \n",
      "conda                         4.2.13          py35_0  conda-forge         \n",
      "conda                         4.2.13          py36_0  conda-forge         \n",
      "conda                         4.3.21          py27_0  conda-forge         \n",
      "conda                         4.3.21          py27_1  conda-forge         \n",
      "conda                         4.3.21          py35_0  conda-forge         \n",
      "conda                         4.3.21          py35_1  conda-forge         \n",
      "conda                         4.3.21          py36_0  conda-forge         \n",
      "conda                         4.3.21          py36_1  conda-forge         \n",
      "conda                         4.3.22          py27_0  conda-forge         \n",
      "conda                         4.3.22          py35_0  conda-forge         \n",
      "conda                         4.3.22          py36_0  conda-forge         \n",
      "conda                         4.3.23          py27_0  conda-forge         \n",
      "conda                         4.3.23          py35_0  conda-forge         \n",
      "conda                         4.3.23          py36_0  conda-forge         \n",
      "conda                         4.3.24          py27_0  conda-forge         \n",
      "conda                         4.3.24          py35_0  conda-forge         \n",
      "conda                         4.3.24          py36_0  conda-forge         \n",
      "conda                         4.3.27          py27_0  conda-forge         \n",
      "conda                         4.3.27  py27hcd9d231_0  pkgs/main           \n",
      "conda                         4.3.27          py35_0  conda-forge         \n",
      "conda                         4.3.27  py35h5e3481d_0  pkgs/main           \n",
      "conda                         4.3.27          py36_0  conda-forge         \n",
      "conda                         4.3.27  py36hcbae3bd_0  pkgs/main           \n",
      "conda                         4.3.29          py27_0  conda-forge         \n",
      "conda                         4.3.29  py27hb214554_0  pkgs/main           \n",
      "conda                         4.3.29  py34h479681e_0  pkgs/main           \n",
      "conda                         4.3.29          py35_0  conda-forge         \n",
      "conda                         4.3.29  py35hc07314a_0  pkgs/main           \n",
      "conda                         4.3.29          py36_0  conda-forge         \n",
      "conda                         4.3.29  py36h7c1b203_0  pkgs/main           \n",
      "conda                         4.3.30  py27he817781_0  pkgs/main           \n",
      "conda                         4.3.30  py34h3ba59da_0  pkgs/main           \n",
      "conda                         4.3.30  py35hec795fb_0  pkgs/main           \n",
      "conda                         4.3.30  py36h7e176b0_0  pkgs/main           \n",
      "conda                         4.3.31          py27_0  conda-forge         \n",
      "conda                         4.3.31          py27_0  pkgs/main           \n",
      "conda                         4.3.31          py35_0  conda-forge         \n",
      "conda                         4.3.31          py35_0  pkgs/main           \n",
      "conda                         4.3.31          py36_0  conda-forge         \n",
      "conda                         4.3.31          py36_0  pkgs/main           \n",
      "conda                         4.3.32          py27_0  conda-forge         \n",
      "conda                         4.3.32          py27_0  pkgs/main           \n",
      "conda                         4.3.32          py35_0  conda-forge         \n",
      "conda                         4.3.32          py35_0  pkgs/main           \n",
      "conda                         4.3.32          py36_0  conda-forge         \n",
      "conda                         4.3.32          py36_0  pkgs/main           \n",
      "conda                         4.3.33          py27_0  conda-forge         \n",
      "conda                         4.3.33          py27_0  pkgs/main           \n",
      "conda                         4.3.33          py35_0  conda-forge         \n",
      "conda                         4.3.33          py35_0  pkgs/main           \n",
      "conda                         4.3.33          py36_0  conda-forge         \n",
      "conda                         4.3.33          py36_0  pkgs/main           \n",
      "conda                         4.3.34          py27_0  conda-forge         \n",
      "conda                         4.3.34          py27_0  pkgs/main           \n",
      "conda                         4.3.34          py35_0  conda-forge         \n",
      "conda                         4.3.34          py35_0  pkgs/main           \n",
      "conda                         4.3.34          py36_0  conda-forge         \n",
      "conda                         4.3.34          py36_0  pkgs/main           \n",
      "conda                          4.4.0          py27_0  pkgs/main           \n",
      "conda                          4.4.0          py35_0  pkgs/main           \n",
      "conda                          4.4.0          py36_0  pkgs/main           \n",
      "conda                          4.4.1          py27_0  pkgs/main           \n",
      "conda                          4.4.1          py35_0  pkgs/main           \n",
      "conda                          4.4.1          py36_0  pkgs/main           \n",
      "conda                          4.4.2          py27_0  pkgs/main           \n",
      "conda                          4.4.2          py35_0  pkgs/main           \n",
      "conda                          4.4.2          py36_0  pkgs/main           \n",
      "conda                          4.4.3          py27_0  pkgs/main           \n",
      "conda                          4.4.3          py35_0  pkgs/main           \n",
      "conda                          4.4.3          py36_0  pkgs/main           \n",
      "conda                          4.4.4          py27_0  pkgs/main           \n",
      "conda                          4.4.4          py35_0  pkgs/main           \n",
      "conda                          4.4.4          py36_0  pkgs/main           \n",
      "conda                          4.4.6          py27_0  pkgs/main           \n",
      "conda                          4.4.6          py35_0  pkgs/main           \n",
      "conda                          4.4.6          py36_0  pkgs/main           \n",
      "conda                          4.4.7          py27_0  pkgs/main           \n",
      "conda                          4.4.7          py35_0  pkgs/main           \n",
      "conda                          4.4.7          py36_0  pkgs/main           \n",
      "conda                          4.4.8          py27_0  pkgs/main           \n",
      "conda                          4.4.8          py35_0  pkgs/main           \n",
      "conda                          4.4.8          py36_0  pkgs/main           \n",
      "conda                          4.4.9          py27_0  pkgs/main           \n",
      "conda                          4.4.9          py35_0  pkgs/main           \n",
      "conda                          4.4.9          py36_0  pkgs/main           \n",
      "conda                         4.4.10          py27_0  pkgs/main           \n",
      "conda                         4.4.10          py35_0  pkgs/main           \n",
      "conda                         4.4.10          py36_0  pkgs/main           \n",
      "conda                         4.4.11          py27_0  pkgs/main           \n",
      "conda                         4.4.11          py35_0  pkgs/main           \n",
      "conda                         4.4.11          py36_0  pkgs/main           \n",
      "conda                          4.5.0          py27_0  conda-forge         \n",
      "conda                          4.5.0          py27_0  pkgs/main           \n",
      "conda                          4.5.0          py35_0  conda-forge         \n",
      "conda                          4.5.0          py35_0  pkgs/main           \n",
      "conda                          4.5.0          py36_0  conda-forge         \n",
      "conda                          4.5.0          py36_0  pkgs/main           \n",
      "conda                          4.5.1          py27_0  conda-forge         \n",
      "conda                          4.5.1          py27_0  pkgs/main           \n",
      "conda                          4.5.1          py35_0  conda-forge         \n",
      "conda                          4.5.1          py35_0  pkgs/main           \n",
      "conda                          4.5.1          py36_0  conda-forge         \n",
      "conda                          4.5.1          py36_0  pkgs/main           \n",
      "conda                          4.5.2          py27_0  conda-forge         \n",
      "conda                          4.5.2          py27_0  pkgs/main           \n",
      "conda                          4.5.2          py35_0  conda-forge         \n",
      "conda                          4.5.2          py35_0  pkgs/main           \n",
      "conda                          4.5.2          py36_0  conda-forge         \n",
      "conda                          4.5.2          py36_0  pkgs/main           \n",
      "conda                          4.5.3          py27_0  conda-forge         \n",
      "conda                          4.5.3          py27_0  pkgs/main           \n",
      "conda                          4.5.3          py35_0  conda-forge         \n",
      "conda                          4.5.3          py35_0  pkgs/main           \n",
      "conda                          4.5.3          py36_0  conda-forge         \n",
      "conda                          4.5.3          py36_0  pkgs/main           \n",
      "conda                          4.5.4          py27_0  conda-forge         \n",
      "conda                          4.5.4          py27_0  pkgs/main           \n",
      "conda                          4.5.4          py35_0  conda-forge         \n",
      "conda                          4.5.4          py35_0  pkgs/main           \n",
      "conda                          4.5.4          py36_0  conda-forge         \n",
      "conda                          4.5.4          py36_0  pkgs/main           \n",
      "conda                          4.5.5          py27_0  conda-forge         \n",
      "conda                          4.5.5          py27_0  pkgs/main           \n",
      "conda                          4.5.5          py35_0  conda-forge         \n",
      "conda                          4.5.5          py35_0  pkgs/main           \n",
      "conda                          4.5.5          py36_0  conda-forge         \n",
      "conda                          4.5.5          py36_0  pkgs/main           \n",
      "conda                          4.5.6          py27_0  conda-forge         \n",
      "conda                          4.5.6          py35_0  conda-forge         \n",
      "conda                          4.5.6          py36_0  conda-forge         \n",
      "conda                          4.5.8          py27_0  conda-forge         \n",
      "conda                          4.5.8          py27_0  pkgs/main           \n",
      "conda                          4.5.8          py27_1  conda-forge         \n",
      "conda                          4.5.8          py35_0  conda-forge         \n",
      "conda                          4.5.8          py35_0  pkgs/main           \n",
      "conda                          4.5.8          py35_1  conda-forge         \n",
      "conda                          4.5.8          py36_0  conda-forge         \n",
      "conda                          4.5.8          py36_0  pkgs/main           \n",
      "conda                          4.5.8          py36_1  conda-forge         \n",
      "conda                          4.5.8          py37_0  pkgs/main           \n",
      "conda                          4.5.9          py27_0  conda-forge         \n",
      "conda                          4.5.9          py27_0  pkgs/main           \n",
      "conda                          4.5.9          py35_0  conda-forge         \n",
      "conda                          4.5.9          py35_0  pkgs/main           \n",
      "conda                          4.5.9          py36_0  conda-forge         \n",
      "conda                          4.5.9          py36_0  pkgs/main           \n",
      "conda                         4.5.10          py27_0  conda-forge         \n",
      "conda                         4.5.10          py27_0  pkgs/main           \n",
      "conda                         4.5.10          py27_1  conda-forge         \n",
      "conda                         4.5.10          py35_0  conda-forge         \n",
      "conda                         4.5.10          py35_0  pkgs/main           \n",
      "conda                         4.5.10          py35_1  conda-forge         \n",
      "conda                         4.5.10          py36_0  conda-forge         \n",
      "conda                         4.5.10          py36_0  pkgs/main           \n",
      "conda                         4.5.10          py36_1  conda-forge         \n",
      "conda                         4.5.10          py37_0  pkgs/main           \n",
      "conda                         4.5.11          py27_0  conda-forge         \n",
      "conda                         4.5.11          py27_0  pkgs/main           \n",
      "conda                         4.5.11       py27_1000  conda-forge         \n",
      "conda                         4.5.11          py35_0  conda-forge         \n",
      "conda                         4.5.11          py35_0  pkgs/main           \n",
      "conda                         4.5.11          py36_0  conda-forge         \n",
      "conda                         4.5.11          py36_0  pkgs/main           \n",
      "conda                         4.5.11       py36_1000  conda-forge         \n",
      "conda                         4.5.11          py37_0  pkgs/main           \n",
      "conda                         4.5.11       py37_1000  conda-forge         \n",
      "conda                         4.5.12          py27_0  pkgs/main           \n",
      "conda                         4.5.12       py27_1000  conda-forge         \n",
      "conda                         4.5.12          py36_0  pkgs/main           \n",
      "conda                         4.5.12       py36_1000  conda-forge         \n",
      "conda                         4.5.12          py37_0  pkgs/main           \n",
      "conda                         4.5.12       py37_1000  conda-forge         \n",
      "conda                         4.5.13          py27_0  pkgs/main           \n",
      "conda                         4.5.13          py36_0  pkgs/main           \n",
      "conda                         4.5.13          py37_0  pkgs/main           \n",
      "conda                          4.6.1          py27_0  conda-forge         \n",
      "conda                          4.6.1          py27_0  pkgs/main           \n",
      "conda                          4.6.1          py36_0  conda-forge         \n",
      "conda                          4.6.1          py36_0  pkgs/main           \n",
      "conda                          4.6.1          py37_0  conda-forge         \n",
      "conda                          4.6.1          py37_0  pkgs/main           \n",
      "conda                          4.6.2          py27_0  conda-forge         \n",
      "conda                          4.6.2          py27_0  pkgs/main           \n",
      "conda                          4.6.2          py36_0  conda-forge         \n",
      "conda                          4.6.2          py36_0  pkgs/main           \n",
      "conda                          4.6.2          py37_0  conda-forge         \n",
      "conda                          4.6.2          py37_0  pkgs/main           \n",
      "conda                          4.6.3          py27_0  conda-forge         \n",
      "conda                          4.6.3          py27_0  pkgs/main           \n",
      "conda                          4.6.3          py36_0  conda-forge         \n",
      "conda                          4.6.3          py36_0  pkgs/main           \n",
      "conda                          4.6.3          py37_0  conda-forge         \n",
      "conda                          4.6.3          py37_0  pkgs/main           \n",
      "conda                          4.6.4          py27_0  pkgs/main           \n",
      "conda                          4.6.4          py36_0  pkgs/main           \n",
      "conda                          4.6.4          py37_0  pkgs/main           \n",
      "conda                          4.6.6          py27_0  conda-forge         \n",
      "conda                          4.6.6          py36_0  conda-forge         \n",
      "conda                          4.6.6          py37_0  conda-forge         \n",
      "conda                          4.6.7          py27_0  conda-forge         \n",
      "conda                          4.6.7          py27_0  pkgs/main           \n",
      "conda                          4.6.7          py36_0  conda-forge         \n",
      "conda                          4.6.7          py36_0  pkgs/main           \n",
      "conda                          4.6.7          py37_0  conda-forge         \n",
      "conda                          4.6.7          py37_0  pkgs/main           \n",
      "conda                          4.6.8          py27_0  conda-forge         \n",
      "conda                          4.6.8          py27_0  pkgs/main           \n",
      "conda                          4.6.8          py36_0  conda-forge         \n",
      "conda                          4.6.8          py36_0  pkgs/main           \n",
      "conda                          4.6.8          py37_0  conda-forge         \n",
      "conda                          4.6.8          py37_0  pkgs/main           \n",
      "conda                          4.6.9          py27_0  conda-forge         \n",
      "conda                          4.6.9          py27_0  pkgs/main           \n",
      "conda                          4.6.9          py36_0  conda-forge         \n",
      "conda                          4.6.9          py36_0  pkgs/main           \n",
      "conda                          4.6.9          py37_0  conda-forge         \n",
      "conda                          4.6.9          py37_0  pkgs/main           \n",
      "conda                         4.6.10          py27_0  conda-forge         \n",
      "conda                         4.6.10          py36_0  conda-forge         \n",
      "conda                         4.6.10          py37_0  conda-forge         \n",
      "conda                         4.6.11          py27_0  conda-forge         \n",
      "conda                         4.6.11          py27_0  pkgs/main           \n",
      "conda                         4.6.11          py36_0  conda-forge         \n",
      "conda                         4.6.11          py36_0  pkgs/main           \n",
      "conda                         4.6.11          py37_0  conda-forge         \n",
      "conda                         4.6.11          py37_0  pkgs/main           \n",
      "conda                         4.6.12          py27_0  conda-forge         \n",
      "conda                         4.6.12          py27_1  pkgs/main           \n",
      "conda                         4.6.12          py27_2  conda-forge         \n",
      "conda                         4.6.12          py36_0  conda-forge         \n",
      "conda                         4.6.12          py36_1  pkgs/main           \n",
      "conda                         4.6.12          py36_2  conda-forge         \n",
      "conda                         4.6.12          py37_0  conda-forge         \n",
      "conda                         4.6.12          py37_1  pkgs/main           \n",
      "conda                         4.6.12          py37_2  conda-forge         \n",
      "conda                         4.6.13          py27_0  conda-forge         \n",
      "conda                         4.6.13          py36_0  conda-forge         \n",
      "conda                         4.6.13          py37_0  conda-forge         \n",
      "conda                         4.6.14          py27_0  conda-forge         \n",
      "conda                         4.6.14          py27_0  pkgs/main           \n",
      "conda                         4.6.14          py36_0  conda-forge         \n",
      "conda                         4.6.14          py36_0  pkgs/main           \n",
      "conda                         4.6.14          py37_0  conda-forge         \n",
      "conda                         4.6.14          py37_0  pkgs/main           \n",
      "conda                          4.7.5          py27_0  conda-forge         \n",
      "conda                          4.7.5          py27_0  pkgs/main           \n",
      "conda                          4.7.5          py36_0  conda-forge         \n",
      "conda                          4.7.5          py36_0  pkgs/main           \n",
      "conda                          4.7.5          py37_0  conda-forge         \n",
      "conda                          4.7.5          py37_0  pkgs/main           \n",
      "conda                          4.7.8          py27_0  conda-forge         \n",
      "conda                          4.7.8          py27_0  pkgs/main           \n",
      "conda                          4.7.8          py36_0  conda-forge         \n",
      "conda                          4.7.8          py36_0  pkgs/main           \n",
      "conda                          4.7.8          py37_0  conda-forge         \n",
      "conda                          4.7.8          py37_0  pkgs/main           \n",
      "conda                          4.7.9          py27_0  conda-forge         \n",
      "conda                          4.7.9          py27_0  pkgs/main           \n",
      "conda                          4.7.9          py36_0  conda-forge         \n",
      "conda                          4.7.9          py36_0  pkgs/main           \n",
      "conda                          4.7.9          py37_0  conda-forge         \n",
      "conda                          4.7.9          py37_0  pkgs/main           \n",
      "conda                         4.7.10          py27_0  conda-forge         \n",
      "conda                         4.7.10          py27_0  pkgs/main           \n",
      "conda                         4.7.10          py36_0  conda-forge         \n",
      "conda                         4.7.10          py36_0  pkgs/main           \n",
      "conda                         4.7.10          py37_0  conda-forge         \n",
      "conda                         4.7.10          py37_0  pkgs/main           \n",
      "conda                         4.7.11          py27_0  conda-forge         \n",
      "conda                         4.7.11          py27_0  pkgs/main           \n",
      "conda                         4.7.11          py36_0  conda-forge         \n",
      "conda                         4.7.11          py36_0  pkgs/main           \n",
      "conda                         4.7.11          py37_0  conda-forge         \n",
      "conda                         4.7.11          py37_0  pkgs/main           \n",
      "conda                         4.7.12          py27_0  conda-forge         \n",
      "conda                         4.7.12          py27_0  pkgs/main           \n",
      "conda                         4.7.12          py27_1  conda-forge         \n",
      "conda                         4.7.12          py36_0  conda-forge         \n",
      "conda                         4.7.12          py36_0  pkgs/main           \n",
      "conda                         4.7.12          py36_1  conda-forge         \n",
      "conda                         4.7.12          py37_0  conda-forge         \n",
      "conda                         4.7.12          py37_0  pkgs/main           \n",
      "conda                         4.7.12          py37_1  conda-forge         \n",
      "conda                         4.7.12          py38_0  conda-forge         \n",
      "conda                         4.7.12          py38_1  conda-forge         \n",
      "conda                          4.8.0          py27_0  conda-forge         \n",
      "conda                          4.8.0          py27_0  pkgs/main           \n",
      "conda                          4.8.0          py27_1  conda-forge         \n",
      "conda                          4.8.0          py27_1  pkgs/main           \n",
      "conda                          4.8.0          py36_0  conda-forge         \n",
      "conda                          4.8.0          py36_0  pkgs/main           \n",
      "conda                          4.8.0          py36_1  conda-forge         \n",
      "conda                          4.8.0          py36_1  pkgs/main           \n",
      "conda                          4.8.0          py37_0  conda-forge         \n",
      "conda                          4.8.0          py37_0  pkgs/main           \n",
      "conda                          4.8.0          py37_1  conda-forge         \n",
      "conda                          4.8.0          py37_1  pkgs/main           \n",
      "conda                          4.8.0          py38_0  conda-forge         \n",
      "conda                          4.8.0          py38_1  conda-forge         \n",
      "conda                          4.8.1          py27_0  pkgs/main           \n",
      "conda                          4.8.1          py36_0  pkgs/main           \n",
      "conda                          4.8.1          py37_0  pkgs/main           \n",
      "conda                          4.8.1          py38_0  pkgs/main           \n",
      "conda                          4.8.2          py27_0  conda-forge         \n",
      "conda                          4.8.2          py27_0  pkgs/main           \n",
      "conda                          4.8.2          py36_0  conda-forge         \n",
      "conda                          4.8.2          py36_0  pkgs/main           \n",
      "conda                          4.8.2          py37_0  conda-forge         \n",
      "conda                          4.8.2          py37_0  pkgs/main           \n",
      "conda                          4.8.2          py38_0  conda-forge         \n",
      "conda                          4.8.2          py38_0  pkgs/main           \n",
      "conda                          4.8.3          py27_0  pkgs/main           \n",
      "conda                          4.8.3  py27h8c360ce_0  conda-forge         \n",
      "conda                          4.8.3  py27h8c360ce_1  conda-forge         \n",
      "conda                          4.8.3          py36_0  pkgs/main           \n",
      "conda                          4.8.3  py36h9f0ad1d_0  conda-forge         \n",
      "conda                          4.8.3  py36h9f0ad1d_1  conda-forge         \n",
      "conda                          4.8.3          py37_0  pkgs/main           \n",
      "conda                          4.8.3  py37hc8dfbb8_0  conda-forge         \n",
      "conda                          4.8.3  py37hc8dfbb8_1  conda-forge         \n",
      "conda                          4.8.3          py38_0  pkgs/main           \n",
      "conda                          4.8.3  py38h32f6830_0  conda-forge         \n",
      "conda                          4.8.3  py38h32f6830_1  conda-forge         \n",
      "conda                          4.8.3  py38h32f6830_2  conda-forge         \n",
      "conda                          4.8.4          py36_0  pkgs/main           \n",
      "conda                          4.8.4  py36h9f0ad1d_0  conda-forge         \n",
      "conda                          4.8.4  py36h9f0ad1d_1  conda-forge         \n",
      "conda                          4.8.4  py36h9f0ad1d_2  conda-forge         \n",
      "conda                          4.8.4          py37_0  pkgs/main           \n",
      "conda                          4.8.4  py37hc8dfbb8_0  conda-forge         \n",
      "conda                          4.8.4  py37hc8dfbb8_1  conda-forge         \n",
      "conda                          4.8.4  py37hc8dfbb8_2  conda-forge         \n",
      "conda                          4.8.4          py38_0  pkgs/main           \n",
      "conda                          4.8.4  py38h32f6830_0  conda-forge         \n",
      "conda                          4.8.4  py38h32f6830_1  conda-forge         \n",
      "conda                          4.8.4  py38h32f6830_2  conda-forge         \n",
      "conda                          4.8.5          py36_0  pkgs/main           \n",
      "conda                          4.8.5  py36h9f0ad1d_0  conda-forge         \n",
      "conda                          4.8.5  py36h9f0ad1d_1  conda-forge         \n",
      "conda                          4.8.5  py36hd36e781_2  conda-forge         \n",
      "conda                          4.8.5  py36hd36e781_3  conda-forge         \n",
      "conda                          4.8.5          py37_0  pkgs/main           \n",
      "conda                          4.8.5  py37hc8dfbb8_0  conda-forge         \n",
      "conda                          4.8.5  py37hc8dfbb8_1  conda-forge         \n",
      "conda                          4.8.5  py37hf50a25e_2  conda-forge         \n",
      "conda                          4.8.5  py37hf50a25e_3  conda-forge         \n",
      "conda                          4.8.5          py38_0  pkgs/main           \n",
      "conda                          4.8.5  py38h32f6830_0  conda-forge         \n",
      "conda                          4.8.5  py38h32f6830_1  conda-forge         \n",
      "conda                          4.8.5  py38h9bdc248_2  conda-forge         \n",
      "conda                          4.8.5  py38h9bdc248_3  conda-forge         \n",
      "conda                          4.8.5  py39h467e6f4_3  conda-forge         \n",
      "conda                          4.9.0          py36_0  pkgs/main           \n",
      "conda                          4.9.0  py36hd36e781_0  conda-forge         \n",
      "conda                          4.9.0  py36hd36e781_1  conda-forge         \n",
      "conda                          4.9.0          py37_0  pkgs/main           \n",
      "conda                          4.9.0  py37hf50a25e_0  conda-forge         \n",
      "conda                          4.9.0  py37hf50a25e_1  conda-forge         \n",
      "conda                          4.9.0          py38_0  pkgs/main           \n",
      "conda                          4.9.0  py38h9bdc248_0  conda-forge         \n",
      "conda                          4.9.0  py38h9bdc248_1  conda-forge         \n",
      "conda                          4.9.0  py39h467e6f4_0  conda-forge         \n",
      "conda                          4.9.0  py39h467e6f4_1  conda-forge         \n",
      "conda                          4.9.1  py36ha15d459_0  conda-forge         \n",
      "conda                          4.9.1  py36haa95532_0  pkgs/main           \n",
      "conda                          4.9.1  py37h03978a9_0  conda-forge         \n",
      "conda                          4.9.1  py37haa95532_0  pkgs/main           \n",
      "conda                          4.9.1  py38haa244fe_0  conda-forge         \n",
      "conda                          4.9.1  py38haa95532_0  pkgs/main           \n",
      "conda                          4.9.1  py39hcbf5309_0  conda-forge         \n",
      "conda                          4.9.2  py36ha15d459_0  conda-forge         \n",
      "conda                          4.9.2  py36haa95532_0  pkgs/main           \n",
      "conda                          4.9.2  py37h03978a9_0  conda-forge         \n",
      "conda                          4.9.2  py37haa95532_0  pkgs/main           \n",
      "conda                          4.9.2  py38haa244fe_0  conda-forge         \n",
      "conda                          4.9.2  py38haa95532_0  pkgs/main           \n",
      "conda                          4.9.2  py39haa95532_0  pkgs/main           \n",
      "conda                          4.9.2  py39hcbf5309_0  conda-forge         \n",
      "conda                         4.10.0  py36ha15d459_0  conda-forge         \n",
      "conda                         4.10.0  py36ha15d459_1  conda-forge         \n",
      "conda                         4.10.0  py36haa95532_0  pkgs/main           \n",
      "conda                         4.10.0  py37h03978a9_0  conda-forge         \n",
      "conda                         4.10.0  py37h03978a9_1  conda-forge         \n",
      "conda                         4.10.0  py37haa95532_0  pkgs/main           \n",
      "conda                         4.10.0  py38haa244fe_0  conda-forge         \n",
      "conda                         4.10.0  py38haa244fe_1  conda-forge         \n",
      "conda                         4.10.0  py38haa95532_0  pkgs/main           \n",
      "conda                         4.10.0  py39haa95532_0  pkgs/main           \n",
      "conda                         4.10.0  py39hcbf5309_0  conda-forge         \n",
      "conda                         4.10.0  py39hcbf5309_1  conda-forge         \n",
      "conda                         4.10.1  py36ha15d459_0  conda-forge         \n",
      "conda                         4.10.1  py36haa95532_1  pkgs/main           \n",
      "conda                         4.10.1  py37h03978a9_0  conda-forge         \n",
      "conda                         4.10.1  py37haa95532_1  pkgs/main           \n",
      "conda                         4.10.1  py38haa244fe_0  conda-forge         \n",
      "conda                         4.10.1  py38haa95532_1  pkgs/main           \n",
      "conda                         4.10.1  py39haa95532_1  pkgs/main           \n",
      "conda                         4.10.1  py39hcbf5309_0  conda-forge         \n",
      "conda                         4.10.2  py36ha15d459_0  conda-forge         \n",
      "conda                         4.10.2  py37h03978a9_0  conda-forge         \n",
      "conda                         4.10.2  py38haa244fe_0  conda-forge         \n",
      "conda                         4.10.2  py39hcbf5309_0  conda-forge         \n",
      "conda                         4.10.3 py310h5588dad_4  conda-forge         \n",
      "conda                         4.10.3 py310haa95532_0  pkgs/main           \n",
      "conda                         4.10.3  py36ha15d459_0  conda-forge         \n",
      "conda                         4.10.3  py36ha15d459_1  conda-forge         \n",
      "conda                         4.10.3  py36ha15d459_2  conda-forge         \n",
      "conda                         4.10.3  py36haa95532_0  pkgs/main           \n",
      "conda                         4.10.3  py37h03978a9_0  conda-forge         \n",
      "conda                         4.10.3  py37h03978a9_1  conda-forge         \n",
      "conda                         4.10.3  py37h03978a9_2  conda-forge         \n",
      "conda                         4.10.3  py37h03978a9_3  conda-forge         \n",
      "conda                         4.10.3  py37h03978a9_4  conda-forge         \n",
      "conda                         4.10.3  py37haa95532_0  pkgs/main           \n",
      "conda                         4.10.3  py38haa244fe_0  conda-forge         \n",
      "conda                         4.10.3  py38haa244fe_1  conda-forge         \n",
      "conda                         4.10.3  py38haa244fe_2  conda-forge         \n",
      "conda                         4.10.3  py38haa244fe_3  conda-forge         \n",
      "conda                         4.10.3  py38haa244fe_4  conda-forge         \n",
      "conda                         4.10.3  py38haa95532_0  pkgs/main           \n",
      "conda                         4.10.3  py39haa95532_0  pkgs/main           \n",
      "conda                         4.10.3  py39hcbf5309_0  conda-forge         \n",
      "conda                         4.10.3  py39hcbf5309_1  conda-forge         \n",
      "conda                         4.10.3  py39hcbf5309_2  conda-forge         \n",
      "conda                         4.10.3  py39hcbf5309_3  conda-forge         \n",
      "conda                         4.10.3  py39hcbf5309_4  conda-forge         \n",
      "conda                         4.11.0 py310h5588dad_0  conda-forge         \n",
      "conda                         4.11.0 py310h5588dad_1  conda-forge         \n",
      "conda                         4.11.0 py310h5588dad_2  conda-forge         \n",
      "conda                         4.11.0  py37h03978a9_0  conda-forge         \n",
      "conda                         4.11.0  py37h03978a9_1  conda-forge         \n",
      "conda                         4.11.0  py37h03978a9_2  conda-forge         \n",
      "conda                         4.11.0  py37haa95532_0  pkgs/main           \n",
      "conda                         4.11.0  py38haa244fe_0  conda-forge         \n",
      "conda                         4.11.0  py38haa244fe_1  conda-forge         \n",
      "conda                         4.11.0  py38haa244fe_2  conda-forge         \n",
      "conda                         4.11.0  py38haa95532_0  pkgs/main           \n",
      "conda                         4.11.0  py39haa95532_0  pkgs/main           \n",
      "conda                         4.11.0  py39hcbf5309_0  conda-forge         \n",
      "conda                         4.11.0  py39hcbf5309_1  conda-forge         \n",
      "conda                         4.11.0  py39hcbf5309_2  conda-forge         \n",
      "conda                         4.12.0 py310h5588dad_0  conda-forge         \n",
      "conda                         4.12.0 py310haa95532_0  pkgs/main           \n",
      "conda                         4.12.0  py37h03978a9_0  conda-forge         \n",
      "conda                         4.12.0  py37haa95532_0  pkgs/main           \n",
      "conda                         4.12.0  py38haa244fe_0  conda-forge         \n",
      "conda                         4.12.0  py38haa95532_0  pkgs/main           \n",
      "conda                         4.12.0  py39haa95532_0  pkgs/main           \n",
      "conda                         4.12.0  py39hcbf5309_0  conda-forge         \n",
      "conda                         4.13.0 py310h5588dad_1  conda-forge         \n",
      "conda                         4.13.0 py310h5588dad_2  conda-forge         \n",
      "conda                         4.13.0 py310haa95532_0  pkgs/main           \n",
      "conda                         4.13.0  py37h03978a9_1  conda-forge         \n",
      "conda                         4.13.0  py37haa95532_0  pkgs/main           \n",
      "conda                         4.13.0  py38haa244fe_1  conda-forge         \n",
      "conda                         4.13.0  py38haa244fe_2  conda-forge         \n",
      "conda                         4.13.0  py38haa95532_0  pkgs/main           \n",
      "conda                         4.13.0  py39haa95532_0  pkgs/main           \n",
      "conda                         4.13.0  py39hcbf5309_1  conda-forge         \n",
      "conda                         4.13.0  py39hcbf5309_2  conda-forge         \n",
      "conda                         4.14.0 py310h5588dad_0  conda-forge         \n",
      "conda                         4.14.0 py310haa95532_0  pkgs/main           \n",
      "conda                         4.14.0  py37h03978a9_0  conda-forge         \n",
      "conda                         4.14.0  py37haa95532_0  pkgs/main           \n",
      "conda                         4.14.0  py38h32ec214_0  conda-forge         \n",
      "conda                         4.14.0  py38haa244fe_0  conda-forge         \n",
      "conda                         4.14.0  py38haa95532_0  pkgs/main           \n",
      "conda                         4.14.0  py39h0d475fb_0  conda-forge         \n",
      "conda                         4.14.0  py39haa95532_0  pkgs/main           \n",
      "conda                         4.14.0  py39hcbf5309_0  conda-forge         \n",
      "conda                         22.9.0 py310h5588dad_0  conda-forge         \n",
      "conda                         22.9.0 py310h5588dad_1  conda-forge         \n",
      "conda                         22.9.0 py310h5588dad_2  conda-forge         \n",
      "conda                         22.9.0 py310haa95532_0  pkgs/main           \n",
      "conda                         22.9.0 py311h1ea47a8_2  conda-forge         \n",
      "conda                         22.9.0  py37h03978a9_0  conda-forge         \n",
      "conda                         22.9.0  py37h03978a9_1  conda-forge         \n",
      "conda                         22.9.0  py37haa95532_0  pkgs/main           \n",
      "conda                         22.9.0  py38h32ec214_0  conda-forge         \n",
      "conda                         22.9.0  py38h32ec214_1  conda-forge         \n",
      "conda                         22.9.0  py38h32ec214_2  conda-forge         \n",
      "conda                         22.9.0  py38haa244fe_0  conda-forge         \n",
      "conda                         22.9.0  py38haa244fe_1  conda-forge         \n",
      "conda                         22.9.0  py38haa244fe_2  conda-forge         \n",
      "conda                         22.9.0  py38haa95532_0  pkgs/main           \n",
      "conda                         22.9.0  py39h0d475fb_0  conda-forge         \n",
      "conda                         22.9.0  py39h0d475fb_1  conda-forge         \n",
      "conda                         22.9.0  py39h0d475fb_2  conda-forge         \n",
      "conda                         22.9.0  py39haa95532_0  pkgs/main           \n",
      "conda                         22.9.0  py39hcbf5309_0  conda-forge         \n",
      "conda                         22.9.0  py39hcbf5309_1  conda-forge         \n",
      "conda                         22.9.0  py39hcbf5309_2  conda-forge         \n",
      "conda                        22.11.0 py310haa95532_0  pkgs/main           \n",
      "conda                        22.11.0 py310haa95532_1  pkgs/main           \n",
      "conda                        22.11.0  py37haa95532_0  pkgs/main           \n",
      "conda                        22.11.0  py37haa95532_1  pkgs/main           \n",
      "conda                        22.11.0  py38haa95532_0  pkgs/main           \n",
      "conda                        22.11.0  py38haa95532_1  pkgs/main           \n",
      "conda                        22.11.0  py39haa95532_0  pkgs/main           \n",
      "conda                        22.11.0  py39haa95532_1  pkgs/main           \n",
      "conda                        22.11.1 py310h5588dad_0  conda-forge         \n",
      "conda                        22.11.1 py310h5588dad_1  conda-forge         \n",
      "conda                        22.11.1 py310haa95532_1  pkgs/main           \n",
      "conda                        22.11.1 py310haa95532_2  pkgs/main           \n",
      "conda                        22.11.1 py310haa95532_3  pkgs/main           \n",
      "conda                        22.11.1 py310haa95532_4  pkgs/main           \n",
      "conda                        22.11.1 py310haa95532_5  pkgs/main           \n",
      "conda                        22.11.1 py311h1ea47a8_0  conda-forge         \n",
      "conda                        22.11.1 py311h1ea47a8_1  conda-forge         \n",
      "conda                        22.11.1 py311haa95532_5  pkgs/main           \n",
      "conda                        22.11.1  py37haa95532_1  pkgs/main           \n",
      "conda                        22.11.1  py37haa95532_2  pkgs/main           \n",
      "conda                        22.11.1  py37haa95532_3  pkgs/main           \n",
      "conda                        22.11.1  py37haa95532_4  pkgs/main           \n",
      "conda                        22.11.1  py38h32ec214_0  conda-forge         \n",
      "conda                        22.11.1  py38h32ec214_1  conda-forge         \n",
      "conda                        22.11.1  py38haa244fe_0  conda-forge         \n",
      "conda                        22.11.1  py38haa244fe_1  conda-forge         \n",
      "conda                        22.11.1  py38haa95532_1  pkgs/main           \n",
      "conda                        22.11.1  py38haa95532_2  pkgs/main           \n",
      "conda                        22.11.1  py38haa95532_3  pkgs/main           \n",
      "conda                        22.11.1  py38haa95532_4  pkgs/main           \n",
      "conda                        22.11.1  py38haa95532_5  pkgs/main           \n",
      "conda                        22.11.1  py39h0d475fb_0  conda-forge         \n",
      "conda                        22.11.1  py39h0d475fb_1  conda-forge         \n",
      "conda                        22.11.1  py39haa95532_1  pkgs/main           \n",
      "conda                        22.11.1  py39haa95532_2  pkgs/main           \n",
      "conda                        22.11.1  py39haa95532_3  pkgs/main           \n",
      "conda                        22.11.1  py39haa95532_4  pkgs/main           \n",
      "conda                        22.11.1  py39haa95532_5  pkgs/main           \n",
      "conda                        22.11.1  py39hcbf5309_0  conda-forge         \n",
      "conda                        22.11.1  py39hcbf5309_1  conda-forge         \n",
      "conda                         23.1.0 py310h5588dad_0  conda-forge         \n",
      "conda                         23.1.0 py310haa95532_0  pkgs/main           \n",
      "conda                         23.1.0 py311h1ea47a8_0  conda-forge         \n",
      "conda                         23.1.0 py311haa95532_0  pkgs/main           \n",
      "conda                         23.1.0  py37haa95532_0  pkgs/main           \n",
      "conda                         23.1.0  py38h32ec214_0  conda-forge         \n",
      "conda                         23.1.0  py38haa244fe_0  conda-forge         \n",
      "conda                         23.1.0  py38haa95532_0  pkgs/main           \n",
      "conda                         23.1.0  py39h0d475fb_0  conda-forge         \n",
      "conda                         23.1.0  py39haa95532_0  pkgs/main           \n",
      "conda                         23.1.0  py39hcbf5309_0  conda-forge         \n",
      "conda                         23.3.0 py310h5588dad_0  conda-forge         \n",
      "conda                         23.3.0 py310haa95532_0  pkgs/main           \n",
      "conda                         23.3.0 py311h1ea47a8_0  conda-forge         \n",
      "conda                         23.3.0 py311haa95532_0  pkgs/main           \n",
      "conda                         23.3.0  py38h32ec214_0  conda-forge         \n",
      "conda                         23.3.0  py38haa244fe_0  conda-forge         \n",
      "conda                         23.3.0  py38haa95532_0  pkgs/main           \n",
      "conda                         23.3.0  py39h0d475fb_0  conda-forge         \n",
      "conda                         23.3.0  py39haa95532_0  pkgs/main           \n",
      "conda                         23.3.0  py39hcbf5309_0  conda-forge         \n",
      "conda                         23.3.1 py310h5588dad_0  conda-forge         \n",
      "conda                         23.3.1 py310haa95532_0  pkgs/main           \n",
      "conda                         23.3.1 py311h1ea47a8_0  conda-forge         \n",
      "conda                         23.3.1 py311haa95532_0  pkgs/main           \n",
      "conda                         23.3.1  py38h32ec214_0  conda-forge         \n",
      "conda                         23.3.1  py38haa244fe_0  conda-forge         \n",
      "conda                         23.3.1  py38haa95532_0  pkgs/main           \n",
      "conda                         23.3.1  py39h0d475fb_0  conda-forge         \n",
      "conda                         23.3.1  py39haa95532_0  pkgs/main           \n",
      "conda                         23.3.1  py39hcbf5309_0  conda-forge         \n",
      "conda                         23.5.0 py310h5588dad_0  conda-forge         \n",
      "conda                         23.5.0 py310h5588dad_1  conda-forge         \n",
      "conda                         23.5.0 py310haa95532_0  pkgs/main           \n",
      "conda                         23.5.0 py311h1ea47a8_0  conda-forge         \n",
      "conda                         23.5.0 py311h1ea47a8_1  conda-forge         \n",
      "conda                         23.5.0 py311haa95532_0  pkgs/main           \n",
      "conda                         23.5.0  py38h32ec214_0  conda-forge         \n",
      "conda                         23.5.0  py38h32ec214_1  conda-forge         \n",
      "conda                         23.5.0  py38haa244fe_0  conda-forge         \n",
      "conda                         23.5.0  py38haa244fe_1  conda-forge         \n",
      "conda                         23.5.0  py38haa95532_0  pkgs/main           \n",
      "conda                         23.5.0  py39h0d475fb_0  conda-forge         \n",
      "conda                         23.5.0  py39h0d475fb_1  conda-forge         \n",
      "conda                         23.5.0  py39haa95532_0  pkgs/main           \n",
      "conda                         23.5.0  py39hcbf5309_0  conda-forge         \n",
      "conda                         23.5.0  py39hcbf5309_1  conda-forge         \n",
      "conda                         23.5.1 py310haa95532_0  pkgs/main           \n",
      "conda                         23.5.1 py311haa95532_0  pkgs/main           \n",
      "conda                         23.5.1  py38haa95532_0  pkgs/main           \n",
      "conda                         23.5.1  py39haa95532_0  pkgs/main           \n",
      "conda                         23.5.2 py310h5588dad_0  conda-forge         \n",
      "conda                         23.5.2 py310haa95532_0  pkgs/main           \n",
      "conda                         23.5.2 py311h1ea47a8_0  conda-forge         \n",
      "conda                         23.5.2 py311haa95532_0  pkgs/main           \n",
      "conda                         23.5.2  py38h32ec214_0  conda-forge         \n",
      "conda                         23.5.2  py38haa244fe_0  conda-forge         \n",
      "conda                         23.5.2  py38haa95532_0  pkgs/main           \n",
      "conda                         23.5.2  py39h0d475fb_0  conda-forge         \n",
      "conda                         23.5.2  py39haa95532_0  pkgs/main           \n",
      "conda                         23.5.2  py39hcbf5309_0  conda-forge         \n",
      "conda                         23.7.0 py310haa95532_0  pkgs/main           \n",
      "conda                         23.7.0 py311haa95532_0  pkgs/main           \n",
      "conda                         23.7.0  py38haa95532_0  pkgs/main           \n",
      "conda                         23.7.0  py39haa95532_0  pkgs/main           \n",
      "conda                         23.7.1 py310h5588dad_0  conda-forge         \n",
      "conda                         23.7.1 py310haa95532_0  pkgs/main           \n",
      "conda                         23.7.1 py311h1ea47a8_0  conda-forge         \n",
      "conda                         23.7.1 py311haa95532_0  pkgs/main           \n",
      "conda                         23.7.1  py38h32ec214_0  conda-forge         \n",
      "conda                         23.7.1  py38haa244fe_0  conda-forge         \n",
      "conda                         23.7.1  py38haa95532_0  pkgs/main           \n",
      "conda                         23.7.1  py39h0d475fb_0  conda-forge         \n",
      "conda                         23.7.1  py39haa95532_0  pkgs/main           \n",
      "conda                         23.7.1  py39hcbf5309_0  conda-forge         \n",
      "conda                         23.7.2 py310h5588dad_0  conda-forge         \n",
      "conda                         23.7.2 py310haa95532_0  pkgs/main           \n",
      "conda                         23.7.2 py311h1ea47a8_0  conda-forge         \n",
      "conda                         23.7.2 py311haa95532_0  pkgs/main           \n",
      "conda                         23.7.2  py38h32ec214_0  conda-forge         \n",
      "conda                         23.7.2  py38haa244fe_0  conda-forge         \n",
      "conda                         23.7.2  py38haa95532_0  pkgs/main           \n",
      "conda                         23.7.2  py39h0d475fb_0  conda-forge         \n",
      "conda                         23.7.2  py39haa95532_0  pkgs/main           \n",
      "conda                         23.7.2  py39hcbf5309_0  conda-forge         \n",
      "conda                         23.7.3 py310h5588dad_0  conda-forge         \n",
      "conda                         23.7.3 py310haa95532_0  pkgs/main           \n",
      "conda                         23.7.3 py311h1ea47a8_0  conda-forge         \n",
      "conda                         23.7.3 py311haa95532_0  pkgs/main           \n",
      "conda                         23.7.3  py38h32ec214_0  conda-forge         \n",
      "conda                         23.7.3  py38haa244fe_0  conda-forge         \n",
      "conda                         23.7.3  py38haa95532_0  pkgs/main           \n",
      "conda                         23.7.3  py39h0d475fb_0  conda-forge         \n",
      "conda                         23.7.3  py39haa95532_0  pkgs/main           \n",
      "conda                         23.7.3  py39hcbf5309_0  conda-forge         \n",
      "conda                         23.7.4 py310h5588dad_0  conda-forge         \n",
      "conda                         23.7.4 py310haa95532_0  pkgs/main           \n",
      "conda                         23.7.4 py311h1ea47a8_0  conda-forge         \n",
      "conda                         23.7.4 py311haa95532_0  pkgs/main           \n",
      "conda                         23.7.4  py38haa244fe_0  conda-forge         \n",
      "conda                         23.7.4  py38haa95532_0  pkgs/main           \n",
      "conda                         23.7.4  py39h0d475fb_0  conda-forge         \n",
      "conda                         23.7.4  py39haa95532_0  pkgs/main           \n",
      "conda                         23.7.4  py39hcbf5309_0  conda-forge         \n"
     ]
    },
    {
     "name": "stdout",
     "output_type": "stream",
     "text": [
      "\n",
      "Note: you may need to restart the kernel to use updated packages.\n"
     ]
    }
   ],
   "source": [
    "conda --version"
   ]
  },
  {
   "cell_type": "code",
   "execution_count": 5,
   "metadata": {
    "vscode": {
     "languageId": "powershell"
    }
   },
   "outputs": [],
   "source": [
    "conda search conda"
   ]
  },
  {
   "cell_type": "code",
   "execution_count": 6,
   "metadata": {
    "vscode": {
     "languageId": "powershell"
    }
   },
   "outputs": [
    {
     "name": "stdout",
     "output_type": "stream",
     "text": [
      "\n",
      "Note: you may need to restart the kernel to use updated packages.\n"
     ]
    }
   ],
   "source": [
    "conda update conda"
   ]
  },
  {
   "cell_type": "markdown",
   "metadata": {},
   "source": [
    "### python"
   ]
  },
  {
   "cell_type": "code",
   "execution_count": 3,
   "metadata": {
    "vscode": {
     "languageId": "powershell"
    }
   },
   "outputs": [
    {
     "name": "stdout",
     "output_type": "stream",
     "text": [
      "\n",
      "Note: you may need to restart the kernel to use updated packages.\n"
     ]
    }
   ],
   "source": [
    "conda search python"
   ]
  },
  {
   "cell_type": "code",
   "execution_count": 8,
   "metadata": {
    "vscode": {
     "languageId": "powershell"
    }
   },
   "outputs": [
    {
     "name": "stdout",
     "output_type": "stream",
     "text": [
      "\n",
      "Note: you may need to restart the kernel to use updated packages.\n"
     ]
    },
    {
     "name": "stderr",
     "output_type": "stream",
     "text": [
      "���� ������ �ùٸ��� �ʽ��ϴ�.\n"
     ]
    }
   ],
   "source": [
    "conda activate <EnvName>"
   ]
  },
  {
   "cell_type": "code",
   "execution_count": 9,
   "metadata": {
    "vscode": {
     "languageId": "powershell"
    }
   },
   "outputs": [
    {
     "name": "stdout",
     "output_type": "stream",
     "text": [
      "\n",
      "Note: you may need to restart the kernel to use updated packages.\n"
     ]
    }
   ],
   "source": [
    "conda install python=3.11"
   ]
  },
  {
   "attachments": {},
   "cell_type": "markdown",
   "metadata": {},
   "source": [
    "## env"
   ]
  },
  {
   "cell_type": "code",
   "execution_count": 4,
   "metadata": {
    "vscode": {
     "languageId": "powershell"
    }
   },
   "outputs": [
    {
     "name": "stdout",
     "output_type": "stream",
     "text": [
      "\n",
      "Note: you may need to restart the kernel to use updated packages.\n"
     ]
    }
   ],
   "source": [
    "conda env list"
   ]
  },
  {
   "cell_type": "code",
   "execution_count": 11,
   "metadata": {
    "vscode": {
     "languageId": "powershell"
    }
   },
   "outputs": [
    {
     "name": "stdout",
     "output_type": "stream",
     "text": [
      "\n",
      "Note: you may need to restart the kernel to use updated packages.\n"
     ]
    }
   ],
   "source": [
    "conda info --envs"
   ]
  },
  {
   "attachments": {},
   "cell_type": "markdown",
   "metadata": {},
   "source": [
    "## create"
   ]
  },
  {
   "cell_type": "code",
   "execution_count": 12,
   "metadata": {
    "vscode": {
     "languageId": "powershell"
    }
   },
   "outputs": [
    {
     "name": "stdout",
     "output_type": "stream",
     "text": [
      "\n",
      "Note: you may need to restart the kernel to use updated packages.\n"
     ]
    }
   ],
   "source": [
    "conda search python"
   ]
  },
  {
   "cell_type": "code",
   "execution_count": 13,
   "metadata": {
    "vscode": {
     "languageId": "powershell"
    }
   },
   "outputs": [
    {
     "ename": "SyntaxError",
     "evalue": "invalid syntax (2166740519.py, line 2)",
     "output_type": "error",
     "traceback": [
      "\u001b[1;36m  Cell \u001b[1;32mIn[13], line 2\u001b[1;36m\u001b[0m\n\u001b[1;33m    conda create --name <EnvName> python=3.11.3\u001b[0m\n\u001b[1;37m          ^\u001b[0m\n\u001b[1;31mSyntaxError\u001b[0m\u001b[1;31m:\u001b[0m invalid syntax\n"
     ]
    }
   ],
   "source": [
    "# conda create --name <환경이름> [옵션] [패키지명] \n",
    "conda create --name <EnvName> python=3.11.3"
   ]
  },
  {
   "attachments": {},
   "cell_type": "markdown",
   "metadata": {},
   "source": [
    "## remove"
   ]
  },
  {
   "cell_type": "code",
   "execution_count": null,
   "metadata": {
    "vscode": {
     "languageId": "powershell"
    }
   },
   "outputs": [],
   "source": [
    "conda deactivate\n",
    "conda env list"
   ]
  },
  {
   "cell_type": "code",
   "execution_count": null,
   "metadata": {
    "vscode": {
     "languageId": "powershell"
    }
   },
   "outputs": [],
   "source": [
    "# conda env remove --name <envName> \n",
    "conda env remove --name exEnv "
   ]
  },
  {
   "cell_type": "code",
   "execution_count": null,
   "metadata": {
    "vscode": {
     "languageId": "bat"
    }
   },
   "outputs": [],
   "source": [
    "conda update conda -y"
   ]
  },
  {
   "cell_type": "code",
   "execution_count": null,
   "metadata": {
    "vscode": {
     "languageId": "bat"
    }
   },
   "outputs": [],
   "source": [
    "conda info --envs"
   ]
  },
  {
   "cell_type": "code",
   "execution_count": null,
   "metadata": {
    "vscode": {
     "languageId": "bat"
    }
   },
   "outputs": [],
   "source": [
    "conda info --envs <EnvName>"
   ]
  },
  {
   "cell_type": "code",
   "execution_count": null,
   "metadata": {
    "vscode": {
     "languageId": "bat"
    }
   },
   "outputs": [],
   "source": [
    "conda create --name <EnvName> python=3.11.3 -y"
   ]
  },
  {
   "cell_type": "code",
   "execution_count": null,
   "metadata": {
    "vscode": {
     "languageId": "bat"
    }
   },
   "outputs": [],
   "source": [
    "conda env remove --name <exEnvName> --yes"
   ]
  },
  {
   "cell_type": "code",
   "execution_count": null,
   "metadata": {
    "vscode": {
     "languageId": "bat"
    }
   },
   "outputs": [],
   "source": []
  }
 ],
 "metadata": {
  "kernelspec": {
   "display_name": "da",
   "language": "python",
   "name": "python3"
  },
  "language_info": {
   "codemirror_mode": {
    "name": "ipython",
    "version": 3
   },
   "file_extension": ".py",
   "mimetype": "text/x-python",
   "name": "python",
   "nbconvert_exporter": "python",
   "pygments_lexer": "ipython3",
   "version": "3.9.15"
  },
  "orig_nbformat": 4
 },
 "nbformat": 4,
 "nbformat_minor": 2
}
