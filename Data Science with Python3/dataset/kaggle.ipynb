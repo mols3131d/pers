{
 "cells": [
  {
   "cell_type": "code",
   "execution_count": null,
   "metadata": {},
   "outputs": [],
   "source": [
    "import os\n",
    "import zipfile\n",
    "import tempfile\n",
    "import pandas as pd\n",
    "from kaggle.api.kaggle_api_extended import KaggleApi\n",
    "\n",
    "Kaggle = {\"username\": \"mols3131d\", \"key\": \"32c562d73a6daa5657e24821159f2f50\"}\n",
    "os.environ[\"KAGGLE_USERNAME\"] = Kaggle[\"username\"]\n",
    "os.environ[\"KAGGLE_KEY\"] = Kaggle[\"key\"]\n",
    "\n",
    "api = KaggleApi()\n",
    "api.authenticate()\n",
    "\n",
    "\n",
    "# 임시 디렉토리 생성\n",
    "with tempfile.TemporaryDirectory() as temp_dir:\n",
    "    # 캐글에서 데이터셋 다운로드\n",
    "    api.dataset_download_files(\n",
    "        \"mittalvasu95/the-bread-basket\", path=temp_dir, unzip=False\n",
    "    )\n",
    "\n",
    "    # 임시 디렉토리 내의 모든 파일을 검사하여 압축 해제 또는 직접 읽기 시도\n",
    "    for filename in os.listdir(temp_dir):\n",
    "        file_path = os.path.join(temp_dir, filename)\n",
    "\n",
    "        if zipfile.is_zipfile(file_path):\n",
    "            # 파일이 zip 압축파일인 경우 압축 해제 후 읽기 시도\n",
    "            with zipfile.ZipFile(file_path, \"r\") as zip_ref:\n",
    "                zip_ref.extractall(temp_dir)\n",
    "\n",
    "                for unzipped_filename in zip_ref.namelist():\n",
    "                    unzipped_file_path = os.path.join(temp_dir, unzipped_filename)\n",
    "\n",
    "                    if unzipped_file_path.endswith(\".csv\"):\n",
    "                        df = pd.read_csv(unzipped_file_path)\n",
    "                        print(df.head())\n",
    "        else:\n",
    "            # 파일이 압축파일이 아닌 경우 바로 읽기 시도\n",
    "            if file_path.endswith(\".csv\"):\n",
    "                df = pd.read_csv(file_path)\n",
    "                print(df.head())\n"
   ]
  },
  {
   "cell_type": "code",
   "execution_count": 3,
   "metadata": {},
   "outputs": [
    {
     "ename": "AttributeError",
     "evalue": "module 'kaggle' has no attribute 'competitions'",
     "output_type": "error",
     "traceback": [
      "\u001b[1;31m---------------------------------------------------------------------------\u001b[0m",
      "\u001b[1;31mAttributeError\u001b[0m                            Traceback (most recent call last)",
      "\u001b[1;32mc:\\Google Drive sacer3qLikelionOrg\\내 드라이브\\path\\git\\pers\\Data Science with Python3\\dataset\\kaggle.ipynb 셀 2\u001b[0m line \u001b[0;36m7\n\u001b[0;32m      <a href='vscode-notebook-cell:/c%3A/Google%20Drive%20sacer3qLikelionOrg/%EB%82%B4%20%EB%93%9C%EB%9D%BC%EC%9D%B4%EB%B8%8C/path/git/pers/Data%20Science%20with%20Python3/dataset/kaggle.ipynb#W1sZmlsZQ%3D%3D?line=3'>4</a>\u001b[0m os\u001b[39m.\u001b[39menviron[\u001b[39m\"\u001b[39m\u001b[39mKAGGLE_USERNAME\u001b[39m\u001b[39m\"\u001b[39m] \u001b[39m=\u001b[39m Kaggle[\u001b[39m\"\u001b[39m\u001b[39musername\u001b[39m\u001b[39m\"\u001b[39m]\n\u001b[0;32m      <a href='vscode-notebook-cell:/c%3A/Google%20Drive%20sacer3qLikelionOrg/%EB%82%B4%20%EB%93%9C%EB%9D%BC%EC%9D%B4%EB%B8%8C/path/git/pers/Data%20Science%20with%20Python3/dataset/kaggle.ipynb#W1sZmlsZQ%3D%3D?line=4'>5</a>\u001b[0m os\u001b[39m.\u001b[39menviron[\u001b[39m\"\u001b[39m\u001b[39mKAGGLE_KEY\u001b[39m\u001b[39m\"\u001b[39m] \u001b[39m=\u001b[39m Kaggle[\u001b[39m\"\u001b[39m\u001b[39mkey\u001b[39m\u001b[39m\"\u001b[39m]\n\u001b[1;32m----> <a href='vscode-notebook-cell:/c%3A/Google%20Drive%20sacer3qLikelionOrg/%EB%82%B4%20%EB%93%9C%EB%9D%BC%EC%9D%B4%EB%B8%8C/path/git/pers/Data%20Science%20with%20Python3/dataset/kaggle.ipynb#W1sZmlsZQ%3D%3D?line=6'>7</a>\u001b[0m kaggle\u001b[39m.\u001b[39mcompetitions\u001b[39m.\u001b[39mdownload(\u001b[39m'\u001b[39m\u001b[39mtitanic\u001b[39m\u001b[39m'\u001b[39m)\n",
      "\u001b[1;31mAttributeError\u001b[0m: module 'kaggle' has no attribute 'competitions'"
     ]
    }
   ],
   "source": [
    "import kaggle\n",
    "\n",
    "Kaggle = {\"username\": \"mols3131d\", \"key\": \"32c562d73a6daa5657e24821159f2f50\"}\n",
    "os.environ[\"KAGGLE_USERNAME\"] = Kaggle[\"username\"]\n",
    "os.environ[\"KAGGLE_KEY\"] = Kaggle[\"key\"]\n",
    "\n",
    "kaggle.competitions.download('titanic')"
   ]
  },
  {
   "cell_type": "code",
   "execution_count": null,
   "metadata": {},
   "outputs": [],
   "source": []
  }
 ],
 "metadata": {
  "kernelspec": {
   "display_name": "da",
   "language": "python",
   "name": "python3"
  },
  "language_info": {
   "codemirror_mode": {
    "name": "ipython",
    "version": 3
   },
   "file_extension": ".py",
   "mimetype": "text/x-python",
   "name": "python",
   "nbconvert_exporter": "python",
   "pygments_lexer": "ipython3",
   "version": "3.11.3"
  }
 },
 "nbformat": 4,
 "nbformat_minor": 2
}
