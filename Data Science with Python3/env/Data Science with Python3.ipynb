{
 "cells": [
  {
   "attachments": {},
   "cell_type": "markdown",
   "metadata": {},
   "source": [
    "# Data Science with Python3\n",
    "\n",
    "데이터 분석, 데이터 과학에서 활용되는 파이썬 라이브러리 설치.\n",
    "\n",
    "텐서플로우와 파이토치와 같이 환경에 따라 설치방법이 다르고, 복잡한 경우는 제외함.\n"
   ]
  },
  {
   "attachments": {},
   "cell_type": "markdown",
   "metadata": {},
   "source": [
    "# pip\n"
   ]
  },
  {
   "cell_type": "code",
   "execution_count": null,
   "metadata": {
    "vscode": {
     "languageId": "shellscript"
    }
   },
   "outputs": [],
   "source": [
    "# # ipy\n",
    "# !pip install jupyter -y\n",
    "# !pip install nbconvert -y\n",
    "# !pip install import-ipynb\n",
    "\n",
    "# # dc\n",
    "# !pip install requests -y\n",
    "# !pip install beautifulsoup4 -y\n",
    "# !pip install selenium -y\n",
    "# !pip install opencv-python\n",
    "\n",
    "# # \n",
    "# !pip install black -y\n",
    "\n",
    "# #\n",
    "# !pip install numpy -y\n",
    "# !pip install scipy -y\n",
    "# !pip install pandas -y\n",
    "# !pip install statsmodels -y\n",
    "# #\n",
    "# !pip install matplotlib -y\n",
    "# !pip install koreanize-matplotlib\n",
    "# !pip install seaborn\n",
    "# !pip install plotly"
   ]
  },
  {
   "attachments": {},
   "cell_type": "markdown",
   "metadata": {},
   "source": [
    "# conda\n"
   ]
  },
  {
   "cell_type": "code",
   "execution_count": null,
   "metadata": {
    "vscode": {
     "languageId": "bat"
    }
   },
   "outputs": [],
   "source": [
    "# !conda install -n base ipykernel --update-deps --force-reinstall\n",
    "\n",
    "# conda\n",
    "\n",
    "# intaller\n",
    "!conda update conda -y\n",
    "!conda update pip -y\n",
    "\n",
    "# py\n",
    "!conda install -c conda-forge black -y\n",
    "!conda install -c conda-forge tqdm - y\n",
    "\n",
    "# ipy\n",
    "!conda install -c anaconda jupyter -y\n",
    "!conda install nbconvert -y\n",
    "!pip install import-ipynb\n",
    "\n",
    "\n",
    "# data\n",
    "!conda install -c anaconda numpy -y\n",
    "!conda install -c anaconda scipy -y\n",
    "!conda install -c anaconda pandas -y\n",
    "!conda install -c conda-forge pandas-profiling -y\n",
    "!conda install -c conda-forge statsmodels -y\n",
    "\n",
    "# Data Visualization\n",
    "!conda install -c conda-forge matplotlib -y\n",
    "!pip install koreanize-matplotlib\n",
    "!conda install -c anaconda seaborn -y\n",
    "!conda install -c conda-forge plotly -y\n",
    "#\n",
    "!conda install -c conda-forge pyarrow -y\n",
    "!conda install -c conda-forge fastparquet -y\n",
    "\n",
    "\n",
    "# dc\n",
    "!conda install -c anaconda requests -y\n",
    "!conda install -c conda-forge beautifulsoup4 -y\n",
    "!conda install -c conda-forge selenium -y\n",
    "!pip install opencv-python\n",
    "\n",
    "!conda install -c conda-forge pyyaml -y\n",
    "!conda install -c conda-forge ruamel.yaml -y\n",
    "!conda install -c anaconda scikit-learn\n",
    "!conda install -c conda-forge scikit-plot"
   ]
  },
  {
   "cell_type": "code",
   "execution_count": null,
   "metadata": {},
   "outputs": [],
   "source": [
    "# standard Library ---- ---- ---- ----\n",
    "import random\n",
    "import os\n",
    "import sys\n",
    "print(\"sys.version :\", sys.version)\n",
    "import glob\n",
    "from pprint import pprint\n",
    "import time\n",
    "\n",
    "\n",
    "\n",
    "# etc ---- ---- ---- ----\n",
    "import warnings\n",
    "warnings.filterwarnings(action='ignore') \n",
    "import tqdm\n",
    "# if (\"cv2\" in sys.modules) == False:\n",
    "#     !pip install opencv-python\n",
    "import cv2\n",
    "print(\"cv2.__version__ :\", cv2.__version__)\n",
    "\n",
    "\n",
    "\n",
    "# Data ---- ---- ---- ----\n",
    "import numpy as np\n",
    "print(\"np.__version__ :\", np.__version__)\n",
    "import pandas as pd\n",
    "print(\"pd.__version__ :\", pd.__version__)\n",
    "pd.options.display.float_format = '{:.3f}'.format\n",
    "# dv\n",
    "import matplotlib.pyplot as plt\n",
    "import koreanize_matplotlib\n",
    "%config InlineBackend.figure_format = 'retina'\n",
    "import seaborn as sns\n",
    "# dc\n",
    "import requests\n",
    "from bs4 import BeautifulSoup\n",
    "\n",
    "\n",
    "\n",
    "# ML, DL ---- ---- ---- ----\n",
    "import tensorflow as tf\n",
    "print(\"tf.__version__ :\", tf.__version__)\n",
    "from tensorflow.python.client import device_lib\n",
    "print(device_lib.list_local_devices())\n",
    "import torch\n",
    "print(\"torch.__version__ :\", torch.__version__)\n",
    "device = torch.device('cuda') if torch.cuda.is_available() else torch.device('cpu')\n",
    "\n",
    "gpu_info = !nvidia-smi\n",
    "gpu_info = '\\n'.join(gpu_info)\n",
    "if gpu_info.find('failed') >= 0:\n",
    "    print('Not connected to a GPU')\n",
    "else:\n",
    "    print(gpu_info)"
   ]
  }
 ],
 "metadata": {
  "kernelspec": {
   "display_name": "Python 3 (ipykernel)",
   "language": "python",
   "name": "python3"
  },
  "language_info": {
   "codemirror_mode": {
    "name": "ipython",
    "version": 3
   },
   "file_extension": ".py",
   "mimetype": "text/x-python",
   "name": "python",
   "nbconvert_exporter": "python",
   "pygments_lexer": "ipython3",
   "version": "3.11.5"
  },
  "orig_nbformat": 4,
  "vscode": {
   "interpreter": {
    "hash": "1484e195d7bc9430bc3da72ea3c1b8c4a4682e4fe56bdbad8b3e1217f2a75f76"
   }
  }
 },
 "nbformat": 4,
 "nbformat_minor": 2
}
