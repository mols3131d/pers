{
 "cells": [
  {
   "cell_type": "code",
   "execution_count": null,
   "metadata": {},
   "outputs": [],
   "source": [
    "def get_var_name(variable):\n",
    "    globals_dict = globals()\n",
    "\n",
    "    return [var_name for var_name in globals_dict if globals_dict[var_name] is variable]"
   ]
  },
  {
   "cell_type": "code",
   "execution_count": null,
   "metadata": {},
   "outputs": [],
   "source": [
    "def print_title(body, br=2, bp=\"┌▣ \", hr=\" ---- ---- ---- ----\"):\n",
    "    \"\"\"\n",
    "    body : 내용\n",
    "    bp : bullet point, 글머리 기호\n",
    "    hr : Horizontal Rule, 수평선\n",
    "    \"\"\"\n",
    "\n",
    "    class ff:\n",
    "        BOLD = \"\\033[1m\"\n",
    "        UNDERLINE = \"\\033[4m\"\n",
    "        END = \"\\033[0m\"\n",
    "\n",
    "    print(\"\\n\" * br + ff.BOLD + bp + ff.UNDERLINE + body + ff.END + hr)"
   ]
  }
 ],
 "metadata": {
  "kernelspec": {
   "display_name": "base",
   "language": "python",
   "name": "python3"
  },
  "language_info": {
   "name": "python",
   "version": "3.9.15"
  },
  "orig_nbformat": 4,
  "vscode": {
   "interpreter": {
    "hash": "84c9efd44b180a5387fc7f1b4633195a6ff9f8df7974b4e94fe0df8ff9826d51"
   }
  }
 },
 "nbformat": 4,
 "nbformat_minor": 2
}
