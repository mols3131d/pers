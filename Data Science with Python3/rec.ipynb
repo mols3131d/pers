{
 "cells": [
  {
   "cell_type": "code",
   "execution_count": 11,
   "metadata": {},
   "outputs": [],
   "source": [
    "import pandas as pd\n",
    "from surprise import Dataset, Reader\n",
    "import io\n",
    "import requests\n",
    "\n",
    "# MovieLens 100K 데이터셋 URL (u.data 파일)\n",
    "url = \"http://files.grouplens.org/datasets/movielens/ml-100k/u.data\"\n",
    "\n",
    "# 데이터셋 다운로드\n",
    "response = requests.get(url).content\n",
    "\n",
    "# BytesIO 객체로 변환\n",
    "data_io = io.BytesIO(response)\n",
    "\n",
    "# DataFrame으로 읽기\n",
    "data_df = pd.read_csv(data_io, sep=\"\\t\", names=[\"userID\", \"itemID\", \"rating\", \"timestamp\"])\n",
    "\n",
    "# timestamp 컬럼은 필요 없으므로 제거합니다.\n",
    "data_df.drop(\"timestamp\", axis=1, inplace=True)\n",
    "\n",
    "# Reader 객체 생성: MovieLens 100k의 등급 범위는 1부터 5입니다.\n",
    "reader = Reader(rating_scale=(1, 5))\n",
    "\n",
    "# DataFrame 로드\n",
    "data = Dataset.load_from_df(data_df[[\"userID\", \"itemID\", \"rating\"]], reader)"
   ]
  },
  {
   "cell_type": "code",
   "execution_count": 12,
   "metadata": {},
   "outputs": [
    {
     "name": "stdout",
     "output_type": "stream",
     "text": [
      "Evaluating RMSE, MAE of algorithm SVD on 5 split(s).\n",
      "\n",
      "                  Fold 1  Fold 2  Fold 3  Fold 4  Fold 5  Mean    Std     \n",
      "RMSE (testset)    0.9361  0.9460  0.9280  0.9383  0.9364  0.9370  0.0057  \n",
      "MAE (testset)     0.7377  0.7430  0.7316  0.7382  0.7397  0.7380  0.0037  \n",
      "Fit time          0.70    0.67    0.68    0.69    0.67    0.68    0.01    \n",
      "Test time         0.06    0.06    0.11    0.06    0.06    0.07    0.02    \n"
     ]
    },
    {
     "data": {
      "text/plain": [
       "{'test_rmse': array([0.93613127, 0.94597308, 0.92803562, 0.93830963, 0.93643896]),\n",
       " 'test_mae': array([0.73772941, 0.74295489, 0.73155296, 0.73820558, 0.73971802]),\n",
       " 'fit_time': (0.6959061622619629,\n",
       "  0.6680014133453369,\n",
       "  0.6794655323028564,\n",
       "  0.6939043998718262,\n",
       "  0.6689701080322266),\n",
       " 'test_time': (0.061036109924316406,\n",
       "  0.058995723724365234,\n",
       "  0.11099815368652344,\n",
       "  0.05899953842163086,\n",
       "  0.06002473831176758)}"
      ]
     },
     "execution_count": 12,
     "metadata": {},
     "output_type": "execute_result"
    }
   ],
   "source": [
    "from surprise import SVD\n",
    "from surprise.model_selection import cross_validate\n",
    "\n",
    "# SVD 알고리즘 선택 (Singular Value Decomposition, 특이값 분해)\n",
    "algo = SVD()\n",
    "\n",
    "# 5-fold 교차 검증 실행 및 결과 출력\n",
    "cross_validate(algo, data, measures=[\"RMSE\", \"MAE\"], cv=5, verbose=True)"
   ]
  },
  {
   "cell_type": "code",
   "execution_count": 3,
   "metadata": {},
   "outputs": [],
   "source": [
    "import torch\n",
    "import torch.nn as nn\n",
    "import torch.optim as optim\n",
    "\n",
    "# 가정: 사용자 ID와 아이템 ID가 각각 0부터 시작하는 정수라고 가정하였습니다.\n",
    "n_users = 1000  # 전체 사용자 수\n",
    "n_items = 500  # 전체 아이템 수\n",
    "\n",
    "# 임베딩 차원 설정\n",
    "embedding_dim = 50\n",
    "\n",
    "# 입력 데이터 (사용자 ID와 아이템 ID)\n",
    "user_input = torch.randint(high=n_users, size=(1024,))\n",
    "item_input = torch.randint(high=n_items, size=(1024,))\n",
    "context_input = torch.rand(\n",
    "    1024,\n",
    ")  # 예: 현재 시간을 나타내는 실수값\n",
    "\n",
    "# 출력 데이터 (사용자가 해당 아이템에 대해 클릭을 했는지 여부)\n",
    "output_data = torch.randint(low=0, high=2, size=(1024,))\n",
    "\n",
    "\n",
    "class Recommender(nn.Module):\n",
    "    def __init__(self):\n",
    "        super().__init__()\n",
    "        self.user_embedding = nn.Embedding(n_users, embedding_dim)\n",
    "        self.item_embedding = nn.Embedding(n_items, embedding_dim)\n",
    "        self.lstm_layer = nn.LSTM(embedding_dim * 2, 128, batch_first=True)\n",
    "        self.fc_layer = nn.Linear(128, 1)\n",
    "\n",
    "    def forward(self, x):\n",
    "        user_embedded = self.user_embedding(x[:, 0])\n",
    "        item_embedded = self.item_embedding(x[:, 1])\n",
    "\n",
    "        x = torch.cat((user_embedded, item_embedded), dim=1).unsqueeze(1)\n",
    "\n",
    "        output, _ = self.lstm_layer(x)\n",
    "\n",
    "        return self.fc_layer(output[:, -1, :])\n",
    "\n",
    "\n",
    "model = Recommender()\n",
    "\n",
    "criterion = nn.BCEWithLogitsLoss()\n",
    "optimizer = optim.Adam(model.parameters(), lr=0.001)\n",
    "\n",
    "input_data = torch.stack((user_input, item_input), dim=-1)\n",
    "\n",
    "for epoch in range(100):\n",
    "    optimizer.zero_grad()\n",
    "\n",
    "    output = model(input_data)\n",
    "\n",
    "    loss = criterion(output.squeeze(), output_data.float())\n",
    "\n",
    "    loss.backward()\n",
    "\n",
    "    optimizer.step()"
   ]
  },
  {
   "cell_type": "code",
   "execution_count": 5,
   "metadata": {},
   "outputs": [
    {
     "name": "stdout",
     "output_type": "stream",
     "text": [
      "Test Loss: 1.256568193435669\n"
     ]
    }
   ],
   "source": [
    "# 가정: test_user_input, test_item_input, test_output_data는 테스트 데이터셋입니다.\n",
    "test_user_input = torch.randint(high=n_users, size=(256,))\n",
    "test_item_input = torch.randint(high=n_items, size=(256,))\n",
    "test_output_data = torch.randint(low=0, high=2, size=(256,))\n",
    "\n",
    "\n",
    "input_data_test = torch.stack((test_user_input, test_item_input), dim=-1)\n",
    "\n",
    "model.eval()  # 모델을 평가 모드로 설정\n",
    "\n",
    "with torch.no_grad():  # 그래디언트 계산 비활성화\n",
    "    predictions = model(input_data_test)\n",
    "    loss = criterion(predictions.squeeze(), test_output_data.float())\n",
    "\n",
    "print(f\"Test Loss: {loss.item()}\")"
   ]
  }
 ],
 "metadata": {
  "kernelspec": {
   "display_name": "da",
   "language": "python",
   "name": "python3"
  },
  "language_info": {
   "codemirror_mode": {
    "name": "ipython",
    "version": 3
   },
   "file_extension": ".py",
   "mimetype": "text/x-python",
   "name": "python",
   "nbconvert_exporter": "python",
   "pygments_lexer": "ipython3",
   "version": "3.11.5"
  }
 },
 "nbformat": 4,
 "nbformat_minor": 2
}
