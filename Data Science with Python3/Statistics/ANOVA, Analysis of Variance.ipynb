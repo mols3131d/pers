{
 "cells": [
  {
   "cell_type": "markdown",
   "metadata": {},
   "source": [
    "# 분산분석(ANOVA, Analysis of Variance)\n",
    "\n",
    "세 개 이상의 집단을 비교할 때 사용되는 통계적 방법입니다. \n",
    "\n",
    "분산분석의 기본 목적은 모든 집단의 평균이 동일한지를 가설로 검정하는 것입니다. \n",
    "\n",
    "분산분석은 다음과 같은 주요 유형으로 나뉩니다.\n",
    "\n",
    "1. 일원분산분석 (One-way ANOVA)\n",
    "\n",
    "    단 하나의 독립변수의 수준(카테고리)에 따른 종속변수의 평균 차이를 검증하는 방법입니다. \n",
    "\n",
    "    예를 들어, 세 가지 다른 교육 방법의 효과를 확인하기 위해 학생들의 성적을 비교하는 경우를 들 수 있습니다.\n",
    "\n",
    "2. 이원분산분석 (Two-way ANOVA)\n",
    "\n",
    "    두 개의 독립변수의 수준 간 종속변수의 평균 차이를 검증하는 방법입니다. 이 방식은 두 독립 변수와 그 상호작용까지 검증할 수 있습니다. \n",
    "\n",
    "    예를 들어, 교육 방법과 학습 기간을 고려하여 학생들의 성적을 비교하는 경우를 들 수 있습니다."
   ]
  },
  {
   "cell_type": "markdown",
   "metadata": {},
   "source": [
    "## 일원분산분석 (One-way ANOVA)"
   ]
  },
  {
   "cell_type": "code",
   "execution_count": 1,
   "metadata": {},
   "outputs": [
    {
     "name": "stdout",
     "output_type": "stream",
     "text": [
      "F-statistic: 55.793338444550955, p-value: 2.5601049563739123e-16\n"
     ]
    }
   ],
   "source": [
    "import numpy as np\n",
    "from scipy.stats import f_oneway\n",
    "\n",
    "np.random.seed(42)\n",
    "\n",
    "# 가상 데이터 생성\n",
    "group1 = np.random.normal(10, 2, 30)  # 평균 10, 표준편차 2, 표본 크기 30\n",
    "group2 = np.random.normal(15, 2, 30)  # 평균 15, 표준편차 2, 표본 크기 30\n",
    "group3 = np.random.normal(12, 2, 30)  # 평균 12, 표준편차 2, 표본 크기 30\n",
    "\n",
    "# 일원분산분석 수행\n",
    "F_stat, p_value = f_oneway(group1, group2, group3)\n",
    "\n",
    "print(f\"F-statistic: {F_stat}, p-value: {p_value}\")"
   ]
  },
  {
   "cell_type": "markdown",
   "metadata": {},
   "source": [
    "## 이원분산분석 (Two-way ANOVA)"
   ]
  },
  {
   "cell_type": "code",
   "execution_count": 2,
   "metadata": {},
   "outputs": [
    {
     "name": "stdout",
     "output_type": "stream",
     "text": [
      "    A   B      value\n",
      "0  A0  B0  10.993428\n",
      "1  A0  B0   9.723471\n",
      "2  A0  B0  11.295377\n",
      "3  A0  B0  13.046060\n",
      "4  A0  B0   9.531693\n",
      "               sum_sq    df         F    PR(>F)\n",
      "C(A)         0.269215   1.0  0.092280  0.762466\n",
      "C(B)        16.427356   2.0  2.815435  0.068693\n",
      "C(A):C(B)   20.562126   2.0  3.524081  0.036431\n",
      "Residual   157.538211  54.0       NaN       NaN\n"
     ]
    }
   ],
   "source": [
    "# 라이브러리 임포트\n",
    "import pandas as pd\n",
    "import numpy as np\n",
    "import statsmodels.api as sm\n",
    "from statsmodels.formula.api import ols\n",
    "\n",
    "# 시드 설정\n",
    "np.random.seed(42)\n",
    "\n",
    "# 빈 딕셔너리 생성\n",
    "data = {'A': [], 'B': [], 'value': []}\n",
    "\n",
    "# 가상 데이터 생성\n",
    "for a in ['A0', 'A1']:\n",
    "    for b in ['B0', 'B1', 'B2']:\n",
    "        for _ in range(10):\n",
    "            data['A'].append(a)\n",
    "            data['B'].append(b)\n",
    "            data['value'].append(np.random.normal(10, 2))\n",
    "\n",
    "# 데이터프레임 생성\n",
    "df = pd.DataFrame(data)\n",
    "\n",
    "# 이원분산분석 모델 생성\n",
    "model = ols('value ~ C(A) * C(B)', data=df).fit()\n",
    "\n",
    "# 분산분석 결과 출력\n",
    "anova_result = sm.stats.anova_lm(model, typ=2)\n",
    "print(anova_result)\n"
   ]
  },
  {
   "cell_type": "markdown",
   "metadata": {},
   "source": [
    "## 다변량분산분석(MANOVA)"
   ]
  },
  {
   "cell_type": "code",
   "execution_count": null,
   "metadata": {},
   "outputs": [],
   "source": [
    "# 라이브러리 임포트\n",
    "import numpy as np\n",
    "import pandas as pd\n",
    "from statsmodels.multivariate.manova import MANOVA\n",
    "\n",
    "# 시드 설정\n",
    "np.random.seed(42)\n",
    "\n",
    "# 빈 딕셔너리 생성\n",
    "data = {'education_method': [], 'test_score': [], 'time_to_complete': []}\n",
    "# 교육 방법 그룹 설정\n",
    "education_methods = ['traditional', 'online', 'blended']\n",
    "n_samples = 30\n",
    "\n",
    "# 종속 변수 시뮬레이션\n",
    "for method in education_methods:\n",
    "    for _ in range(n_samples):\n",
    "        data['education_method'].append(method)\n",
    "        # 가상 시험 점수 생성 (블렌디드: 평균 75, 그 외: 평균 70)\n",
    "        data['test_score'].append(np.random.normal(loc=75 if method == 'blended' else 70, scale=5))\n",
    "        # 가상 과제 완료 시간 생성 (온라인: 평균 40분, 그 외: 평균 60분)\n",
    "        data['time_to_complete'].append(np.random.normal(loc=40 if method == 'online' else 60, scale=10))\n",
    "\n",
    "# 데이터프레임 생성\n",
    "df = pd.DataFrame(data)\n",
    "\n",
    "# 모델 정의 (종속 변수와 독립 변수 관계 설정)\n",
    "model = MANOVA.from_formula('test_score + time_to_complete ~ education_method', data=df)\n",
    "\n",
    "# 결과 가져오기\n",
    "manova_result = model.mv_test()\n",
    "\n",
    "# 결과 출력\n",
    "print(manova_result.summary())\n"
   ]
  }
 ],
 "metadata": {
  "kernelspec": {
   "display_name": "da",
   "language": "python",
   "name": "python3"
  },
  "language_info": {
   "codemirror_mode": {
    "name": "ipython",
    "version": 3
   },
   "file_extension": ".py",
   "mimetype": "text/x-python",
   "name": "python",
   "nbconvert_exporter": "python",
   "pygments_lexer": "ipython3",
   "version": "3.11.3"
  },
  "orig_nbformat": 4
 },
 "nbformat": 4,
 "nbformat_minor": 2
}
