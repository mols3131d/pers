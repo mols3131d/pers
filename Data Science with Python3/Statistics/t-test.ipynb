{
 "cells": [
  {
   "cell_type": "markdown",
   "metadata": {},
   "source": [
    "# t-검정(t-test)\n",
    "\n",
    "통계에서 두 개의 모집단을 비교하려는 목적으로 사용되는 가설 검정 방법 중 하나입니다.  <br>\n",
    "t-검정은 일반적으로 평균 차이에 대한 통계적 유의성을 평가하는 데 사용됩니다.  <br>\n",
    "\n",
    "- 기본적으로 t-검정은 다음과 같은 세 가지 주요 유형으로 나뉩니다.\n",
    "  1. 독립 표본 t-검정 (Independent two-sample t-test)\n",
    "  2. 대응 표본 t-검정 (Paired t-test)\n",
    "  3. 단일 표본 t-검정 (One-sample t-test)"
   ]
  },
  {
   "cell_type": "markdown",
   "metadata": {},
   "source": [
    "## 독립 표본 t-검정\n",
    "\n",
    "두 개의 독립된 모집단에서 얻은 표본을 사용하여 두 모집단의 평균 사이에 통계적으로 유의한 차이가 있는지를 확인합니다."
   ]
  },
  {
   "cell_type": "code",
   "execution_count": 15,
   "metadata": {},
   "outputs": [
    {
     "name": "stdout",
     "output_type": "stream",
     "text": [
      "독립 표본 t-검정:\n",
      "t-statistic: -2.3981151520102553, p-value: 0.01971794186575755\n"
     ]
    }
   ],
   "source": [
    "import numpy as np\n",
    "from scipy.stats import ttest_ind\n",
    "\n",
    "# 데이터를 생성하는 예제\n",
    "np.random.seed(42)  # 재현성을 위한 시드 설정\n",
    "sample1 = np.random.normal(10, 1, 30)  # 평균이 10, 표준편차가 1인 가상 데이터 생성, 30개의 관찰치\n",
    "sample2 = np.random.normal(10.5, 1, 30)  # 평균이 10.5, 표준편차가 1인 가상 데이터 생성, 30개의 관찰치\n",
    "\n",
    "# 독립 표본 t-검정\n",
    "stat, p_val = ttest_ind(sample1, sample2)\n",
    "print(\"독립 표본 t-검정:\")\n",
    "print(f\"t-statistic: {stat}, p-value: {p_val}\")"
   ]
  },
  {
   "cell_type": "markdown",
   "metadata": {},
   "source": [
    "## 대응 표본 t-검정 (Paired t-test)\n",
    "\n",
    "짝지어진 관찰치가 있는 두 모집단에서 얻은 표본을 사용하여 두 모집단의 평균 사이에 통계적으로 유의한 차이가 있는지를 확인합니다.\n",
    "\n",
    "대응 표본 t-검정은 종종 특정 처리 전과 후를 비교하기 위해 사용됩니다."
   ]
  },
  {
   "cell_type": "code",
   "execution_count": 16,
   "metadata": {},
   "outputs": [
    {
     "name": "stdout",
     "output_type": "stream",
     "text": [
      "대응 표본 t-검정:\n",
      "t-statistic: 0.15454123534429023, p-value: 0.8788128126598481\n"
     ]
    }
   ],
   "source": [
    "import numpy as np\n",
    "from scipy.stats import ttest_rel\n",
    "\n",
    "# 데이터를 생성하는 예제\n",
    "np.random.seed(42)  # 재현성을 위한 시드 설정\n",
    "sample1 = np.random.normal(10, 1, 30)  # 평균이 10, 표준편차가 1인 가상 데이터 생성, 30개의 관찰치\n",
    "sample2 = np.random.normal(10.5, 1, 30)  # 평균이 10.5, 표준편차가 1인 가상 데이터 생성, 30개의 관찰치\n",
    "\n",
    "# 대응 표본 t-검정\n",
    "before_treatment = np.random.normal(10, 1, 20)  # 처리 전, 평균 10, 표준편차 1, 20개의 관찰치\n",
    "after_treatment = before_treatment + np.random.normal(0, 1, 20)  # 처리 후, 처리 전 데이터를 기반으로 임의의 변화 추가\n",
    "\n",
    "stat, p_val = ttest_rel(before_treatment, after_treatment)\n",
    "print(\"대응 표본 t-검정:\")\n",
    "print(f\"t-statistic: {stat}, p-value: {p_val}\")"
   ]
  },
  {
   "cell_type": "markdown",
   "metadata": {},
   "source": [
    "## 단일 표본 t-검정 (One-sample t-test)\n",
    "\n",
    "한 모집단에서 얻은 표본을 사용하여 모집단의 평균이 특정 값과 통계적으로 유의하게 다른지를 확인합니다."
   ]
  },
  {
   "cell_type": "code",
   "execution_count": 17,
   "metadata": {},
   "outputs": [
    {
     "name": "stdout",
     "output_type": "stream",
     "text": [
      "단일 표본 t-검정:\n",
      "t-statistic: -1.010636524816135, p-value: 0.3222716324651379\n"
     ]
    }
   ],
   "source": [
    "import numpy as np\n",
    "from scipy.stats import ttest_1samp\n",
    "\n",
    "# 데이터를 생성하는 예제\n",
    "np.random.seed(42)  # 재현성을 위한 시드 설정\n",
    "sample1 = np.random.normal(10, 1, 30)  # 평균이 10, 표준편차가 1인 가상 데이터 생성, 30개의 관찰치\n",
    "sample2 = np.random.normal(10.5, 1, 30)  # 평균이 10.5, 표준편차가 1인 가상 데이터 생성, 30개의 관찰치\n",
    "\n",
    "# 단일 표본 t-검정 - 평균이 10인지 비교\n",
    "single_sample = np.random.normal(9.8, 1, 25)  # 평균이 9.8, 표준편차가 1인 가상 데이터 생성, 25개의 관찰치\n",
    "stat, p_val = ttest_1samp(single_sample, 10)  # 평균이 10인지 검정\n",
    "print(\"단일 표본 t-검정:\")\n",
    "print(f\"t-statistic: {stat}, p-value: {p_val}\")"
   ]
  }
 ],
 "metadata": {
  "kernelspec": {
   "display_name": "da",
   "language": "python",
   "name": "python3"
  },
  "language_info": {
   "codemirror_mode": {
    "name": "ipython",
    "version": 3
   },
   "file_extension": ".py",
   "mimetype": "text/x-python",
   "name": "python",
   "nbconvert_exporter": "python",
   "pygments_lexer": "ipython3",
   "version": "3.11.3"
  },
  "orig_nbformat": 4,
  "polyglot_notebook": {
   "kernelInfo": {
    "defaultKernelName": "csharp",
    "items": [
     {
      "aliases": [],
      "name": "csharp"
     }
    ]
   }
  }
 },
 "nbformat": 4,
 "nbformat_minor": 2
}
