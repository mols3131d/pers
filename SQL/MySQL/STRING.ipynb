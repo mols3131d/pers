{
 "cells": [
  {
   "attachments": {},
   "cell_type": "markdown",
   "metadata": {},
   "source": [
    "# `SUBSTRING()`\n",
    "\n",
    "`SUBSTR(str, 시작위치, 길이)`\n",
    "\n",
    "`SUBSTR(<str> FROM <시작위치> FOR <길이>)`\n",
    "\n",
    "---\n",
    "\n",
    "<details>\n",
    "<summary>Reference</summary>\n",
    "\n",
    "https://redcow77.tistory.com/264\n",
    "\n",
    "</details>"
   ]
  },
  {
   "cell_type": "code",
   "execution_count": null,
   "metadata": {
    "vscode": {
     "languageId": "sql"
    }
   },
   "outputs": [],
   "source": [
    "SELECT SUBSTRING(\"WWW.Google.COM\", 3);\n",
    "\n",
    "\n",
    "\n",
    "-- OUTPUT\n",
    "-- W.Google.COM"
   ]
  },
  {
   "cell_type": "code",
   "execution_count": null,
   "metadata": {
    "vscode": {
     "languageId": "sql"
    }
   },
   "outputs": [],
   "source": [
    "SELECT SUBSTRING(\"WWW.Google.COM\", 3, 5);\n",
    "\n",
    "\n",
    "\n",
    "-- OUTPUT\n",
    "-- W.Goo"
   ]
  },
  {
   "cell_type": "code",
   "execution_count": null,
   "metadata": {
    "vscode": {
     "languageId": "sql"
    }
   },
   "outputs": [],
   "source": [
    "SELECT SUBSTRING(\"WWW.Google.COM\" FROM 5);\n",
    "\n",
    "\n",
    "\n",
    "-- OUTPUT\n",
    "-- Google.COM"
   ]
  },
  {
   "cell_type": "code",
   "execution_count": null,
   "metadata": {
    "vscode": {
     "languageId": "sql"
    }
   },
   "outputs": [],
   "source": [
    "SELECT SUBSTRING(\"WWW.Google.COM\" FROM 2 FOR 2);\n",
    "\n",
    "\n",
    "\n",
    "-- OUTPUT\n",
    "-- WW"
   ]
  }
 ],
 "metadata": {
  "language_info": {
   "name": "python"
  },
  "orig_nbformat": 4
 },
 "nbformat": 4,
 "nbformat_minor": 2
}
