{
 "cells": [
  {
   "attachments": {},
   "cell_type": "markdown",
   "metadata": {},
   "source": [
    "# 하나의 숫자 N이 소수인지 확인하는 알고리즘"
   ]
  },
  {
   "cell_type": "code",
   "execution_count": 14,
   "metadata": {},
   "outputs": [
    {
     "name": "stdout",
     "output_type": "stream",
     "text": [
      "0\n",
      "1\n",
      "1\n",
      "0\n",
      "1\n"
     ]
    }
   ],
   "source": [
    "def checkPrimenumber1(N):\n",
    "    \n",
    "    if N == 1:\n",
    "        return 0\n",
    "    \n",
    "    for i1 in range(2, int((N ** (1 / 2))) + 1):\n",
    "        if N % i1 == 0:\n",
    "            return 0\n",
    "    return 1\n",
    "\n",
    "\n",
    "print(checkPrimenumber1(1))\n",
    "print(checkPrimenumber1(2))\n",
    "print(checkPrimenumber1(3))\n",
    "print(checkPrimenumber1(4))\n",
    "print(checkPrimenumber1(54534677777))"
   ]
  },
  {
   "cell_type": "code",
   "execution_count": 15,
   "metadata": {},
   "outputs": [
    {
     "name": "stdout",
     "output_type": "stream",
     "text": [
      "0\n",
      "1\n",
      "1\n",
      "0\n",
      "1\n"
     ]
    }
   ],
   "source": [
    "def checkPrimenumber2(N):\n",
    "    if N == 1:\n",
    "        return 0\n",
    "    elif (N % 2 == 0) and (N == 2):\n",
    "        return 1\n",
    "    elif (N % 2 == 0) and (N != 2):\n",
    "        return 0\n",
    "    for i in range(3, int((N ** (1 / 2))) + 1, 2):\n",
    "        if N % i == 0:\n",
    "            return 0\n",
    "    return 1\n",
    "\n",
    "print(checkPrimenumber2(1))\n",
    "print(checkPrimenumber2(2))\n",
    "print(checkPrimenumber2(3))\n",
    "print(checkPrimenumber2(4))\n",
    "print(checkPrimenumber2(54534677777))"
   ]
  },
  {
   "cell_type": "code",
   "execution_count": 12,
   "metadata": {},
   "outputs": [
    {
     "name": "stdout",
     "output_type": "stream",
     "text": [
      "1\n",
      "1\n",
      "1\n",
      "0\n",
      "1\n"
     ]
    }
   ],
   "source": [
    "def checkPrimenumber3(N):\n",
    "    if 1 >= N:\n",
    "        return 0\n",
    "    elif 2 == N:\n",
    "        return 1\n",
    "    elif N % 2 == 0:\n",
    "        return 0\n",
    "    for i in range(3, int((N ** (1 / 2))) + 1, 2):\n",
    "        if N % i == 0:\n",
    "            return 0\n",
    "    return 1\n",
    "\n",
    "print(checkPrimenumber3(1))\n",
    "print(checkPrimenumber3(2))\n",
    "print(checkPrimenumber3(3))\n",
    "print(checkPrimenumber3(4))\n",
    "print(checkPrimenumber3(54534677777))"
   ]
  },
  {
   "attachments": {},
   "cell_type": "markdown",
   "metadata": {},
   "source": [
    "# 특정 수 범위에 존재하는 소수 찾는 알고리즘"
   ]
  },
  {
   "attachments": {},
   "cell_type": "markdown",
   "metadata": {},
   "source": [
    "## 에라토스테네스의 체"
   ]
  }
 ],
 "metadata": {
  "kernelspec": {
   "display_name": "AIS7",
   "language": "python",
   "name": "python3"
  },
  "language_info": {
   "codemirror_mode": {
    "name": "ipython",
    "version": 3
   },
   "file_extension": ".py",
   "mimetype": "text/x-python",
   "name": "python",
   "nbconvert_exporter": "python",
   "pygments_lexer": "ipython3",
   "version": "3.9.13"
  },
  "orig_nbformat": 4,
  "vscode": {
   "interpreter": {
    "hash": "6fe11dfc63e789712f819f0eab04a3070dc82d637138faaf6adf8e594ab8007f"
   }
  }
 },
 "nbformat": 4,
 "nbformat_minor": 2
}
