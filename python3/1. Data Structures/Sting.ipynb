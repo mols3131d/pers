{
 "cells": [
  {
   "attachments": {},
   "cell_type": "markdown",
   "metadata": {},
   "source": [
    "# find 함수란?\n",
    "- str 클래스 내장함수\n",
    "- 문자 및 문자열의 index를 찾아줌\n",
    "    - 만약, 찾는 문자가 복수인 경우, 가장 낮은 index를 반환함.\n",
    "    - 만약, 찾는 문자가 없다면, ‘-1’을 반환한다.\n",
    "\n",
    "## find 함수의 사용\n",
    "- string.find(찾을 문자열 및 문자)\n",
    "- string.find(찾을 문자열 및 문자, 시작위치, 끝위치)"
   ]
  },
  {
   "attachments": {},
   "cell_type": "markdown",
   "metadata": {},
   "source": [
    "# index 함수란?\n",
    "- str 클래스 내장함수\n",
    "- 문자 및 문자열의 index를 찾아줌\n",
    "    - 만약, 찾는 문자가 복수인 경우, 가장 낮은 index를 반환함.\n",
    "    - 만약, 찾는 문자가 없다면, 에러를 반환한다.\n",
    "\n",
    "## index 함수의 사용\n",
    "- string.index(찾을 문자열 및 문자)\n",
    "- string.index(찾을 문자열 및 문자, 시작위치, 끝위치)"
   ]
  },
  {
   "cell_type": "code",
   "execution_count": null,
   "metadata": {},
   "outputs": [],
   "source": [
    "# Str.split()  :  [특정 문자로 구분된 문자열] -> 리스트\n",
    "str = \"1 2 3 4\"\n",
    "str.split()"
   ]
  }
 ],
 "metadata": {
  "kernelspec": {
   "display_name": "asd1",
   "language": "python",
   "name": "python3"
  },
  "language_info": {
   "name": "python",
   "version": "3.10.8 | packaged by conda-forge | (main, Nov 22 2022, 08:16:53) [MSC v.1929 64 bit (AMD64)]"
  },
  "orig_nbformat": 4,
  "vscode": {
   "interpreter": {
    "hash": "07badbe185019afce09527cdf66b20ec507f3045aabcc27b0da70607b5630dc4"
   }
  }
 },
 "nbformat": 4,
 "nbformat_minor": 2
}
