{
 "cells": [
  {
   "cell_type": "code",
   "execution_count": null,
   "metadata": {},
   "outputs": [],
   "source": []
  }
 ],
 "metadata": {
  "kernelspec": {
   "display_name": "base",
   "language": "python",
   "name": "python3"
  },
  "language_info": {
   "name": "python",
   "version": "3.9.15"
  },
  "orig_nbformat": 4,
  "vscode": {
   "interpreter": {
    "hash": "84c9efd44b180a5387fc7f1b4633195a6ff9f8df7974b4e94fe0df8ff9826d51"
   }
  }
 },
 "nbformat": 4,
 "nbformat_minor": 2
}
