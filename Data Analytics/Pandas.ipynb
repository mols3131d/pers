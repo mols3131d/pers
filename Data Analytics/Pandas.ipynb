{
 "cells": [
  {
   "cell_type": "code",
   "execution_count": null,
   "metadata": {},
   "outputs": [],
   "source": [
    "import numpy as np\n",
    "import pandas as pd\n",
    "\n",
    "\n",
    "with pd.option_context('display.max_rows', None, 'display.max_columns', None):\n",
    "    display(train[\"label\"].value_counts().to_frame().head(train[\"label\"].describe()[\"unique\"]))"
   ]
  }
 ],
 "metadata": {
  "kernelspec": {
   "display_name": "asd1",
   "language": "python",
   "name": "python3"
  },
  "language_info": {
   "name": "python",
   "version": "3.10.8 | packaged by conda-forge | (main, Nov 22 2022, 08:16:53) [MSC v.1929 64 bit (AMD64)]"
  },
  "orig_nbformat": 4,
  "vscode": {
   "interpreter": {
    "hash": "07badbe185019afce09527cdf66b20ec507f3045aabcc27b0da70607b5630dc4"
   }
  }
 },
 "nbformat": 4,
 "nbformat_minor": 2
}
