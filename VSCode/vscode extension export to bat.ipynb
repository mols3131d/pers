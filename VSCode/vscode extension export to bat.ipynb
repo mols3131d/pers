{
 "cells": [
  {
   "cell_type": "code",
   "execution_count": 5,
   "metadata": {},
   "outputs": [],
   "source": [
    "!code --list-extensions > list.bat\n",
    "import os\n",
    "with open(\"./list.bat\", \"r\") as f:\n",
    "    list = f.readlines()\n",
    "with open(\"./list.bat\", \"w\") as f:\n",
    "    for i in list:\n",
    "        f.write(\"!code-insiders --install-extension \"+i)\n",
    "        # print(\"code --install-extension\", i)\n",
    "# os.remove(\"./list.bat\")"
   ]
  },
  {
   "cell_type": "code",
   "execution_count": 6,
   "metadata": {},
   "outputs": [
    {
     "name": "stdout",
     "output_type": "stream",
     "text": [
      "확장을 설치하는 중...\n",
      "확장 'akamud.vscode-theme-onedark' v2.3.0이(가) 이미 설치되어 있습니다. '--force' 옵션을 사용하여 최신 버전으로 업데이트하거나 '@<version>'을 제공하여 특정 버전을 설치합니다. 예: 'akamud.vscode-theme-onedark@1.2.3'\n",
      "확장을 설치하는 중...\n",
      "'akamud.vscode-theme-onelight' vundefined 확장이 설치되었습니다.\n",
      "'akamud.vscode-theme-onelight' 확장 설치를 취소했습니다.\n"
     ]
    },
    {
     "name": "stderr",
     "output_type": "stream",
     "text": [
      "(node:29144) [DEP0005] DeprecationWarning: Buffer() is deprecated due to security and usability issues. Please use the Buffer.alloc(), Buffer.allocUnsafe(), or Buffer.from() methods instead.\n",
      "(Use `Code - Insiders --trace-deprecation ...` to show where the warning was created)\n"
     ]
    },
    {
     "name": "stdout",
     "output_type": "stream",
     "text": [
      "확장을 설치하는 중...\n",
      "확장 'albert.tabout' v0.2.2이(가) 이미 설치되어 있습니다. '--force' 옵션을 사용하여 최신 버전으로 업데이트하거나 '@<version>'을 제공하여 특정 버전을 설치합니다. 예: 'albert.tabout@1.2.3'\n",
      "확장을 설치하는 중...\n",
      "'alefragnani.project-manager' vundefined 확장이 설치되었습니다.\n",
      "'alefragnani.project-manager' 확장 설치를 취소했습니다.\n"
     ]
    },
    {
     "name": "stderr",
     "output_type": "stream",
     "text": [
      "(node:6660) [DEP0005] DeprecationWarning: Buffer() is deprecated due to security and usability issues. Please use the Buffer.alloc(), Buffer.allocUnsafe(), or Buffer.from() methods instead.\n",
      "(Use `Code - Insiders --trace-deprecation ...` to show where the warning was created)\n"
     ]
    },
    {
     "name": "stdout",
     "output_type": "stream",
     "text": [
      "확장을 설치하는 중...\n",
      "'alexti.intellij-idea-light-theme' vundefined 확장이 설치되었습니다.\n",
      "'alexti.intellij-idea-light-theme' 확장 설치를 취소했습니다.\n"
     ]
    },
    {
     "name": "stderr",
     "output_type": "stream",
     "text": [
      "(node:32860) [DEP0005] DeprecationWarning: Buffer() is deprecated due to security and usability issues. Please use the Buffer.alloc(), Buffer.allocUnsafe(), or Buffer.from() methods instead.\n",
      "(Use `Code - Insiders --trace-deprecation ...` to show where the warning was created)\n"
     ]
    },
    {
     "name": "stdout",
     "output_type": "stream",
     "text": [
      "확장을 설치하는 중...\n",
      "'andrewzhang.scribeai' vundefined 확장이 설치되었습니다.\n",
      "'andrewzhang.scribeai' 확장 설치를 취소했습니다.\n"
     ]
    },
    {
     "name": "stderr",
     "output_type": "stream",
     "text": [
      "(node:11172) [DEP0005] DeprecationWarning: Buffer() is deprecated due to security and usability issues. Please use the Buffer.alloc(), Buffer.allocUnsafe(), or Buffer.from() methods instead.\n",
      "(Use `Code - Insiders --trace-deprecation ...` to show where the warning was created)\n"
     ]
    },
    {
     "name": "stdout",
     "output_type": "stream",
     "text": [
      "확장을 설치하는 중...\n",
      "'aslamanver.vsc-export' vundefined 확장이 설치되었습니다.\n",
      "'aslamanver.vsc-export' 확장 설치를 취소했습니다.\n"
     ]
    },
    {
     "name": "stderr",
     "output_type": "stream",
     "text": [
      "(node:33532) [DEP0005] DeprecationWarning: Buffer() is deprecated due to security and usability issues. Please use the Buffer.alloc(), Buffer.allocUnsafe(), or Buffer.from() methods instead.\n",
      "(Use `Code - Insiders --trace-deprecation ...` to show where the warning was created)\n"
     ]
    },
    {
     "name": "stdout",
     "output_type": "stream",
     "text": [
      "확장을 설치하는 중...\n",
      "확장 'azemoh.one-monokai' v0.5.0이(가) 이미 설치되어 있습니다. '--force' 옵션을 사용하여 최신 버전으로 업데이트하거나 '@<version>'을 제공하여 특정 버전을 설치합니다. 예: 'azemoh.one-monokai@1.2.3'\n",
      "확장을 설치하는 중...\n",
      "'batisteo.vscode-django' vundefined 확장이 설치되었습니다.\n",
      "'batisteo.vscode-django' 확장 설치를 취소했습니다.\n"
     ]
    },
    {
     "name": "stderr",
     "output_type": "stream",
     "text": [
      "(node:8964) [DEP0005] DeprecationWarning: Buffer() is deprecated due to security and usability issues. Please use the Buffer.alloc(), Buffer.allocUnsafe(), or Buffer.from() methods instead.\n",
      "(Use `Code - Insiders --trace-deprecation ...` to show where the warning was created)\n"
     ]
    },
    {
     "name": "stdout",
     "output_type": "stream",
     "text": [
      "확장을 설치하는 중...\n",
      "'cmoog.sqlnotebook' vundefined 확장이 설치되었습니다.\n",
      "'cmoog.sqlnotebook' 확장 설치를 취소했습니다.\n"
     ]
    },
    {
     "name": "stderr",
     "output_type": "stream",
     "text": [
      "(node:29896) [DEP0005] DeprecationWarning: Buffer() is deprecated due to security and usability issues. Please use the Buffer.alloc(), Buffer.allocUnsafe(), or Buffer.from() methods instead.\n",
      "(Use `Code - Insiders --trace-deprecation ...` to show where the warning was created)\n"
     ]
    },
    {
     "name": "stdout",
     "output_type": "stream",
     "text": [
      "확장을 설치하는 중...\n",
      "'cweijan.vscode-office' vundefined 확장이 설치되었습니다.\n",
      "'cweijan.vscode-office' 확장 설치를 취소했습니다.\n"
     ]
    },
    {
     "name": "stderr",
     "output_type": "stream",
     "text": [
      "(node:33224) [DEP0005] DeprecationWarning: Buffer() is deprecated due to security and usability issues. Please use the Buffer.alloc(), Buffer.allocUnsafe(), or Buffer.from() methods instead.\n",
      "(Use `Code - Insiders --trace-deprecation ...` to show where the warning was created)\n"
     ]
    },
    {
     "name": "stdout",
     "output_type": "stream",
     "text": [
      "확장을 설치하는 중..."
     ]
    },
    {
     "name": "stderr",
     "output_type": "stream",
     "text": [
      "(node:30636) [DEP0005] DeprecationWarning: Buffer() is deprecated due to security and usability issues. Please use the Buffer.alloc(), Buffer.allocUnsafe(), or Buffer.from() methods instead.\n",
      "(Use `Code - Insiders --trace-deprecation ...` to show where the warning was created)\n"
     ]
    },
    {
     "name": "stdout",
     "output_type": "stream",
     "text": [
      "\n",
      "'danielsanmedium.dscodegpt' vundefined 확장이 설치되었습니다.\n",
      "'danielsanmedium.dscodegpt' 확장 설치를 취소했습니다.\n",
      "확장을 설치하는 중...\n",
      "'donjayamanne.python-environment-manager' vundefined 확장이 설치되었습니다.\n",
      "'donjayamanne.python-environment-manager' 확장 설치를 취소했습니다.\n"
     ]
    },
    {
     "name": "stderr",
     "output_type": "stream",
     "text": [
      "(node:11528) [DEP0005] DeprecationWarning: Buffer() is deprecated due to security and usability issues. Please use the Buffer.alloc(), Buffer.allocUnsafe(), or Buffer.from() methods instead.\n",
      "(Use `Code - Insiders --trace-deprecation ...` to show where the warning was created)\n"
     ]
    },
    {
     "name": "stdout",
     "output_type": "stream",
     "text": [
      "확장을 설치하는 중...\n",
      "'donjayamanne.python-extension-pack' vundefined 확장이 설치되었습니다.\n",
      "'donjayamanne.python-extension-pack' 확장 설치를 취소했습니다.\n"
     ]
    },
    {
     "name": "stderr",
     "output_type": "stream",
     "text": [
      "(node:5664) [DEP0005] DeprecationWarning: Buffer() is deprecated due to security and usability issues. Please use the Buffer.alloc(), Buffer.allocUnsafe(), or Buffer.from() methods instead.\n",
      "(Use `Code - Insiders --trace-deprecation ...` to show where the warning was created)\n"
     ]
    },
    {
     "name": "stdout",
     "output_type": "stream",
     "text": [
      "확장을 설치하는 중...\n",
      "'dracula-theme.theme-dracula' vundefined 확장이 설치되었습니다.\n",
      "'dracula-theme.theme-dracula' 확장 설치를 취소했습니다.\n"
     ]
    },
    {
     "name": "stderr",
     "output_type": "stream",
     "text": [
      "(node:33544) [DEP0005] DeprecationWarning: Buffer() is deprecated due to security and usability issues. Please use the Buffer.alloc(), Buffer.allocUnsafe(), or Buffer.from() methods instead.\n",
      "(Use `Code - Insiders --trace-deprecation ...` to show where the warning was created)\n"
     ]
    },
    {
     "name": "stdout",
     "output_type": "stream",
     "text": [
      "확장을 설치하는 중...\n",
      "확장 'eamodio.gitlens' v13.5.0이(가) 이미 설치되어 있습니다. '--force' 옵션을 사용하여 최신 버전으로 업데이트하거나 '@<version>'을 제공하여 특정 버전을 설치합니다. 예: 'eamodio.gitlens@1.2.3'\n",
      "확장을 설치하는 중...\n",
      "'esbenp.prettier-vscode' vundefined 확장이 설치되었습니다.\n",
      "'esbenp.prettier-vscode' 확장 설치를 취소했습니다.\n"
     ]
    },
    {
     "name": "stderr",
     "output_type": "stream",
     "text": [
      "(node:33768) [DEP0005] DeprecationWarning: Buffer() is deprecated due to security and usability issues. Please use the Buffer.alloc(), Buffer.allocUnsafe(), or Buffer.from() methods instead.\n",
      "(Use `Code - Insiders --trace-deprecation ...` to show where the warning was created)\n"
     ]
    },
    {
     "name": "stdout",
     "output_type": "stream",
     "text": [
      "확장을 설치하는 중...\n",
      "'felipecaputo.git-project-manager' vundefined 확장이 설치되었습니다.\n",
      "'felipecaputo.git-project-manager' 확장 설치를 취소했습니다.\n"
     ]
    },
    {
     "name": "stderr",
     "output_type": "stream",
     "text": [
      "(node:12376) [DEP0005] DeprecationWarning: Buffer() is deprecated due to security and usability issues. Please use the Buffer.alloc(), Buffer.allocUnsafe(), or Buffer.from() methods instead.\n",
      "(Use `Code - Insiders --trace-deprecation ...` to show where the warning was created)\n"
     ]
    },
    {
     "name": "stdout",
     "output_type": "stream",
     "text": [
      "확장을 설치하는 중...\n",
      "'fisheva.eva-theme' vundefined 확장이 설치되었습니다.\n",
      "'fisheva.eva-theme' 확장 설치를 취소했습니다.\n"
     ]
    },
    {
     "name": "stderr",
     "output_type": "stream",
     "text": [
      "(node:28352) [DEP0005] DeprecationWarning: Buffer() is deprecated due to security and usability issues. Please use the Buffer.alloc(), Buffer.allocUnsafe(), or Buffer.from() methods instead.\n",
      "(Use `Code - Insiders --trace-deprecation ...` to show where the warning was created)\n"
     ]
    },
    {
     "name": "stdout",
     "output_type": "stream",
     "text": [
      "확장을 설치하는 중...\n",
      "'formulahendry.code-runner' vundefined 확장이 설치되었습니다.\n",
      "'formulahendry.code-runner' 확장 설치를 취소했습니다.\n"
     ]
    },
    {
     "name": "stderr",
     "output_type": "stream",
     "text": [
      "(node:33124) [DEP0005] DeprecationWarning: Buffer() is deprecated due to security and usability issues. Please use the Buffer.alloc(), Buffer.allocUnsafe(), or Buffer.from() methods instead.\n",
      "(Use `Code - Insiders --trace-deprecation ...` to show where the warning was created)\n"
     ]
    },
    {
     "name": "stdout",
     "output_type": "stream",
     "text": [
      "확장을 설치하는 중...\n",
      "'github.github-vscode-theme' vundefined 확장이 설치되었습니다.\n",
      "'github.github-vscode-theme' 확장 설치를 취소했습니다.\n"
     ]
    },
    {
     "name": "stderr",
     "output_type": "stream",
     "text": [
      "(node:3116) [DEP0005] DeprecationWarning: Buffer() is deprecated due to security and usability issues. Please use the Buffer.alloc(), Buffer.allocUnsafe(), or Buffer.from() methods instead.\n",
      "(Use `Code - Insiders --trace-deprecation ...` to show where the warning was created)\n"
     ]
    },
    {
     "name": "stdout",
     "output_type": "stream",
     "text": [
      "확장을 설치하는 중...\n",
      "'github.remotehub' vundefined 확장이 설치되었습니다.\n",
      "'github.remotehub' 확장 설치를 취소했습니다.\n"
     ]
    },
    {
     "name": "stderr",
     "output_type": "stream",
     "text": [
      "(node:33720) [DEP0005] DeprecationWarning: Buffer() is deprecated due to security and usability issues. Please use the Buffer.alloc(), Buffer.allocUnsafe(), or Buffer.from() methods instead.\n",
      "(Use `Code - Insiders --trace-deprecation ...` to show where the warning was created)\n"
     ]
    },
    {
     "name": "stdout",
     "output_type": "stream",
     "text": [
      "확장을 설치하는 중...\n",
      "'github.vscode-pull-request-github' vundefined 확장이 설치되었습니다.\n",
      "'github.vscode-pull-request-github' 확장 설치를 취소했습니다.\n"
     ]
    },
    {
     "name": "stderr",
     "output_type": "stream",
     "text": [
      "(node:19584) [DEP0005] DeprecationWarning: Buffer() is deprecated due to security and usability issues. Please use the Buffer.alloc(), Buffer.allocUnsafe(), or Buffer.from() methods instead.\n",
      "(Use `Code - Insiders --trace-deprecation ...` to show where the warning was created)\n"
     ]
    },
    {
     "name": "stdout",
     "output_type": "stream",
     "text": [
      "확장을 설치하는 중...\n",
      "'grapecity.gc-excelviewer' vundefined 확장이 설치되었습니다.\n",
      "'grapecity.gc-excelviewer' 확장 설치를 취소했습니다.\n"
     ]
    },
    {
     "name": "stderr",
     "output_type": "stream",
     "text": [
      "(node:32760) [DEP0005] DeprecationWarning: Buffer() is deprecated due to security and usability issues. Please use the Buffer.alloc(), Buffer.allocUnsafe(), or Buffer.from() methods instead.\n",
      "(Use `Code - Insiders --trace-deprecation ...` to show where the warning was created)\n"
     ]
    },
    {
     "name": "stdout",
     "output_type": "stream",
     "text": [
      "확장을 설치하는 중...\n",
      "'horla.horla-light-theme' vundefined 확장이 설치되었습니다.\n",
      "'horla.horla-light-theme' 확장 설치를 취소했습니다.\n"
     ]
    },
    {
     "name": "stderr",
     "output_type": "stream",
     "text": [
      "(node:32172) [DEP0005] DeprecationWarning: Buffer() is deprecated due to security and usability issues. Please use the Buffer.alloc(), Buffer.allocUnsafe(), or Buffer.from() methods instead.\n",
      "(Use `Code - Insiders --trace-deprecation ...` to show where the warning was created)\n"
     ]
    },
    {
     "name": "stdout",
     "output_type": "stream",
     "text": [
      "확장을 설치하는 중...\n",
      "'intellsmi.comment-translate' vundefined 확장이 설치되었습니다.\n",
      "'intellsmi.comment-translate' 확장 설치를 취소했습니다.\n"
     ]
    },
    {
     "name": "stderr",
     "output_type": "stream",
     "text": [
      "(node:33048) [DEP0005] DeprecationWarning: Buffer() is deprecated due to security and usability issues. Please use the Buffer.alloc(), Buffer.allocUnsafe(), or Buffer.from() methods instead.\n",
      "(Use `Code - Insiders --trace-deprecation ...` to show where the warning was created)\n"
     ]
    },
    {
     "name": "stdout",
     "output_type": "stream",
     "text": [
      "확장을 설치하는 중...\n",
      "'jaaxxx.multicursor-casepreserve' vundefined 확장이 설치되었습니다.\n",
      "'jaaxxx.multicursor-casepreserve' 확장 설치를 취소했습니다.\n"
     ]
    },
    {
     "name": "stderr",
     "output_type": "stream",
     "text": [
      "(node:33656) [DEP0005] DeprecationWarning: Buffer() is deprecated due to security and usability issues. Please use the Buffer.alloc(), Buffer.allocUnsafe(), or Buffer.from() methods instead.\n",
      "(Use `Code - Insiders --trace-deprecation ...` to show where the warning was created)\n"
     ]
    },
    {
     "name": "stdout",
     "output_type": "stream",
     "text": [
      "확장을 설치하는 중...\n",
      "'janisdd.vscode-edit-csv' vundefined 확장이 설치되었습니다.\n",
      "'janisdd.vscode-edit-csv' 확장 설치를 취소했습니다.\n"
     ]
    },
    {
     "name": "stderr",
     "output_type": "stream",
     "text": [
      "(node:30864) [DEP0005] DeprecationWarning: Buffer() is deprecated due to security and usability issues. Please use the Buffer.alloc(), Buffer.allocUnsafe(), or Buffer.from() methods instead.\n",
      "(Use `Code - Insiders --trace-deprecation ...` to show where the warning was created)\n"
     ]
    },
    {
     "name": "stdout",
     "output_type": "stream",
     "text": [
      "확장을 설치하는 중...\n",
      "확장 'johnpapa.vscode-peacock' v4.2.2이(가) 이미 설치되어 있습니다. '--force' 옵션을 사용하여 최신 버전으로 업데이트하거나 '@<version>'을 제공하여 특정 버전을 설치합니다. 예: 'johnpapa.vscode-peacock@1.2.3'\n",
      "확장을 설치하는 중...\n",
      "'johnpapa.winteriscoming' vundefined 확장이 설치되었습니다.\n",
      "'johnpapa.winteriscoming' 확장 설치를 취소했습니다.\n"
     ]
    },
    {
     "name": "stderr",
     "output_type": "stream",
     "text": [
      "(node:33440) [DEP0005] DeprecationWarning: Buffer() is deprecated due to security and usability issues. Please use the Buffer.alloc(), Buffer.allocUnsafe(), or Buffer.from() methods instead.\n",
      "(Use `Code - Insiders --trace-deprecation ...` to show where the warning was created)\n"
     ]
    },
    {
     "name": "stdout",
     "output_type": "stream",
     "text": [
      "확장을 설치하는 중...\n",
      "확장 'kevinrose.vsc-python-indent' v1.18.0이(가) 이미 설치되어 있습니다. '--force' 옵션을 사용하여 최신 버전으로 업데이트하거나 '@<version>'을 제공하여 특정 버전을 설치합니다. 예: 'kevinrose.vsc-python-indent@1.2.3'\n",
      "확장을 설치하는 중...\n",
      "'magicstack.magicpython' vundefined 확장이 설치되었습니다.\n",
      "'magicstack.magicpython' 확장 설치를 취소했습니다.\n"
     ]
    },
    {
     "name": "stderr",
     "output_type": "stream",
     "text": [
      "(node:12712) [DEP0005] DeprecationWarning: Buffer() is deprecated due to security and usability issues. Please use the Buffer.alloc(), Buffer.allocUnsafe(), or Buffer.from() methods instead.\n",
      "(Use `Code - Insiders --trace-deprecation ...` to show where the warning was created)\n"
     ]
    },
    {
     "name": "stdout",
     "output_type": "stream",
     "text": [
      "확장을 설치하는 중...\n",
      "'marp-team.marp-vscode' vundefined 확장이 설치되었습니다.\n",
      "'marp-team.marp-vscode' 확장 설치를 취소했습니다.\n"
     ]
    },
    {
     "name": "stderr",
     "output_type": "stream",
     "text": [
      "(node:28324) [DEP0005] DeprecationWarning: Buffer() is deprecated due to security and usability issues. Please use the Buffer.alloc(), Buffer.allocUnsafe(), or Buffer.from() methods instead.\n",
      "(Use `Code - Insiders --trace-deprecation ...` to show where the warning was created)\n"
     ]
    },
    {
     "name": "stdout",
     "output_type": "stream",
     "text": [
      "확장을 설치하는 중...\n",
      "'mechatroner.rainbow-csv' vundefined 확장이 설치되었습니다.\n",
      "'mechatroner.rainbow-csv' 확장 설치를 취소했습니다.\n"
     ]
    },
    {
     "name": "stderr",
     "output_type": "stream",
     "text": [
      "(node:33752) [DEP0005] DeprecationWarning: Buffer() is deprecated due to security and usability issues. Please use the Buffer.alloc(), Buffer.allocUnsafe(), or Buffer.from() methods instead.\n",
      "(Use `Code - Insiders --trace-deprecation ...` to show where the warning was created)\n"
     ]
    },
    {
     "name": "stdout",
     "output_type": "stream",
     "text": [
      "확장을 설치하는 중...\n",
      "'mhutchie.git-graph' vundefined 확장이 설치되었습니다.\n",
      "'mhutchie.git-graph' 확장 설치를 취소했습니다.\n"
     ]
    },
    {
     "name": "stderr",
     "output_type": "stream",
     "text": [
      "(node:33700) [DEP0005] DeprecationWarning: Buffer() is deprecated due to security and usability issues. Please use the Buffer.alloc(), Buffer.allocUnsafe(), or Buffer.from() methods instead.\n",
      "(Use `Code - Insiders --trace-deprecation ...` to show where the warning was created)\n"
     ]
    },
    {
     "name": "stdout",
     "output_type": "stream",
     "text": [
      "확장을 설치하는 중...\n",
      "'monokai.theme-monokai-pro-vscode' vundefined 확장이 설치되었습니다.\n",
      "'monokai.theme-monokai-pro-vscode' 확장 설치를 취소했습니다.\n"
     ]
    },
    {
     "name": "stderr",
     "output_type": "stream",
     "text": [
      "(node:24564) [DEP0005] DeprecationWarning: Buffer() is deprecated due to security and usability issues. Please use the Buffer.alloc(), Buffer.allocUnsafe(), or Buffer.from() methods instead.\n",
      "(Use `Code - Insiders --trace-deprecation ...` to show where the warning was created)\n"
     ]
    },
    {
     "name": "stdout",
     "output_type": "stream",
     "text": [
      "확장을 설치하는 중...\n",
      "'ms-azuretools.vscode-docker' vundefined 확장이 설치되었습니다.\n",
      "'ms-azuretools.vscode-docker' 확장 설치를 취소했습니다.\n"
     ]
    },
    {
     "name": "stderr",
     "output_type": "stream",
     "text": [
      "(node:10380) [DEP0005] DeprecationWarning: Buffer() is deprecated due to security and usability issues. Please use the Buffer.alloc(), Buffer.allocUnsafe(), or Buffer.from() methods instead.\n",
      "(Use `Code - Insiders --trace-deprecation ...` to show where the warning was created)\n"
     ]
    },
    {
     "name": "stdout",
     "output_type": "stream",
     "text": [
      "확장을 설치하는 중...\n",
      "확장 'ms-ceintl.vscode-language-pack-ko' v1.78.2023041909이(가) 이미 설치되어 있습니다. '--force' 옵션을 사용하여 최신 버전으로 업데이트하거나 '@<version>'을 제공하여 특정 버전을 설치합니다. 예: 'ms-ceintl.vscode-language-pack-ko@1.2.3'\n",
      "확장을 설치하는 중...\n",
      "'ms-dotnettools.dotnet-interactive-vscode' vundefined 확장이 설치되었습니다.\n",
      "'ms-dotnettools.dotnet-interactive-vscode' 확장 설치를 취소했습니다.\n"
     ]
    },
    {
     "name": "stderr",
     "output_type": "stream",
     "text": [
      "(node:33548) [DEP0005] DeprecationWarning: Buffer() is deprecated due to security and usability issues. Please use the Buffer.alloc(), Buffer.allocUnsafe(), or Buffer.from() methods instead.\n",
      "(Use `Code - Insiders --trace-deprecation ...` to show where the warning was created)\n"
     ]
    },
    {
     "name": "stdout",
     "output_type": "stream",
     "text": [
      "확장을 설치하는 중...\n",
      "'ms-edgedevtools.vscode-edge-devtools' vundefined 확장이 설치되었습니다.\n",
      "'ms-edgedevtools.vscode-edge-devtools' 확장 설치를 취소했습니다.\n"
     ]
    },
    {
     "name": "stderr",
     "output_type": "stream",
     "text": [
      "(node:25836) [DEP0005] DeprecationWarning: Buffer() is deprecated due to security and usability issues. Please use the Buffer.alloc(), Buffer.allocUnsafe(), or Buffer.from() methods instead.\n",
      "(Use `Code - Insiders --trace-deprecation ...` to show where the warning was created)\n"
     ]
    },
    {
     "name": "stdout",
     "output_type": "stream",
     "text": [
      "확장을 설치하는 중...\n",
      "'ms-python.black-formatter' vundefined 확장이 설치되었습니다.\n",
      "'ms-python.black-formatter' 확장 설치를 취소했습니다.\n"
     ]
    },
    {
     "name": "stderr",
     "output_type": "stream",
     "text": [
      "(node:33468) [DEP0005] DeprecationWarning: Buffer() is deprecated due to security and usability issues. Please use the Buffer.alloc(), Buffer.allocUnsafe(), or Buffer.from() methods instead.\n",
      "(Use `Code - Insiders --trace-deprecation ...` to show where the warning was created)\n"
     ]
    },
    {
     "name": "stdout",
     "output_type": "stream",
     "text": [
      "확장을 설치하는 중...\n",
      "'ms-python.gather' vundefined 확장이 설치되었습니다.\n",
      "'ms-python.gather' 확장 설치를 취소했습니다.\n"
     ]
    },
    {
     "name": "stderr",
     "output_type": "stream",
     "text": [
      "(node:34120) [DEP0005] DeprecationWarning: Buffer() is deprecated due to security and usability issues. Please use the Buffer.alloc(), Buffer.allocUnsafe(), or Buffer.from() methods instead.\n",
      "(Use `Code - Insiders --trace-deprecation ...` to show where the warning was created)\n"
     ]
    },
    {
     "name": "stdout",
     "output_type": "stream",
     "text": [
      "확장을 설치하는 중...\n",
      "'ms-python.isort' vundefined 확장이 설치되었습니다.\n",
      "'ms-python.isort' 확장 설치를 취소했습니다.\n"
     ]
    },
    {
     "name": "stderr",
     "output_type": "stream",
     "text": [
      "(node:34440) [DEP0005] DeprecationWarning: Buffer() is deprecated due to security and usability issues. Please use the Buffer.alloc(), Buffer.allocUnsafe(), or Buffer.from() methods instead.\n",
      "(Use `Code - Insiders --trace-deprecation ...` to show where the warning was created)\n"
     ]
    },
    {
     "name": "stdout",
     "output_type": "stream",
     "text": [
      "확장을 설치하는 중...\n",
      "확장 'ms-python.python' v2023.7.11111009이(가) 이미 설치되어 있습니다. '--force' 옵션을 사용하여 최신 버전으로 업데이트하거나 '@<version>'을 제공하여 특정 버전을 설치합니다. 예: 'ms-python.python@1.2.3'\n",
      "확장을 설치하는 중...\n",
      "확장 'ms-python.vscode-pylance' v2023.4.31이(가) 이미 설치되어 있습니다. '--force' 옵션을 사용하여 최신 버전으로 업데이트하거나 '@<version>'을 제공하여 특정 버전을 설치합니다. 예: 'ms-python.vscode-pylance@1.2.3'\n",
      "확장을 설치하는 중...\n",
      "확장 'ms-toolsai.jupyter' v2023.4.1011131537이(가) 이미 설치되어 있습니다. '--force' 옵션을 사용하여 최신 버전으로 업데이트하거나 '@<version>'을 제공하여 특정 버전을 설치합니다. 예: 'ms-toolsai.jupyter@1.2.3'\n",
      "확장을 설치하는 중...\n",
      "확장 'ms-toolsai.jupyter-keymap' v1.1.0이(가) 이미 설치되어 있습니다. '--force' 옵션을 사용하여 최신 버전으로 업데이트하거나 '@<version>'을 제공하여 특정 버전을 설치합니다. 예: 'ms-toolsai.jupyter-keymap@1.2.3'\n",
      "확장을 설치하는 중...\n",
      "확장 'ms-toolsai.jupyter-renderers' v1.0.15이(가) 이미 설치되어 있습니다. '--force' 옵션을 사용하여 최신 버전으로 업데이트하거나 '@<version>'을 제공하여 특정 버전을 설치합니다. 예: 'ms-toolsai.jupyter-renderers@1.2.3'\n",
      "확장을 설치하는 중...\n",
      "확장 'ms-toolsai.vscode-jupyter-cell-tags' v0.1.8이(가) 이미 설치되어 있습니다. '--force' 옵션을 사용하여 최신 버전으로 업데이트하거나 '@<version>'을 제공하여 특정 버전을 설치합니다. 예: 'ms-toolsai.vscode-jupyter-cell-tags@1.2.3'\n",
      "확장을 설치하는 중...\n",
      "'ms-toolsai.vscode-jupyter-powertoys' vundefined 확장이 설치되었습니다.\n",
      "'ms-toolsai.vscode-jupyter-powertoys' 확장 설치를 취소했습니다.\n"
     ]
    },
    {
     "name": "stderr",
     "output_type": "stream",
     "text": [
      "(node:34316) [DEP0005] DeprecationWarning: Buffer() is deprecated due to security and usability issues. Please use the Buffer.alloc(), Buffer.allocUnsafe(), or Buffer.from() methods instead.\n",
      "(Use `Code - Insiders --trace-deprecation ...` to show where the warning was created)\n"
     ]
    },
    {
     "name": "stdout",
     "output_type": "stream",
     "text": [
      "확장을 설치하는 중...\n",
      "확장 'ms-toolsai.vscode-jupyter-slideshow' v0.1.5이(가) 이미 설치되어 있습니다. '--force' 옵션을 사용하여 최신 버전으로 업데이트하거나 '@<version>'을 제공하여 특정 버전을 설치합니다. 예: 'ms-toolsai.vscode-jupyter-slideshow@1.2.3'\n",
      "확장을 설치하는 중...\n",
      "'ms-vscode-remote.remote-containers' vundefined 확장이 설치되었습니다.\n",
      "'ms-vscode-remote.remote-containers' 확장 설치를 취소했습니다.\n"
     ]
    },
    {
     "name": "stderr",
     "output_type": "stream",
     "text": [
      "(node:33028) [DEP0005] DeprecationWarning: Buffer() is deprecated due to security and usability issues. Please use the Buffer.alloc(), Buffer.allocUnsafe(), or Buffer.from() methods instead.\n",
      "(Use `Code - Insiders --trace-deprecation ...` to show where the warning was created)\n"
     ]
    },
    {
     "name": "stdout",
     "output_type": "stream",
     "text": [
      "확장을 설치하는 중...\n",
      "'ms-vscode-remote.remote-ssh' vundefined 확장이 설치되었습니다.\n",
      "'ms-vscode-remote.remote-ssh' 확장 설치를 취소했습니다.\n"
     ]
    },
    {
     "name": "stderr",
     "output_type": "stream",
     "text": [
      "(node:33640) [DEP0005] DeprecationWarning: Buffer() is deprecated due to security and usability issues. Please use the Buffer.alloc(), Buffer.allocUnsafe(), or Buffer.from() methods instead.\n",
      "(Use `Code - Insiders --trace-deprecation ...` to show where the warning was created)\n"
     ]
    },
    {
     "name": "stdout",
     "output_type": "stream",
     "text": [
      "확장을 설치하는 중...\n",
      "확장 'ms-vscode-remote.remote-ssh-edit' v0.84.0이(가) 이미 설치되어 있습니다. '--force' 옵션을 사용하여 최신 버전으로 업데이트하거나 '@<version>'을 제공하여 특정 버전을 설치합니다. 예: 'ms-vscode-remote.remote-ssh-edit@1.2.3'\n",
      "확장을 설치하는 중...\n",
      "'ms-vscode-remote.remote-wsl' vundefined 확장이 설치되었습니다.\n",
      "'ms-vscode-remote.remote-wsl' 확장 설치를 취소했습니다.\n"
     ]
    },
    {
     "name": "stderr",
     "output_type": "stream",
     "text": [
      "(node:34628) [DEP0005] DeprecationWarning: Buffer() is deprecated due to security and usability issues. Please use the Buffer.alloc(), Buffer.allocUnsafe(), or Buffer.from() methods instead.\n",
      "(Use `Code - Insiders --trace-deprecation ...` to show where the warning was created)\n"
     ]
    },
    {
     "name": "stdout",
     "output_type": "stream",
     "text": [
      "확장을 설치하는 중...\n",
      "'ms-vscode-remote.vscode-remote-extensionpack' vundefined 확장이 설치되었습니다.\n",
      "'ms-vscode-remote.vscode-remote-extensionpack' 확장 설치를 취소했습니다.\n"
     ]
    },
    {
     "name": "stderr",
     "output_type": "stream",
     "text": [
      "(node:33812) [DEP0005] DeprecationWarning: Buffer() is deprecated due to security and usability issues. Please use the Buffer.alloc(), Buffer.allocUnsafe(), or Buffer.from() methods instead.\n",
      "(Use `Code - Insiders --trace-deprecation ...` to show where the warning was created)\n"
     ]
    },
    {
     "name": "stdout",
     "output_type": "stream",
     "text": [
      "확장을 설치하는 중...\n",
      "'ms-vscode.powershell' vundefined 확장이 설치되었습니다.\n",
      "'ms-vscode.powershell' 확장 설치를 취소했습니다.\n"
     ]
    },
    {
     "name": "stderr",
     "output_type": "stream",
     "text": [
      "(node:9952) [DEP0005] DeprecationWarning: Buffer() is deprecated due to security and usability issues. Please use the Buffer.alloc(), Buffer.allocUnsafe(), or Buffer.from() methods instead.\n",
      "(Use `Code - Insiders --trace-deprecation ...` to show where the warning was created)\n"
     ]
    },
    {
     "name": "stdout",
     "output_type": "stream",
     "text": [
      "확장을 설치하는 중...\n",
      "확장 'ms-vscode.remote-explorer' v0.4.0이(가) 이미 설치되어 있습니다. '--force' 옵션을 사용하여 최신 버전으로 업데이트하거나 '@<version>'을 제공하여 특정 버전을 설치합니다. 예: 'ms-vscode.remote-explorer@1.2.3'\n",
      "확장을 설치하는 중...\n",
      "확장 'ms-vscode.remote-repositories' v0.32.0이(가) 이미 설치되어 있습니다. '--force' 옵션을 사용하여 최신 버전으로 업데이트하거나 '@<version>'을 제공하여 특정 버전을 설치합니다. 예: 'ms-vscode.remote-repositories@1.2.3'\n",
      "확장을 설치하는 중...\n",
      "확장 'ms-vscode.remote-server' v1.0.0이(가) 이미 설치되어 있습니다. '--force' 옵션을 사용하여 최신 버전으로 업데이트하거나 '@<version>'을 제공하여 특정 버전을 설치합니다. 예: 'ms-vscode.remote-server@1.2.3'\n",
      "확장을 설치하는 중...\n",
      "'ms-vsliveshare.vsliveshare' vundefined 확장이 설치되었습니다.\n",
      "'ms-vsliveshare.vsliveshare' 확장 설치를 취소했습니다.\n"
     ]
    },
    {
     "name": "stderr",
     "output_type": "stream",
     "text": [
      "(node:25376) [DEP0005] DeprecationWarning: Buffer() is deprecated due to security and usability issues. Please use the Buffer.alloc(), Buffer.allocUnsafe(), or Buffer.from() methods instead.\n",
      "(Use `Code - Insiders --trace-deprecation ...` to show where the warning was created)\n"
     ]
    },
    {
     "name": "stdout",
     "output_type": "stream",
     "text": [
      "확장을 설치하는 중...\n",
      "'msnilshartmann.blue-light' vundefined 확장이 설치되었습니다.\n",
      "'msnilshartmann.blue-light' 확장 설치를 취소했습니다.\n"
     ]
    },
    {
     "name": "stderr",
     "output_type": "stream",
     "text": [
      "(node:31360) [DEP0005] DeprecationWarning: Buffer() is deprecated due to security and usability issues. Please use the Buffer.alloc(), Buffer.allocUnsafe(), or Buffer.from() methods instead.\n",
      "(Use `Code - Insiders --trace-deprecation ...` to show where the warning was created)\n"
     ]
    },
    {
     "name": "stdout",
     "output_type": "stream",
     "text": [
      "확장을 설치하는 중...\n",
      "'mtxr.sqltools' vundefined 확장이 설치되었습니다.\n",
      "'mtxr.sqltools' 확장 설치를 취소했습니다.\n"
     ]
    },
    {
     "name": "stderr",
     "output_type": "stream",
     "text": [
      "(node:33964) [DEP0005] DeprecationWarning: Buffer() is deprecated due to security and usability issues. Please use the Buffer.alloc(), Buffer.allocUnsafe(), or Buffer.from() methods instead.\n",
      "(Use `Code - Insiders --trace-deprecation ...` to show where the warning was created)\n"
     ]
    },
    {
     "name": "stdout",
     "output_type": "stream",
     "text": [
      "확장을 설치하는 중...\n",
      "'mtxr.sqltools-driver-mysql' vundefined 확장이 설치되었습니다.\n",
      "'mtxr.sqltools-driver-mysql' 확장 설치를 취소했습니다.\n"
     ]
    },
    {
     "name": "stderr",
     "output_type": "stream",
     "text": [
      "(node:30740) [DEP0005] DeprecationWarning: Buffer() is deprecated due to security and usability issues. Please use the Buffer.alloc(), Buffer.allocUnsafe(), or Buffer.from() methods instead.\n",
      "(Use `Code - Insiders --trace-deprecation ...` to show where the warning was created)\n"
     ]
    },
    {
     "name": "stdout",
     "output_type": "stream",
     "text": [
      "확장을 설치하는 중...\n",
      "확장 'njpwerner.autodocstring' v0.6.1이(가) 이미 설치되어 있습니다. '--force' 옵션을 사용하여 최신 버전으로 업데이트하거나 '@<version>'을 제공하여 특정 버전을 설치합니다. 예: 'njpwerner.autodocstring@1.2.3'\n",
      "확장을 설치하는 중...\n",
      "'njqdev.vscode-python-typehint' vundefined 확장이 설치되었습니다.\n",
      "'njqdev.vscode-python-typehint' 확장 설치를 취소했습니다.\n"
     ]
    },
    {
     "name": "stderr",
     "output_type": "stream",
     "text": [
      "(node:34632) [DEP0005] DeprecationWarning: Buffer() is deprecated due to security and usability issues. Please use the Buffer.alloc(), Buffer.allocUnsafe(), or Buffer.from() methods instead.\n",
      "(Use `Code - Insiders --trace-deprecation ...` to show where the warning was created)\n"
     ]
    },
    {
     "name": "stdout",
     "output_type": "stream",
     "text": [
      "확장을 설치하는 중...\n",
      "확장 'nonoroazoro.syncing' v3.3.4이(가) 이미 설치되어 있습니다. '--force' 옵션을 사용하여 최신 버전으로 업데이트하거나 '@<version>'을 제공하여 특정 버전을 설치합니다. 예: 'nonoroazoro.syncing@1.2.3'\n",
      "확장을 설치하는 중...\n",
      "'oderwat.indent-rainbow' vundefined 확장이 설치되었습니다.\n",
      "'oderwat.indent-rainbow' 확장 설치를 취소했습니다.\n"
     ]
    },
    {
     "name": "stderr",
     "output_type": "stream",
     "text": [
      "(node:17524) [DEP0005] DeprecationWarning: Buffer() is deprecated due to security and usability issues. Please use the Buffer.alloc(), Buffer.allocUnsafe(), or Buffer.from() methods instead.\n",
      "(Use `Code - Insiders --trace-deprecation ...` to show where the warning was created)\n"
     ]
    },
    {
     "name": "stdout",
     "output_type": "stream",
     "text": [
      "확장을 설치하는 중...\n",
      "'oracle.mysql-shell-for-vs-code' vundefined 확장이 설치되었습니다.\n",
      "'oracle.mysql-shell-for-vs-code' 확장 설치를 취소했습니다.\n"
     ]
    },
    {
     "name": "stderr",
     "output_type": "stream",
     "text": [
      "(node:33912) [DEP0005] DeprecationWarning: Buffer() is deprecated due to security and usability issues. Please use the Buffer.alloc(), Buffer.allocUnsafe(), or Buffer.from() methods instead.\n",
      "(Use `Code - Insiders --trace-deprecation ...` to show where the warning was created)\n"
     ]
    },
    {
     "name": "stdout",
     "output_type": "stream",
     "text": [
      "확장을 설치하는 중...\n",
      "'phoihos.csv-to-md-table' vundefined 확장이 설치되었습니다.\n",
      "'phoihos.csv-to-md-table' 확장 설치를 취소했습니다.\n"
     ]
    },
    {
     "name": "stderr",
     "output_type": "stream",
     "text": [
      "(node:34660) [DEP0005] DeprecationWarning: Buffer() is deprecated due to security and usability issues. Please use the Buffer.alloc(), Buffer.allocUnsafe(), or Buffer.from() methods instead.\n",
      "(Use `Code - Insiders --trace-deprecation ...` to show where the warning was created)\n"
     ]
    },
    {
     "name": "stdout",
     "output_type": "stream",
     "text": [
      "확장을 설치하는 중...\n",
      "'phplasma.csv-to-table' vundefined 확장이 설치되었습니다.\n",
      "'phplasma.csv-to-table' 확장 설치를 취소했습니다.\n"
     ]
    },
    {
     "name": "stderr",
     "output_type": "stream",
     "text": [
      "(node:34780) [DEP0005] DeprecationWarning: Buffer() is deprecated due to security and usability issues. Please use the Buffer.alloc(), Buffer.allocUnsafe(), or Buffer.from() methods instead.\n",
      "(Use `Code - Insiders --trace-deprecation ...` to show where the warning was created)\n"
     ]
    },
    {
     "name": "stdout",
     "output_type": "stream",
     "text": [
      "확장을 설치하는 중...\n",
      "'pkief.material-icon-theme' vundefined 확장이 설치되었습니다.\n",
      "'pkief.material-icon-theme' 확장 설치를 취소했습니다.\n"
     ]
    },
    {
     "name": "stderr",
     "output_type": "stream",
     "text": [
      "(node:20928) [DEP0005] DeprecationWarning: Buffer() is deprecated due to security and usability issues. Please use the Buffer.alloc(), Buffer.allocUnsafe(), or Buffer.from() methods instead.\n",
      "(Use `Code - Insiders --trace-deprecation ...` to show where the warning was created)\n"
     ]
    },
    {
     "name": "stdout",
     "output_type": "stream",
     "text": [
      "확장을 설치하는 중...\n",
      "'rahmanyerli.ra-spring' vundefined 확장이 설치되었습니다.\n",
      "'rahmanyerli.ra-spring' 확장 설치를 취소했습니다.\n"
     ]
    },
    {
     "name": "stderr",
     "output_type": "stream",
     "text": [
      "(node:34808) [DEP0005] DeprecationWarning: Buffer() is deprecated due to security and usability issues. Please use the Buffer.alloc(), Buffer.allocUnsafe(), or Buffer.from() methods instead.\n",
      "(Use `Code - Insiders --trace-deprecation ...` to show where the warning was created)\n"
     ]
    },
    {
     "name": "stdout",
     "output_type": "stream",
     "text": [
      "확장을 설치하는 중...\n",
      "'randomfractalsinc.vscode-data-preview' vundefined 확장이 설치되었습니다.\n",
      "'randomfractalsinc.vscode-data-preview' 확장 설치를 취소했습니다.\n"
     ]
    },
    {
     "name": "stderr",
     "output_type": "stream",
     "text": [
      "(node:29016) [DEP0005] DeprecationWarning: Buffer() is deprecated due to security and usability issues. Please use the Buffer.alloc(), Buffer.allocUnsafe(), or Buffer.from() methods instead.\n",
      "(Use `Code - Insiders --trace-deprecation ...` to show where the warning was created)\n"
     ]
    },
    {
     "name": "stdout",
     "output_type": "stream",
     "text": [
      "확장을 설치하는 중...\n",
      "'randomfractalsinc.vscode-data-table' vundefined 확장이 설치되었습니다.\n",
      "'randomfractalsinc.vscode-data-table' 확장 설치를 취소했습니다.\n"
     ]
    },
    {
     "name": "stderr",
     "output_type": "stream",
     "text": [
      "(node:35048) [DEP0005] DeprecationWarning: Buffer() is deprecated due to security and usability issues. Please use the Buffer.alloc(), Buffer.allocUnsafe(), or Buffer.from() methods instead.\n",
      "(Use `Code - Insiders --trace-deprecation ...` to show where the warning was created)\n"
     ]
    },
    {
     "name": "stdout",
     "output_type": "stream",
     "text": [
      "확장을 설치하는 중...\n",
      "'redhat.vscode-yaml' vundefined 확장이 설치되었습니다.\n",
      "'redhat.vscode-yaml' 확장 설치를 취소했습니다.\n"
     ]
    },
    {
     "name": "stderr",
     "output_type": "stream",
     "text": [
      "(node:34192) [DEP0005] DeprecationWarning: Buffer() is deprecated due to security and usability issues. Please use the Buffer.alloc(), Buffer.allocUnsafe(), or Buffer.from() methods instead.\n",
      "(Use `Code - Insiders --trace-deprecation ...` to show where the warning was created)\n"
     ]
    },
    {
     "name": "stdout",
     "output_type": "stream",
     "text": [
      "확장을 설치하는 중...\n",
      "'renxzen.google-colab-theme' vundefined 확장이 설치되었습니다.\n",
      "'renxzen.google-colab-theme' 확장 설치를 취소했습니다.\n"
     ]
    },
    {
     "name": "stderr",
     "output_type": "stream",
     "text": [
      "(node:34164) [DEP0005] DeprecationWarning: Buffer() is deprecated due to security and usability issues. Please use the Buffer.alloc(), Buffer.allocUnsafe(), or Buffer.from() methods instead.\n",
      "(Use `Code - Insiders --trace-deprecation ...` to show where the warning was created)\n"
     ]
    },
    {
     "name": "stdout",
     "output_type": "stream",
     "text": [
      "확장을 설치하는 중...\n",
      "'sam-the-programmer.jupyter-theme' vundefined 확장이 설치되었습니다.\n",
      "'sam-the-programmer.jupyter-theme' 확장 설치를 취소했습니다.\n"
     ]
    },
    {
     "name": "stderr",
     "output_type": "stream",
     "text": [
      "(node:28684) [DEP0005] DeprecationWarning: Buffer() is deprecated due to security and usability issues. Please use the Buffer.alloc(), Buffer.allocUnsafe(), or Buffer.from() methods instead.\n",
      "(Use `Code - Insiders --trace-deprecation ...` to show where the warning was created)\n"
     ]
    },
    {
     "name": "stdout",
     "output_type": "stream",
     "text": [
      "확장을 설치하는 중...\n",
      "'sbsnippets.pytorch-snippets' vundefined 확장이 설치되었습니다.\n",
      "'sbsnippets.pytorch-snippets' 확장 설치를 취소했습니다.\n"
     ]
    },
    {
     "name": "stderr",
     "output_type": "stream",
     "text": [
      "(node:6728) [DEP0005] DeprecationWarning: Buffer() is deprecated due to security and usability issues. Please use the Buffer.alloc(), Buffer.allocUnsafe(), or Buffer.from() methods instead.\n",
      "(Use `Code - Insiders --trace-deprecation ...` to show where the warning was created)\n"
     ]
    },
    {
     "name": "stdout",
     "output_type": "stream",
     "text": [
      "확장을 설치하는 중...\n",
      "'tanmay.discord-theme' vundefined 확장이 설치되었습니다.\n",
      "'tanmay.discord-theme' 확장 설치를 취소했습니다.\n"
     ]
    },
    {
     "name": "stderr",
     "output_type": "stream",
     "text": [
      "(node:29960) [DEP0005] DeprecationWarning: Buffer() is deprecated due to security and usability issues. Please use the Buffer.alloc(), Buffer.allocUnsafe(), or Buffer.from() methods instead.\n",
      "(Use `Code - Insiders --trace-deprecation ...` to show where the warning was created)\n"
     ]
    },
    {
     "name": "stdout",
     "output_type": "stream",
     "text": [
      "확장을 설치하는 중...\n",
      "'tomoki1207.pdf' vundefined 확장이 설치되었습니다.\n",
      "'tomoki1207.pdf' 확장 설치를 취소했습니다.\n"
     ]
    },
    {
     "name": "stderr",
     "output_type": "stream",
     "text": [
      "(node:21724) [DEP0005] DeprecationWarning: Buffer() is deprecated due to security and usability issues. Please use the Buffer.alloc(), Buffer.allocUnsafe(), or Buffer.from() methods instead.\n",
      "(Use `Code - Insiders --trace-deprecation ...` to show where the warning was created)\n"
     ]
    },
    {
     "name": "stdout",
     "output_type": "stream",
     "text": [
      "확장을 설치하는 중...\n",
      "'uloco.theme-bluloco-light' vundefined 확장이 설치되었습니다.\n",
      "'uloco.theme-bluloco-light' 확장 설치를 취소했습니다.\n"
     ]
    },
    {
     "name": "stderr",
     "output_type": "stream",
     "text": [
      "(node:34760) [DEP0005] DeprecationWarning: Buffer() is deprecated due to security and usability issues. Please use the Buffer.alloc(), Buffer.allocUnsafe(), or Buffer.from() methods instead.\n",
      "(Use `Code - Insiders --trace-deprecation ...` to show where the warning was created)\n"
     ]
    },
    {
     "name": "stdout",
     "output_type": "stream",
     "text": [
      "확장을 설치하는 중...\n",
      "'vincaslt.highlight-matching-tag' vundefined 확장이 설치되었습니다.\n",
      "'vincaslt.highlight-matching-tag' 확장 설치를 취소했습니다.\n"
     ]
    },
    {
     "name": "stderr",
     "output_type": "stream",
     "text": [
      "(node:35672) [DEP0005] DeprecationWarning: Buffer() is deprecated due to security and usability issues. Please use the Buffer.alloc(), Buffer.allocUnsafe(), or Buffer.from() methods instead.\n",
      "(Use `Code - Insiders --trace-deprecation ...` to show where the warning was created)\n"
     ]
    },
    {
     "name": "stdout",
     "output_type": "stream",
     "text": [
      "확장을 설치하는 중...\n",
      "확장 'visualstudioexptteam.intellicode-api-usage-examples' v0.2.7이(가) 이미 설치되어 있습니다. '--force' 옵션을 사용하여 최신 버전으로 업데이트하거나 '@<version>'을 제공하여 특정 버전을 설치합니다. 예: 'visualstudioexptteam.intellicode-api-usage-examples@1.2.3'\n",
      "확장을 설치하는 중...\n",
      "확장 'visualstudioexptteam.vscodeintellicode' v1.2.30이(가) 이미 설치되어 있습니다. '--force' 옵션을 사용하여 최신 버전으로 업데이트하거나 '@<version>'을 제공하여 특정 버전을 설치합니다. 예: 'visualstudioexptteam.vscodeintellicode@1.2.3'\n",
      "확장을 설치하는 중...\n",
      "'visualstudioexptteam.vscodeintellicode-completions' vundefined 확장이 설치되었습니다.\n",
      "'visualstudioexptteam.vscodeintellicode-completions' 확장 설치를 취소했습니다.\n"
     ]
    },
    {
     "name": "stderr",
     "output_type": "stream",
     "text": [
      "(node:31244) [DEP0005] DeprecationWarning: Buffer() is deprecated due to security and usability issues. Please use the Buffer.alloc(), Buffer.allocUnsafe(), or Buffer.from() methods instead.\n",
      "(Use `Code - Insiders --trace-deprecation ...` to show where the warning was created)\n"
     ]
    },
    {
     "name": "stdout",
     "output_type": "stream",
     "text": [
      "확장을 설치하는 중...\n",
      "'vscode-icons-team.vscode-icons' vundefined 확장이 설치되었습니다.\n",
      "'vscode-icons-team.vscode-icons' 확장 설치를 취소했습니다.\n"
     ]
    },
    {
     "name": "stderr",
     "output_type": "stream",
     "text": [
      "(node:35376) [DEP0005] DeprecationWarning: Buffer() is deprecated due to security and usability issues. Please use the Buffer.alloc(), Buffer.allocUnsafe(), or Buffer.from() methods instead.\n",
      "(Use `Code - Insiders --trace-deprecation ...` to show where the warning was created)\n"
     ]
    },
    {
     "name": "stdout",
     "output_type": "stream",
     "text": [
      "확장을 설치하는 중...\n",
      "'waderyan.gitblame' vundefined 확장이 설치되었습니다.\n",
      "'waderyan.gitblame' 확장 설치를 취소했습니다.\n"
     ]
    },
    {
     "name": "stderr",
     "output_type": "stream",
     "text": [
      "(node:35760) [DEP0005] DeprecationWarning: Buffer() is deprecated due to security and usability issues. Please use the Buffer.alloc(), Buffer.allocUnsafe(), or Buffer.from() methods instead.\n",
      "(Use `Code - Insiders --trace-deprecation ...` to show where the warning was created)\n"
     ]
    },
    {
     "name": "stdout",
     "output_type": "stream",
     "text": [
      "확장을 설치하는 중...\n",
      "'whizkydee.material-palenight-theme' vundefined 확장이 설치되었습니다.\n",
      "'whizkydee.material-palenight-theme' 확장 설치를 취소했습니다.\n"
     ]
    },
    {
     "name": "stderr",
     "output_type": "stream",
     "text": [
      "(node:35084) [DEP0005] DeprecationWarning: Buffer() is deprecated due to security and usability issues. Please use the Buffer.alloc(), Buffer.allocUnsafe(), or Buffer.from() methods instead.\n",
      "(Use `Code - Insiders --trace-deprecation ...` to show where the warning was created)\n"
     ]
    },
    {
     "name": "stdout",
     "output_type": "stream",
     "text": [
      "확장을 설치하는 중...\n",
      "확장 'wholroyd.jinja' v0.0.8이(가) 이미 설치되어 있습니다. '--force' 옵션을 사용하여 최신 버전으로 업데이트하거나 '@<version>'을 제공하여 특정 버전을 설치합니다. 예: 'wholroyd.jinja@1.2.3'\n",
      "확장을 설치하는 중...\n",
      "'youssef.viow' vundefined 확장이 설치되었습니다.\n",
      "'youssef.viow' 확장 설치를 취소했습니다.\n"
     ]
    },
    {
     "name": "stderr",
     "output_type": "stream",
     "text": [
      "(node:33044) [DEP0005] DeprecationWarning: Buffer() is deprecated due to security and usability issues. Please use the Buffer.alloc(), Buffer.allocUnsafe(), or Buffer.from() methods instead.\n",
      "(Use `Code - Insiders --trace-deprecation ...` to show where the warning was created)\n"
     ]
    },
    {
     "name": "stdout",
     "output_type": "stream",
     "text": [
      "확장을 설치하는 중...\n",
      "'yzhang.markdown-all-in-one' vundefined 확장이 설치되었습니다.\n",
      "'yzhang.markdown-all-in-one' 확장 설치를 취소했습니다.\n"
     ]
    },
    {
     "name": "stderr",
     "output_type": "stream",
     "text": [
      "(node:13264) [DEP0005] DeprecationWarning: Buffer() is deprecated due to security and usability issues. Please use the Buffer.alloc(), Buffer.allocUnsafe(), or Buffer.from() methods instead.\n",
      "(Use `Code - Insiders --trace-deprecation ...` to show where the warning was created)\n"
     ]
    },
    {
     "name": "stdout",
     "output_type": "stream",
     "text": [
      "확장을 설치하는 중...\n",
      "확장 'zhuangtongfa.material-theme' v3.15.8이(가) 이미 설치되어 있습니다. '--force' 옵션을 사용하여 최신 버전으로 업데이트하거나 '@<version>'을 제공하여 특정 버전을 설치합니다. 예: 'zhuangtongfa.material-theme@1.2.3'\n"
     ]
    }
   ],
   "source": [
    "!code-insiders --install-extension akamud.vscode-theme-onedark\n",
    "!code-insiders --install-extension akamud.vscode-theme-onelight\n",
    "!code-insiders --install-extension albert.TabOut\n",
    "!code-insiders --install-extension alefragnani.project-manager\n",
    "!code-insiders --install-extension AlexTi.intellij-idea-light-theme\n",
    "!code-insiders --install-extension AndrewZhang.scribeai\n",
    "!code-insiders --install-extension aslamanver.vsc-export\n",
    "!code-insiders --install-extension azemoh.one-monokai\n",
    "!code-insiders --install-extension batisteo.vscode-django\n",
    "!code-insiders --install-extension cmoog.sqlnotebook\n",
    "!code-insiders --install-extension cweijan.vscode-office\n",
    "!code-insiders --install-extension DanielSanMedium.dscodegpt\n",
    "!code-insiders --install-extension donjayamanne.python-environment-manager\n",
    "!code-insiders --install-extension donjayamanne.python-extension-pack\n",
    "!code-insiders --install-extension dracula-theme.theme-dracula\n",
    "!code-insiders --install-extension eamodio.gitlens\n",
    "!code-insiders --install-extension esbenp.prettier-vscode\n",
    "!code-insiders --install-extension felipecaputo.git-project-manager\n",
    "!code-insiders --install-extension fisheva.eva-theme\n",
    "!code-insiders --install-extension formulahendry.code-runner\n",
    "!code-insiders --install-extension GitHub.github-vscode-theme\n",
    "!code-insiders --install-extension GitHub.remotehub\n",
    "!code-insiders --install-extension GitHub.vscode-pull-request-github\n",
    "!code-insiders --install-extension GrapeCity.gc-excelviewer\n",
    "!code-insiders --install-extension Horla.horla-light-theme\n",
    "!code-insiders --install-extension intellsmi.comment-translate\n",
    "!code-insiders --install-extension jaaxxx.multicursor-casepreserve\n",
    "!code-insiders --install-extension janisdd.vscode-edit-csv\n",
    "!code-insiders --install-extension johnpapa.vscode-peacock\n",
    "!code-insiders --install-extension johnpapa.winteriscoming\n",
    "!code-insiders --install-extension KevinRose.vsc-python-indent\n",
    "!code-insiders --install-extension magicstack.MagicPython\n",
    "!code-insiders --install-extension marp-team.marp-vscode\n",
    "!code-insiders --install-extension mechatroner.rainbow-csv\n",
    "!code-insiders --install-extension mhutchie.git-graph\n",
    "!code-insiders --install-extension monokai.theme-monokai-pro-vscode\n",
    "!code-insiders --install-extension ms-azuretools.vscode-docker\n",
    "!code-insiders --install-extension MS-CEINTL.vscode-language-pack-ko\n",
    "!code-insiders --install-extension ms-dotnettools.dotnet-interactive-vscode\n",
    "!code-insiders --install-extension ms-edgedevtools.vscode-edge-devtools\n",
    "!code-insiders --install-extension ms-python.black-formatter\n",
    "!code-insiders --install-extension ms-python.gather\n",
    "!code-insiders --install-extension ms-python.isort\n",
    "!code-insiders --install-extension ms-python.python\n",
    "!code-insiders --install-extension ms-python.vscode-pylance\n",
    "!code-insiders --install-extension ms-toolsai.jupyter\n",
    "!code-insiders --install-extension ms-toolsai.jupyter-keymap\n",
    "!code-insiders --install-extension ms-toolsai.jupyter-renderers\n",
    "!code-insiders --install-extension ms-toolsai.vscode-jupyter-cell-tags\n",
    "!code-insiders --install-extension ms-toolsai.vscode-jupyter-powertoys\n",
    "!code-insiders --install-extension ms-toolsai.vscode-jupyter-slideshow\n",
    "!code-insiders --install-extension ms-vscode-remote.remote-containers\n",
    "!code-insiders --install-extension ms-vscode-remote.remote-ssh\n",
    "!code-insiders --install-extension ms-vscode-remote.remote-ssh-edit\n",
    "!code-insiders --install-extension ms-vscode-remote.remote-wsl\n",
    "!code-insiders --install-extension ms-vscode-remote.vscode-remote-extensionpack\n",
    "!code-insiders --install-extension ms-vscode.powershell\n",
    "!code-insiders --install-extension ms-vscode.remote-explorer\n",
    "!code-insiders --install-extension ms-vscode.remote-repositories\n",
    "!code-insiders --install-extension ms-vscode.remote-server\n",
    "!code-insiders --install-extension ms-vsliveshare.vsliveshare\n",
    "!code-insiders --install-extension msnilshartmann.blue-light\n",
    "!code-insiders --install-extension mtxr.sqltools\n",
    "!code-insiders --install-extension mtxr.sqltools-driver-mysql\n",
    "!code-insiders --install-extension njpwerner.autodocstring\n",
    "!code-insiders --install-extension njqdev.vscode-python-typehint\n",
    "!code-insiders --install-extension nonoroazoro.syncing\n",
    "!code-insiders --install-extension oderwat.indent-rainbow\n",
    "!code-insiders --install-extension Oracle.mysql-shell-for-vs-code\n",
    "!code-insiders --install-extension phoihos.csv-to-md-table\n",
    "!code-insiders --install-extension phplasma.csv-to-table\n",
    "!code-insiders --install-extension PKief.material-icon-theme\n",
    "!code-insiders --install-extension rahmanyerli.ra-spring\n",
    "!code-insiders --install-extension RandomFractalsInc.vscode-data-preview\n",
    "!code-insiders --install-extension RandomFractalsInc.vscode-data-table\n",
    "!code-insiders --install-extension redhat.vscode-yaml\n",
    "!code-insiders --install-extension renxzen.google-colab-theme\n",
    "!code-insiders --install-extension sam-the-programmer.jupyter-theme\n",
    "!code-insiders --install-extension SBSnippets.pytorch-snippets\n",
    "!code-insiders --install-extension tanmay.discord-theme\n",
    "!code-insiders --install-extension tomoki1207.pdf\n",
    "!code-insiders --install-extension uloco.theme-bluloco-light\n",
    "!code-insiders --install-extension vincaslt.highlight-matching-tag\n",
    "!code-insiders --install-extension VisualStudioExptTeam.intellicode-api-usage-examples\n",
    "!code-insiders --install-extension VisualStudioExptTeam.vscodeintellicode\n",
    "!code-insiders --install-extension VisualStudioExptTeam.vscodeintellicode-completions\n",
    "!code-insiders --install-extension vscode-icons-team.vscode-icons\n",
    "!code-insiders --install-extension waderyan.gitblame\n",
    "!code-insiders --install-extension whizkydee.material-palenight-theme\n",
    "!code-insiders --install-extension wholroyd.jinja\n",
    "!code-insiders --install-extension Youssef.viow\n",
    "!code-insiders --install-extension yzhang.markdown-all-in-one\n",
    "!code-insiders --install-extension zhuangtongfa.material-theme\n"
   ]
  }
 ],
 "metadata": {
  "kernelspec": {
   "display_name": "asd1",
   "language": "python",
   "name": "python3"
  },
  "language_info": {
   "codemirror_mode": {
    "name": "ipython",
    "version": 3
   },
   "file_extension": ".py",
   "mimetype": "text/x-python",
   "name": "python",
   "nbconvert_exporter": "python",
   "pygments_lexer": "ipython3",
   "version": "3.9.15"
  },
  "orig_nbformat": 4,
  "vscode": {
   "interpreter": {
    "hash": "07badbe185019afce09527cdf66b20ec507f3045aabcc27b0da70607b5630dc4"
   }
  }
 },
 "nbformat": 4,
 "nbformat_minor": 2
}
