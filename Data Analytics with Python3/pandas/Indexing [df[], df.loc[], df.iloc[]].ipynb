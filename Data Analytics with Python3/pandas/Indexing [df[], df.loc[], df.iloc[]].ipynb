{
 "cells": [
  {
   "attachments": {},
   "cell_type": "markdown",
   "metadata": {},
   "source": [
    "# Indexing"
   ]
  },
  {
   "attachments": {},
   "cell_type": "markdown",
   "metadata": {},
   "source": [
    "# import & var"
   ]
  },
  {
   "cell_type": "code",
   "execution_count": 15,
   "metadata": {},
   "outputs": [],
   "source": [
    "import numpy as np\n",
    "import pandas as pd\n",
    "\n",
    "s_exam = pd.Series([10, 125, 1350], index=[\"idx1\", \"idx2\", \"idx3\"])\n",
    "\n",
    "list_val = [[10, 12, 13], [200, 220, 235], [3000, 3250, 3355]]\n",
    "list_col = [\"col1\", \"col2\", \"col3\"]\n",
    "df_exam = pd.DataFrame(list_val, columns=list_col)\n",
    "\n",
    "s = s_exam.copy()\n",
    "df = df_exam.copy()"
   ]
  },
  {
   "attachments": {},
   "cell_type": "markdown",
   "metadata": {},
   "source": [
    "# Attribute access : pandas.DataFrame.colName\n",
    "- 주의사항이 많아서 불편할 것 같음."
   ]
  },
  {
   "cell_type": "code",
   "execution_count": 18,
   "metadata": {},
   "outputs": [
    {
     "data": {
      "text/plain": [
       "0      10\n",
       "1     200\n",
       "2    3000\n",
       "Name: col1, dtype: int64"
      ]
     },
     "execution_count": 18,
     "metadata": {},
     "output_type": "execute_result"
    }
   ],
   "source": [
    "df = df_exam.copy()\n",
    "df.col1"
   ]
  },
  {
   "attachments": {},
   "cell_type": "markdown",
   "metadata": {},
   "source": [
    "# pandas.DataFrame[]\n",
    "df[col][idx]"
   ]
  },
  {
   "cell_type": "code",
   "execution_count": 19,
   "metadata": {},
   "outputs": [
    {
     "data": {
      "text/html": [
       "<div>\n",
       "<style scoped>\n",
       "    .dataframe tbody tr th:only-of-type {\n",
       "        vertical-align: middle;\n",
       "    }\n",
       "\n",
       "    .dataframe tbody tr th {\n",
       "        vertical-align: top;\n",
       "    }\n",
       "\n",
       "    .dataframe thead th {\n",
       "        text-align: right;\n",
       "    }\n",
       "</style>\n",
       "<table border=\"1\" class=\"dataframe\">\n",
       "  <thead>\n",
       "    <tr style=\"text-align: right;\">\n",
       "      <th></th>\n",
       "      <th>A</th>\n",
       "      <th>B</th>\n",
       "      <th>C</th>\n",
       "      <th>D</th>\n",
       "    </tr>\n",
       "  </thead>\n",
       "  <tbody>\n",
       "    <tr>\n",
       "      <th>2000-01-01</th>\n",
       "      <td>0.298708</td>\n",
       "      <td>-0.703108</td>\n",
       "      <td>-0.124311</td>\n",
       "      <td>0.070086</td>\n",
       "    </tr>\n",
       "    <tr>\n",
       "      <th>2000-01-02</th>\n",
       "      <td>0.172526</td>\n",
       "      <td>1.475291</td>\n",
       "      <td>-0.854990</td>\n",
       "      <td>-0.408545</td>\n",
       "    </tr>\n",
       "    <tr>\n",
       "      <th>2000-01-03</th>\n",
       "      <td>-1.659787</td>\n",
       "      <td>0.024408</td>\n",
       "      <td>-1.359162</td>\n",
       "      <td>-1.700377</td>\n",
       "    </tr>\n",
       "    <tr>\n",
       "      <th>2000-01-04</th>\n",
       "      <td>-0.089677</td>\n",
       "      <td>-0.278831</td>\n",
       "      <td>-1.011085</td>\n",
       "      <td>-0.143408</td>\n",
       "    </tr>\n",
       "    <tr>\n",
       "      <th>2000-01-05</th>\n",
       "      <td>1.356759</td>\n",
       "      <td>-0.030670</td>\n",
       "      <td>-1.800008</td>\n",
       "      <td>-0.672404</td>\n",
       "    </tr>\n",
       "    <tr>\n",
       "      <th>2000-01-06</th>\n",
       "      <td>0.531118</td>\n",
       "      <td>1.794855</td>\n",
       "      <td>0.263567</td>\n",
       "      <td>-0.554222</td>\n",
       "    </tr>\n",
       "    <tr>\n",
       "      <th>2000-01-07</th>\n",
       "      <td>-0.241089</td>\n",
       "      <td>-1.346411</td>\n",
       "      <td>-0.178418</td>\n",
       "      <td>-1.160032</td>\n",
       "    </tr>\n",
       "    <tr>\n",
       "      <th>2000-01-08</th>\n",
       "      <td>1.153617</td>\n",
       "      <td>0.166814</td>\n",
       "      <td>0.493990</td>\n",
       "      <td>-1.252206</td>\n",
       "    </tr>\n",
       "  </tbody>\n",
       "</table>\n",
       "</div>"
      ],
      "text/plain": [
       "                   A         B         C         D\n",
       "2000-01-01  0.298708 -0.703108 -0.124311  0.070086\n",
       "2000-01-02  0.172526  1.475291 -0.854990 -0.408545\n",
       "2000-01-03 -1.659787  0.024408 -1.359162 -1.700377\n",
       "2000-01-04 -0.089677 -0.278831 -1.011085 -0.143408\n",
       "2000-01-05  1.356759 -0.030670 -1.800008 -0.672404\n",
       "2000-01-06  0.531118  1.794855  0.263567 -0.554222\n",
       "2000-01-07 -0.241089 -1.346411 -0.178418 -1.160032\n",
       "2000-01-08  1.153617  0.166814  0.493990 -1.252206"
      ]
     },
     "execution_count": 19,
     "metadata": {},
     "output_type": "execute_result"
    }
   ],
   "source": [
    "dates = pd.date_range(\"1/1/2000\", periods=8)\n",
    "df = pd.DataFrame(np.random.randn(8, 4), index=dates, columns=[\"A\", \"B\", \"C\", \"D\"])\n",
    "df"
   ]
  },
  {
   "cell_type": "code",
   "execution_count": 20,
   "metadata": {},
   "outputs": [
    {
     "data": {
      "text/plain": [
       "2000-01-01    0.298708\n",
       "2000-01-02    0.172526\n",
       "2000-01-03   -1.659787\n",
       "2000-01-04   -0.089677\n",
       "2000-01-05    1.356759\n",
       "2000-01-06    0.531118\n",
       "2000-01-07   -0.241089\n",
       "2000-01-08    1.153617\n",
       "Freq: D, Name: A, dtype: float64"
      ]
     },
     "execution_count": 20,
     "metadata": {},
     "output_type": "execute_result"
    }
   ],
   "source": [
    "df['A']"
   ]
  },
  {
   "cell_type": "code",
   "execution_count": 21,
   "metadata": {},
   "outputs": [
    {
     "data": {
      "text/plain": [
       "0.5311178167271899"
      ]
     },
     "execution_count": 21,
     "metadata": {},
     "output_type": "execute_result"
    }
   ],
   "source": [
    "df['A'][\"2000-01-06\"]"
   ]
  },
  {
   "cell_type": "code",
   "execution_count": 22,
   "metadata": {},
   "outputs": [
    {
     "data": {
      "text/plain": [
       "0.5311178167271899"
      ]
     },
     "execution_count": 22,
     "metadata": {},
     "output_type": "execute_result"
    }
   ],
   "source": [
    "df['A'][dates[5]]"
   ]
  },
  {
   "cell_type": "code",
   "execution_count": 23,
   "metadata": {},
   "outputs": [
    {
     "data": {
      "text/plain": [
       "0.5311178167271899"
      ]
     },
     "execution_count": 23,
     "metadata": {},
     "output_type": "execute_result"
    }
   ],
   "source": [
    "df['A'][5]"
   ]
  },
  {
   "attachments": {},
   "cell_type": "markdown",
   "metadata": {},
   "source": [
    "# [pandas.DataFrame.loc[]](https://pandas.pydata.org/docs/reference/api/pandas.DataFrame.loc.html)"
   ]
  },
  {
   "attachments": {},
   "cell_type": "markdown",
   "metadata": {},
   "source": [
    "# [pandas.DataFrame.iloc[]](https://pandas.pydata.org/docs/reference/api/pandas.DataFrame.iloc.html)"
   ]
  },
  {
   "attachments": {},
   "cell_type": "markdown",
   "metadata": {},
   "source": [
    "# Appendix\n",
    "## Reference\n",
    "  - pandas\n",
    "    - [pandas API reference](https://pandas.pydata.org/docs/reference/)\n",
    "    - [Indexing and selecting data](https://pandas.pydata.org/docs/user_guide/indexing.html)\n",
    "  - wikipedia\n",
    "  - namuwiki\n",
    "  - else\n",
    "    - [파이썬 DataFrame 인덱싱 하는 방법(df[ ], df.loc[ ], df.iloc[ ])](https://bearwoong.tistory.com/entry/%ED%8C%8C%EC%9D%B4%EC%8D%AC-DataFrame-%EC%9D%B8%EB%8D%B1%EC%8B%B1-%ED%95%98%EB%8A%94-%EB%B0%A9%EB%B2%95df-dfloc-dfiloc)"
   ]
  }
 ],
 "metadata": {
  "kernelspec": {
   "display_name": "base",
   "language": "python",
   "name": "python3"
  },
  "language_info": {
   "codemirror_mode": {
    "name": "ipython",
    "version": 3
   },
   "file_extension": ".py",
   "mimetype": "text/x-python",
   "name": "python",
   "nbconvert_exporter": "python",
   "pygments_lexer": "ipython3",
   "version": "3.9.15"
  },
  "orig_nbformat": 4,
  "vscode": {
   "interpreter": {
    "hash": "84c9efd44b180a5387fc7f1b4633195a6ff9f8df7974b4e94fe0df8ff9826d51"
   }
  }
 },
 "nbformat": 4,
 "nbformat_minor": 2
}
