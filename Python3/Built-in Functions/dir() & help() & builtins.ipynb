{
 "cells": [
  {
   "attachments": {},
   "cell_type": "markdown",
   "metadata": {},
   "source": [
    "# `dir()`\n",
    "\n",
    "```python\n",
    "dir()\n",
    "```\n",
    "\n",
    "\n",
    "- 객체의 메서드 목록 출력\n",
    "    ```python\n",
    "    dir(str)\n",
    "    ```"
   ]
  },
  {
   "attachments": {},
   "cell_type": "markdown",
   "metadata": {},
   "source": [
    "# `help()`\n",
    "\n",
    "```python\n",
    "help()\n",
    "```\n",
    "- **객체에 대한 설명**\n",
    "    ```python\n",
    "    help(str)\n",
    "    ```\n",
    "- **함수에 대한 설명**\n",
    "    ```python\n",
    "    help(round)\n",
    "    ```\n",
    "- **모듈에 대한 설명, 모듈에 있는 함수 목록 출력.**\n",
    "    ```python\n",
    "    import math\n",
    "\n",
    "    help(math)\n",
    "    ```\n",
    "- **모듈 속 함수에 대한 설명**\n",
    "    ```python\n",
    "    import math\n",
    "\n",
    "    help(math.ceil)\n",
    "    ```\n",
    "\n",
    "- 아쉽게도 실용성은 없어보이는 것들\n",
    "    - help에 입력할 수 있는 주제 목록을 출력\n",
    "        ```python\n",
    "        help(\"topics\")\n",
    "        ```\n",
    "    - 기호 목록 출력\n",
    "        ```python\n",
    "        help(\"symbols\")\n",
    "        ```\n",
    "    - 키워드 목록 출력\n",
    "        ```python\n",
    "        help(\"keywords\")\n",
    "        ```"
   ]
  },
  {
   "attachments": {},
   "cell_type": "markdown",
   "metadata": {},
   "source": [
    "# builtins\n",
    "\n",
    "- 내장함수 목록 출력\n",
    "    ```python\n",
    "    import builtins\n",
    "\n",
    "    for i in dir(builtins):\n",
    "        print(i)\n",
    "    ```"
   ]
  }
 ],
 "metadata": {
  "kernelspec": {
   "display_name": "da",
   "language": "python",
   "name": "python3"
  },
  "language_info": {
   "codemirror_mode": {
    "name": "ipython",
    "version": 3
   },
   "file_extension": ".py",
   "mimetype": "text/x-python",
   "name": "python",
   "nbconvert_exporter": "python",
   "pygments_lexer": "ipython3",
   "version": "3.11.4"
  },
  "orig_nbformat": 4
 },
 "nbformat": 4,
 "nbformat_minor": 2
}
