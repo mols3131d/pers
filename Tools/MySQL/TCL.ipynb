{
 "cells": [
  {
   "attachments": {},
   "cell_type": "markdown",
   "metadata": {},
   "source": [
    "# TCL\n",
    "\n",
    "Transaction Control Language\n",
    "\n",
    "---"
   ]
  },
  {
   "cell_type": "markdown",
   "metadata": {},
   "source": [
    "# `COMMIT`\n",
    "\n",
    "명령에 의해 수정된 결과를 물리적 디스크에 저장하고 정상적으로 완료되었음을 알림\n",
    "\n",
    "---"
   ]
  },
  {
   "cell_type": "markdown",
   "metadata": {},
   "source": [
    "# `ROLLBACK`\n",
    "\n",
    "작업이 비정상적으로 종료 되었을 때 복구함\n",
    "\n",
    "---"
   ]
  },
  {
   "cell_type": "markdown",
   "metadata": {},
   "source": [
    "# Appendix\n",
    "---\n",
    "\n",
    "## Reference\n",
    "---\n",
    "https://rshday.tistory.com/13\n",
    "\n",
    "https://jungyijun.tistory.com/85"
   ]
  }
 ],
 "metadata": {
  "language_info": {
   "name": "python"
  },
  "orig_nbformat": 4
 },
 "nbformat": 4,
 "nbformat_minor": 2
}
