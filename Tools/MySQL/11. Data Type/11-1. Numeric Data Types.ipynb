{
 "cells": [
  {
   "attachments": {},
   "cell_type": "markdown",
   "metadata": {},
   "source": [
    "# [Numeric Data Types](https://dev.mysql.com/doc/refman/8.0/en/numeric-types.html)\n",
    "\n",
    "A\n",
    "\n",
    "---\n",
    "\n",
    "<details>\n",
    "<summary>Reference</summary>\n",
    "\n",
    "https://dev.mysql.com/doc/refman/8.0/en/numeric-types.html\n",
    "\n",
    "</details>"
   ]
  },
  {
   "attachments": {},
   "cell_type": "markdown",
   "metadata": {},
   "source": [
    "# `ROUND(<NUM>, <INT>)`"
   ]
  }
 ],
 "metadata": {
  "language_info": {
   "name": "python"
  },
  "orig_nbformat": 4
 },
 "nbformat": 4,
 "nbformat_minor": 2
}
