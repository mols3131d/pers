{
 "cells": [
  {
   "attachments": {},
   "cell_type": "markdown",
   "metadata": {},
   "source": [
    "# [`SELECT` Statement](https://dev.mysql.com/doc/refman/8.0/en/select.html)\n",
    "\n",
    "\n",
    "<details>\n",
    "<summary>Reference</summary>\n",
    "\n",
    "[`SELECT` Statement](https://dev.mysql.com/doc/refman/8.0/en/select.html)\n",
    "\n",
    "</details>\n",
    "\n",
    "---\n",
    "\n",
    "```SQL\n",
    "\n",
    "SELECT\n",
    "    [ALL | DISTINCT | DISTINCTROW ]\n",
    "    [HIGH_PRIORITY]\n",
    "    [STRAIGHT_JOIN]\n",
    "    [SQL_SMALL_RESULT] [SQL_BIG_RESULT] [SQL_BUFFER_RESULT]\n",
    "    [SQL_NO_CACHE] [SQL_CALC_FOUND_ROWS]\n",
    "    select_expr [, select_expr] ...\n",
    "    [into_option]\n",
    "    [FROM table_references\n",
    "      [PARTITION partition_list]]\n",
    "    [WHERE where_condition]\n",
    "    [GROUP BY {col_name | expr | position}, ... [WITH ROLLUP]]\n",
    "    [HAVING where_condition]\n",
    "    [WINDOW window_name AS (window_spec)\n",
    "        [, window_name AS (window_spec)] ...]\n",
    "    [ORDER BY {col_name | expr | position}\n",
    "      [ASC | DESC], ... [WITH ROLLUP]]\n",
    "    [LIMIT {[offset,] row_count | row_count OFFSET offset}]\n",
    "    [into_option]\n",
    "    [FOR {UPDATE | SHARE}\n",
    "        [OF tbl_name [, tbl_name] ...]\n",
    "        [NOWAIT | SKIP LOCKED]\n",
    "      | LOCK IN SHARE MODE]\n",
    "    [into_option]\n",
    "\n",
    "into_option: {\n",
    "    INTO OUTFILE 'file_name'\n",
    "        [CHARACTER SET charset_name]\n",
    "        export_options\n",
    "  | INTO DUMPFILE 'file_name'\n",
    "  | INTO var_name [, var_name] ...\n",
    "}\n",
    "\n",
    "```"
   ]
  },
  {
   "attachments": {},
   "cell_type": "markdown",
   "metadata": {},
   "source": [
    "## `FROM` Clause\n",
    "\n",
    "테이블에서 일부 레코드를 선택하는 데 사용됩니다.\n",
    "\n",
    "<details>\n",
    "\n",
    "<summary>Reference</summary>\n",
    "\n",
    "https://www.javatpoint.com/mysql-from\n",
    "\n",
    "</details>\n",
    "\n",
    "---\n",
    "\n"
   ]
  },
  {
   "attachments": {},
   "cell_type": "markdown",
   "metadata": {},
   "source": [
    "## `JOIN` Clause\n",
    "\n",
    "`JOIN` 절은 둘 이상의 테이블 사이의 관련 열을 기준으로 행을 결합하는 데 사용됩니다.\n",
    "\n",
    "<details>\n",
    "<summary>Reference</summary>\n",
    "\n",
    "[`JOIN` Clause](https://dev.mysql.com/doc/refman/8.0/en/join.html)\n",
    "\n",
    "https://www.w3schools.com/sql/sql_join.asp\n",
    "\n",
    "https://hongong.hanbit.co.kr/sql-%EA%B8%B0%EB%B3%B8-%EB%AC%B8%EB%B2%95-joininner-outer-cross-self-join/\n",
    "\n",
    "[https://doh-an.tistory.com/30](https://doh-an.tistory.com/30)\n",
    "\n",
    "</details>\n",
    "\n",
    "---\n",
    "\n",
    "![](./img/FROM1.png)"
   ]
  },
  {
   "attachments": {},
   "cell_type": "markdown",
   "metadata": {},
   "source": [
    "### Inner Join\n",
    "\n",
    "- `JOIN` 또는 `INNER JOIN`을 입력한다."
   ]
  },
  {
   "cell_type": "code",
   "execution_count": 1,
   "metadata": {
    "vscode": {
     "languageId": "sql"
    }
   },
   "outputs": [
    {
     "ename": "SyntaxError",
     "evalue": "invalid syntax (1148695700.py, line 1)",
     "output_type": "error",
     "traceback": [
      "\u001b[1;36m  Cell \u001b[1;32mIn[1], line 1\u001b[1;36m\u001b[0m\n\u001b[1;33m    SELECT <column>\u001b[0m\n\u001b[1;37m                    ^\u001b[0m\n\u001b[1;31mSyntaxError\u001b[0m\u001b[1;31m:\u001b[0m invalid syntax\n"
     ]
    }
   ],
   "source": [
    "SELECT <column> \n",
    "FROM <table> \n",
    "    JOIN <table> \n",
    "        ON <table.column> = <table.column>"
   ]
  }
 ],
 "metadata": {
  "kernelspec": {
   "display_name": "asd",
   "language": "python",
   "name": "python3"
  },
  "language_info": {
   "codemirror_mode": {
    "name": "ipython",
    "version": 3
   },
   "file_extension": ".py",
   "mimetype": "text/x-python",
   "name": "python",
   "nbconvert_exporter": "python",
   "pygments_lexer": "ipython3",
   "version": "3.9.15"
  },
  "orig_nbformat": 4
 },
 "nbformat": 4,
 "nbformat_minor": 2
}
