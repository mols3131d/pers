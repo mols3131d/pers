{
 "cells": [
  {
   "attachments": {},
   "cell_type": "markdown",
   "metadata": {},
   "source": [
    "# DCL\n",
    "\n",
    "Data Control Language, 데이터 제어어\n",
    "\n",
    "---\n",
    "\n",
    "관리자가 데이터 관리를 위해 사용하는 언어"
   ]
  },
  {
   "attachments": {},
   "cell_type": "markdown",
   "metadata": {},
   "source": [
    "# `GRANT`\n",
    "\n",
    "사용자 권한 부여\n",
    "\n",
    "https://dev.mysql.com/doc/refman/8.0/en/grant.html\n",
    "\n",
    "---\n",
    "\n",
    "\n",
    "[Specifying Account Names](https://dev.mysql.com/doc/refman/8.0/en/account-names.html)\n",
    "- Account name syntax\n",
    "  - `'user_name'@'host_name'`\n",
    "  - The `@'host_name'` part is optional. <br> An account name consisting only of a user name is equivalent to `'user_name'@'%'`. <br>For example, `'me'` is equivalent to `'me'@'%'`."
   ]
  },
  {
   "cell_type": "code",
   "execution_count": null,
   "metadata": {
    "vscode": {
     "languageId": "sql"
    }
   },
   "outputs": [],
   "source": [
    "-- example\n",
    "GRANT ALL ON db1.* TO 'jeffrey'@'localhost';\n",
    "GRANT 'role1', 'role2' TO 'user1'@'localhost', 'user2'@'localhost';\n",
    "GRANT SELECT ON world.* TO 'role3';"
   ]
  },
  {
   "attachments": {},
   "cell_type": "markdown",
   "metadata": {},
   "source": [
    "# `REVOKE`\n",
    "\n",
    "사용자 권한 취소\n",
    "\n",
    "---"
   ]
  },
  {
   "cell_type": "markdown",
   "metadata": {},
   "source": [
    "# Appendix\n",
    "---\n",
    "\n",
    "## Reference\n",
    "---\n",
    "https://rshday.tistory.com/13\n",
    "\n",
    "https://jungyijun.tistory.com/85"
   ]
  }
 ],
 "metadata": {
  "language_info": {
   "name": "python"
  },
  "orig_nbformat": 4
 },
 "nbformat": 4,
 "nbformat_minor": 2
}
