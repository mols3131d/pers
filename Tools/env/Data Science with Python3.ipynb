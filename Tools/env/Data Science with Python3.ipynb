{
 "cells": [
  {
   "attachments": {},
   "cell_type": "markdown",
   "metadata": {},
   "source": [
    "# Data Science with Python3\n",
    "\n",
    "데이터 분석, 데이터 과학에서 활용되는 파이썬 라이브러리 설치.\n",
    "\n",
    "텐서플로우와 파이토치와 같이 환경에 따라 설치방법이 다르고, 복잡한 경우는 제외함."
   ]
  },
  {
   "attachments": {},
   "cell_type": "markdown",
   "metadata": {},
   "source": [
    "# pip"
   ]
  },
  {
   "cell_type": "code",
   "execution_count": 2,
   "metadata": {
    "vscode": {
     "languageId": "shellscript"
    }
   },
   "outputs": [
    {
     "name": "stderr",
     "output_type": "stream",
     "text": [
      "\n",
      "Usage:   \n",
      "  pip install [options] <requirement specifier> [package-index-options] ...\n",
      "  pip install [options] -r <requirements file> [package-index-options] ...\n",
      "  pip install [options] [-e] <vcs project url> ...\n",
      "  pip install [options] [-e] <local project path> ...\n",
      "  pip install [options] <archive url/path> ...\n",
      "\n",
      "no such option: -y\n",
      "\n",
      "Usage:   \n",
      "  pip install [options] <requirement specifier> [package-index-options] ...\n",
      "  pip install [options] -r <requirements file> [package-index-options] ...\n",
      "  pip install [options] [-e] <vcs project url> ...\n",
      "  pip install [options] [-e] <local project path> ...\n",
      "  pip install [options] <archive url/path> ...\n",
      "\n",
      "no such option: -y\n",
      "\n",
      "Usage:   \n",
      "  pip install [options] <requirement specifier> [package-index-options] ...\n",
      "  pip install [options] -r <requirements file> [package-index-options] ...\n",
      "  pip install [options] [-e] <vcs project url> ...\n",
      "  pip install [options] [-e] <local project path> ...\n",
      "  pip install [options] <archive url/path> ...\n",
      "\n",
      "no such option: -y\n"
     ]
    },
    {
     "name": "stdout",
     "output_type": "stream",
     "text": [
      "Requirement already satisfied: opencv-python in c:\\users\\sacer\\miniconda3\\lib\\site-packages (4.7.0.68)\n",
      "Requirement already satisfied: numpy>=1.17.0 in c:\\users\\sacer\\miniconda3\\lib\\site-packages (from opencv-python) (1.24.1)\n"
     ]
    }
   ],
   "source": [
    "# # ipy\n",
    "# !pip install jupyter -y\n",
    "# !pip install nbconvert -y\n",
    "# !pip install import-ipynb\n",
    "\n",
    "# # dc\n",
    "# !pip install requests -y\n",
    "# !pip install beautifulsoup4 -y\n",
    "# !pip install selenium -y\n",
    "# !pip install opencv-python\n",
    "\n",
    "# # \n",
    "# !pip install black -y\n",
    "\n",
    "# #\n",
    "# !pip install numpy -y\n",
    "# !pip install scipy -y\n",
    "# !pip install pandas -y\n",
    "# !pip install statsmodels -y\n",
    "# #\n",
    "# !pip install matplotlib -y\n",
    "# !pip install koreanize-matplotlib\n",
    "# !pip install seaborn\n",
    "# !pip install plotly"
   ]
  },
  {
   "attachments": {},
   "cell_type": "markdown",
   "metadata": {},
   "source": [
    "# conda"
   ]
  },
  {
   "cell_type": "code",
   "execution_count": null,
   "metadata": {
    "vscode": {
     "languageId": "bat"
    }
   },
   "outputs": [],
   "source": [
    "# !conda install -n base ipykernel --update-deps --force-reinstall\n",
    "\n",
    "# conda\n",
    "\n",
    "# intaller\n",
    "!conda update conda -y\n",
    "!conda update pip -y\n",
    "\n",
    "# py\n",
    "!conda install -c conda-forge black -y\n",
    "\n",
    "# ipy\n",
    "!conda install -c anaconda jupyter -y\n",
    "!conda install nbconvert -y\n",
    "!pip install import-ipynb\n",
    "\n",
    "\n",
    "# data\n",
    "!conda install -c anaconda numpy -y\n",
    "!conda install -c anaconda scipy -y\n",
    "!conda install -c anaconda pandas -y\n",
    "!conda install -c conda-forge statsmodels\n",
    "# Data Visualization\n",
    "!conda install -c conda-forge matplotlib -y\n",
    "!pip install koreanize-matplotlib\n",
    "!conda install -c anaconda seaborn -y\n",
    "!conda install -c conda-forge plotly\n",
    "#\n",
    "!conda install -c conda-forge pyarrow -y\n",
    "!conda install -c conda-forge fastparquet -y\n",
    "\n",
    "\n",
    "# dc\n",
    "!conda install -c anaconda requests -y\n",
    "!conda install -c conda-forge beautifulsoup4 -y\n",
    "!conda install -c conda-forge selenium -y\n",
    "!pip install opencv-python"
   ]
  },
  {
   "cell_type": "code",
   "execution_count": 1,
   "metadata": {},
   "outputs": [
    {
     "name": "stdout",
     "output_type": "stream",
     "text": [
      "sys.version : 3.10.9 | packaged by conda-forge | (main, Jan 11 2023, 15:15:40) [MSC v.1916 64 bit (AMD64)]\n",
      "cv2.__version__ : 4.7.0\n",
      "np.__version__ : 1.23.5\n",
      "pd.__version__ : 1.4.2\n"
     ]
    },
    {
     "ename": "ModuleNotFoundError",
     "evalue": "No module named 'matplotlib'",
     "output_type": "error",
     "traceback": [
      "\u001b[1;31m---------------------------------------------------------------------------\u001b[0m",
      "\u001b[1;31mModuleNotFoundError\u001b[0m                       Traceback (most recent call last)",
      "Cell \u001b[1;32mIn[1], line 30\u001b[0m\n\u001b[0;32m     28\u001b[0m pd\u001b[39m.\u001b[39moptions\u001b[39m.\u001b[39mdisplay\u001b[39m.\u001b[39mfloat_format \u001b[39m=\u001b[39m \u001b[39m'\u001b[39m\u001b[39m{:.3f}\u001b[39;00m\u001b[39m'\u001b[39m\u001b[39m.\u001b[39mformat\n\u001b[0;32m     29\u001b[0m \u001b[39m# dv\u001b[39;00m\n\u001b[1;32m---> 30\u001b[0m \u001b[39mimport\u001b[39;00m \u001b[39mmatplotlib\u001b[39;00m\u001b[39m.\u001b[39;00m\u001b[39mpyplot\u001b[39;00m \u001b[39mas\u001b[39;00m \u001b[39mplt\u001b[39;00m\n\u001b[0;32m     31\u001b[0m \u001b[39mimport\u001b[39;00m \u001b[39mkoreanize_matplotlib\u001b[39;00m\n\u001b[0;32m     32\u001b[0m get_ipython()\u001b[39m.\u001b[39mrun_line_magic(\u001b[39m'\u001b[39m\u001b[39mconfig\u001b[39m\u001b[39m'\u001b[39m, \u001b[39m\"\u001b[39m\u001b[39mInlineBackend.figure_format = \u001b[39m\u001b[39m'\u001b[39m\u001b[39mretina\u001b[39m\u001b[39m'\u001b[39m\u001b[39m\"\u001b[39m)\n",
      "\u001b[1;31mModuleNotFoundError\u001b[0m: No module named 'matplotlib'"
     ]
    }
   ],
   "source": [
    "# standard Library ---- ---- ---- ----\n",
    "import random\n",
    "import os\n",
    "import sys\n",
    "print(\"sys.version :\", sys.version)\n",
    "import glob\n",
    "from pprint import pprint\n",
    "import time\n",
    "\n",
    "\n",
    "\n",
    "# etc ---- ---- ---- ----\n",
    "import warnings\n",
    "warnings.filterwarnings(action='ignore') \n",
    "import tqdm\n",
    "# if (\"cv2\" in sys.modules) == False:\n",
    "#     !pip install opencv-python\n",
    "import cv2\n",
    "print(\"cv2.__version__ :\", cv2.__version__)\n",
    "\n",
    "\n",
    "\n",
    "# Data ---- ---- ---- ----\n",
    "import numpy as np\n",
    "print(\"np.__version__ :\", np.__version__)\n",
    "import pandas as pd\n",
    "print(\"pd.__version__ :\", pd.__version__)\n",
    "pd.options.display.float_format = '{:.3f}'.format\n",
    "# dv\n",
    "import matplotlib.pyplot as plt\n",
    "import koreanize_matplotlib\n",
    "%config InlineBackend.figure_format = 'retina'\n",
    "import seaborn as sns\n",
    "# dc\n",
    "import requests\n",
    "from bs4 import BeautifulSoup\n",
    "\n",
    "\n",
    "\n",
    "# ML, DL ---- ---- ---- ----\n",
    "import tensorflow as tf\n",
    "print(\"tf.__version__ :\", tf.__version__)\n",
    "from tensorflow.python.client import device_lib\n",
    "print(device_lib.list_local_devices())\n",
    "import torch\n",
    "print(\"torch.__version__ :\", torch.__version__)\n",
    "device = torch.device('cuda') if torch.cuda.is_available() else torch.device('cpu')\n",
    "\n",
    "gpu_info = !nvidia-smi\n",
    "gpu_info = '\\n'.join(gpu_info)\n",
    "if gpu_info.find('failed') >= 0:\n",
    "    print('Not connected to a GPU')\n",
    "else:\n",
    "    print(gpu_info)"
   ]
  }
 ],
 "metadata": {
  "kernelspec": {
   "display_name": "asd",
   "language": "python",
   "name": "python3"
  },
  "language_info": {
   "codemirror_mode": {
    "name": "ipython",
    "version": 3
   },
   "file_extension": ".py",
   "mimetype": "text/x-python",
   "name": "python",
   "nbconvert_exporter": "python",
   "pygments_lexer": "ipython3",
   "version": "3.11.3"
  },
  "orig_nbformat": 4,
  "vscode": {
   "interpreter": {
    "hash": "1484e195d7bc9430bc3da72ea3c1b8c4a4682e4fe56bdbad8b3e1217f2a75f76"
   }
  }
 },
 "nbformat": 4,
 "nbformat_minor": 2
}
