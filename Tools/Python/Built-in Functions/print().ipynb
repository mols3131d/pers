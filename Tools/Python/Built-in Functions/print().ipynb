{
 "cells": [
  {
   "cell_type": "code",
   "execution_count": null,
   "metadata": {},
   "outputs": [],
   "source": [
    "print('\\033[1m1.Hello DSegFault!\\033[0m') # 1.Bold (raw ANSI)\n",
    "print()\n",
    "print('\\033[1m'  + '2.Hello DSegFault!' + '\\033[0m') # 2.Bold\n",
    "print('\\033[3m'  + '3.Hello DSegFault!' + '\\033[0m') # 3.Italic\n",
    "print('\\033[4m'  + \"ㅁ print(List_1)\" + '\\033[0m') # 4.Underline\n",
    "print()\n",
    "print('\\033[92m' + '5.Hello DSegFault!' + '\\033[0m') # 5.Text color\n",
    "print('\\033[102m'+ '6.Hello DSegFault!' + '\\033[0m') # 6.Backgound color\n",
    "print()\n",
    "print('\\033[92m' + '\\033[1m' + '7.Hello DSegFault!' + '\\033[0m') # 7.Bold + Text color\n",
    "print('\\033[1m'  + '\\033[92m'+ '8.Hello DSegFault!' + '\\033[0m') # 8.Bold + Text color\n",
    "print()\n",
    "print('\\033[1m'  + '\\033[92m'+ '9.Hello DSegFault!') # 9.Bold + Text color without Reset\n",
    "print('10.Hello DsegFault!') # 10.Default after (9)"
   ]
  },
  {
   "cell_type": "code",
   "execution_count": null,
   "metadata": {},
   "outputs": [],
   "source": [
    "num1=10; num2=300; num3=50000\n",
    "\n",
    "print(num1)\n",
    "print(num2)\n",
    "print(num3)\n",
    "print()\n",
    "\n",
    "# 오른쪽 정렬\n",
    "print(str(num1).rjust(5)) # 5칸 자리수 & 오른쪽 정렬\n",
    "print(str(num2).rjust(5))\n",
    "print(str(num3).rjust(5))\n",
    "print()\n",
    "\n",
    "# 왼쪽 정렬\n",
    "print(str(num1).ljust(5))\n",
    "print(str(num2).ljust(5))\n",
    "print(str(num3).ljust(5))\n",
    "\n",
    "\n",
    "num1=5; num2=55; num3=555\n",
    "\n",
    "# 은행번호표\n",
    "print(str(num1).zfill(3))\n",
    "print(str(num2).zfill(3))\n",
    "print(str(num3).zfill(3))\n",
    "\n",
    "\n",
    "# 빈 자리는 빈공간으로 두고, 오른쪽 정렬을 하되, 총 10자리 공간을 확보\n",
    "print(\"{0: >10}\".format(500))\n",
    "\n",
    "# 양수일 땐 앞에 + 표시, 음수일 땐 앞에 - 표시\n",
    "print(\"{0: >+10}\".format(500))\n",
    "print(\"{0: >+10}\".format(-500))\n",
    "\n",
    "# 왼쪽 정렬하고, 나머지 빈 칸은 _으로 채움\n",
    "print(\"{0:_<10}\".format(500))\n",
    "\n",
    "# 3자리수 마다 콤마를 찍어주기\n",
    "print(\"{0:,}\".format(10000000000))\n",
    "\n",
    "# 3자리수 마다 콤마 & +,-부호도 붙이기\n",
    "print(\"{0:+,}\".format(10000000000))\n",
    "print(\"{0:+,}\".format(-10000000000))\n",
    "\n",
    "# 3자리수 마다 콤마 & +,-부호 & 자릿수 확보한 후 빈 자리는 _로 채우기\n",
    "print(\"{0:_<+30,}\".format(10000000000))\n",
    "\n",
    "# 소수점을 특정 자리수까지만 표시\n",
    "print(\"{0:.6f}\".format(5/3))"
   ]
  }
 ],
 "metadata": {
  "kernelspec": {
   "display_name": "AIS7",
   "language": "python",
   "name": "python3"
  },
  "language_info": {
   "name": "python",
   "version": "3.9.13 (main, Aug 25 2022, 23:51:50) [MSC v.1916 64 bit (AMD64)]"
  },
  "orig_nbformat": 4,
  "vscode": {
   "interpreter": {
    "hash": "6fe11dfc63e789712f819f0eab04a3070dc82d637138faaf6adf8e594ab8007f"
   }
  }
 },
 "nbformat": 4,
 "nbformat_minor": 2
}
