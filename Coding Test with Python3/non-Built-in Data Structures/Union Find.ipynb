{
 "cells": [
  {
   "cell_type": "markdown",
   "metadata": {},
   "source": [
    "# `Union Find`\n",
    "\n",
    "[Union Find | mols Blog](https://mols3131d.notion.site/Union-Find-0d050f11e45c4b92b20e4b7c5a9297ae?pvs=4)\n"
   ]
  },
  {
   "cell_type": "markdown",
   "metadata": {},
   "source": [
    "## find"
   ]
  },
  {
   "cell_type": "code",
   "execution_count": 1,
   "metadata": {},
   "outputs": [],
   "source": [
    "def find(parent, x):\n",
    "    if parent[x] != x:\n",
    "        parent[x] = find(parent, parent[x])\n",
    "    return parent[x]"
   ]
  },
  {
   "cell_type": "code",
   "execution_count": 2,
   "metadata": {},
   "outputs": [
    {
     "name": "stdout",
     "output_type": "stream",
     "text": [
      "0\n",
      "1\n",
      "0\n",
      "1\n"
     ]
    }
   ],
   "source": [
    "parent = [0, 1, 0, 1]\n",
    "\n",
    "for p in parent:\n",
    "    print(find(parent, p))"
   ]
  },
  {
   "cell_type": "markdown",
   "metadata": {},
   "source": [
    "## union"
   ]
  },
  {
   "cell_type": "code",
   "execution_count": 3,
   "metadata": {},
   "outputs": [],
   "source": [
    "def union(parent, i, j):\n",
    "    i = find(parent, i)\n",
    "    j = find(parent, j)\n",
    "    if i < j:\n",
    "        parent[j] = i\n",
    "    else:\n",
    "        parent[i] = j"
   ]
  },
  {
   "cell_type": "code",
   "execution_count": 4,
   "metadata": {},
   "outputs": [
    {
     "name": "stdout",
     "output_type": "stream",
     "text": [
      "[0, 1, 2, 3, 4]\n"
     ]
    }
   ],
   "source": [
    "# # node와 edge가 둘다 주어진 경우\n",
    "node = [0, 1, 2, 3, 4]\n",
    "edge = [(0, 1), (1, 2), (3, 4)]\n",
    "n = len(node)\n",
    "\n",
    "print(node)"
   ]
  },
  {
   "cell_type": "code",
   "execution_count": 5,
   "metadata": {},
   "outputs": [
    {
     "name": "stdout",
     "output_type": "stream",
     "text": [
      "[0, 1, 2, 3, 4]\n"
     ]
    }
   ],
   "source": [
    "# node가 주어지지 않고, edge만 주어진 경우\n",
    "edge = [(0, 1), (1, 2), (3, 4)]\n",
    "n = float(\"-inf\")\n",
    "for ed in edge:\n",
    "    ed = list(ed)\n",
    "    n = max(n, *ed)\n",
    "\n",
    "node = [i for i in range(n + 1)]\n",
    "print(node)"
   ]
  },
  {
   "cell_type": "code",
   "execution_count": 6,
   "metadata": {},
   "outputs": [
    {
     "name": "stdout",
     "output_type": "stream",
     "text": [
      "[0, 1, 2, 3, 4]\n",
      "\n",
      "[0, 0, 2, 3, 4]\n",
      "[0, 0, 0, 3, 4]\n",
      "[0, 0, 0, 3, 3]\n"
     ]
    }
   ],
   "source": [
    "# 병합 이전의 초기 parent 배열을 생성한다.\n",
    "parent = node.copy()\n",
    "print(parent)\n",
    "print()\n",
    "\n",
    "for ed in edge:\n",
    "    union(parent, ed[0], ed[1])\n",
    "    print(parent)"
   ]
  },
  {
   "cell_type": "markdown",
   "metadata": {},
   "source": [
    "위의 경우 주어진 간선의 병합을 다 진행하고, 모든 노드들의 루트를 담는 배열 `parent`가 만들어졌다.\n",
    "\n",
    "이 경우, 함수 `find`를 활용하지 않고, 리스트 인덱싱을 활용해도 노드의 루트를 찾을 수 있지만,\n",
    "\n",
    "간선이 어떻게 주어지는지(정렬 여부 등)에 따라 결과를 보장할 수 없다.\n",
    "\n",
    "아래는 이에 대한 예시이다.\n"
   ]
  },
  {
   "cell_type": "code",
   "execution_count": 7,
   "metadata": {},
   "outputs": [
    {
     "name": "stdout",
     "output_type": "stream",
     "text": [
      "[0, 1, 2, 3, 4, 5]\n",
      "[0, 0, 2, 3, 4, 5]\n",
      "[0, 0, 0, 3, 4, 5]\n",
      "[0, 0, 0, 3, 3, 5]\n",
      "[0, 0, 0, 0, 3, 5]\n",
      "[0, 0, 0, 0, 3, 5]\n"
     ]
    }
   ],
   "source": [
    "edge = [(0, 1), (1, 2), (3, 4), (0, 3), (5, 5)]\n",
    "n = float(\"-inf\")\n",
    "for ed in edge:\n",
    "    ed = list(ed)\n",
    "    n = max(n, *ed)\n",
    "\n",
    "n += 1\n",
    "node = [i for i in range(n)]\n",
    "parent = node.copy()\n",
    "print(parent)\n",
    "\n",
    "for ed in edge:\n",
    "    union(parent, ed[0], ed[1])\n",
    "    print(parent)"
   ]
  },
  {
   "cell_type": "markdown",
   "metadata": {},
   "source": [
    "`parent[4]`는 `3`인데, 간선을 보면 노드 4의 루트는 0이다. \n",
    "\n",
    "이는 `Union Find`가 경로 압축을 활용하여 최적화하기 때문이다.\n",
    "\n",
    "아래처럼 `find` 연산을 실행시키면 노드 4의 루트가 0으로 잘 나온다."
   ]
  },
  {
   "cell_type": "code",
   "execution_count": 8,
   "metadata": {},
   "outputs": [
    {
     "name": "stdout",
     "output_type": "stream",
     "text": [
      "3\n",
      "0\n",
      "[0, 0, 0, 0, 0, 5]\n"
     ]
    }
   ],
   "source": [
    "print(parent[4])\n",
    "\n",
    "print(find(parent, 4))\n",
    "\n",
    "print(parent)"
   ]
  },
  {
   "cell_type": "markdown",
   "metadata": {},
   "source": [
    "## Union by Rank\n",
    "\n",
    "Union by Rank를 활용하여 합집합 연산을 개선시킬 수 있다."
   ]
  },
  {
   "cell_type": "code",
   "execution_count": 21,
   "metadata": {},
   "outputs": [],
   "source": [
    "class UnionFind:\n",
    "    def __init__(self, n):\n",
    "        self.parent = [i for i in range(n)]\n",
    "        self.rank = [0] * n\n",
    "\n",
    "    def find(self, x):\n",
    "        if self.parent[x] != x:\n",
    "            self.parent[x] = self.find(self.parent[x])\n",
    "        return self.parent[x]\n",
    "\n",
    "    def union(self, x, y):\n",
    "        root_x = self.find(x)\n",
    "        root_y = self.find(y)\n",
    "        \n",
    "        if root_x == root_y:\n",
    "            return\n",
    "        \n",
    "        if self.rank[root_x] < self.rank[root_y]:\n",
    "            self.parent[root_x] = root_y\n",
    "        elif self.rank[root_x] > self.rank[root_y]:\n",
    "            self.parent[root_y] = root_x\n",
    "        else:\n",
    "            self.parent[root_y] = root_x\n",
    "            self.rank[root_x] += 1\n",
    "\n",
    "    def is_connected(self, x, y): #is_cycled\n",
    "        return self.find(x) == self.find(y)"
   ]
  },
  {
   "cell_type": "code",
   "execution_count": 22,
   "metadata": {},
   "outputs": [
    {
     "name": "stdout",
     "output_type": "stream",
     "text": [
      "[0, 1, 2, 3, 4, 5]\n",
      "[0, 0, 0, 0, 0, 0]\n",
      "\n",
      "\n",
      "[0, 0, 2, 3, 4, 5]\n",
      "[1, 0, 0, 0, 0, 0]\n",
      "\n",
      "[0, 0, 0, 3, 4, 5]\n",
      "[1, 0, 0, 0, 0, 0]\n",
      "\n",
      "[0, 0, 0, 3, 3, 5]\n",
      "[1, 0, 0, 1, 0, 0]\n",
      "\n",
      "[0, 0, 0, 0, 3, 5]\n",
      "[2, 0, 0, 1, 0, 0]\n",
      "\n",
      "[0, 0, 0, 0, 3, 5]\n",
      "[2, 0, 0, 1, 0, 0]\n",
      "\n"
     ]
    },
    {
     "ename": "",
     "evalue": "",
     "output_type": "error",
     "traceback": [
      "\u001b[1;31m현재 셀 또는 이전 셀에서 코드를 실행하는 동안 Kernel이 충돌했습니다. 셀의 코드를 검토하여 오류의 가능한 원인을 식별하세요. 자세한 내용을 보려면 <a href='https://aka.ms/vscodeJupyterKernelCrash'> 여기 </a> 를 클릭하세요. 자세한 내용은 Jupyter <a href='command:jupyter.viewOutput'>로그</a>를 참조하세요."
     ]
    }
   ],
   "source": [
    "edge = [(0, 1), (1, 2), (3, 4), (0, 3), (5, 5)]\n",
    "n = float(\"-inf\")\n",
    "for ed in edge:\n",
    "    ed = list(ed)\n",
    "    n = max(n, *ed)\n",
    "n += 1\n",
    "\n",
    "\n",
    "uf = UnionFind(n)\n",
    "\n",
    "print(uf.parent)\n",
    "print(uf.rank)\n",
    "print()\n",
    "print()\n",
    "\n",
    "\n",
    "\n",
    "for ed in edge:\n",
    "    uf.union(ed[0], ed[1])\n",
    "    print(uf.parent)\n",
    "    print(uf.rank)\n",
    "    print()"
   ]
  },
  {
   "cell_type": "code",
   "execution_count": 17,
   "metadata": {},
   "outputs": [
    {
     "name": "stdout",
     "output_type": "stream",
     "text": [
      "[0, 0, 0, 0, 3, 5]\n",
      "[2, 0, 0, 1, 0, 0]\n"
     ]
    }
   ],
   "source": [
    "print(uf.parent)\n",
    "print(uf.rank)"
   ]
  },
  {
   "cell_type": "code",
   "execution_count": 18,
   "metadata": {},
   "outputs": [
    {
     "name": "stdout",
     "output_type": "stream",
     "text": [
      "[0, 0, 0, 0, 3, 5]\n",
      "[2, 0, 0, 1, 0, 0]\n"
     ]
    }
   ],
   "source": [
    "uf.union(0,2)\n",
    "print(uf.parent)\n",
    "print(uf.rank)"
   ]
  },
  {
   "cell_type": "code",
   "execution_count": null,
   "metadata": {},
   "outputs": [],
   "source": []
  },
  {
   "cell_type": "code",
   "execution_count": 20,
   "metadata": {},
   "outputs": [
    {
     "name": "stdout",
     "output_type": "stream",
     "text": [
      "[0, 0, 0, 0, 0, 5]\n",
      "[2, 0, 0, 1, 0, 0]\n"
     ]
    }
   ],
   "source": [
    "uf.find(5)\n",
    "print(uf.parent)\n",
    "print(uf.rank)"
   ]
  }
 ],
 "metadata": {
  "kernelspec": {
   "display_name": "da",
   "language": "python",
   "name": "python3"
  },
  "language_info": {
   "codemirror_mode": {
    "name": "ipython",
    "version": 3
   },
   "file_extension": ".py",
   "mimetype": "text/x-python",
   "name": "python",
   "nbconvert_exporter": "python",
   "pygments_lexer": "ipython3",
   "version": "3.11.4"
  },
  "orig_nbformat": 4
 },
 "nbformat": 4,
 "nbformat_minor": 2
}
