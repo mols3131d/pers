{
 "cells": [
  {
   "cell_type": "markdown",
   "metadata": {},
   "source": [
    "# String"
   ]
  },
  {
   "cell_type": "code",
   "execution_count": 23,
   "metadata": {},
   "outputs": [
    {
     "name": "stdout",
     "output_type": "stream",
     "text": [
      "No Python documentation found for '1 2 3 4'.\n",
      "Use help() to get the interactive help utility.\n",
      "Use help(str) for help on the str class.\n"
     ]
    }
   ],
   "source": [
    "help(str)"
   ]
  },
  {
   "cell_type": "code",
   "execution_count": 24,
   "metadata": {},
   "outputs": [
    {
     "name": "stdout",
     "output_type": "stream",
     "text": [
      "hellow\n"
     ]
    }
   ],
   "source": [
    "a = \"hellow\"\n",
    "print(a)"
   ]
  },
  {
   "attachments": {},
   "cell_type": "markdown",
   "metadata": {},
   "source": [
    "# `str.Attribute`"
   ]
  },
  {
   "attachments": {},
   "cell_type": "markdown",
   "metadata": {},
   "source": [
    "# `str.Method()`"
   ]
  },
  {
   "cell_type": "markdown",
   "metadata": {},
   "source": [
    "## `str.split()`"
   ]
  },
  {
   "cell_type": "code",
   "execution_count": 25,
   "metadata": {},
   "outputs": [
    {
     "name": "stdout",
     "output_type": "stream",
     "text": [
      "['1', '2', '3', '4']\n"
     ]
    }
   ],
   "source": [
    "s = \"1 2 3 4\"\n",
    "s = s.split()\n",
    "print(s)"
   ]
  },
  {
   "attachments": {},
   "cell_type": "markdown",
   "metadata": {},
   "source": [
    "## `str.find(찾을 문자열 및 문자, 시작위치, 끝위치)`\n",
    "- 문자 및 문자열의 index를 찾아줌\n",
    "    - 만약, 찾는 문자가 복수인 경우, 가장 낮은 index를 반환함.\n",
    "    - 만약, 찾는 문자가 없다면, **'-1'을 반환**한다.\n",
    "- str.find(찾을 문자열 및 문자)\n",
    "- str.find(찾을 문자열 및 문자, 시작위치, 끝위치)"
   ]
  },
  {
   "cell_type": "code",
   "execution_count": 26,
   "metadata": {},
   "outputs": [
    {
     "data": {
      "text/plain": [
       "2"
      ]
     },
     "execution_count": 26,
     "metadata": {},
     "output_type": "execute_result"
    }
   ],
   "source": [
    "s = \"hellow\"\n",
    "s.find(\"l\")"
   ]
  },
  {
   "attachments": {},
   "cell_type": "markdown",
   "metadata": {},
   "source": [
    "## `str.index()`\n",
    "\n",
    "- 문자 및 문자열의 index를 찾아줌\n",
    "    - 만약, 찾는 문자가 복수인 경우, 가장 낮은 index를 반환함.\n",
    "    - 만약, 찾는 문자가 없다면, **에러를 반환**한다.\n",
    "- string.index(찾을 문자열 및 문자)\n",
    "- string.index(찾을 문자열 및 문자, 시작위치, 끝위치)"
   ]
  },
  {
   "cell_type": "code",
   "execution_count": 27,
   "metadata": {},
   "outputs": [
    {
     "data": {
      "text/plain": [
       "2"
      ]
     },
     "execution_count": 27,
     "metadata": {},
     "output_type": "execute_result"
    }
   ],
   "source": [
    "s = \"hellow\"\n",
    "s.index(\"l\")"
   ]
  },
  {
   "cell_type": "markdown",
   "metadata": {},
   "source": [
    "## `str.isdigit()`\n",
    "\n",
    "- 문자열이 모두 숫자로 이루어져 있는지 확인합니다. 모두 숫자면 `True`, 그렇지 않으면 `False`를 반환합니다."
   ]
  },
  {
   "cell_type": "code",
   "execution_count": 28,
   "metadata": {},
   "outputs": [
    {
     "name": "stdout",
     "output_type": "stream",
     "text": [
      "True\n",
      "False\n"
     ]
    }
   ],
   "source": [
    "string1 = \"12345\"\n",
    "string2 = \"123a45\"\n",
    "print(string1.isdigit())  # True\n",
    "print(string2.isdigit())  # False"
   ]
  },
  {
   "cell_type": "markdown",
   "metadata": {},
   "source": [
    "## `str.isalnum()`\n",
    "\n",
    "문자열이 알파벳 문자와 숫자로만 이루어져 있는지 확인합니다. \n",
    "\n",
    "모두 알파벳 문자와 숫자라면 `True`, 그렇지 않으면 `False`를 반환합니다.\n"
   ]
  },
  {
   "cell_type": "code",
   "execution_count": 29,
   "metadata": {},
   "outputs": [
    {
     "name": "stdout",
     "output_type": "stream",
     "text": [
      "True\n",
      "False\n"
     ]
    }
   ],
   "source": [
    "string1 = \"abc123\"\n",
    "string2 = \"abc@123\"\n",
    "print(string1.isalnum())  # True\n",
    "print(string2.isalnum())  # False"
   ]
  },
  {
   "cell_type": "markdown",
   "metadata": {},
   "source": [
    "## `str.isspace()`\n",
    "\n",
    "문자열이 모두 공백 문자로 이루어져 있는지 확인합니다. \n",
    "\n",
    "모두 공백 문자라면 `True`, 그렇지 않으면 `False`를 반환합니다."
   ]
  },
  {
   "cell_type": "code",
   "execution_count": 30,
   "metadata": {},
   "outputs": [
    {
     "name": "stdout",
     "output_type": "stream",
     "text": [
      "True\n",
      "False\n"
     ]
    }
   ],
   "source": [
    "string1 = \"   \"\n",
    "string2 = \"  a \"\n",
    "print(string1.isspace())  # True\n",
    "print(string2.isspace())  # False"
   ]
  },
  {
   "cell_type": "markdown",
   "metadata": {},
   "source": [
    "## `str.islower()`\n",
    "\n",
    "문자열이 모두 소문자 알파벳 문자로 이루어져 있는지 확인합니다. \n",
    "\n",
    "모두 소문자 알파벳 문자라면 `True`, 그렇지 않으면 `False`를 반환합니다."
   ]
  },
  {
   "cell_type": "code",
   "execution_count": 31,
   "metadata": {},
   "outputs": [
    {
     "name": "stdout",
     "output_type": "stream",
     "text": [
      "True\n",
      "False\n"
     ]
    }
   ],
   "source": [
    "string1 = \"abc\"\n",
    "string2 = \"Abc\"\n",
    "print(string1.islower())  # True\n",
    "print(string2.islower())  # False"
   ]
  },
  {
   "cell_type": "markdown",
   "metadata": {},
   "source": [
    "## `str.isupper()`\n",
    "\n",
    "문자열이 모두 대문자 알파벳 문자로 이루어져 있는지 확인합니다. \n",
    "\n",
    "모두 대문자 알파벳 문자라면 `True`, 그렇지 않으면 `False`를 반환합니다."
   ]
  },
  {
   "cell_type": "code",
   "execution_count": 32,
   "metadata": {},
   "outputs": [
    {
     "name": "stdout",
     "output_type": "stream",
     "text": [
      "True\n",
      "False\n"
     ]
    }
   ],
   "source": [
    "string1 = \"ABC\"\n",
    "string2 = \"AbC\"\n",
    "print(string1.isupper())  # True\n",
    "print(string2.isupper())  # False"
   ]
  },
  {
   "cell_type": "markdown",
   "metadata": {},
   "source": [
    "## str.upper()"
   ]
  },
  {
   "cell_type": "code",
   "execution_count": 33,
   "metadata": {},
   "outputs": [
    {
     "name": "stdout",
     "output_type": "stream",
     "text": [
      "HELLO, I AM YOUR HELPFUL ASSISTANT!\n"
     ]
    }
   ],
   "source": [
    "text = \"Hello, I am your helpful assistant!\"\n",
    "uppercase_text = text.upper()\n",
    "print(uppercase_text)  # HELLO, I AM YOUR HELPFUL ASSISTANT!"
   ]
  },
  {
   "cell_type": "markdown",
   "metadata": {},
   "source": [
    "## str.lower()"
   ]
  },
  {
   "cell_type": "code",
   "execution_count": 34,
   "metadata": {},
   "outputs": [
    {
     "name": "stdout",
     "output_type": "stream",
     "text": [
      "hello, i am your helpful assistant!\n"
     ]
    }
   ],
   "source": [
    "text = \"Hello, I am your helpful assistant!\"\n",
    "lowercase_text = text.lower()\n",
    "print(lowercase_text)  # hello, i am your helpful assistant!"
   ]
  },
  {
   "cell_type": "markdown",
   "metadata": {},
   "source": [
    "# String Fommatting"
   ]
  }
 ],
 "metadata": {
  "kernelspec": {
   "display_name": "asd1",
   "language": "python",
   "name": "python3"
  },
  "language_info": {
   "codemirror_mode": {
    "name": "ipython",
    "version": 3
   },
   "file_extension": ".py",
   "mimetype": "text/x-python",
   "name": "python",
   "nbconvert_exporter": "python",
   "pygments_lexer": "ipython3",
   "version": "3.11.3"
  },
  "orig_nbformat": 4,
  "vscode": {
   "interpreter": {
    "hash": "07badbe185019afce09527cdf66b20ec507f3045aabcc27b0da70607b5630dc4"
   }
  }
 },
 "nbformat": 4,
 "nbformat_minor": 2
}
