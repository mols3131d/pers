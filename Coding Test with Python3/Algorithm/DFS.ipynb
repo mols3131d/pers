{
 "cells": [
  {
   "cell_type": "code",
   "execution_count": 7,
   "metadata": {},
   "outputs": [
    {
     "data": {
      "text/plain": [
       "[0, 2, 5, 4, 1, 3]"
      ]
     },
     "execution_count": 7,
     "metadata": {},
     "output_type": "execute_result"
    }
   ],
   "source": [
    "graph = {0: [1, 2], 1: [0, 3, 4], 2: [0, 5], 3: [1], 4: [1, 5], 5: [2, 4]}\n",
    "\n",
    "\n",
    "def dfs(graph, start):\n",
    "    visited = []  # 방문한 노드를 추적하는 리스트\n",
    "\n",
    "    stack = [start]  # 시작 노드를 스택에 추가\n",
    "\n",
    "    while stack:  # 스택에서 노드를 하나씩 꺼내면서 방문\n",
    "        node = stack.pop()  # 스택에서 노드를 꺼내어 변수 node에 저장\n",
    "\n",
    "        if node not in visited:  # 해당 노드를 방문하지 않았다면, 방문하고 이웃 노드를 스택에 추가\n",
    "            visited.append(node)  # 해당 노드를 방문\n",
    "\n",
    "            for neighbor in graph[node]:  # 해당 노드에 연결된 이웃 노드를 스택에 추가\n",
    "                if neighbor not in visited:\n",
    "                    stack.append(neighbor)\n",
    "\n",
    "    return visited\n",
    "\n",
    "dfs(graph, 0)"
   ]
  }
 ],
 "metadata": {
  "kernelspec": {
   "display_name": "da",
   "language": "python",
   "name": "python3"
  },
  "language_info": {
   "codemirror_mode": {
    "name": "ipython",
    "version": 3
   },
   "file_extension": ".py",
   "mimetype": "text/x-python",
   "name": "python",
   "nbconvert_exporter": "python",
   "pygments_lexer": "ipython3",
   "version": "3.11.4"
  },
  "orig_nbformat": 4
 },
 "nbformat": 4,
 "nbformat_minor": 2
}
