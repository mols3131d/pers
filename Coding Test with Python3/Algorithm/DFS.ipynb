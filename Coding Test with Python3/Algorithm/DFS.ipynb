{
 "cells": [
  {
   "cell_type": "code",
   "execution_count": 2,
   "metadata": {},
   "outputs": [
    {
     "name": "stdout",
     "output_type": "stream",
     "text": [
      "1 2 7 6 8 3 4 5 "
     ]
    }
   ],
   "source": [
    "# DFS 함수 정의\n",
    "def dfs(graph, v, visited):\n",
    "    # 현재 노드 방문 처리\n",
    "    visited[v] = True\n",
    "    print(v, end=' ')\n",
    "    \n",
    "    # 연결된 다른 노드 재귀적 방문\n",
    "    for i in graph[v]:\n",
    "        if not visited[i]:\n",
    "            dfs(graph, i, visited)\n",
    "\n",
    "# 노드 연결 정보 (2차원 리스트)\n",
    "graph = [\n",
    "  [],\n",
    "  [2, 3, 8],\n",
    "  [1, 7],\n",
    "  [1, 4, 5],\n",
    "  [3, 5],\n",
    "  [3, 4],\n",
    "  [7],\n",
    "  [2, 6, 8],\n",
    "  [1, 7]\n",
    "]\n",
    "\n",
    "# 노드 방문 정보 (1차원 리스트)\n",
    "visited = [False] * 9\n",
    "\n",
    "# DFS 함수 호출\n",
    "dfs(graph, 1, visited)"
   ]
  }
 ],
 "metadata": {
  "kernelspec": {
   "display_name": "da",
   "language": "python",
   "name": "python3"
  },
  "language_info": {
   "codemirror_mode": {
    "name": "ipython",
    "version": 3
   },
   "file_extension": ".py",
   "mimetype": "text/x-python",
   "name": "python",
   "nbconvert_exporter": "python",
   "pygments_lexer": "ipython3",
   "version": "3.11.4"
  },
  "orig_nbformat": 4
 },
 "nbformat": 4,
 "nbformat_minor": 2
}
