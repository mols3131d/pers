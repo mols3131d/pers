{
 "cells": [
  {
   "cell_type": "markdown",
   "metadata": {},
   "source": [
    "# 그래프"
   ]
  },
  {
   "cell_type": "code",
   "execution_count": 7,
   "metadata": {},
   "outputs": [
    {
     "data": {
      "text/plain": [
       "[0, 2, 5, 4, 1, 3]"
      ]
     },
     "execution_count": 7,
     "metadata": {},
     "output_type": "execute_result"
    }
   ],
   "source": [
    "graph = {0: [1, 2], 1: [0, 3, 4], 2: [0, 5], 3: [1], 4: [1, 5], 5: [2, 4]}\n",
    "\n",
    "\n",
    "def dfs(graph, start):\n",
    "    visited = []  # 방문한 노드를 추적하는 리스트\n",
    "\n",
    "    stack = [start]  # 시작 노드를 스택에 추가\n",
    "\n",
    "    while stack:  # 스택에서 노드를 하나씩 꺼내면서 방문\n",
    "        node = stack.pop()  # 스택에서 노드를 꺼내어 변수 node에 저장\n",
    "\n",
    "        if node not in visited:  # 해당 노드를 방문하지 않았다면, 방문하고 이웃 노드를 스택에 추가\n",
    "            visited.append(node)  # 해당 노드를 방문\n",
    "\n",
    "            for neighbor in graph[node]:  # 해당 노드에 연결된 이웃 노드를 스택에 추가\n",
    "                if neighbor not in visited:\n",
    "                    stack.append(neighbor)\n",
    "\n",
    "    return visited\n",
    "\n",
    "dfs(graph, 0)"
   ]
  },
  {
   "cell_type": "code",
   "execution_count": 8,
   "metadata": {},
   "outputs": [
    {
     "name": "stdout",
     "output_type": "stream",
     "text": [
      "[0, 1, 3, 4, 5, 2]\n"
     ]
    }
   ],
   "source": [
    "graph = {0: [1, 2], 1: [0, 3, 4], 2: [0, 5], 3: [1], 4: [1, 5], 5: [2, 4]}\n",
    "\n",
    "def dfs(graph, node, visited):\n",
    "    visited.append(node)\n",
    "\n",
    "    for neighbor in graph[node]:\n",
    "        if neighbor not in visited:\n",
    "            dfs(graph, neighbor, visited)\n",
    "\n",
    "# 시작 노드와 방문 기록을 초기화\n",
    "start_node = 0\n",
    "visited = []\n",
    "\n",
    "# DFS 실행\n",
    "dfs(graph, start_node, visited)\n",
    "print(visited)"
   ]
  },
  {
   "cell_type": "markdown",
   "metadata": {},
   "source": [
    "# 행렬"
   ]
  },
  {
   "cell_type": "code",
   "execution_count": 2,
   "metadata": {},
   "outputs": [
    {
     "name": "stdout",
     "output_type": "stream",
     "text": [
      "Start에서 End까지 이동할 수 없습니다.\n"
     ]
    }
   ],
   "source": [
    "matrix = [\n",
    "    [1, 0, 0, 1, 1, 1],\n",
    "    [1, 0, 0, 1, 0, 1],\n",
    "    [1, 1, 0, 0, 0, 1],\n",
    "    [1, 0, 0, 1, 0, 1],\n",
    "    [1, 0, 0, 0, 1, 1]\n",
    "]\n",
    "\n",
    "def dfs(matrix, x, y):\n",
    "    if x < 0 or x >= len(matrix) or y < 0 or y >= len(matrix[0]) or matrix[x][y] != 0:\n",
    "        return\n",
    "\n",
    "    matrix[x][y] = -1  # 방문한 곳을 표시하기 위해 -1로 설정\n",
    "\n",
    "    # 4면에서 일어날 이동에 대한 dx, dy\n",
    "    dx = [-1, 1, 0, 0]\n",
    "    dy = [0, 0, 1, -1]\n",
    "\n",
    "    for i in range(4):  # 이동\n",
    "        nx = x + dx[i]\n",
    "        ny = y + dy[i]\n",
    "        dfs(matrix, nx, ny)\n",
    "\n",
    "start_x, start_y = 0, 0\n",
    "end_x, end_y = len(matrix) - 1, len(matrix[0]) - 1\n",
    "\n",
    "dfs(matrix, start_x, start_y)\n",
    "\n",
    "if matrix[end_x][end_y] == -1:\n",
    "    print(\"Start에서 End까지 이동 가능합니다.\")\n",
    "else:\n",
    "    print(\"Start에서 End까지 이동할 수 없습니다.\")\n"
   ]
  },
  {
   "cell_type": "code",
   "execution_count": 3,
   "metadata": {},
   "outputs": [
    {
     "name": "stdout",
     "output_type": "stream",
     "text": [
      "Start에서 End까지 이동할 수 없습니다.\n"
     ]
    }
   ],
   "source": [
    "matrix = [\n",
    "    [1, 0, 0, 1, 1, 1],\n",
    "    [1, 0, 0, 1, 0, 1],\n",
    "    [1, 1, 0, 0, 0, 1],\n",
    "    [1, 0, 0, 1, 0, 1],\n",
    "    [1, 0, 0, 0, 1, 1]\n",
    "]\n",
    "\n",
    "def dfs(matrix, x, y):\n",
    "    stack = [(x, y)]\n",
    "\n",
    "    dx = [-1, 1, 0, 0]\n",
    "    dy = [0, 0, 1, -1]\n",
    "\n",
    "    while stack:\n",
    "        x, y = stack.pop()\n",
    "\n",
    "        if x < 0 or x >= len(matrix) or y < 0 or y >= len(matrix[0]) or matrix[x][y] != 0:\n",
    "            continue\n",
    "\n",
    "        matrix[x][y] = -1  # 방문한 곳을 표시하기 위해 -1로 설정\n",
    "\n",
    "        for i in range(4):  # 이동\n",
    "            nx = x + dx[i]\n",
    "            ny = y + dy[i]\n",
    "            stack.append((nx, ny))\n",
    "\n",
    "start_x, start_y = 0, 0\n",
    "end_x, end_y = len(matrix) - 1, len(matrix[0]) - 1\n",
    "\n",
    "dfs(matrix, start_x, start_y)\n",
    "\n",
    "if matrix[end_x][end_y] == -1:\n",
    "    print(\"Start에서 End까지 이동 가능합니다.\")\n",
    "else:\n",
    "    print(\"Start에서 End까지 이동할 수 없습니다.\")\n"
   ]
  }
 ],
 "metadata": {
  "kernelspec": {
   "display_name": "da",
   "language": "python",
   "name": "python3"
  },
  "language_info": {
   "codemirror_mode": {
    "name": "ipython",
    "version": 3
   },
   "file_extension": ".py",
   "mimetype": "text/x-python",
   "name": "python",
   "nbconvert_exporter": "python",
   "pygments_lexer": "ipython3",
   "version": "3.11.3"
  },
  "orig_nbformat": 4
 },
 "nbformat": 4,
 "nbformat_minor": 2
}
