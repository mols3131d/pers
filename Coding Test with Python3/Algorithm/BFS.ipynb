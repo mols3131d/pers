{
 "cells": [
  {
   "cell_type": "code",
   "execution_count": 1,
   "metadata": {},
   "outputs": [
    {
     "name": "stdout",
     "output_type": "stream",
     "text": [
      "1 2 3 8 7 4 5 6 "
     ]
    }
   ],
   "source": [
    "from collections import deque\n",
    "\n",
    "# BFS 함수 정의\n",
    "def bfs(graph, start, visited):\n",
    "    # deque 라이브러리를 사용한 큐 구현\n",
    "    queue = deque([start])\n",
    "    \n",
    "    # 현재 노드 방문 처리\n",
    "    visited[start] = True\n",
    "    \n",
    "    # 큐가 빌 때까지 반복\n",
    "    while queue:\n",
    "        # 큐에서 원소를 뽑아 출력\n",
    "        v = queue.popleft()\n",
    "        print(v, end=' ')\n",
    "        \n",
    "        # 연결된, 방문하지 않은 원소 큐에 삽입\n",
    "        for i in graph[v]:\n",
    "            if not visited[i]:\n",
    "                queue.append(i)\n",
    "                visited[i] = True\n",
    "\n",
    "# 노드 연결 정보 (2차원 리스트)\n",
    "graph = [\n",
    "  [],\n",
    "  [2, 3, 8],\n",
    "  [1, 7],\n",
    "  [1, 4, 5],\n",
    "  [3, 5],\n",
    "  [3, 4],\n",
    "  [7],\n",
    "  [2, 6, 8],\n",
    "  [1, 7]\n",
    "]\n",
    "\n",
    "# 노드 방문 정보 (1차원 리스트)\n",
    "visited = [False] * 9\n",
    "\n",
    "# BFS 함수 호출\n",
    "bfs(graph, 1, visited)"
   ]
  },
  {
   "cell_type": "code",
   "execution_count": 2,
   "metadata": {},
   "outputs": [
    {
     "ename": "TypeError",
     "evalue": "'_AxesStack' object is not callable",
     "output_type": "error",
     "traceback": [
      "\u001b[1;31m---------------------------------------------------------------------------\u001b[0m",
      "\u001b[1;31mTypeError\u001b[0m                                 Traceback (most recent call last)",
      "Cell \u001b[1;32mIn[2], line 51\u001b[0m\n\u001b[0;32m     49\u001b[0m visited \u001b[39m=\u001b[39m [\u001b[39mFalse\u001b[39;00m] \u001b[39m*\u001b[39m \u001b[39m9\u001b[39m\n\u001b[0;32m     50\u001b[0m visited_nodes \u001b[39m=\u001b[39m bfs(graph, \u001b[39m1\u001b[39m, visited)  \u001b[39m# 수정된 bfs 함수 호출\u001b[39;00m\n\u001b[1;32m---> 51\u001b[0m draw_bfs_process(graph, visited_nodes)\n",
      "Cell \u001b[1;32mIn[2], line 41\u001b[0m, in \u001b[0;36mdraw_bfs_process\u001b[1;34m(graph, visited_nodes)\u001b[0m\n\u001b[0;32m     39\u001b[0m colors[node \u001b[39m-\u001b[39m \u001b[39m1\u001b[39m] \u001b[39m=\u001b[39m \u001b[39m'\u001b[39m\u001b[39mred\u001b[39m\u001b[39m'\u001b[39m  \u001b[39m# 방문한 노드를 빨간색으로 변경\u001b[39;00m\n\u001b[0;32m     40\u001b[0m plt\u001b[39m.\u001b[39mfigure(figsize\u001b[39m=\u001b[39m(\u001b[39m6\u001b[39m, \u001b[39m6\u001b[39m))\n\u001b[1;32m---> 41\u001b[0m nx\u001b[39m.\u001b[39mdraw(G, pos, node_color\u001b[39m=\u001b[39mcolors, with_labels\u001b[39m=\u001b[39m\u001b[39mTrue\u001b[39;00m, font_color\u001b[39m=\u001b[39m\u001b[39m'\u001b[39m\u001b[39mblack\u001b[39m\u001b[39m'\u001b[39m)\n\u001b[0;32m     42\u001b[0m plt\u001b[39m.\u001b[39mtitle(\u001b[39mf\u001b[39m\u001b[39m'\u001b[39m\u001b[39mStep \u001b[39m\u001b[39m{\u001b[39;00mi\u001b[39m \u001b[39m\u001b[39m+\u001b[39m\u001b[39m \u001b[39m\u001b[39m1\u001b[39m\u001b[39m}\u001b[39;00m\u001b[39m: Visited Node \u001b[39m\u001b[39m{\u001b[39;00mnode\u001b[39m}\u001b[39;00m\u001b[39m'\u001b[39m)\n\u001b[0;32m     43\u001b[0m plt\u001b[39m.\u001b[39mshow()\n",
      "File \u001b[1;32mc:\\Users\\sacer\\miniconda3\\envs\\da\\Lib\\site-packages\\networkx\\drawing\\nx_pylab.py:112\u001b[0m, in \u001b[0;36mdraw\u001b[1;34m(G, pos, ax, **kwds)\u001b[0m\n\u001b[0;32m    110\u001b[0m cf\u001b[39m.\u001b[39mset_facecolor(\u001b[39m\"\u001b[39m\u001b[39mw\u001b[39m\u001b[39m\"\u001b[39m)\n\u001b[0;32m    111\u001b[0m \u001b[39mif\u001b[39;00m ax \u001b[39mis\u001b[39;00m \u001b[39mNone\u001b[39;00m:\n\u001b[1;32m--> 112\u001b[0m     \u001b[39mif\u001b[39;00m cf\u001b[39m.\u001b[39m_axstack() \u001b[39mis\u001b[39;00m \u001b[39mNone\u001b[39;00m:\n\u001b[0;32m    113\u001b[0m         ax \u001b[39m=\u001b[39m cf\u001b[39m.\u001b[39madd_axes((\u001b[39m0\u001b[39m, \u001b[39m0\u001b[39m, \u001b[39m1\u001b[39m, \u001b[39m1\u001b[39m))\n\u001b[0;32m    114\u001b[0m     \u001b[39melse\u001b[39;00m:\n",
      "\u001b[1;31mTypeError\u001b[0m: '_AxesStack' object is not callable"
     ]
    },
    {
     "data": {
      "text/plain": [
       "<Figure size 600x600 with 0 Axes>"
      ]
     },
     "metadata": {},
     "output_type": "display_data"
    }
   ],
   "source": [
    "from collections import deque\n",
    "import networkx as nx\n",
    "import matplotlib.pyplot as plt\n",
    "import time\n",
    "from IPython import display\n",
    "\n",
    "# 수정된 BFS 함수 정의\n",
    "def bfs(graph, start, visited):\n",
    "    queue = deque([start])\n",
    "    visited[start] = True\n",
    "    \n",
    "    visited_nodes = []  # 방문한 노드를 기록할 리스트 추가\n",
    "\n",
    "    while queue:\n",
    "        v = queue.popleft()\n",
    "        visited_nodes.append(v)  # 노드 방문 시 visited_nodes에 추가\n",
    "        \n",
    "        for i in graph[v]:\n",
    "            if not visited[i]:\n",
    "                queue.append(i)\n",
    "                visited[i] = True\n",
    "\n",
    "    return visited_nodes  # 방문한 노드들의 리스트를 반환\n",
    "\n",
    "def draw_bfs_process(graph, visited_nodes):\n",
    "    G = nx.Graph()\n",
    "    for i in range(1, len(graph)):\n",
    "        G.add_node(i)\n",
    "\n",
    "    for i in range(1, len(graph)):\n",
    "        for j in graph[i]:\n",
    "            G.add_edge(i, j)\n",
    "\n",
    "    pos = nx.spring_layout(G)  # 노드 위치 결정\n",
    "    colors = ['skyblue'] * len(graph[1:])  # 노드 색상 초기화\n",
    "\n",
    "    # 각 단계별 시각화\n",
    "    for i, node in enumerate(visited_nodes):\n",
    "        colors[node - 1] = 'red'  # 방문한 노드를 빨간색으로 변경\n",
    "        plt.figure(figsize=(6, 6))\n",
    "        nx.draw(G, pos, node_color=colors, with_labels=True, font_color='black')\n",
    "        plt.title(f'Step {i + 1}: Visited Node {node}')\n",
    "        plt.show()\n",
    "        \n",
    "        if i < len(visited_nodes) - 1:  # 마지막 단계가 아니면 지우고 다음 단계로 이동\n",
    "            display.clear_output(wait=True)\n",
    "            time.sleep(1)\n",
    "\n",
    "visited = [False] * 9\n",
    "visited_nodes = bfs(graph, 1, visited)  # 수정된 bfs 함수 호출\n",
    "draw_bfs_process(graph, visited_nodes)"
   ]
  },
  {
   "cell_type": "code",
   "execution_count": null,
   "metadata": {},
   "outputs": [
    {
     "data": {
      "image/png": "[encoded data removed]",
      "text/plain": [
       "<Figure size 600x600 with 1 Axes>"
      ]
     },
     "metadata": {},
     "output_type": "display_data"
    },
    {
     "name": "stderr",
     "output_type": "stream",
     "text": [
      "C:\\Users\\sacer\\AppData\\Local\\Temp\\ipykernel_13372\\3215621269.py:56: DeprecationWarning: Starting with ImageIO v3 the behavior of this function will switch to that of iio.v3.imread. To keep the current behavior (and make this warning disappear) use `import imageio.v2 as imageio` or call `imageio.v2.imread` directly.\n",
      "  images.append(imageio.imread(image_path))\n"
     ]
    }
   ],
   "source": [
    "import imageio\n",
    "\n",
    "# 수정된 BFS 함수 정의\n",
    "def bfs(graph, start, visited):\n",
    "    queue = deque([start])\n",
    "    visited[start] = True\n",
    "    \n",
    "    visited_nodes = []  # 방문한 노드를 기록할 리스트 추가\n",
    "\n",
    "    while queue:\n",
    "        v = queue.popleft()\n",
    "        visited_nodes.append(v)  # 노드 방문 시 visited_nodes에 추가\n",
    "        \n",
    "        for i in graph[v]:\n",
    "            if not visited[i]:\n",
    "                queue.append(i)\n",
    "                visited[i] = True\n",
    "\n",
    "    return visited_nodes  # 방문한 노드들의 리스트를 반환\n",
    "\n",
    "def draw_bfs_process(graph, visited_nodes):\n",
    "    G = nx.Graph()\n",
    "    for i in range(1, len(graph)):\n",
    "        G.add_node(i)\n",
    "\n",
    "    for i in range(1, len(graph)):\n",
    "        for j in graph[i]:\n",
    "            G.add_edge(i, j)\n",
    "\n",
    "    pos = nx.spring_layout(G)  # 노드 위치 결정\n",
    "    colors = ['skyblue'] * len(graph[1:])  # 노드 색상 초기화\n",
    "\n",
    "    # 각 단계별 시각화\n",
    "    for i, node in enumerate(visited_nodes):\n",
    "        colors[node - 1] = 'red'  # 방문한 노드를 빨간색으로 변경\n",
    "        plt.figure(figsize=(6, 6))\n",
    "        nx.draw(G, pos, node_color=colors, with_labels=True, font_color='black')\n",
    "        plt.title(f'Step {i + 1}: Visited Node {node}')\n",
    "        plt.show()\n",
    "        \n",
    "        if i < len(visited_nodes) - 1:  # 마지막 단계가 아니면 지우고 다음 단계로 이동\n",
    "            display.clear_output(wait=True)\n",
    "            time.sleep(1)\n",
    "\n",
    "    images = []  # 각 단계별 이미지들을 저장할 리스트\n",
    "\n",
    "    for i, node in enumerate(visited_nodes):\n",
    "        colors[node - 1] = 'red'\n",
    "        plt.figure(figsize=(6, 6))\n",
    "        nx.draw(G, pos, node_color=colors, with_labels=True, font_color='black')\n",
    "        plt.title(f'Step {i + 1}: Visited Node {node}')\n",
    "        \n",
    "        # 그래프를 이미지로 저장\n",
    "        image_path = f'step_{i + 1}.png'\n",
    "        plt.savefig(image_path)\n",
    "        images.append(imageio.imread(image_path))\n",
    "        plt.close()\n",
    "\n",
    "    # 이미지 리스트를 사용하여 GIF를 만들고 저장\n",
    "    imageio.mimsave('bfs_process.gif', images, duration=1)\n",
    "    \n",
    "visited = [False] * 9\n",
    "visited_nodes = bfs(graph, 1, visited)\n",
    "draw_bfs_process(graph, visited_nodes)"
   ]
  }
 ],
 "metadata": {
  "kernelspec": {
   "display_name": "da",
   "language": "python",
   "name": "python3"
  },
  "language_info": {
   "codemirror_mode": {
    "name": "ipython",
    "version": 3
   },
   "file_extension": ".py",
   "mimetype": "text/x-python",
   "name": "python",
   "nbconvert_exporter": "python",
   "pygments_lexer": "ipython3",
   "version": "3.11.3"
  },
  "orig_nbformat": 4
 },
 "nbformat": 4,
 "nbformat_minor": 2
}
