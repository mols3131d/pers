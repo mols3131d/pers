{
 "cells": [
  {
   "cell_type": "code",
   "execution_count": 1,
   "metadata": {},
   "outputs": [
    {
     "name": "stdout",
     "output_type": "stream",
     "text": [
      "1 2 3 "
     ]
    }
   ],
   "source": [
    "from collections import deque\n",
    "\n",
    "# 그래프 (인접 리스트 형태)\n",
    "graph = {\n",
    "    1: [2, 3],\n",
    "    2: [1, 4, 5],\n",
    "    3: [1, 6, 7],\n",
    "    4: [2, 8],\n",
    "    5: [2, 9],\n",
    "    6: [3, 10],\n",
    "    7: [3],\n",
    "    8: [4],\n",
    "    9: [5],\n",
    "    10: [6],\n",
    "}\n",
    "\n",
    "\n",
    "# BFS 함수 구현\n",
    "def bfs(graph, start):\n",
    "    # 방문 여부를 저장하기 위한 리스트 초기화\n",
    "    visited = [False] * (len(graph) + 1)\n",
    "    # 큐 초기화\n",
    "    queue = deque()\n",
    "    # 시작 노드를 큐에 넣음\n",
    "    queue.append(start)\n",
    "\n",
    "    # 시작 노드 방문 표시\n",
    "    visited[start] = True\n",
    "\n",
    "    # 큐가 빌 때까지 반복\n",
    "    while queue:\n",
    "        # 큐에서 노드 꺼내기\n",
    "        node = queue.popleft()\n",
    "        print(node, end=\" \")\n",
    "\n",
    "        # 인접한 노드들을 방문하지 않았다면 큐에 추가하고 방문 여부 표시\n",
    "        for adjacent in graph[node]:\n",
    "            if not visited[adjacent]:\n",
    "                queue.append(adjacent)\n",
    "                visited[adjacent] = True\n",
    "\n",
    "\n",
    "bfs(graph, 1)"
   ]
  }
 ],
 "metadata": {
  "kernelspec": {
   "display_name": "da",
   "language": "python",
   "name": "python3"
  },
  "language_info": {
   "codemirror_mode": {
    "name": "ipython",
    "version": 3
   },
   "file_extension": ".py",
   "mimetype": "text/x-python",
   "name": "python",
   "nbconvert_exporter": "python",
   "pygments_lexer": "ipython3",
   "version": "3.11.4"
  },
  "orig_nbformat": 4
 },
 "nbformat": 4,
 "nbformat_minor": 2
}
