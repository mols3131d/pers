{
 "cells": [
  {
   "cell_type": "code",
   "execution_count": 6,
   "metadata": {},
   "outputs": [
    {
     "name": "stdout",
     "output_type": "stream",
     "text": [
      "1\n",
      "2\n",
      "3\n",
      "4\n",
      "5\n",
      "6\n",
      "7\n",
      "8\n",
      "9\n",
      "10\n"
     ]
    }
   ],
   "source": [
    "from collections import deque\n",
    "\n",
    "# 그래프 (인접 리스트 형태)\n",
    "graph = {\n",
    "    1: [2, 3],\n",
    "    2: [1, 4, 5],\n",
    "    3: [1, 6, 7],\n",
    "    4: [2, 8],\n",
    "    5: [2, 9],\n",
    "    6: [3, 10],\n",
    "    7: [3],\n",
    "    8: [4],\n",
    "    9: [5],\n",
    "    10: [6],\n",
    "}\n",
    "\n",
    "\n",
    "# BFS 함수 구현\n",
    "def bfs(graph, start):\n",
    "    # 방문 여부를 저장하기 위한 리스트 초기화\n",
    "    visited = [False] * (len(graph) + 1)\n",
    "    # 큐\n",
    "    queue = deque([start])\n",
    "    # 시작 노드 방문 표시\n",
    "    visited[start] = True\n",
    "\n",
    "    # 큐가 빌 때까지 반복\n",
    "    while queue:\n",
    "        # 큐에서 노드 꺼내기\n",
    "        node = queue.popleft()\n",
    "        print(node)\n",
    "\n",
    "        # 인접한 노드들을 방문하지 않았다면 큐에 추가하고 방문 여부 표시\n",
    "        for adjacent in graph[node]:\n",
    "            if not visited[adjacent]:\n",
    "                queue.append(adjacent)\n",
    "                visited[adjacent] = True\n",
    "\n",
    "\n",
    "bfs(graph, 1)"
   ]
  },
  {
   "cell_type": "code",
   "execution_count": 4,
   "metadata": {},
   "outputs": [
    {
     "name": "stdout",
     "output_type": "stream",
     "text": [
      "Start에서 End까지 이동할 수 없습니다.\n"
     ]
    }
   ],
   "source": [
    "from collections import deque\n",
    "\n",
    "matrix = [\n",
    "    [1, 1, 1, 1, 1, 1],\n",
    "    [1, 0, 0, 1, 0, 1],\n",
    "    [1, 1, 0, 0, 0, 1],\n",
    "    [1, 0, 0, 1, 0, 1],\n",
    "    [1, 0, 0, 0, 1, 1],\n",
    "]\n",
    "\n",
    "\n",
    "def bfs(matrix, x, y):\n",
    "    queue = deque([(x, y, 1)])  # (x, y, 이동 거리)를 저장하는 큐\n",
    "\n",
    "    dx = [-1, 1, 0, 0]\n",
    "    dy = [0, 0, 1, -1]\n",
    "\n",
    "    while queue:\n",
    "        x, y, dist = queue.popleft()\n",
    "\n",
    "        if x == len(matrix) - 1 and y == len(matrix[0]) - 1:  # 도착 위치에 도착하면 이동 거리 반환\n",
    "            return dist\n",
    "\n",
    "        for i in range(4):  # 이동\n",
    "            nx = x + dx[i]\n",
    "            ny = y + dy[i]\n",
    "\n",
    "            if 0 <= nx < len(matrix) and 0 <= ny < len(matrix[0]) and matrix[nx][ny] == 0:\n",
    "                matrix[nx][ny] = -1  # 방문했다고 표시\n",
    "                queue.append((nx, ny, dist + 1))\n",
    "\n",
    "    return -1  # 도착할 수 없는 경우 -1 반환\n",
    "\n",
    "\n",
    "start_x, start_y = 0, 0\n",
    "result = bfs(matrix, start_x, start_y)\n",
    "\n",
    "if result != -1:\n",
    "    print(f\"Start에서 End까지 이동 거리: {result}\")\n",
    "else:\n",
    "    print(\"Start에서 End까지 이동할 수 없습니다.\")"
   ]
  }
 ],
 "metadata": {
  "kernelspec": {
   "display_name": "da",
   "language": "python",
   "name": "python3"
  },
  "language_info": {
   "codemirror_mode": {
    "name": "ipython",
    "version": 3
   },
   "file_extension": ".py",
   "mimetype": "text/x-python",
   "name": "python",
   "nbconvert_exporter": "python",
   "pygments_lexer": "ipython3",
   "version": "3.11.6"
  },
  "orig_nbformat": 4
 },
 "nbformat": 4,
 "nbformat_minor": 2
}
