{
 "cells": [
  {
   "attachments": {},
   "cell_type": "markdown",
   "metadata": {},
   "source": [
    "# note\n"
   ]
  },
  {
   "cell_type": "code",
   "execution_count": 7,
   "metadata": {},
   "outputs": [],
   "source": [
    "def find(parent, x):\n",
    "    if parent[x] != x:\n",
    "        parent[x] = find(parent, parent[x])\n",
    "    return parent[x]\n",
    "\n",
    "def union(parent, i, j):\n",
    "    root_i = find(parent, i)\n",
    "    root_j = find(parent, j)\n",
    "    \n",
    "    if root_i < root_j:\n",
    "        parent[root_j] = root_i\n",
    "    else:\n",
    "        parent[root_i] = root_j\n",
    "\n",
    "def solution(n, costs):\n",
    "    parent = [i for i in range(n)]\n",
    "    answer = 0\n",
    "    \n",
    "    costs.sort(key=lambda x: x[2])\n",
    "    print(costs)\n",
    "    for i in costs:\n",
    "        if find(parent, i[0]) != find(parent, i[1]):\n",
    "            union(parent, i[0], i[1])\n",
    "            answer +=  i[2]\n",
    "\n",
    "    return answer\n"
   ]
  },
  {
   "cell_type": "code",
   "execution_count": 8,
   "metadata": {},
   "outputs": [
    {
     "name": "stdout",
     "output_type": "stream",
     "text": [
      "False\n"
     ]
    }
   ],
   "source": [
    "print(solution(4, [[0, 1, 1], [0, 2, 2], [1, 2, 5], [1, 3, 1], [2, 3, 8]]) == \"4\")"
   ]
  },
  {
   "cell_type": "code",
   "execution_count": 9,
   "metadata": {},
   "outputs": [
    {
     "ename": "IndexError",
     "evalue": "list index out of range",
     "output_type": "error",
     "traceback": [
      "\u001b[1;31m---------------------------------------------------------------------------\u001b[0m",
      "\u001b[1;31mIndexError\u001b[0m                                Traceback (most recent call last)",
      "Cell \u001b[1;32mIn[9], line 1\u001b[0m\n\u001b[1;32m----> 1\u001b[0m \u001b[39mprint\u001b[39m(solution(\u001b[39m5\u001b[39;49m, [[\u001b[39m0\u001b[39;49m, \u001b[39m1\u001b[39;49m, \u001b[39m1\u001b[39;49m], [\u001b[39m0\u001b[39;49m, \u001b[39m2\u001b[39;49m, \u001b[39m2\u001b[39;49m], [\u001b[39m1\u001b[39;49m, \u001b[39m2\u001b[39;49m, \u001b[39m5\u001b[39;49m], [\u001b[39m1\u001b[39;49m, \u001b[39m3\u001b[39;49m, \u001b[39m1\u001b[39;49m], [\u001b[39m2\u001b[39;49m, \u001b[39m3\u001b[39;49m, \u001b[39m8\u001b[39;49m], [\u001b[39m3\u001b[39;49m, \u001b[39m5\u001b[39;49m, \u001b[39m10\u001b[39;49m], [\u001b[39m2\u001b[39;49m, \u001b[39m5\u001b[39;49m, \u001b[39m4\u001b[39;49m]]) \u001b[39m==\u001b[39m \u001b[39m\"\u001b[39m\u001b[39m8\u001b[39m\u001b[39m\"\u001b[39m)\n",
      "Cell \u001b[1;32mIn[7], line 29\u001b[0m, in \u001b[0;36msolution\u001b[1;34m(n, costs)\u001b[0m\n\u001b[0;32m     27\u001b[0m \u001b[39mfor\u001b[39;00m i \u001b[39min\u001b[39;00m costs:\n\u001b[0;32m     28\u001b[0m     \u001b[39mif\u001b[39;00m find(parent, i[\u001b[39m0\u001b[39m]) \u001b[39m!=\u001b[39m find(parent, i[\u001b[39m1\u001b[39m]):\n\u001b[1;32m---> 29\u001b[0m         union(parent, i[\u001b[39m0\u001b[39;49m], i[\u001b[39m1\u001b[39;49m], rank)\n\u001b[0;32m     30\u001b[0m         answer \u001b[39m+\u001b[39m\u001b[39m=\u001b[39m  i[\u001b[39m2\u001b[39m]\n\u001b[0;32m     32\u001b[0m \u001b[39mreturn\u001b[39;00m answer\n",
      "Cell \u001b[1;32mIn[7], line 13\u001b[0m, in \u001b[0;36munion\u001b[1;34m(parent, i, j, rank)\u001b[0m\n\u001b[0;32m     10\u001b[0m \u001b[39mif\u001b[39;00m root_i \u001b[39m==\u001b[39m root_j:\n\u001b[0;32m     11\u001b[0m     \u001b[39mreturn\u001b[39;00m\n\u001b[1;32m---> 13\u001b[0m \u001b[39mif\u001b[39;00m rank[root_i] \u001b[39m<\u001b[39m rank[root_j]:\n\u001b[0;32m     14\u001b[0m     parent[root_i] \u001b[39m=\u001b[39m root_j\n\u001b[0;32m     15\u001b[0m \u001b[39melif\u001b[39;00m rank[root_j] \u001b[39m<\u001b[39m rank[root_i]:\n",
      "\u001b[1;31mIndexError\u001b[0m: list index out of range"
     ]
    },
    {
     "ename": "",
     "evalue": "",
     "output_type": "error",
     "traceback": [
      "\u001b[1;31m현재 셀 또는 이전 셀에서 코드를 실행하는 동안 Kernel이 충돌했습니다. 셀의 코드를 검토하여 오류의 가능한 원인을 식별하세요. 자세한 내용을 보려면 <a href='https://aka.ms/vscodeJupyterKernelCrash'> 여기 </a> 를 클릭하세요. 자세한 내용은 Jupyter <a href='command:jupyter.viewOutput'>로그</a>를 참조하세요."
     ]
    }
   ],
   "source": [
    "print(solution(5, [[0, 1, 1], [0, 2, 2], [1, 2, 5], [1, 3, 1], [2, 3, 8], [3, 5, 10], [2, 5, 4]]) == \"8\")"
   ]
  },
  {
   "cell_type": "code",
   "execution_count": 6,
   "metadata": {},
   "outputs": [
    {
     "name": "stdout",
     "output_type": "stream",
     "text": [
      "[[0, 1, 1], [1, 3, 1], [0, 2, 2], [2, 5, 4], [1, 2, 5], [2, 3, 8], [3, 5, 10]]\n"
     ]
    },
    {
     "ename": "IndexError",
     "evalue": "list index out of range",
     "output_type": "error",
     "traceback": [
      "\u001b[1;31m---------------------------------------------------------------------------\u001b[0m",
      "\u001b[1;31mIndexError\u001b[0m                                Traceback (most recent call last)",
      "Cell \u001b[1;32mIn[6], line 1\u001b[0m\n\u001b[1;32m----> 1\u001b[0m \u001b[39mprint\u001b[39m(solution(\u001b[39m5\u001b[39;49m, [[\u001b[39m0\u001b[39;49m, \u001b[39m1\u001b[39;49m, \u001b[39m1\u001b[39;49m], [\u001b[39m3\u001b[39;49m, \u001b[39m5\u001b[39;49m, \u001b[39m10\u001b[39;49m], [\u001b[39m2\u001b[39;49m, \u001b[39m5\u001b[39;49m, \u001b[39m4\u001b[39;49m], [\u001b[39m0\u001b[39;49m, \u001b[39m2\u001b[39;49m, \u001b[39m2\u001b[39;49m], [\u001b[39m1\u001b[39;49m, \u001b[39m2\u001b[39;49m, \u001b[39m5\u001b[39;49m], [\u001b[39m1\u001b[39;49m, \u001b[39m3\u001b[39;49m, \u001b[39m1\u001b[39;49m], [\u001b[39m2\u001b[39;49m, \u001b[39m3\u001b[39;49m, \u001b[39m8\u001b[39;49m]]) \u001b[39m==\u001b[39m \u001b[39m\"\u001b[39m\u001b[39m8\u001b[39m\u001b[39m\"\u001b[39m)\n",
      "Cell \u001b[1;32mIn[1], line 22\u001b[0m, in \u001b[0;36msolution\u001b[1;34m(n, costs)\u001b[0m\n\u001b[0;32m     20\u001b[0m \u001b[39mprint\u001b[39m(costs)\n\u001b[0;32m     21\u001b[0m \u001b[39mfor\u001b[39;00m i \u001b[39min\u001b[39;00m costs:\n\u001b[1;32m---> 22\u001b[0m     \u001b[39mif\u001b[39;00m find(parent, i[\u001b[39m0\u001b[39m]) \u001b[39m!=\u001b[39m find(parent, i[\u001b[39m1\u001b[39;49m]):\n\u001b[0;32m     23\u001b[0m         union(parent, i[\u001b[39m0\u001b[39m], i[\u001b[39m1\u001b[39m])\n\u001b[0;32m     24\u001b[0m         answer \u001b[39m+\u001b[39m\u001b[39m=\u001b[39m  i[\u001b[39m2\u001b[39m]\n",
      "Cell \u001b[1;32mIn[1], line 2\u001b[0m, in \u001b[0;36mfind\u001b[1;34m(parent, x)\u001b[0m\n\u001b[0;32m      1\u001b[0m \u001b[39mdef\u001b[39;00m \u001b[39mfind\u001b[39m(parent, x):\n\u001b[1;32m----> 2\u001b[0m     \u001b[39mif\u001b[39;00m parent[x] \u001b[39m!=\u001b[39m x:\n\u001b[0;32m      3\u001b[0m         parent[x] \u001b[39m=\u001b[39m find(parent, parent[x])\n\u001b[0;32m      4\u001b[0m     \u001b[39mreturn\u001b[39;00m parent[x]\n",
      "\u001b[1;31mIndexError\u001b[0m: list index out of range"
     ]
    }
   ],
   "source": [
    "print(solution(5, [[0, 1, 1], [3, 5, 10], [2, 5, 4], [0, 2, 2], [1, 2, 5], [1, 3, 1], [2, 3, 8]]) == \"8\")"
   ]
  },
  {
   "cell_type": "code",
   "execution_count": null,
   "metadata": {},
   "outputs": [],
   "source": [
    "print(solution(\"1924\",2) == \"94\")"
   ]
  },
  {
   "cell_type": "code",
   "execution_count": null,
   "metadata": {},
   "outputs": [],
   "source": [
    "print(solution(\"1231234\", 3) == \"3234\")"
   ]
  },
  {
   "cell_type": "code",
   "execution_count": null,
   "metadata": {},
   "outputs": [],
   "source": [
    "print(solution(\"4177252841\", 4) == \"775841\")"
   ]
  },
  {
   "cell_type": "code",
   "execution_count": null,
   "metadata": {},
   "outputs": [],
   "source": [
    "print(solution(\"123456\", 2) == \"3456\")"
   ]
  }
 ],
 "metadata": {
  "kernelspec": {
   "display_name": "asd",
   "language": "python",
   "name": "python3"
  },
  "language_info": {
   "codemirror_mode": {
    "name": "ipython",
    "version": 3
   },
   "file_extension": ".py",
   "mimetype": "text/x-python",
   "name": "python",
   "nbconvert_exporter": "python",
   "pygments_lexer": "ipython3",
   "version": "3.11.4"
  },
  "orig_nbformat": 4,
  "vscode": {
   "interpreter": {
    "hash": "1484e195d7bc9430bc3da72ea3c1b8c4a4682e4fe56bdbad8b3e1217f2a75f76"
   }
  }
 },
 "nbformat": 4,
 "nbformat_minor": 2
}
