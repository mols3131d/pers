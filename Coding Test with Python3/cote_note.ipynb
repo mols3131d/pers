{
 "cells": [
  {
   "attachments": {},
   "cell_type": "markdown",
   "metadata": {},
   "source": [
    "# note\n"
   ]
  },
  {
   "cell_type": "code",
   "execution_count": 2,
   "metadata": {},
   "outputs": [
    {
     "name": "stdout",
     "output_type": "stream",
     "text": [
      "True\n"
     ]
    }
   ],
   "source": [
    "d1 = {\"A\": 1, \"B\":2}\n",
    "\n",
    "print(\"A\" in d1)"
   ]
  },
  {
   "cell_type": "code",
   "execution_count": 3,
   "metadata": {},
   "outputs": [
    {
     "ename": "NameError",
     "evalue": "name 'make_graph' is not defined",
     "output_type": "error",
     "traceback": [
      "\u001b[1;31m---------------------------------------------------------------------------\u001b[0m",
      "\u001b[1;31mNameError\u001b[0m                                 Traceback (most recent call last)",
      "Cell \u001b[1;32mIn[3], line 29\u001b[0m\n\u001b[0;32m     24\u001b[0m     \u001b[39mreturn\u001b[39;00m path\n\u001b[0;32m     27\u001b[0m connections \u001b[39m=\u001b[39m [(\u001b[39m1\u001b[39m, \u001b[39m2\u001b[39m), (\u001b[39m1\u001b[39m, \u001b[39m3\u001b[39m), (\u001b[39m2\u001b[39m, \u001b[39m7\u001b[39m), (\u001b[39m2\u001b[39m, \u001b[39m8\u001b[39m), (\u001b[39m2\u001b[39m, \u001b[39m9\u001b[39m), (\u001b[39m4\u001b[39m, \u001b[39m5\u001b[39m), (\u001b[39m4\u001b[39m, \u001b[39m6\u001b[39m)]\n\u001b[1;32m---> 29\u001b[0m graph \u001b[39m=\u001b[39m make_graph(connections)\n\u001b[0;32m     31\u001b[0m start \u001b[39m=\u001b[39m \u001b[39m1\u001b[39m\n\u001b[0;32m     33\u001b[0m path \u001b[39m=\u001b[39m dfs(graph, start)\n",
      "\u001b[1;31mNameError\u001b[0m: name 'make_graph' is not defined"
     ]
    }
   ],
   "source": [
    "def dfs(graph, start):\n",
    "    \"\"\"\n",
    "    인접리스트로 표현된 그래프를 DFS로 탐색합니다.\n",
    "\n",
    "    Args:\n",
    "    graph: 그래프. 딕셔너리입니다.\n",
    "    start: 탐색을 시작할 정점입니다.\n",
    "\n",
    "    Returns:\n",
    "    탐색한 경로. 리스트입니다.\n",
    "    \"\"\"\n",
    "    \n",
    "    visited = set()\n",
    "    stack = [start]\n",
    "    path = []\n",
    "\n",
    "    while stack:\n",
    "        v = stack.pop()\n",
    "        if v not in visited:\n",
    "            visited.add(v)\n",
    "            path.append(v)\n",
    "            for w in graph[v]:\n",
    "                stack.append(w)\n",
    "    return path\n",
    "\n",
    "\n",
    "connections = [(1, 2), (1, 3), (2, 7), (2, 8), (2, 9), (4, 5), (4, 6)]\n",
    "\n",
    "graph = make_graph(connections)\n",
    "\n",
    "start = 1\n",
    "\n",
    "path = dfs(graph, start)\n",
    "\n",
    "print(path)"
   ]
  },
  {
   "cell_type": "code",
   "execution_count": 42,
   "metadata": {},
   "outputs": [
    {
     "name": "stdout",
     "output_type": "stream",
     "text": [
      "6 4\n",
      "[['0', '0', '0', '0', '0', '0'], ['0', '0', '0', '0', '0', '0'], ['0', '0', '0', '0', '0', '0'], ['0', '0', '0', '0', '0', '1']]\n",
      "deque([])\n"
     ]
    }
   ],
   "source": []
  },
  {
   "cell_type": "code",
   "execution_count": null,
   "metadata": {},
   "outputs": [],
   "source": []
  },
  {
   "cell_type": "code",
   "execution_count": 4,
   "metadata": {},
   "outputs": [
    {
     "name": "stdout",
     "output_type": "stream",
     "text": [
      "A\n",
      "  B\n",
      "    D\n",
      "    E\n",
      "      G\n",
      "  C\n",
      "    F\n"
     ]
    }
   ],
   "source": [
    "# 그래프를 인접 리스트로 표현합니다.\n",
    "graph = {\n",
    "    'A': ['B', 'C'],\n",
    "    'B': ['D', 'E'],\n",
    "    'C': ['F'],\n",
    "    'D': [],\n",
    "    'E': ['G'],\n",
    "    'F': [],\n",
    "    'G': []\n",
    "}\n",
    "\n",
    "visited = set()  # 방문한 노드들을 저장합니다.\n",
    "\n",
    "def dfs(visited, graph, node, level=0):\n",
    "    if node not in visited:\n",
    "        print('  '*level + node)  # 현재 레벨에 따라 들여쓰기를 합니다.\n",
    "        visited.add(node)\n",
    "        for neighbor in graph[node]:\n",
    "            dfs(visited, graph, neighbor, level+1)\n",
    "\n",
    "# 함수 호출\n",
    "dfs(visited, graph, \"A\")  # A부터 시작합니다."
   ]
  },
  {
   "cell_type": "code",
   "execution_count": null,
   "metadata": {},
   "outputs": [],
   "source": [
    "def dfs(v):\n",
    "    visited[v] = True\n",
    "    for i in graph[v]:\n",
    "        if not visited[i]:\n",
    "            res[i] = res[v] + 1\n",
    "            dfs(i)\n",
    "\n",
    "n=int(input())\n",
    "A,B=map(int,input().split())\n",
    "m=int(input())\n",
    "\n",
    "graph=[[] for _ in range(n+1)]\n",
    "visited = [False] * (n + 1)\n",
    "res=[0]*(n+1)\n",
    "\n",
    "\n",
    "for _ in range(m):\n",
    "    a,b=map(int,input().split())\n",
    "    graph[a].append(b)\n",
    "    graph[b].append(a)\n",
    "\n",
    "dfs(A)\n",
    "\n",
    "if res[B]>0:\n",
    "    print(res[B])\n",
    "else:\n",
    "    print(-1)"
   ]
  }
 ],
 "metadata": {
  "kernelspec": {
   "display_name": "asd",
   "language": "python",
   "name": "python3"
  },
  "language_info": {
   "codemirror_mode": {
    "name": "ipython",
    "version": 3
   },
   "file_extension": ".py",
   "mimetype": "text/x-python",
   "name": "python",
   "nbconvert_exporter": "python",
   "pygments_lexer": "ipython3",
   "version": "3.11.3"
  },
  "orig_nbformat": 4,
  "vscode": {
   "interpreter": {
    "hash": "1484e195d7bc9430bc3da72ea3c1b8c4a4682e4fe56bdbad8b3e1217f2a75f76"
   }
  }
 },
 "nbformat": 4,
 "nbformat_minor": 2
}
