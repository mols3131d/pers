{
 "cells": [
  {
   "attachments": {},
   "cell_type": "markdown",
   "metadata": {},
   "source": [
    "# [itertools](https://docs.python.org/ko/3/library/itertools.html)\n",
    "\n",
    "> 효율적인 루핑을 위한 이터레이터를 만드는 함수 <br>\n",
    "> 간결하고 효율적으로 특수화된 도구를 구성할 수 있도록 하는 “이터레이터 대수(iterator algebra)”를 형성\n",
    "\n"
   ]
  },
  {
   "attachments": {},
   "cell_type": "markdown",
   "metadata": {},
   "source": [
    "## [`permutations(iterable, r=None)`](https://docs.python.org/ko/3/library/itertools.html#itertools.permutations)\n",
    "\n",
    "iterable에서 요소의 연속된 길이 r 순열을 반환"
   ]
  },
  {
   "cell_type": "code",
   "execution_count": 29,
   "metadata": {},
   "outputs": [
    {
     "name": "stdout",
     "output_type": "stream",
     "text": [
      "<itertools.permutations object at 0x00000207A9F65620>\n"
     ]
    }
   ],
   "source": [
    "from itertools import permutations\n",
    "\n",
    "l = [1,2,3,4]\n",
    "p = permutations(l, 2)\n",
    "print(p)"
   ]
  },
  {
   "cell_type": "code",
   "execution_count": 33,
   "metadata": {},
   "outputs": [
    {
     "name": "stdout",
     "output_type": "stream",
     "text": [
      "use tuple()\n",
      "((1, 2), (1, 3), (1, 4), (2, 1), (2, 3), (2, 4), (3, 1), (3, 2), (3, 4), (4, 1), (4, 2), (4, 3))\n"
     ]
    }
   ],
   "source": [
    "p = permutations(l, 2)\n",
    "\n",
    "try:\n",
    "    print(list(p))\n",
    "    print(dict(p))\n",
    "except:\n",
    "    print(\"use tuple()\")\n",
    "\n",
    "print(tuple(p))"
   ]
  },
  {
   "cell_type": "code",
   "execution_count": null,
   "metadata": {},
   "outputs": [
    {
     "name": "stdout",
     "output_type": "stream",
     "text": [
      "(1, 2)\n",
      "(1, 3)\n",
      "(1, 4)\n",
      "(2, 1)\n",
      "(2, 3)\n",
      "(2, 4)\n",
      "(3, 1)\n",
      "(3, 2)\n",
      "(3, 4)\n",
      "(4, 1)\n",
      "(4, 2)\n",
      "(4, 3)\n"
     ]
    }
   ],
   "source": [
    "p = permutations(l, 2)\n",
    "for i in p:\n",
    "    print(i)"
   ]
  },
  {
   "attachments": {},
   "cell_type": "markdown",
   "metadata": {},
   "source": [
    "## [`product(*iterables, repeat=1)`](https://docs.python.org/ko/3/library/itertools.html#itertools.product)"
   ]
  },
  {
   "attachments": {},
   "cell_type": "markdown",
   "metadata": {},
   "source": [
    "## [`combinations(iterable, r)`](https://docs.python.org/ko/3/library/itertools.html#itertools.combinations)"
   ]
  },
  {
   "cell_type": "code",
   "execution_count": null,
   "metadata": {},
   "outputs": [
    {
     "name": "stdout",
     "output_type": "stream",
     "text": [
      "<itertools.combinations object at 0x00000207A9F262F0>\n"
     ]
    }
   ],
   "source": [
    "from itertools import combinations\n",
    "\n",
    "l = [1,2,3,4]\n",
    "p = combinations(l, 2)\n",
    "print(p)"
   ]
  },
  {
   "cell_type": "code",
   "execution_count": 36,
   "metadata": {},
   "outputs": [
    {
     "name": "stdout",
     "output_type": "stream",
     "text": [
      "use tuple()\n",
      "((1, 2), (1, 3), (1, 4), (2, 3), (2, 4), (3, 4))\n"
     ]
    }
   ],
   "source": [
    "p = combinations(l, 2)\n",
    "\n",
    "try:\n",
    "    print(list(p))\n",
    "    print(dict(p))\n",
    "except:\n",
    "    print(\"use tuple()\")\n",
    "\n",
    "p = combinations(l, 2)\n",
    "print(tuple(p))"
   ]
  },
  {
   "cell_type": "code",
   "execution_count": 35,
   "metadata": {},
   "outputs": [
    {
     "name": "stdout",
     "output_type": "stream",
     "text": [
      "(1, 2)\n",
      "(1, 3)\n",
      "(1, 4)\n",
      "(2, 3)\n",
      "(2, 4)\n",
      "(3, 4)\n"
     ]
    }
   ],
   "source": [
    "p = combinations(l, 2)\n",
    "for i in p:\n",
    "    print(i)"
   ]
  },
  {
   "attachments": {},
   "cell_type": "markdown",
   "metadata": {},
   "source": [
    "## [`combinations_with_replacement(iterable, r)`](https://docs.python.org/ko/3/library/itertools.html#itertools.combinations_with_replacement)\n",
    "\n",
    "> 입력 iterable에서 요소의 길이 r 서브 시퀀스들을 반환하는데, 개별 요소를 두 번 이상 반복할 수 있습니다.\n",
    "> 중복허용 조합"
   ]
  }
 ],
 "metadata": {
  "kernelspec": {
   "display_name": "da",
   "language": "python",
   "name": "python3"
  },
  "language_info": {
   "codemirror_mode": {
    "name": "ipython",
    "version": 3
   },
   "file_extension": ".py",
   "mimetype": "text/x-python",
   "name": "python",
   "nbconvert_exporter": "python",
   "pygments_lexer": "ipython3",
   "version": "3.11.3"
  },
  "orig_nbformat": 4
 },
 "nbformat": 4,
 "nbformat_minor": 2
}
