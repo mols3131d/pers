{
 "cells": [
  {
   "attachments": {},
   "cell_type": "markdown",
   "metadata": {},
   "source": [
    "# [`bisect`](https://docs.python.org/ko/3/library/bisect.html#module-bisect)\n",
    "\n",
    "`bisect`는 \"이분법\"을 의미.\n",
    "\n",
    "`bisect` 모듈의 주요 기능은 정렬된 시퀀스에서 값을 삽입할 위치를 찾는 것. 이 과정에서 이진 검색 알고리즘이 사용되며, 정렬된 시퀀스를 두 개로 분할하여 탐색 범위를 반으로 줄여가는 방식을 적용."
   ]
  },
  {
   "attachments": {},
   "cell_type": "markdown",
   "metadata": {},
   "source": [
    "## `bisect.bisect()`\n",
    "\n",
    "`bisect.bisect(a, x, lo=0, hi=len(a), *, key=None)`"
   ]
  },
  {
   "cell_type": "code",
   "execution_count": 1,
   "metadata": {},
   "outputs": [
    {
     "name": "stdout",
     "output_type": "stream",
     "text": [
      "[1, 3, 5, 7, 9]\n",
      "2\n",
      "[1, 3, 4, 5, 7, 9]\n"
     ]
    }
   ],
   "source": [
    "import bisect\n",
    "\n",
    "list = [1, 3, 5, 7, 9]\n",
    "print(list)\n",
    "\n",
    "new_element = 4\n",
    "\n",
    "index = bisect.bisect(list, new_element)\n",
    "print(index) # 2\n",
    "\n",
    "list.insert(index, new_element)\n",
    "print(list)  # [1, 3, 4, 5, 7, 9]"
   ]
  },
  {
   "cell_type": "code",
   "execution_count": 2,
   "metadata": {},
   "outputs": [
    {
     "name": "stdout",
     "output_type": "stream",
     "text": [
      "deque([1, 3, 5, 7, 9])\n",
      "2\n",
      "deque([1, 3, 4, 5, 7, 9])\n"
     ]
    }
   ],
   "source": [
    "# collections.deque에도 활용할 수 있다.\n",
    "\n",
    "import bisect\n",
    "from collections import deque\n",
    "\n",
    "\n",
    "deq = deque([1, 3, 5, 7, 9])\n",
    "print(deq)\n",
    "\n",
    "new_element = 4\n",
    "\n",
    "index = bisect.bisect(deq, new_element)\n",
    "print(index) # 2\n",
    "\n",
    "deq.insert(index, new_element)\n",
    "print(deq)  # [1, 3, 4, 5, 7, 9]"
   ]
  },
  {
   "attachments": {},
   "cell_type": "markdown",
   "metadata": {},
   "source": [
    "## `bisect.insort()`\n",
    "`bisect.insort(a, x, lo=0, hi=len(a), *, key=None)`"
   ]
  },
  {
   "cell_type": "code",
   "execution_count": 1,
   "metadata": {},
   "outputs": [
    {
     "name": "stdout",
     "output_type": "stream",
     "text": [
      "[1, 3, 5, 7, 9]\n",
      "[1, 3, 4, 5, 7, 9]\n"
     ]
    }
   ],
   "source": [
    "import bisect\n",
    "\n",
    "list = [1, 3, 5, 7, 9]\n",
    "print(list)\n",
    "\n",
    "bisect.insort(list, 4)\n",
    "print(list)"
   ]
  }
 ],
 "metadata": {
  "kernelspec": {
   "display_name": "da",
   "language": "python",
   "name": "python3"
  },
  "language_info": {
   "codemirror_mode": {
    "name": "ipython",
    "version": 3
   },
   "file_extension": ".py",
   "mimetype": "text/x-python",
   "name": "python",
   "nbconvert_exporter": "python",
   "pygments_lexer": "ipython3",
   "version": "3.11.4"
  },
  "orig_nbformat": 4
 },
 "nbformat": 4,
 "nbformat_minor": 2
}
