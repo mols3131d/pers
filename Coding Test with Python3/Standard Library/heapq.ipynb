{
 "cells": [
  {
   "attachments": {},
   "cell_type": "markdown",
   "metadata": {},
   "source": [
    "# [`heapq`](https://docs.python.org/ko/3/library/heapq.html)\n"
   ]
  },
  {
   "attachments": {},
   "cell_type": "markdown",
   "metadata": {},
   "source": [
    "## `heapq.heapify(x)`\n",
    "\n",
    "리스트 x를 선형 시간으로 제자리에서 힙으로 변환합니다.\n"
   ]
  },
  {
   "cell_type": "code",
   "execution_count": 1,
   "metadata": {},
   "outputs": [
    {
     "name": "stdout",
     "output_type": "stream",
     "text": [
      "Help on built-in function heapify in module _heapq:\n",
      "\n",
      "heapify(heap, /)\n",
      "    Transform list into a heap, in-place, in O(len(heap)) time.\n",
      "\n"
     ]
    }
   ],
   "source": [
    "import heapq\n",
    "\n",
    "help(heapq.heapify)\n"
   ]
  },
  {
   "cell_type": "code",
   "execution_count": 6,
   "metadata": {},
   "outputs": [
    {
     "name": "stdout",
     "output_type": "stream",
     "text": [
      "[1, 5, 9, 3, 4, 0]\n",
      "<class 'list'>\n",
      "[0, 3, 1, 5, 4, 9]\n"
     ]
    }
   ],
   "source": [
    "import heapq\n",
    "\n",
    "heq = [1, 5, 9, 3, 4, 0]\n",
    "print(heq)\n",
    "\n",
    "heapq.heapify(heq)\n",
    "\n",
    "print(type(heq))\n",
    "\n",
    "print(heq)"
   ]
  },
  {
   "attachments": {},
   "cell_type": "markdown",
   "metadata": {},
   "source": [
    "## `heapq.heappush(heap, item)`\n",
    "\n",
    "힙 불변성을 유지하면서, item 값을 heap으로 푸시합니다.\n"
   ]
  },
  {
   "cell_type": "code",
   "execution_count": 41,
   "metadata": {},
   "outputs": [
    {
     "name": "stdout",
     "output_type": "stream",
     "text": [
      "Help on built-in function heappush in module _heapq:\n",
      "\n",
      "heappush(heap, item, /)\n",
      "    Push item onto heap, maintaining the heap invariant.\n",
      "\n"
     ]
    }
   ],
   "source": [
    "help(heapq.heappush)"
   ]
  },
  {
   "cell_type": "code",
   "execution_count": 28,
   "metadata": {},
   "outputs": [
    {
     "name": "stdout",
     "output_type": "stream",
     "text": [
      "[0, 3, 1, 5, 4, 9, 6]\n"
     ]
    }
   ],
   "source": [
    "heapq.heappush(heq, 6)\n",
    "print(heq)"
   ]
  },
  {
   "attachments": {},
   "cell_type": "markdown",
   "metadata": {},
   "source": [
    "## `heapq.heappop(heap)`\n",
    "\n",
    "힙 불변성을 유지하면서, heap에서 가장 작은 항목을 팝하고 반환합니다. 힙이 비어 있으면, IndexError가 발생합니다. 팝 하지 않고 가장 작은 항목에 액세스하려면, heap[0]을 사용하십시오.\n"
   ]
  },
  {
   "cell_type": "code",
   "execution_count": 42,
   "metadata": {},
   "outputs": [
    {
     "name": "stdout",
     "output_type": "stream",
     "text": [
      "Help on built-in function heappop in module _heapq:\n",
      "\n",
      "heappop(heap, /)\n",
      "    Pop the smallest item off the heap, maintaining the heap invariant.\n",
      "\n"
     ]
    }
   ],
   "source": [
    "help(heapq.heappop)"
   ]
  },
  {
   "cell_type": "code",
   "execution_count": 29,
   "metadata": {},
   "outputs": [
    {
     "name": "stdout",
     "output_type": "stream",
     "text": [
      "0\n",
      "[1, 3, 6, 5, 4, 9]\n"
     ]
    }
   ],
   "source": [
    "a = heapq.heappop(heq)\n",
    "print(a)\n",
    "print(heq)\n"
   ]
  },
  {
   "attachments": {},
   "cell_type": "markdown",
   "metadata": {},
   "source": [
    "## `heapq.heappushpop(heap, item)`\n",
    "\n",
    "힙에 `item`을 푸시한 다음, `heap`에서 가장 작은 항목을 팝하고 반환합니다. <br>\n",
    "**결합한 액션은 `heappush()`한 다음 `heappop()`을 별도로 호출하는 것보다 더 효율적으로 실행합니다.**\n"
   ]
  },
  {
   "cell_type": "code",
   "execution_count": 30,
   "metadata": {},
   "outputs": [
    {
     "name": "stdout",
     "output_type": "stream",
     "text": [
      "1\n",
      "[3, 4, 6, 5, 6, 9]\n"
     ]
    }
   ],
   "source": [
    "b = heapq.heappushpop(heq, 6)\n",
    "print(b)\n",
    "print(heq)\n"
   ]
  },
  {
   "attachments": {},
   "cell_type": "markdown",
   "metadata": {},
   "source": [
    "## `heapq.heapreplace(heap, item)`\n",
    "\n",
    "heap에서 가장 작은 항목을 팝하고 반환하며, 새로운 item도 푸시합니다. 힙 크기는 변경되지 않습니다. 힙이 비어 있으면, IndexError가 발생합니다.\n"
   ]
  },
  {
   "attachments": {},
   "cell_type": "markdown",
   "metadata": {},
   "source": [
    "## `heapq.merge(*iterables, key=None, reverse=False)`\n",
    "\n",
    "여러 정렬된 입력을 단일 정렬된 출력으로 병합합니다 (예를 들어, 여러 로그 파일에서 타임 스탬프 된 항목을 병합합니다). 정렬된 값에 대한 이터레이터를 반환합니다.\n"
   ]
  },
  {
   "attachments": {},
   "cell_type": "markdown",
   "metadata": {},
   "source": [
    "## `heapq.nlargest(n, iterable, key=None)`\n",
    "\n",
    "iterable에 의해 정의된 데이터 집합에서 n 개의 가장 큰 요소로 구성된 리스트를 반환합니다. key가 제공되면 iterable의 각 요소에서 비교 키를 추출하는 데 사용되는 단일 인자 함수를 지정합니다 (예를 들어, key=str.lower). 다음과 동등합니다: sorted(iterable, key=key, reverse=True)[:n].\n"
   ]
  },
  {
   "attachments": {},
   "cell_type": "markdown",
   "metadata": {},
   "source": [
    "## `heapq.nsmallest(n, iterable, key=None)`\n",
    "\n",
    "iterable에 의해 정의된 데이터 집합에서 n 개의 가장 작은 요소로 구성된 리스트를 반환합니다. key가 제공되면 iterable의 각 요소에서 비교 키를 추출하는 데 사용되는 단일 인자 함수를 지정합니다 (예를 들어, key=str.lower). 다음과 동등합니다: sorted(iterable, key=key)[:n].\n"
   ]
  },
  {
   "cell_type": "markdown",
   "metadata": {},
   "source": [
    "# 빈 리스트의 경우\n",
    "\n",
    "빈 리스트에 heapify를 적용할 수 있지만, 할 필요는 없다. 그냥 바로 heappush해서 heapq를 유지해주면 된다.\n"
   ]
  },
  {
   "cell_type": "code",
   "execution_count": 31,
   "metadata": {},
   "outputs": [
    {
     "name": "stdout",
     "output_type": "stream",
     "text": [
      "[]\n",
      "[]\n"
     ]
    }
   ],
   "source": [
    "import heapq\n",
    "\n",
    "heq = []\n",
    "print(heq)\n",
    "\n",
    "heapq.heapify(heq)\n",
    "print(heq)"
   ]
  },
  {
   "cell_type": "code",
   "execution_count": 32,
   "metadata": {},
   "outputs": [
    {
     "name": "stdout",
     "output_type": "stream",
     "text": [
      "[1]\n",
      "[1, 5]\n",
      "[1, 5, 9]\n",
      "[1, 3, 9, 5]\n",
      "[1, 3, 9, 5, 4]\n",
      "[0, 3, 1, 5, 4, 9]\n"
     ]
    }
   ],
   "source": [
    "l = [1, 5, 9, 3, 4, 0]\n",
    "\n",
    "for i in l:\n",
    "    heapq.heappush(heq, i)\n",
    "    print(heq)"
   ]
  },
  {
   "cell_type": "code",
   "execution_count": 33,
   "metadata": {},
   "outputs": [
    {
     "name": "stdout",
     "output_type": "stream",
     "text": [
      "0\n",
      "[1, 3, 9, 5, 4]\n"
     ]
    }
   ],
   "source": [
    "a = heapq.heappop(heq)\n",
    "print(a)\n",
    "print(heq)"
   ]
  },
  {
   "cell_type": "markdown",
   "metadata": {},
   "source": [
    "# 원소가 여러개인 경우\n",
    "\n",
    "낮은 인덱스의 값(앞의 원소)을 기준으로 함.\n"
   ]
  },
  {
   "cell_type": "code",
   "execution_count": null,
   "metadata": {},
   "outputs": [
    {
     "name": "stdout",
     "output_type": "stream",
     "text": [
      "[(1, 0), (5, 1), (9, 2), (3, 3), (4, 4), (0, 5)]\n",
      "[(0, 5), (3, 3), (1, 0), (5, 1), (4, 4), (9, 2)]\n"
     ]
    }
   ],
   "source": [
    "import heapq\n",
    "\n",
    "heq2 = [(1, 0), (5, 1), (9, 2), (3, 3), (4, 4), (0, 5)]\n",
    "print(heq2)\n",
    "\n",
    "heapq.heapify(heq2)\n",
    "print(heq2)"
   ]
  },
  {
   "cell_type": "code",
   "execution_count": null,
   "metadata": {},
   "outputs": [
    {
     "name": "stdout",
     "output_type": "stream",
     "text": [
      "[(0, 5), (3, 3), (1, 0), (5, 1), (4, 4), (9, 2), (6, 7)]\n"
     ]
    }
   ],
   "source": [
    "heapq.heappush(heq2, (6, 7))\n",
    "print(heq2)"
   ]
  },
  {
   "cell_type": "code",
   "execution_count": null,
   "metadata": {},
   "outputs": [
    {
     "name": "stdout",
     "output_type": "stream",
     "text": [
      "[(0, 1), (1, 5), (2, 9), (3, 3), (4, 4), (5, 0)]\n",
      "[(0, 1), (1, 5), (2, 9), (3, 3), (4, 4), (5, 0)]\n"
     ]
    }
   ],
   "source": [
    "import heapq\n",
    "\n",
    "heq3 = [(0, 1), (1, 5), (2, 9), (3, 3), (4, 4), (5, 0)]\n",
    "print(heq3)\n",
    "\n",
    "heapq.heapify(heq3)\n",
    "print(heq3)"
   ]
  }
 ],
 "metadata": {
  "kernelspec": {
   "display_name": "da",
   "language": "python",
   "name": "python3"
  },
  "language_info": {
   "codemirror_mode": {
    "name": "ipython",
    "version": 3
   },
   "file_extension": ".py",
   "mimetype": "text/x-python",
   "name": "python",
   "nbconvert_exporter": "python",
   "pygments_lexer": "ipython3",
   "version": "3.11.3"
  },
  "orig_nbformat": 4
 },
 "nbformat": 4,
 "nbformat_minor": 2
}
