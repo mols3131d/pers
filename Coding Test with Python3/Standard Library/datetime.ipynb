{
 "cells": [
  {
   "cell_type": "markdown",
   "metadata": {},
   "source": [
    "# `datetime`"
   ]
  },
  {
   "cell_type": "markdown",
   "metadata": {},
   "source": [
    "## `datetime.datetime`"
   ]
  },
  {
   "cell_type": "code",
   "execution_count": 1,
   "metadata": {},
   "outputs": [
    {
     "name": "stdout",
     "output_type": "stream",
     "text": [
      "2023-12-20 02:38:04.669497\n"
     ]
    }
   ],
   "source": [
    "import datetime\n",
    "\n",
    "# 현재 시간을 가져옵니다.\n",
    "dt_now = datetime.datetime.now()\n",
    "print(dt_now)"
   ]
  },
  {
   "cell_type": "code",
   "execution_count": 56,
   "metadata": {},
   "outputs": [
    {
     "name": "stdout",
     "output_type": "stream",
     "text": [
      "2023-06-23\n"
     ]
    }
   ],
   "source": [
    "d = dt_now.date()\n",
    "print(d)"
   ]
  },
  {
   "cell_type": "code",
   "execution_count": 64,
   "metadata": {},
   "outputs": [
    {
     "name": "stdout",
     "output_type": "stream",
     "text": [
      "연: 2023\n",
      "월: 6\n",
      "일: 23\n",
      "weekday_index: 4\n"
     ]
    }
   ],
   "source": [
    "print(\"연:\", dt_now.year)\n",
    "print(\"월:\", dt_now.month)\n",
    "print(\"일:\", dt_now.day)\n"
   ]
  },
  {
   "cell_type": "code",
   "execution_count": 57,
   "metadata": {},
   "outputs": [
    {
     "name": "stdout",
     "output_type": "stream",
     "text": [
      "05:51:08.522462\n"
     ]
    }
   ],
   "source": [
    "t = dt_now.time()\n",
    "print(t)"
   ]
  },
  {
   "cell_type": "code",
   "execution_count": 58,
   "metadata": {},
   "outputs": [
    {
     "name": "stdout",
     "output_type": "stream",
     "text": [
      "시: 5\n",
      "분: 51\n",
      "초: 8\n",
      "마이크로초: 522462\n"
     ]
    }
   ],
   "source": [
    "print(\"시:\", dt_now.hour)\n",
    "print(\"분:\", dt_now.minute)\n",
    "print(\"초:\", dt_now.second)\n",
    "print(\"마이크로초:\", dt_now.microsecond)"
   ]
  },
  {
   "cell_type": "markdown",
   "metadata": {},
   "source": [
    "### `weekday()`"
   ]
  },
  {
   "cell_type": "code",
   "execution_count": 73,
   "metadata": {},
   "outputs": [
    {
     "name": "stdout",
     "output_type": "stream",
     "text": [
      "weekday_index: 4\n"
     ]
    }
   ],
   "source": [
    "weekday_index = dt_now.weekday()\n",
    "print(\"weekday_index:\", weekday_index)"
   ]
  },
  {
   "cell_type": "code",
   "execution_count": 75,
   "metadata": {},
   "outputs": [
    {
     "name": "stdout",
     "output_type": "stream",
     "text": [
      "Fri\n",
      "Friday\n"
     ]
    }
   ],
   "source": [
    "# 요일 인덱스를 영어로 변환\n",
    "weekday_english_abbreviated = dt_now.strftime(\"%a\")\n",
    "weekday_english_full = dt_now.strftime(\"%A\")\n",
    "\n",
    "print(weekday_english_abbreviated)\n",
    "print(weekday_english_full)"
   ]
  },
  {
   "cell_type": "code",
   "execution_count": 76,
   "metadata": {},
   "outputs": [
    {
     "name": "stdout",
     "output_type": "stream",
     "text": [
      "금요일\n"
     ]
    }
   ],
   "source": [
    "# 요일 문자열 매핑\n",
    "weekday_mapping = {\n",
    "    0: \"월요일\",\n",
    "    1: \"화요일\",\n",
    "    2: \"수요일\",\n",
    "    3: \"목요일\",\n",
    "    4: \"금요일\",\n",
    "    5: \"토요일\",\n",
    "    6: \"일요일\",\n",
    "}\n",
    "\n",
    "# 요일 인덱스를 한글로 변환\n",
    "weekday_korean = weekday_mapping[weekday_index]\n",
    "\n",
    "print(weekday_korean)"
   ]
  },
  {
   "cell_type": "markdown",
   "metadata": {},
   "source": [
    "### `datetime.datetime.strftime()`\n",
    "\n",
    "`datetime` to `str`"
   ]
  },
  {
   "cell_type": "code",
   "execution_count": 46,
   "metadata": {},
   "outputs": [
    {
     "name": "stdout",
     "output_type": "stream",
     "text": [
      "2023-06-23 05:44:08.775556\n",
      "2023-06-23 05:44:08\n"
     ]
    }
   ],
   "source": [
    "# 날짜와 시간을 특정 형식으로 출력합니다.\n",
    "str_now = dt_now.strftime(\"%Y-%m-%d %H:%M:%S\")\n",
    "print(dt_now)\n",
    "print(str_now)"
   ]
  },
  {
   "cell_type": "markdown",
   "metadata": {},
   "source": [
    "### `datetime.datetime.strptime()`\n",
    "\n",
    "`str` to `datetime`"
   ]
  },
  {
   "cell_type": "code",
   "execution_count": 79,
   "metadata": {},
   "outputs": [
    {
     "name": "stdout",
     "output_type": "stream",
     "text": [
      "문자열에서 생성된 날짜와 시간 객체: 1997-12-03 13:30:45\n"
     ]
    }
   ],
   "source": [
    "# 문자열로부터 날짜와 시간의 객체를 생성합니다.\n",
    "str_dt = \"1997-12-03 13:30:45\"\n",
    "parsed_dt = datetime.datetime.strptime(str_dt, \"%Y-%m-%d %H:%M:%S\")\n",
    "print(f\"문자열에서 생성된 날짜와 시간 객체: {parsed_dt}\")"
   ]
  },
  {
   "cell_type": "code",
   "execution_count": 82,
   "metadata": {},
   "outputs": [
    {
     "data": {
      "text/plain": [
       "(13, 30)"
      ]
     },
     "execution_count": 82,
     "metadata": {},
     "output_type": "execute_result"
    }
   ],
   "source": [
    "parsed_dt.hour, parsed_dt.minute"
   ]
  },
  {
   "cell_type": "markdown",
   "metadata": {},
   "source": [
    "## `datetime.date()`"
   ]
  },
  {
   "cell_type": "code",
   "execution_count": null,
   "metadata": {},
   "outputs": [
    {
     "name": "stdout",
     "output_type": "stream",
     "text": [
      "연도: 2023\n",
      "월: 6\n",
      "일: 23\n",
      "요일: 4\n",
      "형식화된 날짜: 2023-06-23\n"
     ]
    }
   ],
   "source": [
    "# 날짜 객체 생성\n",
    "d = datetime.date(2023, 6, 23)"
   ]
  },
  {
   "cell_type": "code",
   "execution_count": null,
   "metadata": {},
   "outputs": [],
   "source": [
    "# 속성 접근\n",
    "print(\"연도:\", d.year)\n",
    "print(\"월:\", d.month)\n",
    "print(\"일:\", d.day)"
   ]
  },
  {
   "cell_type": "code",
   "execution_count": null,
   "metadata": {},
   "outputs": [],
   "source": [
    "# 요일 확인\n",
    "weekday = d.weekday()\n",
    "print(\"요일:\", weekday)"
   ]
  },
  {
   "cell_type": "code",
   "execution_count": null,
   "metadata": {},
   "outputs": [],
   "source": [
    "# 형식화된 문자열 생성\n",
    "formatted = d.strftime(\"%Y-%m-%d\")\n",
    "print(\"형식화된 날짜:\", formatted)"
   ]
  },
  {
   "cell_type": "markdown",
   "metadata": {},
   "source": [
    "## `datetime.time`"
   ]
  },
  {
   "cell_type": "code",
   "execution_count": 12,
   "metadata": {},
   "outputs": [
    {
     "name": "stdout",
     "output_type": "stream",
     "text": [
      "시: 12\n",
      "분: 30\n",
      "초: 45\n",
      "마이크로초: 500\n",
      "형식화된 시간: 12:30:45\n"
     ]
    }
   ],
   "source": [
    "# 시간 객체 생성\n",
    "t = datetime.time(12, 30, 45, 500)\n",
    "\n",
    "# 속성 접근\n",
    "print(\"시:\", t.hour)\n",
    "print(\"분:\", t.minute)\n",
    "print(\"초:\", t.second)\n",
    "print(\"마이크로초:\", t.microsecond)\n",
    "\n",
    "# 형식화된 문자열 생성\n",
    "formatted = t.strftime(\"%H:%M:%S\")\n",
    "print(\"형식화된 시간:\", formatted)"
   ]
  },
  {
   "cell_type": "markdown",
   "metadata": {},
   "source": [
    "### `datetime.time.strftime()`"
   ]
  },
  {
   "cell_type": "code",
   "execution_count": 78,
   "metadata": {},
   "outputs": [
    {
     "name": "stdout",
     "output_type": "stream",
     "text": [
      "06:02:43\n"
     ]
    }
   ],
   "source": [
    "# 현재 시간 얻기\n",
    "current_time = datetime.datetime.now().time()\n",
    "\n",
    "# 형식화된 문자열 생성\n",
    "formatted_time = current_time.strftime(\"%H:%M:%S\")\n",
    "\n",
    "print(formatted_time)"
   ]
  },
  {
   "cell_type": "markdown",
   "metadata": {},
   "source": [
    "## timedelta"
   ]
  },
  {
   "cell_type": "code",
   "execution_count": 2,
   "metadata": {},
   "outputs": [
    {
     "name": "stdout",
     "output_type": "stream",
     "text": [
      "2023-12-20 02:38:08.807345\n"
     ]
    }
   ],
   "source": [
    "import datetime\n",
    "\n",
    "# 현재 시간을 가져옵니다.\n",
    "dt_now = datetime.datetime.now()\n",
    "print(dt_now)"
   ]
  },
  {
   "cell_type": "code",
   "execution_count": 3,
   "metadata": {},
   "outputs": [
    {
     "name": "stdout",
     "output_type": "stream",
     "text": [
      "2023-12-23 02:38:08.807345\n"
     ]
    }
   ],
   "source": [
    "dt = dt_now + datetime.timedelta(days=3)\n",
    "print(dt)"
   ]
  },
  {
   "cell_type": "code",
   "execution_count": 9,
   "metadata": {},
   "outputs": [
    {
     "name": "stdout",
     "output_type": "stream",
     "text": [
      "2024-01-17\n"
     ]
    }
   ],
   "source": [
    "import datetime\n",
    "\n",
    "# 현재 시간을 가져옵니다.\n",
    "dt_now = datetime.date(2023, 12, 20)\n",
    "print(dt_now + datetime.timedelta(days=28))"
   ]
  }
 ],
 "metadata": {
  "kernelspec": {
   "display_name": "da",
   "language": "python",
   "name": "python3"
  },
  "language_info": {
   "codemirror_mode": {
    "name": "ipython",
    "version": 3
   },
   "file_extension": ".py",
   "mimetype": "text/x-python",
   "name": "python",
   "nbconvert_exporter": "python",
   "pygments_lexer": "ipython3",
   "version": "3.11.6"
  },
  "orig_nbformat": 4
 },
 "nbformat": 4,
 "nbformat_minor": 2
}
