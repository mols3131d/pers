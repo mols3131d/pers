{
 "cells": [
  {
   "attachments": {},
   "cell_type": "markdown",
   "metadata": {},
   "source": [
    "# all(iterable)\n",
    "\n",
    "-   iterable에서 '**and 논리연산**'을 하여 boolean을 반환한다.\n",
    "-   params\n",
    "    -   iterable\n",
    "\n",
    "```python\n",
    " def all(iterable):\n",
    "    for element in iterable:\n",
    "        if not element:\n",
    "            return False\n",
    "    return True\n",
    "```\n"
   ]
  },
  {
   "cell_type": "code",
   "execution_count": 1,
   "metadata": {},
   "outputs": [
    {
     "name": "stdout",
     "output_type": "stream",
     "text": [
      "all([1,2,3,4,5]) : True\n",
      "all([1,2,0,4,5]) : False\n",
      "all([]) : True\n",
      "all('BlockDMask') : True\n",
      "all('') : True\n",
      "all(('b', 3, 'a')) : True\n",
      "all(('b', 2, 0, 'd')) : False\n",
      "all(('a', '', 2, 3)) : False\n",
      "all(()) : True\n"
     ]
    }
   ],
   "source": [
    "# 파이썬 all 함수 예제들\n",
    "\n",
    "# 리스트\n",
    "a = [1, 2, 3, 4, 5]\n",
    "result = all(a)\n",
    "print(f\"all([1,2,3,4,5]) : {result}\")\n",
    "\n",
    "# 리스트 요소에 0 -> False 이 있는 경우\n",
    "b = [1, 2, 0, 4, 5]\n",
    "print(f\"all([1,2,0,4,5]) : {all(b)}\")\n",
    "\n",
    "# 리스트가 비어있는 경우\n",
    "c = []\n",
    "print(f\"all([]) : {all(c)}\")\n",
    "\n",
    "# 문자열\n",
    "d = \"BlockDMask\"\n",
    "print(f\"all('BlockDMask') : {all(d)}\")\n",
    "\n",
    "# 비어있는 문자열\n",
    "e = \"\"\n",
    "print(f\"all('') : {all(e)}\")"
   ]
  },
  {
   "attachments": {},
   "cell_type": "markdown",
   "metadata": {},
   "source": [
    "# any(iterable)\n",
    "\n",
    "-   iterable에서 '**or 논리연산**'을 하여 boolean을 반환한다.\n",
    "-   params\n",
    "    -   iterable\n",
    "\n",
    "```python\n",
    "def any(iterable):\n",
    "    for element in iterable:\n",
    "        if element:\n",
    "            return True\n",
    "    return False\n",
    "```\n"
   ]
  },
  {
   "cell_type": "code",
   "execution_count": 1,
   "metadata": {},
   "outputs": [
    {
     "name": "stdout",
     "output_type": "stream",
     "text": [
      "any([1,2,3,4,5]) : True\n"
     ]
    }
   ],
   "source": [
    "# 리스트\n",
    "a = [1, 2, 3, 4, 5]\n",
    "result = any(a)\n",
    "print(f\"any([1,2,3,4,5]) : {result}\")"
   ]
  },
  {
   "cell_type": "code",
   "execution_count": 2,
   "metadata": {},
   "outputs": [
    {
     "name": "stdout",
     "output_type": "stream",
     "text": [
      "any([1,2,0,4,5]) : True\n"
     ]
    }
   ],
   "source": [
    "# 리스트 요소에 0 -> False 이 있는 경우\n",
    "b = [1, 2, 0, 4, 5]\n",
    "print(f\"any([1,2,0,4,5]) : {any(b)}\")"
   ]
  },
  {
   "cell_type": "code",
   "execution_count": 3,
   "metadata": {},
   "outputs": [
    {
     "name": "stdout",
     "output_type": "stream",
     "text": [
      "any([]) : False\n"
     ]
    }
   ],
   "source": [
    "# 리스트가 비어있는 경우\n",
    "c = []\n",
    "print(f\"any([]) : {any(c)}\")"
   ]
  },
  {
   "cell_type": "code",
   "execution_count": 4,
   "metadata": {},
   "outputs": [
    {
     "name": "stdout",
     "output_type": "stream",
     "text": [
      "any('BlockDMask') : True\n"
     ]
    }
   ],
   "source": [
    "# 문자열\n",
    "d = \"BlockDMask\"\n",
    "print(f\"any('BlockDMask') : {any(d)}\")"
   ]
  },
  {
   "cell_type": "code",
   "execution_count": 5,
   "metadata": {},
   "outputs": [
    {
     "name": "stdout",
     "output_type": "stream",
     "text": [
      "any('') : False\n"
     ]
    }
   ],
   "source": [
    "# 비어있는 문자열\n",
    "e = \"\"\n",
    "print(f\"any('') : {any(e)}\")"
   ]
  },
  {
   "attachments": {},
   "cell_type": "markdown",
   "metadata": {},
   "source": [
    "#\n",
    "\n",
    "## Reference\n",
    "\n",
    "[[python] 파이썬 all, any 함수 정리 및 예제](https://blockdmask.tistory.com/430)\n"
   ]
  }
 ],
 "metadata": {
  "kernelspec": {
   "display_name": "asd",
   "language": "python",
   "name": "python3"
  },
  "language_info": {
   "codemirror_mode": {
    "name": "ipython",
    "version": 3
   },
   "file_extension": ".py",
   "mimetype": "text/x-python",
   "name": "python",
   "nbconvert_exporter": "python",
   "pygments_lexer": "ipython3",
   "version": "3.9.15 | packaged by conda-forge | (main, Nov 22 2022, 08:39:05) [MSC v.1929 64 bit (AMD64)]"
  },
  "orig_nbformat": 4,
  "vscode": {
   "interpreter": {
    "hash": "1484e195d7bc9430bc3da72ea3c1b8c4a4682e4fe56bdbad8b3e1217f2a75f76"
   }
  }
 },
 "nbformat": 4,
 "nbformat_minor": 2
}
