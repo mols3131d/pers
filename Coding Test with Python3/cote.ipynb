{
 "cells": [
  {
   "cell_type": "code",
   "execution_count": 3,
   "metadata": {},
   "outputs": [
    {
     "name": "stdout",
     "output_type": "stream",
     "text": [
      "asd\n"
     ]
    }
   ],
   "source": [
    "a = \"asd\"\n",
    "print(a)"
   ]
  },
  {
   "attachments": {},
   "cell_type": "markdown",
   "metadata": {},
   "source": [
    "# note"
   ]
  },
  {
   "cell_type": "code",
   "execution_count": 1,
   "metadata": {},
   "outputs": [],
   "source": [
    "def solution(plans):\n",
    "    answer = []\n",
    "    work = deque([])\n",
    "    plans.sort(key= lambda x: x[1])\n",
    "    plans = deque(plans)\n",
    "    \n",
    "    \n",
    "    while plans:\n",
    "        p = plans.popleft()\n",
    "        p[1] = p[1].split(\":\")\n",
    "        p[1] = int(p[1][0]) * 60 + int(p[1][1])\n",
    "        p[2] = int(p[2])\n",
    "\n",
    "        if work == deque([]):\n",
    "            work.append(p)\n",
    "\n",
    "        else:\n",
    "            w = work.pop()\n",
    "\n",
    "            if w[1] + w[2] > p[1]:\n",
    "                w[2] -= p[1] - w[1]\n",
    "                work.append(w)\n",
    "                work.append(p)\n",
    "            else:\n",
    "                work.append(p)\n",
    "                answer.append(w[0])\n",
    "    \n",
    "    while work:\n",
    "        w = work.pop()\n",
    "        answer.append(w[0])"
   ]
  },
  {
   "cell_type": "code",
   "execution_count": null,
   "metadata": {},
   "outputs": [],
   "source": []
  },
  {
   "cell_type": "code",
   "execution_count": 7,
   "metadata": {},
   "outputs": [],
   "source": []
  },
  {
   "cell_type": "markdown",
   "metadata": {},
   "source": [
    "# Test"
   ]
  },
  {
   "cell_type": "code",
   "execution_count": 4,
   "metadata": {},
   "outputs": [
    {
     "name": "stdout",
     "output_type": "stream",
     "text": [
      "4 18\n",
      "737\n",
      "656\n",
      "123\n",
      "912\n",
      "맞은 답: 123\n",
      "틀린 답: 122\n"
     ]
    }
   ],
   "source": [
    "from random import randint\n",
    "\n",
    "# 예제 생성\n",
    "def example():\n",
    "\tK = randint(1, 10)\n",
    "\tN = randint(K, 20)\n",
    "\tlines = [0] * K\n",
    "\n",
    "\tfor i in range(K):\n",
    "\t\tlines[i] = randint(1, 1000)\n",
    "\treturn [K, N, lines]\n",
    "\n",
    "# 맞은 답\n",
    "def right_sol(K, N, lines):\n",
    "\ts = 1\n",
    "\te = max(lines)\n",
    "\n",
    "\tres = 0\n",
    "\twhile s <= e:\n",
    "\t\tcnt = 0\n",
    "\t\tm = (s+e)//2\n",
    "\t\tfor i in lines:\n",
    "\t\t\tif i >= m:\n",
    "\t\t\t\tcnt += i // m\n",
    "\t\tif cnt < N:\n",
    "\t\t\te = m - 1\n",
    "\t\telse:\n",
    "\t\t\tres = m\n",
    "\t\t\ts = m + 1\n",
    "\treturn res\n",
    "\n",
    "# 틀린 답\n",
    "def wrong_sol(K, N, lines):\n",
    "\ts = 0\n",
    "\te = max(lines)\n",
    "\n",
    "\tres = 0\n",
    "\twhile s <= e:\n",
    "\t\tcnt = 0\n",
    "\t\tm = (s+e)//2\n",
    "\t\tfor i in lines:\n",
    "\t\t\tif i > m:\n",
    "\t\t\t\tcnt += i // m\n",
    "\t\tif cnt < N:\n",
    "\t\t\te = m - 1\n",
    "\t\telse:\n",
    "\t\t\tres = m\n",
    "\t\t\ts = m + 1\n",
    "\treturn res\n",
    "\n",
    "# 반례 출력\n",
    "def check():\n",
    "\tex = example()\n",
    "\tright = right_sol(ex[0], ex[1], ex[2])\n",
    "\twrong = wrong_sol(ex[0], ex[1], ex[2])\n",
    "\tif right != wrong:\n",
    "\t\tprint(ex[0], ex[1])\n",
    "\t\tfor i in ex[2]:\n",
    "\t\t\tprint(i)\n",
    "\t\tprint(\"맞은 답:\", right)\n",
    "\t\tprint(\"틀린 답:\", wrong)\n",
    "\t\treturn\n",
    "\telse:\n",
    "\t\tcheck()\n",
    "\n",
    "check()"
   ]
  },
  {
   "cell_type": "code",
   "execution_count": 1,
   "metadata": {},
   "outputs": [],
   "source": [
    "def example():\n",
    "\tK = randint(1, 10)\n",
    "\tN = randint(K, 20) # K <= N\n",
    "\tlines = [0] * K\n",
    "\n",
    "\tfor i in range(K):\n",
    "\t\tlines[i] = randint(1, 1000)\n",
    "\treturn [K, N, lines]"
   ]
  },
  {
   "cell_type": "code",
   "execution_count": 2,
   "metadata": {},
   "outputs": [],
   "source": [
    "def right_sol(K, N, lines):\n",
    "\ts = 1\n",
    "\te = max(lines)\n",
    "\n",
    "\tres = 0\n",
    "\twhile s <= e:\n",
    "\t\tcnt = 0\n",
    "\t\tm = (s+e)//2\n",
    "\t\tfor i in lines:\n",
    "\t\t\tif i >= m:\n",
    "\t\t\t\tcnt += i // m\n",
    "\t\tif cnt < N:\n",
    "\t\t\te = m - 1\n",
    "\t\telse:\n",
    "\t\t\tres = m\n",
    "\t\t\ts = m + 1\n",
    "\treturn res\n",
    "\n",
    "def wrong_sol(K, N, lines):\n",
    "\ts = 0\n",
    "\te = max(lines)\n",
    "\n",
    "\tres = 0\n",
    "\twhile s <= e:\n",
    "\t\tcnt = 0\n",
    "\t\tm = (s+e)//2\n",
    "\t\tfor i in lines:\n",
    "\t\t\tif i > m:\n",
    "\t\t\t\tcnt += i // m\n",
    "\t\tif cnt < N:\n",
    "\t\t\te = m - 1\n",
    "\t\telse:\n",
    "\t\t\tres = m\n",
    "\t\t\ts = m + 1\n",
    "\treturn res"
   ]
  },
  {
   "cell_type": "code",
   "execution_count": 3,
   "metadata": {},
   "outputs": [],
   "source": [
    "def check():\n",
    "\tex = example()\n",
    "\tright = right_sol(ex[0], ex[1], ex[2])\n",
    "\twrong = wrong_sol(ex[0], ex[1], ex[2])\n",
    "\tif right != wrong:\n",
    "\t\tprint(ex[0], ex[1])\n",
    "\t\tfor i in ex[2]:\n",
    "\t\t\tprint(i)\n",
    "\t\tprint(\"맞은 답:\", right)\n",
    "\t\tprint(\"틀린 답:\", wrong)\n",
    "\t\treturn\n",
    "\telse:\n",
    "\t\tcheck()"
   ]
  },
  {
   "attachments": {},
   "cell_type": "markdown",
   "metadata": {},
   "source": [
    "# Input"
   ]
  },
  {
   "attachments": {},
   "cell_type": "markdown",
   "metadata": {},
   "source": [
    "## input()"
   ]
  },
  {
   "cell_type": "code",
   "execution_count": 5,
   "metadata": {},
   "outputs": [],
   "source": [
    "inp = int(input())"
   ]
  },
  {
   "cell_type": "code",
   "execution_count": null,
   "metadata": {},
   "outputs": [],
   "source": [
    "inp1, inp2 = map(int, input().split())\n",
    "\n",
    "inp1, inp2"
   ]
  },
  {
   "cell_type": "code",
   "execution_count": null,
   "metadata": {},
   "outputs": [],
   "source": [
    "inp1, inp2, inp3 = map(int, input().split())\n",
    "\n",
    "inp1, inp2, inp3"
   ]
  },
  {
   "cell_type": "code",
   "execution_count": 3,
   "metadata": {},
   "outputs": [
    {
     "data": {
      "text/plain": [
       "(14, 30)"
      ]
     },
     "execution_count": 3,
     "metadata": {},
     "output_type": "execute_result"
    }
   ],
   "source": [
    "inp1, inp2, inp3, inp4 = map(int, input().split())\n",
    "\n",
    "inp1, inp2, inp3, inp4"
   ]
  },
  {
   "cell_type": "code",
   "execution_count": null,
   "metadata": {},
   "outputs": [],
   "source": [
    "inp = list(map(int, input().split()))"
   ]
  },
  {
   "attachments": {},
   "cell_type": "markdown",
   "metadata": {},
   "source": [
    "## sys.stdin.readline()"
   ]
  },
  {
   "cell_type": "code",
   "execution_count": null,
   "metadata": {},
   "outputs": [],
   "source": [
    "# 한 개의 정수를 입력받을 때\n",
    "import sys\n",
    "inp = int(sys.stdin.readline())\n",
    "\n",
    "\n",
    "# 정해진 개수의 정수를 한줄에 입력받을 때\n",
    "import sys\n",
    "inp1, inp2, inp3, inp4 = map(int, sys.stdin.readline().split())\n",
    "\n",
    "\n",
    "# 임의의 개수의 정수를 한줄에 입력받아 리스트에 저장할 때\n",
    "import sys\n",
    "inp = list(map(int, sys.stdin.readline().split()))"
   ]
  },
  {
   "cell_type": "code",
   "execution_count": null,
   "metadata": {},
   "outputs": [],
   "source": [
    "import sys\n",
    "sys.setrecursionlimit(10**9)"
   ]
  }
 ],
 "metadata": {
  "kernelspec": {
   "display_name": "asd",
   "language": "python",
   "name": "python3"
  },
  "language_info": {
   "codemirror_mode": {
    "name": "ipython",
    "version": 3
   },
   "file_extension": ".py",
   "mimetype": "text/x-python",
   "name": "python",
   "nbconvert_exporter": "python",
   "pygments_lexer": "ipython3",
   "version": "3.11.4"
  },
  "orig_nbformat": 4,
  "vscode": {
   "interpreter": {
    "hash": "1484e195d7bc9430bc3da72ea3c1b8c4a4682e4fe56bdbad8b3e1217f2a75f76"
   }
  }
 },
 "nbformat": 4,
 "nbformat_minor": 2
}
