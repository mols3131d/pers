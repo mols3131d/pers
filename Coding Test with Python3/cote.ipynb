{
 "cells": [
  {
   "attachments": {},
   "cell_type": "markdown",
   "metadata": {},
   "source": [
    "# note\n"
   ]
  },
  {
   "cell_type": "code",
   "execution_count": null,
   "metadata": {},
   "outputs": [],
   "source": [
    "def solution(plans):\n",
    "    answer = []\n",
    "    work = deque([])\n",
    "    plans.sort(key=lambda x: x[1])\n",
    "    plans = deque(plans)\n",
    "\n",
    "    while plans:\n",
    "        p = plans.popleft()\n",
    "        p[1] = p[1].split(\":\")\n",
    "        p[1] = int(p[1][0]) * 60 + int(p[1][1])\n",
    "        p[2] = int(p[2])\n",
    "\n",
    "        if work == deque([]):\n",
    "            work.append(p)\n",
    "\n",
    "        else:\n",
    "            w = work.pop()\n",
    "\n",
    "            if w[1] + w[2] > p[1]:\n",
    "                w[2] -= p[1] - w[1]\n",
    "                work.append(w)\n",
    "                work.append(p)\n",
    "            else:\n",
    "                work.append(p)\n",
    "                answer.append(w[0])\n",
    "\n",
    "    while work:\n",
    "        w = work.pop()\n",
    "        answer.append(w[0])"
   ]
  },
  {
   "cell_type": "code",
   "execution_count": null,
   "metadata": {},
   "outputs": [],
   "source": []
  },
  {
   "cell_type": "code",
   "execution_count": null,
   "metadata": {},
   "outputs": [],
   "source": []
  },
  {
   "cell_type": "code",
   "execution_count": null,
   "metadata": {},
   "outputs": [],
   "source": []
  },
  {
   "cell_type": "code",
   "execution_count": null,
   "metadata": {},
   "outputs": [],
   "source": []
  },
  {
   "cell_type": "markdown",
   "metadata": {},
   "source": [
    "# Test\n"
   ]
  },
  {
   "cell_type": "code",
   "execution_count": null,
   "metadata": {},
   "outputs": [],
   "source": [
    "from random import randint\n",
    "\n",
    "\n",
    "# 예제 생성\n",
    "def example():\n",
    "    K = randint(1, 10)\n",
    "    N = randint(K, 20)\n",
    "    lines = [0] * K\n",
    "\n",
    "    for i in range(K):\n",
    "        lines[i] = randint(1, 1000)\n",
    "    return [K, N, lines]\n",
    "\n",
    "\n",
    "# 맞은 답\n",
    "def right_sol(K, N, lines):\n",
    "    s = 1\n",
    "    e = max(lines)\n",
    "\n",
    "    res = 0\n",
    "    while s <= e:\n",
    "        cnt = 0\n",
    "        m = (s + e) // 2\n",
    "        for i in lines:\n",
    "            if i >= m:\n",
    "                cnt += i // m\n",
    "        if cnt < N:\n",
    "            e = m - 1\n",
    "        else:\n",
    "            res = m\n",
    "            s = m + 1\n",
    "    return res\n",
    "\n",
    "\n",
    "# 틀린 답\n",
    "def wrong_sol(K, N, lines):\n",
    "    s = 0\n",
    "    e = max(lines)\n",
    "\n",
    "    res = 0\n",
    "    while s <= e:\n",
    "        cnt = 0\n",
    "        m = (s + e) // 2\n",
    "        for i in lines:\n",
    "            if i > m:\n",
    "                cnt += i // m\n",
    "        if cnt < N:\n",
    "            e = m - 1\n",
    "        else:\n",
    "            res = m\n",
    "            s = m + 1\n",
    "    return res\n",
    "\n",
    "\n",
    "# 반례 출력\n",
    "def check():\n",
    "    ex = example()\n",
    "    right = right_sol(ex[0], ex[1], ex[2])\n",
    "    wrong = wrong_sol(ex[0], ex[1], ex[2])\n",
    "    if right != wrong:\n",
    "        print(ex[0], ex[1])\n",
    "        for i in ex[2]:\n",
    "            print(i)\n",
    "        print(\"맞은 답:\", right)\n",
    "        print(\"틀린 답:\", wrong)\n",
    "        return\n",
    "    else:\n",
    "        check()\n",
    "\n",
    "\n",
    "check()"
   ]
  },
  {
   "cell_type": "code",
   "execution_count": null,
   "metadata": {},
   "outputs": [],
   "source": [
    "def example():\n",
    "    K = randint(1, 10)\n",
    "    N = randint(K, 20)  # K <= N\n",
    "    lines = [0] * K\n",
    "\n",
    "    for i in range(K):\n",
    "        lines[i] = randint(1, 1000)\n",
    "    return [K, N, lines]"
   ]
  },
  {
   "cell_type": "code",
   "execution_count": null,
   "metadata": {},
   "outputs": [],
   "source": [
    "def right_sol(K, N, lines):\n",
    "    s = 1\n",
    "    e = max(lines)\n",
    "\n",
    "    res = 0\n",
    "    while s <= e:\n",
    "        cnt = 0\n",
    "        m = (s + e) // 2\n",
    "        for i in lines:\n",
    "            if i >= m:\n",
    "                cnt += i // m\n",
    "        if cnt < N:\n",
    "            e = m - 1\n",
    "        else:\n",
    "            res = m\n",
    "            s = m + 1\n",
    "    return res\n",
    "\n",
    "\n",
    "def wrong_sol(K, N, lines):\n",
    "    s = 0\n",
    "    e = max(lines)\n",
    "\n",
    "    res = 0\n",
    "    while s <= e:\n",
    "        cnt = 0\n",
    "        m = (s + e) // 2\n",
    "        for i in lines:\n",
    "            if i > m:\n",
    "                cnt += i // m\n",
    "        if cnt < N:\n",
    "            e = m - 1\n",
    "        else:\n",
    "            res = m\n",
    "            s = m + 1\n",
    "    return res"
   ]
  },
  {
   "cell_type": "code",
   "execution_count": null,
   "metadata": {},
   "outputs": [],
   "source": [
    "def check():\n",
    "    ex = example()\n",
    "    right = right_sol(ex[0], ex[1], ex[2])\n",
    "    wrong = wrong_sol(ex[0], ex[1], ex[2])\n",
    "    if right != wrong:\n",
    "        print(ex[0], ex[1])\n",
    "        for i in ex[2]:\n",
    "            print(i)\n",
    "        print(\"맞은 답:\", right)\n",
    "        print(\"틀린 답:\", wrong)\n",
    "        return\n",
    "    else:\n",
    "        check()"
   ]
  },
  {
   "attachments": {},
   "cell_type": "markdown",
   "metadata": {},
   "source": [
    "# Input\n"
   ]
  },
  {
   "attachments": {},
   "cell_type": "markdown",
   "metadata": {},
   "source": [
    "## input()\n"
   ]
  },
  {
   "cell_type": "code",
   "execution_count": null,
   "metadata": {},
   "outputs": [],
   "source": [
    "inp = int(input())"
   ]
  },
  {
   "cell_type": "code",
   "execution_count": null,
   "metadata": {},
   "outputs": [],
   "source": [
    "inp1, inp2 = map(int, input().split())\n",
    "\n",
    "inp1, inp2"
   ]
  },
  {
   "cell_type": "code",
   "execution_count": null,
   "metadata": {},
   "outputs": [],
   "source": [
    "inp1, inp2, inp3 = map(int, input().split())\n",
    "\n",
    "inp1, inp2, inp3"
   ]
  },
  {
   "cell_type": "code",
   "execution_count": null,
   "metadata": {},
   "outputs": [],
   "source": [
    "inp1, inp2, inp3, inp4 = map(int, input().split())\n",
    "\n",
    "inp1, inp2, inp3, inp4"
   ]
  },
  {
   "cell_type": "code",
   "execution_count": null,
   "metadata": {},
   "outputs": [],
   "source": [
    "inp = list(map(int, input().split()))"
   ]
  },
  {
   "attachments": {},
   "cell_type": "markdown",
   "metadata": {},
   "source": [
    "## sys.stdin.readline()\n"
   ]
  },
  {
   "cell_type": "code",
   "execution_count": null,
   "metadata": {},
   "outputs": [],
   "source": [
    "# 한 개의 정수를 입력받을 때\n",
    "import sys\n",
    "\n",
    "inp = int(sys.stdin.readline())\n",
    "\n",
    "\n",
    "# 정해진 개수의 정수를 한줄에 입력받을 때\n",
    "import sys\n",
    "\n",
    "inp1, inp2, inp3, inp4 = map(int, sys.stdin.readline().split())\n",
    "\n",
    "\n",
    "# 임의의 개수의 정수를 한줄에 입력받아 리스트에 저장할 때\n",
    "import sys\n",
    "\n",
    "inp = list(map(int, sys.stdin.readline().split()))"
   ]
  },
  {
   "cell_type": "code",
   "execution_count": null,
   "metadata": {},
   "outputs": [],
   "source": [
    "import sys\n",
    "\n",
    "sys.setrecursionlimit(10**9)"
   ]
  }
 ],
 "metadata": {
  "kernelspec": {
   "display_name": "asd",
   "language": "python",
   "name": "python3"
  },
  "language_info": {
   "codemirror_mode": {
    "name": "ipython",
    "version": 3
   },
   "file_extension": ".py",
   "mimetype": "text/x-python",
   "name": "python",
   "nbconvert_exporter": "python",
   "pygments_lexer": "ipython3",
   "version": "3.11.4"
  },
  "orig_nbformat": 4,
  "vscode": {
   "interpreter": {
    "hash": "1484e195d7bc9430bc3da72ea3c1b8c4a4682e4fe56bdbad8b3e1217f2a75f76"
   }
  }
 },
 "nbformat": 4,
 "nbformat_minor": 2
}
