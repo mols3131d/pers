{
 "cells": [
  {
   "attachments": {},
   "cell_type": "markdown",
   "metadata": {},
   "source": [
    "# note\n"
   ]
  },
  {
   "cell_type": "code",
   "execution_count": null,
   "metadata": {},
   "outputs": [],
   "source": [
    "def solution(plans):\n",
    "    answer = []\n",
    "    work = deque([])\n",
    "    plans.sort(key=lambda x: x[1])\n",
    "    plans = deque(plans)\n",
    "\n",
    "    while plans:\n",
    "        p = plans.popleft()\n",
    "        p[1] = p[1].split(\":\")\n",
    "        p[1] = int(p[1][0]) * 60 + int(p[1][1])\n",
    "        p[2] = int(p[2])\n",
    "\n",
    "        if work == deque([]):\n",
    "            work.append(p)\n",
    "\n",
    "        else:\n",
    "            w = work.pop()\n",
    "\n",
    "            if w[1] + w[2] > p[1]:\n",
    "                w[2] -= p[1] - w[1]\n",
    "                work.append(w)\n",
    "                work.append(p)\n",
    "            else:\n",
    "                work.append(p)\n",
    "                answer.append(w[0])\n",
    "\n",
    "    while work:\n",
    "        w = work.pop()\n",
    "        answer.append(w[0])"
   ]
  },
  {
   "cell_type": "code",
   "execution_count": 4,
   "metadata": {},
   "outputs": [
    {
     "name": "stdout",
     "output_type": "stream",
     "text": [
      "True\n",
      "True\n"
     ]
    }
   ],
   "source": [
    "def solution(picks, minerals):\n",
    "    table = [{\"diamond\": 1, \"iron\": 1, \"stone\": 1}, {\"diamond\": 5, \"iron\": 1, \"stone\": 1}, {\"diamond\": 25, \"iron\": 5, \"stone\": 1}]\n",
    "\n",
    "    def solve(picks, minerals, fatigue):\n",
    "\n",
    "        if sum(picks) == 0 or len(minerals) == 0:\n",
    "            return fatigue\n",
    "\n",
    "        result = [float(\"inf\")]\n",
    "        for i, fatigues in enumerate(table):\n",
    "            if picks[i] > 0:\n",
    "                temp_picks = picks.copy()\n",
    "                temp_picks[i] -= 1\n",
    "                args = [temp_picks, minerals[5:], fatigue + sum(fatigues[mineral] for mineral in minerals[:5])]\n",
    "                result.append(solve(*args))\n",
    "        return min(result)\n",
    "\n",
    "    return solve(picks, minerals, 0)\n",
    "\n",
    "\n",
    "print(solution([1, 3, 2], [\"diamond\", \"diamond\", \"diamond\", \"iron\", \"iron\", \"diamond\", \"iron\", \"stone\"]) == 12)\n",
    "print(solution([0, 1, 1], [\"diamond\", \"diamond\", \"diamond\", \"diamond\", \"diamond\", \"iron\", \"iron\", \"iron\", \"iron\", \"iron\", \"diamond\"]) == 50)"
   ]
  },
  {
   "cell_type": "code",
   "execution_count": 5,
   "metadata": {},
   "outputs": [
    {
     "name": "stdout",
     "output_type": "stream",
     "text": [
      "True\n",
      "True\n"
     ]
    }
   ],
   "source": [
    "# 피로도에 따른 각각 다이아몬드, 철, 돌 픽셀의 속성 설정\n",
    "table = [\n",
    "    {\"diamond\": 1, \"iron\": 1, \"stone\": 1},\n",
    "    {\"diamond\": 5, \"iron\": 1, \"stone\": 1},\n",
    "    {\"diamond\": 25, \"iron\": 5, \"stone\": 1},\n",
    "]\n",
    "\n",
    "\n",
    "def solution(picks, minerals):\n",
    "    # 백트래킹 알고리즘을 구현한 solve 함수를 정의\n",
    "    def solve(picks, minerals, fatigue):\n",
    "        # 종료 조건: 모든 픽셀을 사용했거나 미네랄이 남아있지 않으면 fatigue 반환\n",
    "        if sum(picks) == 0 or len(minerals) == 0:\n",
    "            return fatigue\n",
    "\n",
    "        result = [float(\"inf\")]  # 가능한 모든 결과 중 가장 작은 값을 찾기 위한 초기값 설정\n",
    "\n",
    "        # 다이아몬드, 철, 돌 픽셀별로 반복\n",
    "        for i, fatigues in enumerate(table):\n",
    "            # 특정 픽셀을 가지고 있을 경우\n",
    "            if picks[i] > 0:\n",
    "                temp_picks = picks.copy()  # 픽셀 리스트 복사\n",
    "                temp_picks[i] -= 1  # 사용된 픽셀 감소\n",
    "\n",
    "                # 피로도 계산에 사용되는 인자들 설정\n",
    "                fatigue += sum(fatigues[mineral] for mineral in minerals[:5])\n",
    "                args = [temp_picks, minerals[5:], fatigue]\n",
    "\n",
    "                # 재귀적으로 solve 함수 호출\n",
    "                result.append(solve(*args))\n",
    "\n",
    "        # 가장 작은 피로도 값 반환\n",
    "        return min(result)\n",
    "\n",
    "    # 초기 fatigue 값을 0으로 설정하고 solve 함수 호출\n",
    "    return solve(picks, minerals, 0)\n",
    "\n",
    "\n",
    "q1 = [[1, 3, 2], [\"diamond\", \"diamond\", \"diamond\", \"iron\", \"iron\", \"diamond\", \"iron\", \"stone\"]]\n",
    "print(solution(*q1) == 12)\n",
    "\n",
    "q2 = [\n",
    "    [0, 1, 1],\n",
    "    [\"diamond\", \"diamond\", \"diamond\", \"diamond\", \"diamond\", \"iron\", \"iron\", \"iron\", \"iron\", \"iron\", \"diamond\"],\n",
    "]\n",
    "print(solution(*q2) == 50)"
   ]
  },
  {
   "cell_type": "code",
   "execution_count": 20,
   "metadata": {},
   "outputs": [],
   "source": [
    "def find(parent, i):\n",
    "\n",
    "    if parent[i] != i:\n",
    "        parent[i] = find(parent, parent[i])\n",
    "\n",
    "    return parent[i]\n",
    "\n",
    "def union(parent, i, j):\n",
    "    i = find(parent, i)\n",
    "    j = find(parent, j)\n",
    "    if i < j:\n",
    "        parent[j] = i\n",
    "    else:\n",
    "        parent[i] = j"
   ]
  },
  {
   "cell_type": "code",
   "execution_count": 23,
   "metadata": {},
   "outputs": [
    {
     "name": "stdout",
     "output_type": "stream",
     "text": [
      "[2, 2, 0, 0]\n"
     ]
    }
   ],
   "source": [
    "parent = [0, 1, 0, 1]\n",
    "n = len(parent)\n",
    "tree_size = [0] * 4\n",
    "\n",
    "for p in parent:\n",
    "    tree_size[p] += 1\n",
    "\n",
    "print(tree_size)"
   ]
  },
  {
   "cell_type": "code",
   "execution_count": 24,
   "metadata": {},
   "outputs": [
    {
     "name": "stdout",
     "output_type": "stream",
     "text": [
      "[2, 2, 0, 0]\n"
     ]
    }
   ],
   "source": [
    "parent = [0, 1, 0, 1]\n",
    "n = len(parent)\n",
    "tree_size = [0] * (n)\n",
    "\n",
    "for i in range(n):\n",
    "    tree_size[find(parent, i)] += 1\n",
    "\n",
    "print(tree_size)"
   ]
  },
  {
   "cell_type": "code",
   "execution_count": 29,
   "metadata": {},
   "outputs": [
    {
     "name": "stdout",
     "output_type": "stream",
     "text": [
      "[0, 0, 2, 3, 4, 5]\n",
      "[0, 0, 0, 3, 4, 5]\n",
      "[0, 0, 0, 3, 3, 5]\n",
      "[0, 0, 0, 0, 3, 5]\n"
     ]
    }
   ],
   "source": [
    "edge = [(0, 1), (1, 2), (3, 4), (0, 3)]\n",
    "n = 6\n",
    "parent = [i for i in range(n)]\n",
    "\n",
    "for ed in edge:\n",
    "    union(parent, ed[0], ed[1])\n",
    "    print(parent)"
   ]
  },
  {
   "attachments": {},
   "cell_type": "markdown",
   "metadata": {},
   "source": [
    "# Input\n"
   ]
  },
  {
   "attachments": {},
   "cell_type": "markdown",
   "metadata": {},
   "source": [
    "## input()\n"
   ]
  },
  {
   "cell_type": "code",
   "execution_count": null,
   "metadata": {},
   "outputs": [],
   "source": [
    "inp = int(input())"
   ]
  },
  {
   "cell_type": "code",
   "execution_count": null,
   "metadata": {},
   "outputs": [],
   "source": [
    "inp1, inp2 = map(int, input().split())\n",
    "\n",
    "inp1, inp2"
   ]
  },
  {
   "cell_type": "code",
   "execution_count": null,
   "metadata": {},
   "outputs": [],
   "source": [
    "inp1, inp2, inp3 = map(int, input().split())\n",
    "\n",
    "inp1, inp2, inp3"
   ]
  },
  {
   "cell_type": "code",
   "execution_count": null,
   "metadata": {},
   "outputs": [],
   "source": [
    "inp1, inp2, inp3, inp4 = map(int, input().split())\n",
    "\n",
    "inp1, inp2, inp3, inp4"
   ]
  },
  {
   "cell_type": "code",
   "execution_count": null,
   "metadata": {},
   "outputs": [],
   "source": [
    "inp = list(map(int, input().split()))"
   ]
  },
  {
   "attachments": {},
   "cell_type": "markdown",
   "metadata": {},
   "source": [
    "## sys.stdin.readline()\n"
   ]
  },
  {
   "cell_type": "code",
   "execution_count": null,
   "metadata": {},
   "outputs": [],
   "source": [
    "# 한 개의 정수를 입력받을 때\n",
    "import sys\n",
    "\n",
    "inp = int(sys.stdin.readline())\n",
    "\n",
    "\n",
    "# 정해진 개수의 정수를 한줄에 입력받을 때\n",
    "import sys\n",
    "\n",
    "inp1, inp2, inp3, inp4 = map(int, sys.stdin.readline().split())\n",
    "\n",
    "\n",
    "# 임의의 개수의 정수를 한줄에 입력받아 리스트에 저장할 때\n",
    "import sys\n",
    "\n",
    "inp = list(map(int, sys.stdin.readline().split()))"
   ]
  },
  {
   "cell_type": "code",
   "execution_count": null,
   "metadata": {},
   "outputs": [],
   "source": [
    "import sys\n",
    "\n",
    "sys.setrecursionlimit(10**9)"
   ]
  }
 ],
 "metadata": {
  "kernelspec": {
   "display_name": "asd",
   "language": "python",
   "name": "python3"
  },
  "language_info": {
   "codemirror_mode": {
    "name": "ipython",
    "version": 3
   },
   "file_extension": ".py",
   "mimetype": "text/x-python",
   "name": "python",
   "nbconvert_exporter": "python",
   "pygments_lexer": "ipython3",
   "version": "3.11.4"
  },
  "orig_nbformat": 4,
  "vscode": {
   "interpreter": {
    "hash": "1484e195d7bc9430bc3da72ea3c1b8c4a4682e4fe56bdbad8b3e1217f2a75f76"
   }
  }
 },
 "nbformat": 4,
 "nbformat_minor": 2
}
