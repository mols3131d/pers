{
 "cells": [
  {
   "attachments": {},
   "cell_type": "markdown",
   "metadata": {},
   "source": [
    "# note"
   ]
  },
  {
   "cell_type": "code",
   "execution_count": 14,
   "metadata": {},
   "outputs": [
    {
     "data": {
      "text/plain": [
       "([1], [1, 2], 1)"
      ]
     },
     "execution_count": 14,
     "metadata": {},
     "output_type": "execute_result"
    }
   ],
   "source": [
    "import string\n",
    "from collections import deque\n",
    "def find_wall(dq: str):\n",
    "\n",
    "    start = dq[1:-1].index(\"A\") + 1\n",
    "    dq = dq[start:]\n",
    "    dq = deque(dq)\n",
    "    \n",
    "    i = dq.popleft()\n",
    "    end = 0\n",
    "    while i == \"A\":\n",
    "        end += 1\n",
    "        i = dq.popleft()\n",
    "    \n",
    "    end += start - 1\n",
    "    \n",
    "    return (start, end)\n",
    "\n",
    "\n",
    "def len_headTail(dq, wall):\n",
    "    \n",
    "    head = dq[:wall[0]]\n",
    "    tail = dq[wall[1]+1:]\n",
    "    \n",
    "    return (len(head), len(tail))\n",
    "\n",
    "\n",
    "\n",
    "    \n",
    "def sl(s, l):\n",
    "    if s > l:\n",
    "        s, l = l, s\n",
    "    return 2*s + l\n",
    "\n",
    "\n",
    "def solution(name):\n",
    "    answer = 0\n",
    "    uc = list(string.ascii_uppercase)\n",
    "    \n",
    "    answer_a = 0\n",
    "    for i in name:\n",
    "        # print(i)\n",
    "        i = uc.index(i)\n",
    "        if i > 13:\n",
    "            i = abs(i - 26)\n",
    "        # print(i)\n",
    "        answer_a += i\n",
    "    print(\"answer_a:\", answer_a)\n",
    "    \n",
    "    if \"A\" in name[1:-1]:\n",
    "        wall = find_wall(name)\n",
    "        lht = len_headTail(name, wall)\n",
    "        # print(lht)\n",
    "        # print(lht[0]-1, lht[1])\n",
    "        # print((wall[1]-wall[0]))\n",
    "        # print((lht[0]-1))\n",
    "        # print((wall[1]-wall[0])+1 > (lht[0]-1))\n",
    "        if (wall[1]-wall[0])+1 > (lht[0]-1):\n",
    "            answer_b = sl(lht[0]-1, lht[1])\n",
    "        else: \n",
    "            answer_b = len(name)-1\n",
    "    else: \n",
    "        answer_b = len(name)-1\n",
    "        \n",
    "    print(\"answer_b:\", answer_b)\n",
    "    return answer_a + answer_b\n",
    "\n",
    "\n",
    "# i = \"JEROAAAEN\"\n",
    "# t1 = find_wall(i)\n",
    "# t2 = len_headTail(i, t1)\n",
    "# t3 = sl(t2[0]-1, t2[1])\n",
    "# print(t1)\n",
    "# print(t2)\n",
    "# print(t3)\n",
    "\n",
    "# N, 13, -26"
   ]
  },
  {
   "cell_type": "code",
   "execution_count": 6,
   "metadata": {},
   "outputs": [
    {
     "name": "stdout",
     "output_type": "stream",
     "text": [
      "[0, 1, 2, 3, 4]\n",
      "[0, 0, 0, 0, 0]\n"
     ]
    }
   ],
   "source": []
  },
  {
   "cell_type": "code",
   "execution_count": 1,
   "metadata": {},
   "outputs": [
    {
     "ename": "NameError",
     "evalue": "name 'a' is not defined",
     "output_type": "error",
     "traceback": [
      "\u001b[1;31m---------------------------------------------------------------------------\u001b[0m",
      "\u001b[1;31mNameError\u001b[0m                                 Traceback (most recent call last)",
      "Cell \u001b[1;32mIn[1], line 1\u001b[0m\n\u001b[1;32m----> 1\u001b[0m a \u001b[39mand\u001b[39;00m b \u001b[39m==\u001b[39m \u001b[39mTrue\u001b[39;00m\n",
      "\u001b[1;31mNameError\u001b[0m: name 'a' is not defined"
     ]
    }
   ],
   "source": []
  },
  {
   "cell_type": "code",
   "execution_count": 7,
   "metadata": {},
   "outputs": [
    {
     "name": "stdout",
     "output_type": "stream",
     "text": [
      "st : 0\n",
      "re : 0\n",
      "st : 1\n",
      "re : 1\n",
      "st : 0\n",
      "st : 0\n",
      "re : 0\n",
      "re : 0\n",
      "st : 2\n",
      "re : 2\n",
      "st : 3\n",
      "re : 3\n",
      "st : 4\n",
      "re : 4\n",
      "[0, 0, 0, 3, 3]\n",
      "[1, 0, 0, 1, 0]\n"
     ]
    }
   ],
   "source": []
  },
  {
   "cell_type": "code",
   "execution_count": 10,
   "metadata": {},
   "outputs": [
    {
     "name": "stdout",
     "output_type": "stream",
     "text": [
      "st : 3\n",
      "st : 3\n",
      "re : 3\n",
      "re : 3\n",
      "3\n"
     ]
    }
   ],
   "source": []
  },
  {
   "attachments": {},
   "cell_type": "markdown",
   "metadata": {},
   "source": [
    "# Input"
   ]
  },
  {
   "attachments": {},
   "cell_type": "markdown",
   "metadata": {},
   "source": [
    "## input()"
   ]
  },
  {
   "cell_type": "code",
   "execution_count": 5,
   "metadata": {},
   "outputs": [],
   "source": [
    "inp = int(input())\n",
    "\n"
   ]
  },
  {
   "cell_type": "code",
   "execution_count": null,
   "metadata": {},
   "outputs": [],
   "source": [
    "inp1, inp2 = map(int, input().split())\n",
    "\n",
    "inp1, inp2"
   ]
  },
  {
   "cell_type": "code",
   "execution_count": null,
   "metadata": {},
   "outputs": [],
   "source": [
    "inp1, inp2, inp3 = map(int, input().split())\n",
    "\n",
    "inp1, inp2, inp3"
   ]
  },
  {
   "cell_type": "code",
   "execution_count": 3,
   "metadata": {},
   "outputs": [
    {
     "data": {
      "text/plain": [
       "(14, 30)"
      ]
     },
     "execution_count": 3,
     "metadata": {},
     "output_type": "execute_result"
    }
   ],
   "source": [
    "inp1, inp2, inp3, inp4 = map(int, input().split())\n",
    "\n",
    "inp1, inp2, inp3, inp4"
   ]
  },
  {
   "cell_type": "code",
   "execution_count": null,
   "metadata": {},
   "outputs": [],
   "source": [
    "inp = list(map(int, input().split()))"
   ]
  },
  {
   "attachments": {},
   "cell_type": "markdown",
   "metadata": {},
   "source": [
    "## sys.stdin.readline()"
   ]
  },
  {
   "cell_type": "code",
   "execution_count": null,
   "metadata": {},
   "outputs": [],
   "source": [
    "# 한 개의 정수를 입력받을 때\n",
    "import sys\n",
    "inp = int(sys.stdin.readline())\n",
    "\n",
    "\n",
    "# 정해진 개수의 정수를 한줄에 입력받을 때\n",
    "import sys\n",
    "inp1, inp2, inp3, inp4 = map(int, sys.stdin.readline().split())\n",
    "\n",
    "\n",
    "# 임의의 개수의 정수를 한줄에 입력받아 리스트에 저장할 때\n",
    "import sys\n",
    "inp = list(map(int, sys.stdin.readline().split()))"
   ]
  },
  {
   "cell_type": "code",
   "execution_count": null,
   "metadata": {},
   "outputs": [],
   "source": [
    "import sys\n",
    "sys.setrecursionlimit(10**9)"
   ]
  }
 ],
 "metadata": {
  "kernelspec": {
   "display_name": "asd",
   "language": "python",
   "name": "python3"
  },
  "language_info": {
   "codemirror_mode": {
    "name": "ipython",
    "version": 3
   },
   "file_extension": ".py",
   "mimetype": "text/x-python",
   "name": "python",
   "nbconvert_exporter": "python",
   "pygments_lexer": "ipython3",
   "version": "3.11.3"
  },
  "orig_nbformat": 4,
  "vscode": {
   "interpreter": {
    "hash": "1484e195d7bc9430bc3da72ea3c1b8c4a4682e4fe56bdbad8b3e1217f2a75f76"
   }
  }
 },
 "nbformat": 4,
 "nbformat_minor": 2
}
