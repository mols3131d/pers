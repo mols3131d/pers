{
 "cells": [
  {
   "cell_type": "code",
   "execution_count": 1,
   "metadata": {},
   "outputs": [],
   "source": [
    "def decorator_function(original_function):\n",
    "    def wrapper_function():\n",
    "        # 요청한 대로 기능 추가\n",
    "        original_function()\n",
    "        # 요청한 대로 기능 추가\n",
    "    return wrapper_function"
   ]
  },
  {
   "cell_type": "code",
   "execution_count": 2,
   "metadata": {},
   "outputs": [],
   "source": [
    "@decorator_function\n",
    "def my_function():\n",
    "    print(\"Hello, World!\")"
   ]
  },
  {
   "cell_type": "code",
   "execution_count": 3,
   "metadata": {},
   "outputs": [
    {
     "name": "stdout",
     "output_type": "stream",
     "text": [
      "<i><b>Hello, World!</b></i>\n"
     ]
    }
   ],
   "source": [
    "def bold_decorator(func):\n",
    "    def wrapper():\n",
    "        return \"<b>\" + func() + \"</b>\"\n",
    "    return wrapper\n",
    "\n",
    "def italic_decorator(func):\n",
    "    def wrapper():\n",
    "        return \"<i>\" + func() + \"</i>\"\n",
    "    return wrapper\n",
    "\n",
    "@italic_decorator\n",
    "@bold_decorator\n",
    "def hello_world():\n",
    "    return \"Hello, World!\"\n",
    "\n",
    "result = hello_world()\n",
    "\n",
    "print(result)\n"
   ]
  }
 ],
 "metadata": {
  "kernelspec": {
   "display_name": "da",
   "language": "python",
   "name": "python3"
  },
  "language_info": {
   "codemirror_mode": {
    "name": "ipython",
    "version": 3
   },
   "file_extension": ".py",
   "mimetype": "text/x-python",
   "name": "python",
   "nbconvert_exporter": "python",
   "pygments_lexer": "ipython3",
   "version": "3.11.4"
  },
  "orig_nbformat": 4
 },
 "nbformat": 4,
 "nbformat_minor": 2
}
