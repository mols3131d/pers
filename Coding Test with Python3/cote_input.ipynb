{
 "cells": [
  {
   "attachments": {},
   "cell_type": "markdown",
   "metadata": {},
   "source": [
    "# Input\n"
   ]
  },
  {
   "attachments": {},
   "cell_type": "markdown",
   "metadata": {},
   "source": [
    "## input()\n"
   ]
  },
  {
   "cell_type": "code",
   "execution_count": 1,
   "metadata": {},
   "outputs": [],
   "source": [
    "inp = int(input())"
   ]
  },
  {
   "cell_type": "code",
   "execution_count": null,
   "metadata": {},
   "outputs": [],
   "source": [
    "inp1, inp2 = map(int, input().split())\n",
    "\n",
    "inp1, inp2"
   ]
  },
  {
   "cell_type": "code",
   "execution_count": null,
   "metadata": {},
   "outputs": [],
   "source": [
    "inp1, inp2, inp3 = map(int, input().split())\n",
    "\n",
    "inp1, inp2, inp3"
   ]
  },
  {
   "cell_type": "code",
   "execution_count": null,
   "metadata": {},
   "outputs": [],
   "source": [
    "inp1, inp2, inp3, inp4 = map(int, input().split())\n",
    "\n",
    "inp1, inp2, inp3, inp4"
   ]
  },
  {
   "cell_type": "code",
   "execution_count": null,
   "metadata": {},
   "outputs": [],
   "source": [
    "inp = list(map(int, input().split()))"
   ]
  },
  {
   "attachments": {},
   "cell_type": "markdown",
   "metadata": {},
   "source": [
    "## sys.stdin.readline()\n",
    "\n",
    "-   `.ipynb`에서 지원되지 않음.\n"
   ]
  },
  {
   "cell_type": "code",
   "execution_count": 2,
   "metadata": {},
   "outputs": [],
   "source": [
    "# 한 개의 정수를 입력받을 때\n",
    "import sys\n",
    "\n",
    "inp = int(sys.stdin.readline())"
   ]
  },
  {
   "cell_type": "code",
   "execution_count": null,
   "metadata": {},
   "outputs": [],
   "source": [
    "# 정해진 개수의 정수를 한줄에 입력받을 때\n",
    "import sys\n",
    "\n",
    "inp1, inp2, inp3, inp4 = map(int, sys.stdin.readline().split())"
   ]
  },
  {
   "cell_type": "code",
   "execution_count": 1,
   "metadata": {},
   "outputs": [],
   "source": [
    "# 임의의 개수의 정수를 한줄에 입력받아 리스트에 저장할 때\n",
    "import sys\n",
    "\n",
    "inp = list(map(int, sys.stdin.readline().split()))"
   ]
  },
  {
   "cell_type": "markdown",
   "metadata": {},
   "source": [
    "# EOF (End of File)\n"
   ]
  },
  {
   "cell_type": "code",
   "execution_count": null,
   "metadata": {},
   "outputs": [],
   "source": [
    "while True:\n",
    "    try:\n",
    "        inp = input()\n",
    "        print(inp)\n",
    "\n",
    "    except EOFError:\n",
    "        break"
   ]
  },
  {
   "cell_type": "code",
   "execution_count": null,
   "metadata": {},
   "outputs": [],
   "source": [
    "import sys\n",
    "\n",
    "inps = sys.stdin.readlines()\n",
    "\n",
    "for inp in inps:\n",
    "    print(inp)"
   ]
  },
  {
   "cell_type": "markdown",
   "metadata": {},
   "source": [
    "# getrecursionlimit\n"
   ]
  },
  {
   "cell_type": "code",
   "execution_count": 2,
   "metadata": {},
   "outputs": [
    {
     "name": "stdout",
     "output_type": "stream",
     "text": [
      "현재 재귀 호출 제한: 2000\n",
      "변경된 재귀 호출 제한: 1000000000\n"
     ]
    }
   ],
   "source": [
    "# 현재 재귀 호출 제한 확인\n",
    "print(\"현재 재귀 호출 제한:\", sys.getrecursionlimit())\n",
    "\n",
    "import sys\n",
    "\n",
    "sys.setrecursionlimit(10**9)\n",
    "\n",
    "# 재귀 호출 제한 변경\n",
    "print(\"변경된 재귀 호출 제한:\", sys.getrecursionlimit())"
   ]
  },
  {
   "cell_type": "markdown",
   "metadata": {},
   "source": [
    "# sys.getsizeof\n"
   ]
  },
  {
   "cell_type": "code",
   "execution_count": 5,
   "metadata": {},
   "outputs": [
    {
     "name": "stdout",
     "output_type": "stream",
     "text": [
      "문자열 메모리 사용량 : 100049\n"
     ]
    }
   ],
   "source": [
    "import sys\n",
    "import random\n",
    "import string\n",
    "\n",
    "# 10만 글자를 가진 랜덤 문자열 생성\n",
    "random_string = \"\".join(random.choice(string.ascii_letters) for _ in range(100000))\n",
    "\n",
    "# 메모리 사용량 계산\n",
    "string_memory = sys.getsizeof(random_string)\n",
    "\n",
    "print(\"문자열 메모리 사용량 :\", string_memory)"
   ]
  },
  {
   "cell_type": "code",
   "execution_count": 6,
   "metadata": {},
   "outputs": [
    {
     "name": "stdout",
     "output_type": "stream",
     "text": [
      "문자열 리스트 메모리 사용량 : 5800056\n"
     ]
    }
   ],
   "source": [
    "# 문자열을 리스트로 변환\n",
    "string_list = list(random_string)\n",
    "\n",
    "list_string_memory = sys.getsizeof(string_list) + sum(\n",
    "    sys.getsizeof(s) for s in string_list\n",
    ")\n",
    "\n",
    "print(\"문자열 리스트 메모리 사용량 :\", list_string_memory)"
   ]
  },
  {
   "cell_type": "code",
   "execution_count": 7,
   "metadata": {},
   "outputs": [
    {
     "name": "stdout",
     "output_type": "stream",
     "text": [
      "문자열 리스트가 더 많 메모리 사용\n"
     ]
    }
   ],
   "source": [
    "if string_memory > list_string_memory:\n",
    "    print(\"문자열이 더 많은 메모리 사용\")\n",
    "else:\n",
    "    print(\"문자열 리스트가 더 많 메모리 사용\")"
   ]
  }
 ],
 "metadata": {
  "kernelspec": {
   "display_name": "asd",
   "language": "python",
   "name": "python3"
  },
  "language_info": {
   "codemirror_mode": {
    "name": "ipython",
    "version": 3
   },
   "file_extension": ".py",
   "mimetype": "text/x-python",
   "name": "python",
   "nbconvert_exporter": "python",
   "pygments_lexer": "ipython3",
   "version": "3.11.6"
  },
  "orig_nbformat": 4,
  "vscode": {
   "interpreter": {
    "hash": "1484e195d7bc9430bc3da72ea3c1b8c4a4682e4fe56bdbad8b3e1217f2a75f76"
   }
  }
 },
 "nbformat": 4,
 "nbformat_minor": 2
}
