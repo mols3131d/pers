{
 "cells": [
  {
   "attachments": {},
   "cell_type": "markdown",
   "metadata": {},
   "source": [
    "# note\n"
   ]
  },
  {
   "cell_type": "code",
   "execution_count": null,
   "metadata": {},
   "outputs": [],
   "source": [
    "from collections import deque\n",
    "\n",
    "\n",
    "def solution(maps):\n",
    "    answer = 0\n",
    "    n = len(maps[0])  # 가로 크기\n",
    "    m = len(maps)  # 세로 크기\n",
    "    dx = [-1, 1, 0, 0]\n",
    "    dy = [0, 0, 1, -1]\n",
    "\n",
    "    queue = deque([(0, 0, 1)])\n",
    "\n",
    "    maps[0][0] = -1  # 시작 위치에 방문 표시\n",
    "\n",
    "    while queue:\n",
    "        x, y, dist = queue.popleft()\n",
    "\n",
    "        if x == m - 1 and y == n - 1:  # 끝 위치에 도착하면 이동 횟수 반환\n",
    "            return dist\n",
    "\n",
    "        for i in range(4):  # 이동\n",
    "            nx = x + dx[i]\n",
    "            ny = y + dy[i]\n",
    "\n",
    "            if 0 <= nx < m and 0 <= ny < n and maps[nx][ny] == 1:\n",
    "                maps[nx][ny] = -1  # 방문한 위치는 -1로 표시\n",
    "                queue.append((nx, ny, dist + 1))\n",
    "\n",
    "    return -1  # 도착할 수 없는 경우 -1 반환"
   ]
  },
  {
   "cell_type": "code",
   "execution_count": null,
   "metadata": {},
   "outputs": [],
   "source": [
    "from collections import deque\n",
    "\n",
    "\n",
    "def solution(maps):\n",
    "    n = len(maps[0])\n",
    "    m = len(maps)\n",
    "    dx = [-1, 1, 0, 0]\n",
    "    dy = [0, 0, 1, -1]\n",
    "\n",
    "    maps[0][0] = -1\n",
    "    queue = deque([(0, 0, 1)])\n",
    "\n",
    "    while queue:\n",
    "        px, py, pd = queue.popleft()\n",
    "\n",
    "        if px == m - 1 and py == n - 1:\n",
    "            return pd\n",
    "\n",
    "        for i in range(4):\n",
    "            nx = px + dx[i]\n",
    "            ny = py + dy[i]\n",
    "\n",
    "            if 0 <= nx < m and 0 <= ny < n and maps[nx][ny] == 1:\n",
    "                maps[ny][nx] = -1\n",
    "                queue.append((nx, ny, pd + 1))\n",
    "\n",
    "    return -1"
   ]
  },
  {
   "cell_type": "code",
   "execution_count": null,
   "metadata": {},
   "outputs": [],
   "source": [
    "from collections import deque\n",
    "\n",
    "\n",
    "def solution(maps):\n",
    "    n = len(maps[0])\n",
    "    m = len(maps)\n",
    "    dx = [-1, 1, 0, 0]\n",
    "    dy = [0, 0, 1, -1]\n",
    "\n",
    "    maps[0][0] = -1\n",
    "    queue = deque([(0, 0, 1)])\n",
    "\n",
    "    while queue:\n",
    "        px, py, pd = queue.popleft()\n",
    "\n",
    "        if px == m - 1 and py == n - 1:\n",
    "            return pd\n",
    "\n",
    "        for i in range(4):\n",
    "            nx = px + dx[i]\n",
    "            ny = py + dy[i]\n",
    "\n",
    "            if 0 <= nx < m and 0 <= ny < n and maps[nx][ny] == 1:\n",
    "                maps[nx][ny] = -1\n",
    "                queue.append((nx, ny, pd + 1))\n",
    "\n",
    "    return -1"
   ]
  }
 ],
 "metadata": {
  "kernelspec": {
   "display_name": "asd",
   "language": "python",
   "name": "python3"
  },
  "language_info": {
   "codemirror_mode": {
    "name": "ipython",
    "version": 3
   },
   "file_extension": ".py",
   "mimetype": "text/x-python",
   "name": "python",
   "nbconvert_exporter": "python",
   "pygments_lexer": "ipython3",
   "version": "3.11.3"
  },
  "orig_nbformat": 4,
  "vscode": {
   "interpreter": {
    "hash": "1484e195d7bc9430bc3da72ea3c1b8c4a4682e4fe56bdbad8b3e1217f2a75f76"
   }
  }
 },
 "nbformat": 4,
 "nbformat_minor": 2
}
