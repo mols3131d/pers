{
 "cells": [
  {
   "attachments": {},
   "cell_type": "markdown",
   "metadata": {},
   "source": [
    "# note\n"
   ]
  },
  {
   "cell_type": "code",
   "execution_count": 1,
   "metadata": {},
   "outputs": [],
   "source": [
    "from collections import deque\n",
    "\n",
    "def sol(n, m, rows):\n",
    "    move = [[-1, 0], [1, 0], [0, 1], [0, -1]]\n",
    "    visited = [[False] * m for i in range(n)]\n",
    "    queue = deque([(0, 0)])\n",
    "    \n",
    "    c = 0\n",
    "    while queue:\n",
    "        c += 1\n",
    "        rc = queue.pop()\n",
    "\n",
    "\n",
    "        for mv in move:\n",
    "            moved_y = rc[1] + mv[1]\n",
    "            moved_x = rc[0] + mv[0]\n",
    "            \n",
    "            if 0 <= moved_y < n and 0 <= moved_x < m and rows[moved_y][moved_x] == \"1\" and not visited[moved_y][moved_x]:\n",
    "\n",
    "                queue.append((moved_y, moved_x))\n",
    "                visited[moved_y][moved_x] = True\n",
    "                \n",
    "                if moved_y == n and moved_x == m:\n",
    "                    print(c)\n",
    "                    return c"
   ]
  },
  {
   "cell_type": "code",
   "execution_count": null,
   "metadata": {},
   "outputs": [],
   "source": [
    "7\n",
    "6\n",
    "1 2\n",
    "2 3\n",
    "1 5\n",
    "5 2\n",
    "5 6\n",
    "4 7"
   ]
  },
  {
   "cell_type": "code",
   "execution_count": 2,
   "metadata": {},
   "outputs": [
    {
     "name": "stdout",
     "output_type": "stream",
     "text": [
      "None\n"
     ]
    }
   ],
   "source": [
    "n = 4\n",
    "m = 6\n",
    "rows = ['101111',\n",
    "        '101010',\n",
    "        '101011',\n",
    "        '111011']\n",
    "\n",
    "\n",
    "print(sol(n, m, rows))"
   ]
  }
 ],
 "metadata": {
  "kernelspec": {
   "display_name": "asd",
   "language": "python",
   "name": "python3"
  },
  "language_info": {
   "codemirror_mode": {
    "name": "ipython",
    "version": 3
   },
   "file_extension": ".py",
   "mimetype": "text/x-python",
   "name": "python",
   "nbconvert_exporter": "python",
   "pygments_lexer": "ipython3",
   "version": "3.11.4"
  },
  "orig_nbformat": 4,
  "vscode": {
   "interpreter": {
    "hash": "1484e195d7bc9430bc3da72ea3c1b8c4a4682e4fe56bdbad8b3e1217f2a75f76"
   }
  }
 },
 "nbformat": 4,
 "nbformat_minor": 2
}
