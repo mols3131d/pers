{
 "cells": [
  {
   "attachments": {},
   "cell_type": "markdown",
   "metadata": {},
   "source": [
    "# DFS 함수"
   ]
  },
  {
   "cell_type": "code",
   "execution_count": 2,
   "metadata": {},
   "outputs": [
    {
     "data": {
      "text/plain": [
       "[1, 2, 3, 4, 5, 6, 7, 8, 9, 10]"
      ]
     },
     "execution_count": 2,
     "metadata": {},
     "output_type": "execute_result"
    }
   ],
   "source": [
    "graph = {\n",
    "    1: [2, 5, 9],\n",
    "    2: [1, 3],\n",
    "    3: [2, 4],\n",
    "    4: [3],\n",
    "    5: [1, 6, 8],\n",
    "    6: [5, 7],\n",
    "    7: [6],\n",
    "    8: [5],\n",
    "    9: [1, 10],\n",
    "    10: [9],\n",
    "}\n",
    "\n",
    "\n",
    "def dfs(graph, node=1, visit=[]):\n",
    "\n",
    "    visit.append(node)\n",
    "\n",
    "    for node in graph[node]:\n",
    "        if node not in visit:\n",
    "            dfs(graph, node, visit)\n",
    "\n",
    "    return visit\n",
    "\n",
    "\n",
    "dfs(graph)"
   ]
  },
  {
   "attachments": {},
   "cell_type": "markdown",
   "metadata": {},
   "source": [
    "# DFS 재귀 함수"
   ]
  },
  {
   "cell_type": "code",
   "execution_count": 3,
   "metadata": {},
   "outputs": [
    {
     "data": {
      "text/plain": [
       "[1, 2, 3, 4, 5, 6, 7, 8, 9, 10]"
      ]
     },
     "execution_count": 3,
     "metadata": {},
     "output_type": "execute_result"
    }
   ],
   "source": [
    "graph = {\n",
    "    1: [2, 5, 9],\n",
    "    2: [1, 3],\n",
    "    3: [2, 4],\n",
    "    4: [3],\n",
    "    5: [1, 6, 8],\n",
    "    6: [5, 7],\n",
    "    7: [6],\n",
    "    8: [5],\n",
    "    9: [1, 10],\n",
    "    10: [9],\n",
    "}\n",
    "\n",
    "\n",
    "def dfs_recursive(graph, start=1, visit=[]):\n",
    "    visit.append(start)\n",
    "\n",
    "    for node in graph[start]:\n",
    "        if node not in visit:\n",
    "            dfs_recursive(graph, node, visit)\n",
    "    return visit\n",
    "\n",
    "\n",
    "dfs_recursive(graph)"
   ]
  }
 ],
 "metadata": {
  "kernelspec": {
   "display_name": "asd",
   "language": "python",
   "name": "python3"
  },
  "language_info": {
   "codemirror_mode": {
    "name": "ipython",
    "version": 3
   },
   "file_extension": ".py",
   "mimetype": "text/x-python",
   "name": "python",
   "nbconvert_exporter": "python",
   "pygments_lexer": "ipython3",
   "version": "3.9.15 | packaged by conda-forge | (main, Nov 22 2022, 08:39:05) [MSC v.1929 64 bit (AMD64)]"
  },
  "orig_nbformat": 4,
  "vscode": {
   "interpreter": {
    "hash": "1484e195d7bc9430bc3da72ea3c1b8c4a4682e4fe56bdbad8b3e1217f2a75f76"
   }
  }
 },
 "nbformat": 4,
 "nbformat_minor": 2
}
