{
 "cells": [
  {
   "attachments": {},
   "cell_type": "markdown",
   "metadata": {},
   "source": [
    "# BFS"
   ]
  },
  {
   "cell_type": "code",
   "execution_count": null,
   "metadata": {},
   "outputs": [],
   "source": [
    "graph = {\n",
    "    1: [2, 3, 4],\n",
    "    2: [1, 5],\n",
    "    3: [1, 6, 7],\n",
    "    4: [1, 8],\n",
    "    5: [2, 9],\n",
    "    6: [3, 10],\n",
    "    7: [3],\n",
    "    8: [4],\n",
    "    9: [5],\n",
    "    10: [6],\n",
    "}\n",
    "\n",
    "\n",
    "def bfs_queue(graph, start_node=1):\n",
    "\n",
    "    queue = [start_node]\n",
    "    visit = []\n",
    "\n",
    "    while queue:\n",
    "        current_node = queue.pop(0)\n",
    "        visit.append(current_node)\n",
    "\n",
    "        for adjacent_node in graph[current_node]:\n",
    "            if adjacent_node not in visit:\n",
    "                queue.append(adjacent_node)\n",
    "\n",
    "    return visit\n",
    "\n",
    "\n",
    "print(bfs_queue(graph))"
   ]
  }
 ],
 "metadata": {
  "kernelspec": {
   "display_name": "asd",
   "language": "python",
   "name": "python3"
  },
  "language_info": {
   "name": "python",
   "version": "3.9.15 | packaged by conda-forge | (main, Nov 22 2022, 08:39:05) [MSC v.1929 64 bit (AMD64)]"
  },
  "orig_nbformat": 4,
  "vscode": {
   "interpreter": {
    "hash": "1484e195d7bc9430bc3da72ea3c1b8c4a4682e4fe56bdbad8b3e1217f2a75f76"
   }
  }
 },
 "nbformat": 4,
 "nbformat_minor": 2
}
