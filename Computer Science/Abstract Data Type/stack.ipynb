{
 "cells": [
  {
   "cell_type": "code",
   "execution_count": 2,
   "metadata": {},
   "outputs": [],
   "source": [
    "class stack:\n",
    "    def __init__(self):  # 스택 객체 생성\n",
    "        self.items = []\n",
    "\n",
    "    def push(self, item):  # 스택 요소 추가 push(.append())\n",
    "        self.items.append(item)\n",
    "\n",
    "    def pop(self):  # 스택 맨 뒤 요소 삭제하고 리턴 pop()\n",
    "        return self.items.pop()\n",
    "\n",
    "    def peek(self):  # 스택 맨 뒤 요소 리턴\n",
    "        return self.items[-1]\n",
    "\n",
    "    def isEmpty(self):  # 스택이 비었는지 확인(비었으면 True 리턴)\n",
    "        return not self.items"
   ]
  },
  {
   "cell_type": "code",
   "execution_count": 3,
   "metadata": {},
   "outputs": [
    {
     "name": "stdout",
     "output_type": "stream",
     "text": [
      "<__main__.stack object at 0x00000275D70440D0>\n"
     ]
    }
   ],
   "source": [
    "stk = stack()  # stack 객체 생성\n",
    "print(stk)  # stack object 생성 확인"
   ]
  },
  {
   "cell_type": "code",
   "execution_count": 4,
   "metadata": {},
   "outputs": [
    {
     "name": "stdout",
     "output_type": "stream",
     "text": [
      "True\n"
     ]
    }
   ],
   "source": [
    "print(stk.isEmpty())  # 처음에는 아무것도 들어있지 않으므로 True 출력"
   ]
  },
  {
   "cell_type": "code",
   "execution_count": 5,
   "metadata": {},
   "outputs": [
    {
     "name": "stdout",
     "output_type": "stream",
     "text": [
      "[7, 8, 9]\n"
     ]
    }
   ],
   "source": [
    "stk.push(7)  # stk 에 7 넣음 : [7]\n",
    "stk.push(8)  # stk 에 8 넣음 : [7,8]\n",
    "stk.push(9)  # stk 에 9 넣음 : [7,8,9]\n",
    "print(stk.items) #= > [7, 8, 9]"
   ]
  },
  {
   "cell_type": "code",
   "execution_count": 6,
   "metadata": {},
   "outputs": [
    {
     "name": "stdout",
     "output_type": "stream",
     "text": [
      "9\n",
      "[7, 8]\n"
     ]
    }
   ],
   "source": [
    "print(stk.pop())  # stk 맨 마지막 값을 꺼내온다. 9를 꺼냈으니 출력 : 9\n",
    "print(stk.items)  # [7, 8] 꺼내지고 남은 값들"
   ]
  },
  {
   "cell_type": "code",
   "execution_count": 7,
   "metadata": {},
   "outputs": [
    {
     "name": "stdout",
     "output_type": "stream",
     "text": [
      "8\n",
      "[7, 8]\n"
     ]
    }
   ],
   "source": [
    "print(stk.peek())  # stk 맨 마지막 값을 꺼내지 않고 출력만한다 출력 : 8\n",
    "print(stk.items)  # [7, 8] 아무 값도 사라지지 않은걸 알 수 있다"
   ]
  },
  {
   "cell_type": "code",
   "execution_count": 8,
   "metadata": {},
   "outputs": [
    {
     "name": "stdout",
     "output_type": "stream",
     "text": [
      "8\n",
      "7\n"
     ]
    }
   ],
   "source": [
    "print(stk.pop())  # stk 마지막 값 8 꺼내지면서 출력 : 8\n",
    "print(stk.pop())  # stk 마지막 값 7 꺼내지면서 출력 : 7"
   ]
  },
  {
   "cell_type": "code",
   "execution_count": 11,
   "metadata": {},
   "outputs": [
    {
     "name": "stdout",
     "output_type": "stream",
     "text": [
      "True\n"
     ]
    }
   ],
   "source": [
    "print(stk.isEmpty())  # 객체에 아무것도 들어있지 않으므로 True 출력"
   ]
  },
  {
   "cell_type": "code",
   "execution_count": 10,
   "metadata": {},
   "outputs": [
    {
     "name": "stdout",
     "output_type": "stream",
     "text": [
      "[]\n"
     ]
    }
   ],
   "source": [
    "print(stk.items)  # 비어 있으므로 [] 출력"
   ]
  },
  {
   "attachments": {},
   "cell_type": "markdown",
   "metadata": {},
   "source": [
    "# Appendix\n",
    "## Reference & Source\n",
    "- [[자료구조] 파이썬 스택(stack) 총정리](https://gorokke.tistory.com/129)"
   ]
  }
 ],
 "metadata": {
  "kernelspec": {
   "display_name": "asd",
   "language": "python",
   "name": "python3"
  },
  "language_info": {
   "codemirror_mode": {
    "name": "ipython",
    "version": 3
   },
   "file_extension": ".py",
   "mimetype": "text/x-python",
   "name": "python",
   "nbconvert_exporter": "python",
   "pygments_lexer": "ipython3",
   "version": "3.9.15 | packaged by conda-forge | (main, Nov 22 2022, 08:39:05) [MSC v.1929 64 bit (AMD64)]"
  },
  "orig_nbformat": 4,
  "vscode": {
   "interpreter": {
    "hash": "1484e195d7bc9430bc3da72ea3c1b8c4a4682e4fe56bdbad8b3e1217f2a75f76"
   }
  }
 },
 "nbformat": 4,
 "nbformat_minor": 2
}
